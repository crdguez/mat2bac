{
 "cells": [
  {
   "cell_type": "code",
   "execution_count": 1,
   "metadata": {
    "colab": {},
    "colab_type": "code",
    "id": "-cVvkLt0Yl6m"
   },
   "outputs": [],
   "source": [
    "#!pip install sympy"
   ]
  },
  {
   "cell_type": "code",
   "execution_count": 1,
   "metadata": {
    "colab": {},
    "colab_type": "code",
    "id": "fkQeaZkrY0PY"
   },
   "outputs": [],
   "source": [
    "from sympy import *\n",
    "# init_session()\n",
    "from IPython.display import Markdown as md\n",
    "from IPython.display import display\n",
    "from IPython.display import display_latex\n",
    "from __future__ import division\n",
    "x, y, z, t = symbols('x y z t')\n",
    "k, m, n = symbols('k m n', integer=True)\n",
    "f, g, h = symbols('f g h', cls=Function)\n",
    "init_printing()\n",
    "\n",
    "import pandas as pd\n",
    "import pandas as pd\n",
    "from docparts import añadir_ejercicios, doc_ejer, escribir_preambulo, escribir_ejercicios, escribir_fin\n",
    "df_ejercicios = pd.DataFrame()\n",
    "fichero = 'Optimizacion'\n",
    "titulo = 'Optimización de funciones'\n",
    "curso = '2BC'\n",
    "\n"
   ]
  },
  {
   "cell_type": "code",
   "execution_count": 2,
   "metadata": {
    "scrolled": false
   },
   "outputs": [
    {
     "name": "stdout",
     "output_type": "stream",
     "text": [
      "--------------------------------------------------------------\n",
      "13. Descomponer el número 48 en dos sumandos tales que el quíntuplo del cuadrado del primero más el séxtuplo del\n",
      "cuadrado del segundo sea mínimo.\n",
      "\n",
      "\n",
      "Función a optimizar:\n"
     ]
    },
    {
     "data": {
      "text/latex": [
       "$f(x) =5 x^{2} + 6 \\left(48 - x\\right)^{2}$"
      ]
     },
     "metadata": {},
     "output_type": "display_data"
    },
    {
     "name": "stdout",
     "output_type": "stream",
     "text": [
      "Primera derivada:\n"
     ]
    },
    {
     "data": {
      "text/latex": [
       "$f'(x) =22 x - 576$"
      ]
     },
     "metadata": {},
     "output_type": "display_data"
    },
    {
     "data": {
      "text/latex": [
       "Si $f'(x) =0 \\to$ Puntos críticos: $ x= \\frac{288}{11}$"
      ]
     },
     "metadata": {},
     "output_type": "display_data"
    },
    {
     "name": "stdout",
     "output_type": "stream",
     "text": [
      "Segunda derivada:\n"
     ]
    },
    {
     "data": {
      "text/latex": [
       "$f''(x) =22$"
      ]
     },
     "metadata": {},
     "output_type": "display_data"
    },
    {
     "name": "stdout",
     "output_type": "stream",
     "text": [
      "Extremos relativos:\n"
     ]
    },
    {
     "data": {
      "text/latex": [
       "- El punto $\\left(\\frac{288}{11},\\frac{69120}{11}\\right)$ es un MÍNIMO RELATIVO ya que $f''(\\frac{288}{11})=22$"
      ]
     },
     "metadata": {},
     "output_type": "display_data"
    },
    {
     "name": "stdout",
     "output_type": "stream",
     "text": [
      "\n",
      "--------------------------------------------------------------\n",
      "14. Halla el número positivo cuya suma, con 4 veces su recíproco, sea mínima.\n",
      "\n",
      "\n",
      "Función a optimizar:\n"
     ]
    },
    {
     "data": {
      "text/latex": [
       "$f(x) =x + \\frac{4}{x}$"
      ]
     },
     "metadata": {},
     "output_type": "display_data"
    },
    {
     "name": "stdout",
     "output_type": "stream",
     "text": [
      "Primera derivada:\n"
     ]
    },
    {
     "data": {
      "text/latex": [
       "$f'(x) =1 - \\frac{4}{x^{2}}$"
      ]
     },
     "metadata": {},
     "output_type": "display_data"
    },
    {
     "data": {
      "text/latex": [
       "Si $f'(x) =0 \\to$ Puntos críticos: $ x= -2, x=2$"
      ]
     },
     "metadata": {},
     "output_type": "display_data"
    },
    {
     "name": "stdout",
     "output_type": "stream",
     "text": [
      "Segunda derivada:\n"
     ]
    },
    {
     "data": {
      "text/latex": [
       "$f''(x) =\\frac{8}{x^{3}}$"
      ]
     },
     "metadata": {},
     "output_type": "display_data"
    },
    {
     "name": "stdout",
     "output_type": "stream",
     "text": [
      "Extremos relativos:\n"
     ]
    },
    {
     "data": {
      "text/latex": [
       "- El punto $\\left(-2,-4\\right)$ es un MÁXIMO RELATIVO ya que $f''(-2)=-1$"
      ]
     },
     "metadata": {},
     "output_type": "display_data"
    },
    {
     "name": "stdout",
     "output_type": "stream",
     "text": [
      "\n"
     ]
    },
    {
     "data": {
      "text/latex": [
       "- El punto $\\left(2,4\\right)$ es un MÍNIMO RELATIVO ya que $f''(2)=1$"
      ]
     },
     "metadata": {},
     "output_type": "display_data"
    },
    {
     "name": "stdout",
     "output_type": "stream",
     "text": [
      "\n",
      "--------------------------------------------------------------\n",
      "15. Halla las dimensiones del rectángulo de área máxima inscrito en una circunferencia de 20 cm de radio.\n",
      "\n",
      "\n",
      "Función a optimizar:\n"
     ]
    },
    {
     "data": {
      "text/latex": [
       "$f(x) =x \\sqrt{- x^{2} + 40^{2}}$"
      ]
     },
     "metadata": {},
     "output_type": "display_data"
    },
    {
     "name": "stdout",
     "output_type": "stream",
     "text": [
      "Primera derivada:\n"
     ]
    },
    {
     "data": {
      "text/latex": [
       "$f'(x) =\\frac{2 \\cdot \\left(800 - x^{2}\\right)}{\\sqrt{1600 - x^{2}}}$"
      ]
     },
     "metadata": {},
     "output_type": "display_data"
    },
    {
     "data": {
      "text/latex": [
       "Si $f'(x) =0 \\to$ Puntos críticos: $ x= - 20 \\sqrt{2}, x=20 \\sqrt{2}$"
      ]
     },
     "metadata": {},
     "output_type": "display_data"
    },
    {
     "name": "stdout",
     "output_type": "stream",
     "text": [
      "Segunda derivada:\n"
     ]
    },
    {
     "data": {
      "text/latex": [
       "$f''(x) =\\frac{2 x \\left(x^{2} - 2400\\right)}{\\left(1600 - x^{2}\\right)^{\\frac{3}{2}}}$"
      ]
     },
     "metadata": {},
     "output_type": "display_data"
    },
    {
     "name": "stdout",
     "output_type": "stream",
     "text": [
      "Extremos relativos:\n"
     ]
    },
    {
     "data": {
      "text/latex": [
       "- El punto $\\left(- 20 \\sqrt{2},-800\\right)$ es un MÍNIMO RELATIVO ya que $f''(- 20 \\sqrt{2})=4$"
      ]
     },
     "metadata": {},
     "output_type": "display_data"
    },
    {
     "name": "stdout",
     "output_type": "stream",
     "text": [
      "\n"
     ]
    },
    {
     "data": {
      "text/latex": [
       "- El punto $\\left(20 \\sqrt{2},800\\right)$ es un MÁXIMO RELATIVO ya que $f''(20 \\sqrt{2})=-4$"
      ]
     },
     "metadata": {},
     "output_type": "display_data"
    },
    {
     "name": "stdout",
     "output_type": "stream",
     "text": [
      "\n",
      "--------------------------------------------------------------\n",
      "16. Se considera una ventana rectangular en la que el lado superior ha sido sustituido por un triángulo equilátero. Sabiendo\n",
      "que el perímetro de la ventana es de 6,6 m, halla sus dimensiones para que su superficie sea máxima.\n",
      "\n",
      "\n",
      "Función a optimizar:\n"
     ]
    },
    {
     "data": {
      "text/latex": [
       "$f(x) =\\frac{x \\left(6.6 - 3 x\\right)}{2} + \\frac{x \\sqrt{x^{2} - \\left(\\frac{x}{2}\\right)^{2}}}{2}$"
      ]
     },
     "metadata": {},
     "output_type": "display_data"
    },
    {
     "name": "stdout",
     "output_type": "stream",
     "text": [
      "Primera derivada:\n"
     ]
    },
    {
     "data": {
      "text/latex": [
       "$f'(x) =\\frac{\\sqrt{3} x^{2}}{2 \\sqrt{x^{2}}} - 3 x + \\frac{33}{10}$"
      ]
     },
     "metadata": {},
     "output_type": "display_data"
    },
    {
     "data": {
      "text/latex": [
       "Si $f'(x) =0 \\to$ Puntos críticos: $ x= \\frac{\\sqrt{3}}{5} + \\frac{6}{5}$"
      ]
     },
     "metadata": {},
     "output_type": "display_data"
    },
    {
     "name": "stdout",
     "output_type": "stream",
     "text": [
      "Segunda derivada:\n"
     ]
    },
    {
     "data": {
      "text/latex": [
       "$f''(x) =-3 - \\frac{\\sqrt{3} \\sqrt{x^{2}}}{4 x} + \\frac{3 \\sqrt{3} \\left(x^{2}\\right)^{\\frac{3}{2}}}{4 x^{3}}$"
      ]
     },
     "metadata": {},
     "output_type": "display_data"
    },
    {
     "name": "stdout",
     "output_type": "stream",
     "text": [
      "Extremos relativos:\n"
     ]
    },
    {
     "data": {
      "text/latex": [
       "- El punto $\\left(\\frac{\\sqrt{3}}{5} + \\frac{6}{5},\\frac{255157676649773}{100000000000000}\\right)$ es un MÁXIMO RELATIVO ya que $f''(\\frac{\\sqrt{3}}{5} + \\frac{6}{5})=-3 + \\frac{\\sqrt{3}}{2}$"
      ]
     },
     "metadata": {},
     "output_type": "display_data"
    },
    {
     "name": "stdout",
     "output_type": "stream",
     "text": [
      "\n",
      "--------------------------------------------------------------\n",
      "17. Halla las dimensiones que hacen mínimo el coste de un contenedor que tiene forma de ortoedro sabiendo que el\n",
      "volumen ha de ser de 9 m 3 su altura 1 m y el coste de construcción por m 2 es de 5 000 pesetas para la base, 6 000 pesetas\n",
      "para la tapa y 4 000 pesetas para cada pared lateral.\n",
      "\n",
      "\n",
      "Función a optimizar:\n"
     ]
    },
    {
     "data": {
      "text/latex": [
       "$f(x) =8000 \\left(x + \\frac{9}{x}\\right) + 99000$"
      ]
     },
     "metadata": {},
     "output_type": "display_data"
    },
    {
     "name": "stdout",
     "output_type": "stream",
     "text": [
      "Primera derivada:\n"
     ]
    },
    {
     "data": {
      "text/latex": [
       "$f'(x) =8000 - \\frac{72000}{x^{2}}$"
      ]
     },
     "metadata": {},
     "output_type": "display_data"
    },
    {
     "data": {
      "text/latex": [
       "Si $f'(x) =0 \\to$ Puntos críticos: $ x= -3, x=3$"
      ]
     },
     "metadata": {},
     "output_type": "display_data"
    },
    {
     "name": "stdout",
     "output_type": "stream",
     "text": [
      "Segunda derivada:\n"
     ]
    },
    {
     "data": {
      "text/latex": [
       "$f''(x) =\\frac{144000}{x^{3}}$"
      ]
     },
     "metadata": {},
     "output_type": "display_data"
    },
    {
     "name": "stdout",
     "output_type": "stream",
     "text": [
      "Extremos relativos:\n"
     ]
    },
    {
     "data": {
      "text/latex": [
       "- El punto $\\left(-3,51000\\right)$ es un MÁXIMO RELATIVO ya que $f''(-3)=- \\frac{16000}{3}$"
      ]
     },
     "metadata": {},
     "output_type": "display_data"
    },
    {
     "name": "stdout",
     "output_type": "stream",
     "text": [
      "\n"
     ]
    },
    {
     "data": {
      "text/latex": [
       "- El punto $\\left(3,147000\\right)$ es un MÍNIMO RELATIVO ya que $f''(3)=\\frac{16000}{3}$"
      ]
     },
     "metadata": {},
     "output_type": "display_data"
    },
    {
     "name": "stdout",
     "output_type": "stream",
     "text": [
      "\n",
      "--------------------------------------------------------------\n",
      "18. Una hoja de papel debe contener 18 cm 2 de texto impreso, márgenes superior e inferior de 2 cm de altura y márgenes\n",
      "laterales de 1 cm de anchura. Obtén, razonadamente, las dimensiones que minimizan la superficie de papel.\n",
      "\n",
      "\n",
      "Función a optimizar:\n"
     ]
    },
    {
     "data": {
      "text/latex": [
       "$f(x) =\\left(4 + \\frac{18}{x}\\right) \\left(x + 2\\right)$"
      ]
     },
     "metadata": {},
     "output_type": "display_data"
    },
    {
     "name": "stdout",
     "output_type": "stream",
     "text": [
      "Primera derivada:\n"
     ]
    },
    {
     "data": {
      "text/latex": [
       "$f'(x) =4 - \\frac{36}{x^{2}}$"
      ]
     },
     "metadata": {},
     "output_type": "display_data"
    },
    {
     "data": {
      "text/latex": [
       "Si $f'(x) =0 \\to$ Puntos críticos: $ x= -3, x=3$"
      ]
     },
     "metadata": {},
     "output_type": "display_data"
    },
    {
     "name": "stdout",
     "output_type": "stream",
     "text": [
      "Segunda derivada:\n"
     ]
    },
    {
     "data": {
      "text/latex": [
       "$f''(x) =\\frac{72}{x^{3}}$"
      ]
     },
     "metadata": {},
     "output_type": "display_data"
    },
    {
     "name": "stdout",
     "output_type": "stream",
     "text": [
      "Extremos relativos:\n"
     ]
    },
    {
     "data": {
      "text/latex": [
       "- El punto $\\left(-3,2\\right)$ es un MÁXIMO RELATIVO ya que $f''(-3)=- \\frac{8}{3}$"
      ]
     },
     "metadata": {},
     "output_type": "display_data"
    },
    {
     "name": "stdout",
     "output_type": "stream",
     "text": [
      "\n"
     ]
    },
    {
     "data": {
      "text/latex": [
       "- El punto $\\left(3,50\\right)$ es un MÍNIMO RELATIVO ya que $f''(3)=\\frac{8}{3}$"
      ]
     },
     "metadata": {},
     "output_type": "display_data"
    },
    {
     "name": "stdout",
     "output_type": "stream",
     "text": [
      "\n",
      "--------------------------------------------------------------\n",
      "19. Halla las dimensiones de un depósito abierto superiormente en forma de prisma recto de base cuadrada, de 500 m 3 de\n",
      "capacidad y que tenga un revestimiento de coste mínimo.\n",
      "\n",
      "\n",
      "Función a optimizar:\n"
     ]
    },
    {
     "data": {
      "text/latex": [
       "$f(x) =x^{2} + \\frac{2000}{x}$"
      ]
     },
     "metadata": {},
     "output_type": "display_data"
    },
    {
     "name": "stdout",
     "output_type": "stream",
     "text": [
      "Primera derivada:\n"
     ]
    },
    {
     "data": {
      "text/latex": [
       "$f'(x) =2 x - \\frac{2000}{x^{2}}$"
      ]
     },
     "metadata": {},
     "output_type": "display_data"
    },
    {
     "data": {
      "text/latex": [
       "Si $f'(x) =0 \\to$ Puntos críticos: $ x= 10, x=-5 - 5 \\sqrt{3} i, x=-5 + 5 \\sqrt{3} i$"
      ]
     },
     "metadata": {},
     "output_type": "display_data"
    },
    {
     "name": "stdout",
     "output_type": "stream",
     "text": [
      "Segunda derivada:\n"
     ]
    },
    {
     "data": {
      "text/latex": [
       "$f''(x) =2 + \\frac{4000}{x^{3}}$"
      ]
     },
     "metadata": {},
     "output_type": "display_data"
    },
    {
     "name": "stdout",
     "output_type": "stream",
     "text": [
      "Extremos relativos:\n"
     ]
    },
    {
     "data": {
      "text/latex": [
       "- El punto $\\left(10,300\\right)$ es un MÍNIMO RELATIVO ya que $f''(10)=6$"
      ]
     },
     "metadata": {},
     "output_type": "display_data"
    },
    {
     "name": "stdout",
     "output_type": "stream",
     "text": [
      "\n",
      "--------------------------------------------------------------\n",
      "20. Un triángulo isósceles, de perímetro 10 m, gira alrededor de la altura relativa al lado desigual engendrando un cono.\n",
      "Halla la longitud de sus lados para que el cono tenga volumen máximo.\n",
      "\n",
      "\n",
      "Función a optimizar:\n"
     ]
    },
    {
     "data": {
      "text/latex": [
       "$f(x) =\\frac{\\pi \\left(\\frac{x}{2}\\right)^{2} \\sqrt{- \\left(\\frac{x}{2}\\right)^{2} + \\left(\\frac{10 - x}{2}\\right)^{2}}}{3}$"
      ]
     },
     "metadata": {},
     "output_type": "display_data"
    },
    {
     "name": "stdout",
     "output_type": "stream",
     "text": [
      "Primera derivada:\n"
     ]
    },
    {
     "data": {
      "text/latex": [
       "$f'(x) =\\frac{5 \\sqrt{5} \\pi x \\left(4 - x\\right)}{24 \\sqrt{5 - x}}$"
      ]
     },
     "metadata": {},
     "output_type": "display_data"
    },
    {
     "data": {
      "text/latex": [
       "Si $f'(x) =0 \\to$ Puntos críticos: $ x= 0, x=4$"
      ]
     },
     "metadata": {},
     "output_type": "display_data"
    },
    {
     "name": "stdout",
     "output_type": "stream",
     "text": [
      "Segunda derivada:\n"
     ]
    },
    {
     "data": {
      "text/latex": [
       "$f''(x) =\\frac{5 \\pi \\sqrt{25 - 5 x} \\left(3 x^{2} - 24 x + 40\\right)}{48 \\left(x^{2} - 10 x + 25\\right)}$"
      ]
     },
     "metadata": {},
     "output_type": "display_data"
    },
    {
     "name": "stdout",
     "output_type": "stream",
     "text": [
      "Extremos relativos:\n"
     ]
    },
    {
     "data": {
      "text/latex": [
       "- El punto $\\left(0,0\\right)$ es un MÍNIMO RELATIVO ya que $f''(0)=\\frac{5 \\pi}{6}$"
      ]
     },
     "metadata": {},
     "output_type": "display_data"
    },
    {
     "name": "stdout",
     "output_type": "stream",
     "text": [
      "\n"
     ]
    },
    {
     "data": {
      "text/latex": [
       "- El punto $\\left(4,\\frac{4 \\sqrt{5} \\pi}{3}\\right)$ es un MÁXIMO RELATIVO ya que $f''(4)=- \\frac{5 \\sqrt{5} \\pi}{6}$"
      ]
     },
     "metadata": {},
     "output_type": "display_data"
    },
    {
     "name": "stdout",
     "output_type": "stream",
     "text": [
      "\n",
      "--------------------------------------------------------------\n",
      "20bis. Un triángulo isósceles, de perímetro 10 m, gira alrededor de la altura relativa al lado desigual engendrando un cono.\n",
      "Halla la longitud de sus lados para que el cono tenga volumen máximo.\n",
      "\n",
      "\n",
      "Función a optimizar:\n"
     ]
    },
    {
     "data": {
      "text/latex": [
       "$f(x) =\\frac{\\pi \\left(5 - x\\right)^{2} \\sqrt{10 x - 25}}{3}$"
      ]
     },
     "metadata": {},
     "output_type": "display_data"
    },
    {
     "name": "stdout",
     "output_type": "stream",
     "text": [
      "Primera derivada:\n"
     ]
    },
    {
     "data": {
      "text/latex": [
       "$f'(x) =\\frac{5 \\sqrt{5} \\pi \\left(x - 5\\right) \\left(x - 3\\right)}{3 \\sqrt{2 x - 5}}$"
      ]
     },
     "metadata": {},
     "output_type": "display_data"
    },
    {
     "data": {
      "text/latex": [
       "Si $f'(x) =0 \\to$ Puntos críticos: $ x= 3, x=5$"
      ]
     },
     "metadata": {},
     "output_type": "display_data"
    },
    {
     "name": "stdout",
     "output_type": "stream",
     "text": [
      "Segunda derivada:\n"
     ]
    },
    {
     "data": {
      "text/latex": [
       "$f''(x) =\\frac{5 \\sqrt{5} \\pi \\left(3 x^{2} - 18 x + 25\\right)}{3 \\left(2 x - 5\\right)^{\\frac{3}{2}}}$"
      ]
     },
     "metadata": {},
     "output_type": "display_data"
    },
    {
     "name": "stdout",
     "output_type": "stream",
     "text": [
      "Extremos relativos:\n"
     ]
    },
    {
     "data": {
      "text/latex": [
       "- El punto $\\left(3,\\frac{4 \\pi \\sqrt{30 - 25}}{3}\\right)$ es un MÁXIMO RELATIVO ya que $f''(3)=- \\frac{40 \\pi}{3 \\sqrt{30 - 25}} - \\frac{100 \\pi}{3 \\left(30 - 25\\right)^{\\frac{3}{2}}} + \\frac{2 \\pi \\sqrt{30 - 25}}{3}$"
      ]
     },
     "metadata": {},
     "output_type": "display_data"
    },
    {
     "name": "stdout",
     "output_type": "stream",
     "text": [
      "\n"
     ]
    },
    {
     "data": {
      "text/latex": [
       "- El punto $\\left(5,0\\right)$ es un MÍNIMO RELATIVO ya que $f''(5)=\\frac{2 \\pi \\sqrt{50 - 25}}{3}$"
      ]
     },
     "metadata": {},
     "output_type": "display_data"
    },
    {
     "name": "stdout",
     "output_type": "stream",
     "text": [
      "\n",
      "--------------------------------------------------------------\n",
      "21. Queremos vallar un campo rectangular que está junto a un camino. La valla del lado del camino cuesta 5 euros/m y la\n",
      "de los otros tres lados, 0,625 euros/m. Halla el área del campo de mayor superficie que podemos cercar con 1800 euros.\n",
      "\n",
      "\n",
      "Función a optimizar:\n"
     ]
    },
    {
     "data": {
      "text/latex": [
       "$f(x) =\\frac{x \\left(1800 - 5.625 x\\right)}{0.625 \\cdot 2}$"
      ]
     },
     "metadata": {},
     "output_type": "display_data"
    },
    {
     "name": "stdout",
     "output_type": "stream",
     "text": [
      "Primera derivada:\n"
     ]
    },
    {
     "data": {
      "text/latex": [
       "$f'(x) =1440 - 9 x$"
      ]
     },
     "metadata": {},
     "output_type": "display_data"
    },
    {
     "data": {
      "text/latex": [
       "Si $f'(x) =0 \\to$ Puntos críticos: $ x= 160$"
      ]
     },
     "metadata": {},
     "output_type": "display_data"
    },
    {
     "name": "stdout",
     "output_type": "stream",
     "text": [
      "Segunda derivada:\n"
     ]
    },
    {
     "data": {
      "text/latex": [
       "$f''(x) =-9.0$"
      ]
     },
     "metadata": {},
     "output_type": "display_data"
    },
    {
     "name": "stdout",
     "output_type": "stream",
     "text": [
      "Extremos relativos:\n"
     ]
    },
    {
     "data": {
      "text/latex": [
       "- El punto $\\left(160,115200\\right)$ es un MÁXIMO RELATIVO ya que $f''(160)=-9$"
      ]
     },
     "metadata": {},
     "output_type": "display_data"
    },
    {
     "name": "stdout",
     "output_type": "stream",
     "text": [
      "\n",
      "--------------------------------------------------------------\n",
      "22. Los barriles que se utilizan para almacenar petróleo tienen forma cilíndrica y una capacidad de 160 litros. Halla las\n",
      "dimensiones del cilindro para que la cantidad de chapa empleada en su construcción sea mínima.\n",
      "\n",
      "\n",
      "Función a optimizar:\n"
     ]
    },
    {
     "data": {
      "text/latex": [
       "$f(x) =2 \\pi x^{2} + 2 \\pi x 160 \\cdot \\frac{1}{\\pi x^{2}}$"
      ]
     },
     "metadata": {},
     "output_type": "display_data"
    },
    {
     "name": "stdout",
     "output_type": "stream",
     "text": [
      "Primera derivada:\n"
     ]
    },
    {
     "data": {
      "text/latex": [
       "$f'(x) =4 \\pi x - \\frac{320}{x^{2}}$"
      ]
     },
     "metadata": {},
     "output_type": "display_data"
    },
    {
     "data": {
      "text/latex": [
       "Si $f'(x) =0 \\to$ Puntos críticos: $ x= \\frac{2 \\cdot \\sqrt[3]{10}}{\\sqrt[3]{\\pi}}, x=- \\frac{\\sqrt[3]{10}}{\\sqrt[3]{\\pi}} - \\frac{\\sqrt[3]{10} \\sqrt{3} i}{\\sqrt[3]{\\pi}}, x=- \\frac{\\sqrt[3]{10}}{\\sqrt[3]{\\pi}} + \\frac{\\sqrt[3]{10} \\sqrt{3} i}{\\sqrt[3]{\\pi}}$"
      ]
     },
     "metadata": {},
     "output_type": "display_data"
    },
    {
     "name": "stdout",
     "output_type": "stream",
     "text": [
      "Segunda derivada:\n"
     ]
    },
    {
     "data": {
      "text/latex": [
       "$f''(x) =4 \\pi + \\frac{640}{x^{3}}$"
      ]
     },
     "metadata": {},
     "output_type": "display_data"
    },
    {
     "name": "stdout",
     "output_type": "stream",
     "text": [
      "Extremos relativos:\n"
     ]
    },
    {
     "data": {
      "text/latex": [
       "- El punto $\\left(\\frac{2 \\cdot \\sqrt[3]{10}}{\\sqrt[3]{\\pi}},24 \\cdot 10^{\\frac{2}{3}} \\sqrt[3]{\\pi}\\right)$ es un MÍNIMO RELATIVO ya que $f''(\\frac{2 \\cdot \\sqrt[3]{10}}{\\sqrt[3]{\\pi}})=12 \\pi$"
      ]
     },
     "metadata": {},
     "output_type": "display_data"
    },
    {
     "name": "stdout",
     "output_type": "stream",
     "text": [
      "\n",
      "--------------------------------------------------------------\n",
      "22bis. Los barriles que se utilizan para almacenar petróleo tienen forma cilíndrica y una capacidad de 160 litros. Halla las\n",
      "dimensiones del cilindro para que la cantidad de chapa empleada en su construcción sea mínima.\n",
      "\n",
      "\n",
      "Función a optimizar:\n"
     ]
    },
    {
     "data": {
      "text/latex": [
       "$f(x) =x^{2} + \\frac{160}{\\pi x}$"
      ]
     },
     "metadata": {},
     "output_type": "display_data"
    },
    {
     "name": "stdout",
     "output_type": "stream",
     "text": [
      "Primera derivada:\n"
     ]
    },
    {
     "data": {
      "text/latex": [
       "$f'(x) =2 x - \\frac{160}{\\pi x^{2}}$"
      ]
     },
     "metadata": {},
     "output_type": "display_data"
    },
    {
     "data": {
      "text/latex": [
       "Si $f'(x) =0 \\to$ Puntos críticos: $ x= \\frac{2 \\cdot \\sqrt[3]{10}}{\\sqrt[3]{\\pi}}, x=- \\frac{\\sqrt[3]{10}}{\\sqrt[3]{\\pi}} - \\frac{\\sqrt[3]{10} \\sqrt{3} i}{\\sqrt[3]{\\pi}}, x=- \\frac{\\sqrt[3]{10}}{\\sqrt[3]{\\pi}} + \\frac{\\sqrt[3]{10} \\sqrt{3} i}{\\sqrt[3]{\\pi}}$"
      ]
     },
     "metadata": {},
     "output_type": "display_data"
    },
    {
     "name": "stdout",
     "output_type": "stream",
     "text": [
      "Segunda derivada:\n"
     ]
    },
    {
     "data": {
      "text/latex": [
       "$f''(x) =2 + \\frac{320}{\\pi x^{3}}$"
      ]
     },
     "metadata": {},
     "output_type": "display_data"
    },
    {
     "name": "stdout",
     "output_type": "stream",
     "text": [
      "Extremos relativos:\n"
     ]
    },
    {
     "data": {
      "text/latex": [
       "- El punto $\\left(\\frac{2 \\cdot \\sqrt[3]{10}}{\\sqrt[3]{\\pi}},\\frac{12 \\cdot 10^{\\frac{2}{3}}}{\\pi^{\\frac{2}{3}}}\\right)$ es un MÍNIMO RELATIVO ya que $f''(\\frac{2 \\cdot \\sqrt[3]{10}}{\\sqrt[3]{\\pi}})=6$"
      ]
     },
     "metadata": {},
     "output_type": "display_data"
    },
    {
     "name": "stdout",
     "output_type": "stream",
     "text": [
      "\n",
      "--------------------------------------------------------------\n",
      "23. En los jardines de un museo está expuesta una estatua de 4,5 m de altura sobre un pedestal a 2 m del suelo.\n",
      "¿A qué distancia debe colocarse un crítico de arte de 1,8 m de estatura para ver dicha estatua bajo el mayor ángulo\n",
      "posible?\n",
      "\n",
      "\n",
      "Función a optimizar:\n"
     ]
    },
    {
     "data": {
      "text/latex": [
       "$f(x) =\\operatorname{atan}{\\left(\\frac{47}{10 x} \\right)}$"
      ]
     },
     "metadata": {},
     "output_type": "display_data"
    },
    {
     "name": "stdout",
     "output_type": "stream",
     "text": [
      "Primera derivada:\n"
     ]
    },
    {
     "data": {
      "text/latex": [
       "$f'(x) =- \\frac{470}{100 x^{2} + 2209}$"
      ]
     },
     "metadata": {},
     "output_type": "display_data"
    },
    {
     "data": {
      "text/latex": [
       "Si $f'(x) =0 \\to$ Puntos críticos: $ x= $"
      ]
     },
     "metadata": {},
     "output_type": "display_data"
    },
    {
     "name": "stdout",
     "output_type": "stream",
     "text": [
      "Segunda derivada:\n"
     ]
    },
    {
     "data": {
      "text/latex": [
       "$f''(x) =\\frac{94000 x}{\\left(100 x^{2} + 2209\\right)^{2}}$"
      ]
     },
     "metadata": {},
     "output_type": "display_data"
    },
    {
     "name": "stdout",
     "output_type": "stream",
     "text": [
      "Extremos relativos:\n",
      "--------------------------------------------------------------\n",
      "24. Halla la recta que pasa por el punto P(3,6) y forma con los semiejes positivos de coordenadas \n",
      "            un triángulo de área mínima.\n",
      "\n",
      "\n",
      "Función a optimizar:\n"
     ]
    },
    {
     "data": {
      "text/latex": [
       "$f(x) =- \\frac{9 \\left(2 - x\\right)^{2}}{2 x}$"
      ]
     },
     "metadata": {},
     "output_type": "display_data"
    },
    {
     "name": "stdout",
     "output_type": "stream",
     "text": [
      "Primera derivada:\n"
     ]
    },
    {
     "data": {
      "text/latex": [
       "$f'(x) =- \\frac{9}{2} + \\frac{18}{x^{2}}$"
      ]
     },
     "metadata": {},
     "output_type": "display_data"
    },
    {
     "data": {
      "text/latex": [
       "Si $f'(x) =0 \\to$ Puntos críticos: $ x= -2, x=2$"
      ]
     },
     "metadata": {},
     "output_type": "display_data"
    },
    {
     "name": "stdout",
     "output_type": "stream",
     "text": [
      "Segunda derivada:\n"
     ]
    },
    {
     "data": {
      "text/latex": [
       "$f''(x) =- \\frac{36}{x^{3}}$"
      ]
     },
     "metadata": {},
     "output_type": "display_data"
    },
    {
     "name": "stdout",
     "output_type": "stream",
     "text": [
      "Extremos relativos:\n"
     ]
    },
    {
     "data": {
      "text/latex": [
       "- El punto $\\left(-2,36\\right)$ es un MÍNIMO RELATIVO ya que $f''(-2)=\\frac{9}{2}$"
      ]
     },
     "metadata": {},
     "output_type": "display_data"
    },
    {
     "name": "stdout",
     "output_type": "stream",
     "text": [
      "\n"
     ]
    },
    {
     "data": {
      "text/latex": [
       "- El punto $\\left(2,0\\right)$ es un MÁXIMO RELATIVO ya que $f''(2)=- \\frac{9}{2}$"
      ]
     },
     "metadata": {},
     "output_type": "display_data"
    },
    {
     "name": "stdout",
     "output_type": "stream",
     "text": [
      "\n",
      "--------------------------------------------------------------\n",
      "25. De todos los triángulos rectángulos cuyos catetos suman 10 cm halla las dimensiones de aquél cuya\n",
      "            área es máxima\n",
      "\n",
      "\n",
      "Función a optimizar:\n"
     ]
    },
    {
     "data": {
      "text/latex": [
       "$f(x) =\\frac{x \\left(10 - x\\right)}{2}$"
      ]
     },
     "metadata": {},
     "output_type": "display_data"
    },
    {
     "name": "stdout",
     "output_type": "stream",
     "text": [
      "Primera derivada:\n"
     ]
    },
    {
     "data": {
      "text/latex": [
       "$f'(x) =5 - x$"
      ]
     },
     "metadata": {},
     "output_type": "display_data"
    },
    {
     "data": {
      "text/latex": [
       "Si $f'(x) =0 \\to$ Puntos críticos: $ x= 5$"
      ]
     },
     "metadata": {},
     "output_type": "display_data"
    },
    {
     "name": "stdout",
     "output_type": "stream",
     "text": [
      "Segunda derivada:\n"
     ]
    },
    {
     "data": {
      "text/latex": [
       "$f''(x) =-1$"
      ]
     },
     "metadata": {},
     "output_type": "display_data"
    },
    {
     "name": "stdout",
     "output_type": "stream",
     "text": [
      "Extremos relativos:\n"
     ]
    },
    {
     "data": {
      "text/latex": [
       "- El punto $\\left(5,\\frac{25}{2}\\right)$ es un MÁXIMO RELATIVO ya que $f''(5)=-1$"
      ]
     },
     "metadata": {},
     "output_type": "display_data"
    },
    {
     "name": "stdout",
     "output_type": "stream",
     "text": [
      "\n",
      "--------------------------------------------------------------\n",
      "26. Entre todos los rectángulos de perímetro 12 m, ¿cuál es el que tiene \n",
      "        la diagonal menor?\n",
      "\n",
      "\n",
      "Función a optimizar:\n"
     ]
    },
    {
     "data": {
      "text/latex": [
       "$f(x) =\\sqrt{x^{2} + \\left(6 - x\\right)^{2}}$"
      ]
     },
     "metadata": {},
     "output_type": "display_data"
    },
    {
     "name": "stdout",
     "output_type": "stream",
     "text": [
      "Primera derivada:\n"
     ]
    },
    {
     "data": {
      "text/latex": [
       "$f'(x) =\\frac{2 \\left(x - 3\\right)}{\\sqrt{x^{2} + \\left(x - 6\\right)^{2}}}$"
      ]
     },
     "metadata": {},
     "output_type": "display_data"
    },
    {
     "data": {
      "text/latex": [
       "Si $f'(x) =0 \\to$ Puntos críticos: $ x= 3$"
      ]
     },
     "metadata": {},
     "output_type": "display_data"
    },
    {
     "name": "stdout",
     "output_type": "stream",
     "text": [
      "Segunda derivada:\n"
     ]
    },
    {
     "data": {
      "text/latex": [
       "$f''(x) =\\frac{9 \\sqrt{2}}{\\left(x^{2} - 6 x + 18\\right)^{\\frac{3}{2}}}$"
      ]
     },
     "metadata": {},
     "output_type": "display_data"
    },
    {
     "name": "stdout",
     "output_type": "stream",
     "text": [
      "Extremos relativos:\n"
     ]
    },
    {
     "data": {
      "text/latex": [
       "- El punto $\\left(3,3 \\sqrt{2}\\right)$ es un MÍNIMO RELATIVO ya que $f''(3)=\\frac{\\sqrt{2}}{3}$"
      ]
     },
     "metadata": {},
     "output_type": "display_data"
    },
    {
     "name": "stdout",
     "output_type": "stream",
     "text": [
      "\n",
      "--------------------------------------------------------------\n",
      "26bis. Entre todos los rectángulos de perímetro 12 m, ¿cuál es el que tiene \n",
      "        la diagonal menor?\n",
      "\n",
      "\n",
      "Función a optimizar:\n"
     ]
    },
    {
     "data": {
      "text/latex": [
       "$f(x) =x^{2} + \\left(6 - x\\right)^{2}$"
      ]
     },
     "metadata": {},
     "output_type": "display_data"
    },
    {
     "name": "stdout",
     "output_type": "stream",
     "text": [
      "Primera derivada:\n"
     ]
    },
    {
     "data": {
      "text/latex": [
       "$f'(x) =4 x - 12$"
      ]
     },
     "metadata": {},
     "output_type": "display_data"
    },
    {
     "data": {
      "text/latex": [
       "Si $f'(x) =0 \\to$ Puntos críticos: $ x= 3$"
      ]
     },
     "metadata": {},
     "output_type": "display_data"
    },
    {
     "name": "stdout",
     "output_type": "stream",
     "text": [
      "Segunda derivada:\n"
     ]
    },
    {
     "data": {
      "text/latex": [
       "$f''(x) =4$"
      ]
     },
     "metadata": {},
     "output_type": "display_data"
    },
    {
     "name": "stdout",
     "output_type": "stream",
     "text": [
      "Extremos relativos:\n"
     ]
    },
    {
     "data": {
      "text/latex": [
       "- El punto $\\left(3,18\\right)$ es un MÍNIMO RELATIVO ya que $f''(3)=4$"
      ]
     },
     "metadata": {},
     "output_type": "display_data"
    },
    {
     "name": "stdout",
     "output_type": "stream",
     "text": [
      "\n",
      "--------------------------------------------------------------\n",
      "27. Determina las dimensiones que debe tener un recipiente cilíndrico de volumen igual a 6,28 litros para que puedo\n",
      "construirse con la menor cantidad posible de hojalata\n",
      "\n",
      "\n",
      "Función a optimizar:\n"
     ]
    },
    {
     "data": {
      "text/latex": [
       "$f(x) =2 \\left(\\pi x^{2} + \\frac{628}{100 x}\\right)$"
      ]
     },
     "metadata": {},
     "output_type": "display_data"
    },
    {
     "name": "stdout",
     "output_type": "stream",
     "text": [
      "Primera derivada:\n"
     ]
    },
    {
     "data": {
      "text/latex": [
       "$f'(x) =4 \\pi x - \\frac{314}{25 x^{2}}$"
      ]
     },
     "metadata": {},
     "output_type": "display_data"
    },
    {
     "data": {
      "text/latex": [
       "Si $f'(x) =0 \\to$ Puntos críticos: $ x= \\frac{\\sqrt[3]{3140}}{10 \\sqrt[3]{\\pi}}, x=- \\frac{\\sqrt[3]{3140}}{20 \\sqrt[3]{\\pi}} - \\frac{\\sqrt{3} \\cdot \\sqrt[3]{3140} i}{20 \\sqrt[3]{\\pi}}, x=- \\frac{\\sqrt[3]{3140}}{20 \\sqrt[3]{\\pi}} + \\frac{\\sqrt{3} \\cdot \\sqrt[3]{3140} i}{20 \\sqrt[3]{\\pi}}$"
      ]
     },
     "metadata": {},
     "output_type": "display_data"
    },
    {
     "name": "stdout",
     "output_type": "stream",
     "text": [
      "Segunda derivada:\n"
     ]
    },
    {
     "data": {
      "text/latex": [
       "$f''(x) =4 \\pi + \\frac{628}{25 x^{3}}$"
      ]
     },
     "metadata": {},
     "output_type": "display_data"
    },
    {
     "name": "stdout",
     "output_type": "stream",
     "text": [
      "Extremos relativos:\n"
     ]
    },
    {
     "data": {
      "text/latex": [
       "- El punto $\\left(\\frac{\\sqrt[3]{3140}}{10 \\sqrt[3]{\\pi}},\\frac{3 \\cdot \\sqrt[3]{1232450} \\sqrt[3]{\\pi}}{25}\\right)$ es un MÍNIMO RELATIVO ya que $f''(\\frac{\\sqrt[3]{3140}}{10 \\sqrt[3]{\\pi}})=12 \\pi$"
      ]
     },
     "metadata": {},
     "output_type": "display_data"
    },
    {
     "name": "stdout",
     "output_type": "stream",
     "text": [
      "\n",
      "--------------------------------------------------------------\n",
      "28. En un jardín con Forma de semicírculo de radio 10 m se va a Instalar un parterre rectangular, uno de cuyos lados está\n",
      "sobre el diámetro y el opuesto a él tiene sus extremos en la parte curva. Calcula las dimensiones del parterre para que su\n",
      "área sea máxima.\n",
      "\n",
      "\n",
      "Función a optimizar:\n"
     ]
    },
    {
     "data": {
      "text/latex": [
       "$f(x) =2 \\pi x^{2} \\sqrt{- x^{2} + 5^{2}}$"
      ]
     },
     "metadata": {},
     "output_type": "display_data"
    },
    {
     "name": "stdout",
     "output_type": "stream",
     "text": [
      "Primera derivada:\n"
     ]
    },
    {
     "data": {
      "text/latex": [
       "$f'(x) =\\frac{2 \\pi x \\left(50 - 3 x^{2}\\right)}{\\sqrt{25 - x^{2}}}$"
      ]
     },
     "metadata": {},
     "output_type": "display_data"
    },
    {
     "data": {
      "text/latex": [
       "Si $f'(x) =0 \\to$ Puntos críticos: $ x= 0, x=- \\frac{5 \\sqrt{6}}{3}, x=\\frac{5 \\sqrt{6}}{3}$"
      ]
     },
     "metadata": {},
     "output_type": "display_data"
    },
    {
     "name": "stdout",
     "output_type": "stream",
     "text": [
      "Segunda derivada:\n"
     ]
    },
    {
     "data": {
      "text/latex": [
       "$f''(x) =\\frac{2 \\pi \\left(- x^{4} - 5 x^{2} \\cdot \\left(25 - x^{2}\\right) + 2 \\left(25 - x^{2}\\right)^{2}\\right)}{\\left(25 - x^{2}\\right)^{\\frac{3}{2}}}$"
      ]
     },
     "metadata": {},
     "output_type": "display_data"
    },
    {
     "name": "stdout",
     "output_type": "stream",
     "text": [
      "Extremos relativos:\n"
     ]
    },
    {
     "data": {
      "text/latex": [
       "- El punto $\\left(0,0\\right)$ es un MÍNIMO RELATIVO ya que $f''(0)=20 \\pi$"
      ]
     },
     "metadata": {},
     "output_type": "display_data"
    },
    {
     "name": "stdout",
     "output_type": "stream",
     "text": [
      "\n"
     ]
    },
    {
     "data": {
      "text/latex": [
       "- El punto $\\left(- \\frac{5 \\sqrt{6}}{3},\\frac{500 \\sqrt{3} \\pi}{9}\\right)$ es un MÁXIMO RELATIVO ya que $f''(- \\frac{5 \\sqrt{6}}{3})=- 40 \\sqrt{3} \\pi$"
      ]
     },
     "metadata": {},
     "output_type": "display_data"
    },
    {
     "name": "stdout",
     "output_type": "stream",
     "text": [
      "\n"
     ]
    },
    {
     "data": {
      "text/latex": [
       "- El punto $\\left(\\frac{5 \\sqrt{6}}{3},\\frac{500 \\sqrt{3} \\pi}{9}\\right)$ es un MÁXIMO RELATIVO ya que $f''(\\frac{5 \\sqrt{6}}{3})=- 40 \\sqrt{3} \\pi$"
      ]
     },
     "metadata": {},
     "output_type": "display_data"
    },
    {
     "name": "stdout",
     "output_type": "stream",
     "text": [
      "\n",
      "--------------------------------------------------------------\n",
      "33.- Entre todos los triángulos isósceles de perímetro 30 cm, ¿cuál es el de área máxima?\n",
      "\n",
      "\n",
      "\n",
      "Función a optimizar:\n"
     ]
    },
    {
     "data": {
      "text/latex": [
       "$f(x) =\\frac{x \\sqrt{- \\left(\\frac{x}{2}\\right)^{2} + \\left(\\frac{30 - x}{2}\\right)^{2}}}{2}$"
      ]
     },
     "metadata": {},
     "output_type": "display_data"
    },
    {
     "name": "stdout",
     "output_type": "stream",
     "text": [
      "Primera derivada:\n"
     ]
    },
    {
     "data": {
      "text/latex": [
       "$f'(x) =\\frac{3 \\sqrt{15} \\cdot \\left(10 - x\\right)}{4 \\sqrt{15 - x}}$"
      ]
     },
     "metadata": {},
     "output_type": "display_data"
    },
    {
     "data": {
      "text/latex": [
       "Si $f'(x) =0 \\to$ Puntos críticos: $ x= 10$"
      ]
     },
     "metadata": {},
     "output_type": "display_data"
    },
    {
     "name": "stdout",
     "output_type": "stream",
     "text": [
      "Segunda derivada:\n"
     ]
    },
    {
     "data": {
      "text/latex": [
       "$f''(x) =\\frac{15 \\left(x^{2} - 15 x - \\left(30 - x\\right)^{2}\\right)}{\\left(- x^{2} + \\left(30 - x\\right)^{2}\\right)^{\\frac{3}{2}}}$"
      ]
     },
     "metadata": {},
     "output_type": "display_data"
    },
    {
     "name": "stdout",
     "output_type": "stream",
     "text": [
      "Extremos relativos:\n"
     ]
    },
    {
     "data": {
      "text/latex": [
       "- El punto $\\left(10,25 \\sqrt{3}\\right)$ es un MÁXIMO RELATIVO ya que $f''(10)=- \\frac{3 \\sqrt{3}}{4}$"
      ]
     },
     "metadata": {},
     "output_type": "display_data"
    },
    {
     "name": "stdout",
     "output_type": "stream",
     "text": [
      "\n",
      "--------------------------------------------------------------\n",
      "34.- Se quiere construir un recipiente cónico de generatriz 10 cm y de capacidad máxima. ¿Cuál debe ser el radio de la base?\n",
      "\n",
      "\n",
      "\n",
      "Función a optimizar:\n"
     ]
    },
    {
     "data": {
      "text/latex": [
       "$f(x) =\\frac{\\pi x^{2} \\sqrt{- x^{2} + 10^{2}}}{3}$"
      ]
     },
     "metadata": {},
     "output_type": "display_data"
    },
    {
     "name": "stdout",
     "output_type": "stream",
     "text": [
      "Primera derivada:\n"
     ]
    },
    {
     "data": {
      "text/latex": [
       "$f'(x) =\\frac{\\pi x \\left(200 - 3 x^{2}\\right)}{3 \\sqrt{100 - x^{2}}}$"
      ]
     },
     "metadata": {},
     "output_type": "display_data"
    },
    {
     "data": {
      "text/latex": [
       "Si $f'(x) =0 \\to$ Puntos críticos: $ x= 0, x=- \\frac{10 \\sqrt{6}}{3}, x=\\frac{10 \\sqrt{6}}{3}$"
      ]
     },
     "metadata": {},
     "output_type": "display_data"
    },
    {
     "name": "stdout",
     "output_type": "stream",
     "text": [
      "Segunda derivada:\n"
     ]
    },
    {
     "data": {
      "text/latex": [
       "$f''(x) =\\frac{\\pi \\left(- x^{4} - 5 x^{2} \\cdot \\left(100 - x^{2}\\right) + 2 \\left(100 - x^{2}\\right)^{2}\\right)}{3 \\left(100 - x^{2}\\right)^{\\frac{3}{2}}}$"
      ]
     },
     "metadata": {},
     "output_type": "display_data"
    },
    {
     "name": "stdout",
     "output_type": "stream",
     "text": [
      "Extremos relativos:\n"
     ]
    },
    {
     "data": {
      "text/latex": [
       "- El punto $\\left(0,0\\right)$ es un MÍNIMO RELATIVO ya que $f''(0)=\\frac{20 \\pi}{3}$"
      ]
     },
     "metadata": {},
     "output_type": "display_data"
    },
    {
     "name": "stdout",
     "output_type": "stream",
     "text": [
      "\n"
     ]
    },
    {
     "data": {
      "text/latex": [
       "- El punto $\\left(- \\frac{10 \\sqrt{6}}{3},\\frac{2000 \\sqrt{3} \\pi}{27}\\right)$ es un MÁXIMO RELATIVO ya que $f''(- \\frac{10 \\sqrt{6}}{3})=- \\frac{40 \\sqrt{3} \\pi}{3}$"
      ]
     },
     "metadata": {},
     "output_type": "display_data"
    },
    {
     "name": "stdout",
     "output_type": "stream",
     "text": [
      "\n"
     ]
    },
    {
     "data": {
      "text/latex": [
       "- El punto $\\left(\\frac{10 \\sqrt{6}}{3},\\frac{2000 \\sqrt{3} \\pi}{27}\\right)$ es un MÁXIMO RELATIVO ya que $f''(\\frac{10 \\sqrt{6}}{3})=- \\frac{40 \\sqrt{3} \\pi}{3}$"
      ]
     },
     "metadata": {},
     "output_type": "display_data"
    },
    {
     "name": "stdout",
     "output_type": "stream",
     "text": [
      "\n",
      "--------------------------------------------------------------\n",
      "35.- Con una lámina cuadrada de 10 dm de lado se quiere construir una caja sin tapa. Para ello, se recortan unos cuadrados\n",
      "de los vértices. Calcula el lado del cuadrado recortado para que el volumen de la caja sea máximo. Si la altura de la caja no\n",
      "puede pasar de 2 dm ¿cuál es la medida del lado del cuadrado que debemos recortar?\n",
      "\n",
      "\n",
      "\n",
      "Función a optimizar:\n"
     ]
    },
    {
     "data": {
      "text/latex": [
       "$f(x) =x \\left(10 - 2 x\\right)^{2}$"
      ]
     },
     "metadata": {},
     "output_type": "display_data"
    },
    {
     "name": "stdout",
     "output_type": "stream",
     "text": [
      "Primera derivada:\n"
     ]
    },
    {
     "data": {
      "text/latex": [
       "$f'(x) =4 \\left(x - 5\\right) \\left(3 x - 5\\right)$"
      ]
     },
     "metadata": {},
     "output_type": "display_data"
    },
    {
     "data": {
      "text/latex": [
       "Si $f'(x) =0 \\to$ Puntos críticos: $ x= \\frac{5}{3}, x=5$"
      ]
     },
     "metadata": {},
     "output_type": "display_data"
    },
    {
     "name": "stdout",
     "output_type": "stream",
     "text": [
      "Segunda derivada:\n"
     ]
    },
    {
     "data": {
      "text/latex": [
       "$f''(x) =24 x - 80$"
      ]
     },
     "metadata": {},
     "output_type": "display_data"
    },
    {
     "name": "stdout",
     "output_type": "stream",
     "text": [
      "Extremos relativos:\n"
     ]
    },
    {
     "data": {
      "text/latex": [
       "- El punto $\\left(\\frac{5}{3},\\frac{2000}{27}\\right)$ es un MÁXIMO RELATIVO ya que $f''(\\frac{5}{3})=-40$"
      ]
     },
     "metadata": {},
     "output_type": "display_data"
    },
    {
     "name": "stdout",
     "output_type": "stream",
     "text": [
      "\n"
     ]
    },
    {
     "data": {
      "text/latex": [
       "- El punto $\\left(5,0\\right)$ es un MÍNIMO RELATIVO ya que $f''(5)=40$"
      ]
     },
     "metadata": {},
     "output_type": "display_data"
    },
    {
     "name": "stdout",
     "output_type": "stream",
     "text": [
      "\n",
      "--------------------------------------------------------------\n",
      "37.- Calcula la generatriz y el radio que debe tener un bote cilíndrico de leche condensada cuyo área total (incluyendo las\n",
      "dos tapas) es de 150 cm 2 para que su volumen sea máximo.\n",
      "\n",
      "\n",
      "\n",
      "Función a optimizar:\n"
     ]
    },
    {
     "data": {
      "text/latex": [
       "$f(x) =\\frac{\\pi x^{2} \\cdot \\left(150 - 2 \\pi x^{2}\\right)}{2 \\pi x}$"
      ]
     },
     "metadata": {},
     "output_type": "display_data"
    },
    {
     "name": "stdout",
     "output_type": "stream",
     "text": [
      "Primera derivada:\n"
     ]
    },
    {
     "data": {
      "text/latex": [
       "$f'(x) =- 3 \\pi x^{2} + 75$"
      ]
     },
     "metadata": {},
     "output_type": "display_data"
    },
    {
     "data": {
      "text/latex": [
       "Si $f'(x) =0 \\to$ Puntos críticos: $ x= - \\frac{5}{\\sqrt{\\pi}}, x=\\frac{5}{\\sqrt{\\pi}}$"
      ]
     },
     "metadata": {},
     "output_type": "display_data"
    },
    {
     "name": "stdout",
     "output_type": "stream",
     "text": [
      "Segunda derivada:\n"
     ]
    },
    {
     "data": {
      "text/latex": [
       "$f''(x) =- 6 \\pi x$"
      ]
     },
     "metadata": {},
     "output_type": "display_data"
    },
    {
     "name": "stdout",
     "output_type": "stream",
     "text": [
      "Extremos relativos:\n"
     ]
    },
    {
     "data": {
      "text/latex": [
       "- El punto $\\left(- \\frac{5}{\\sqrt{\\pi}},- \\frac{250}{\\sqrt{\\pi}}\\right)$ es un MÍNIMO RELATIVO ya que $f''(- \\frac{5}{\\sqrt{\\pi}})=30 \\sqrt{\\pi}$"
      ]
     },
     "metadata": {},
     "output_type": "display_data"
    },
    {
     "name": "stdout",
     "output_type": "stream",
     "text": [
      "\n"
     ]
    },
    {
     "data": {
      "text/latex": [
       "- El punto $\\left(\\frac{5}{\\sqrt{\\pi}},\\frac{250}{\\sqrt{\\pi}}\\right)$ es un MÁXIMO RELATIVO ya que $f''(\\frac{5}{\\sqrt{\\pi}})=- 30 \\sqrt{\\pi}$"
      ]
     },
     "metadata": {},
     "output_type": "display_data"
    },
    {
     "name": "stdout",
     "output_type": "stream",
     "text": [
      "\n",
      "--------------------------------------------------------------\n",
      "38.- Dos postes de 12 y 18 m de altura distan entre sí 30 m, Se desea tender un cable uniendo un punto del suelo entre los\n",
      "dos postes con los extremos de éstos. ¿Dónde hay que situar el punto del suelo para que la longitud total del cable sea\n",
      "mínima?\n",
      "\n",
      "\n",
      "\n",
      "Función a optimizar:\n"
     ]
    },
    {
     "data": {
      "text/latex": [
       "$f(x) =\\sqrt{x^{2} + 12^{2}} + \\sqrt{\\left(30 - x\\right)^{2} + 18^{2}}$"
      ]
     },
     "metadata": {},
     "output_type": "display_data"
    },
    {
     "name": "stdout",
     "output_type": "stream",
     "text": [
      "Primera derivada:\n"
     ]
    },
    {
     "data": {
      "text/latex": [
       "$f'(x) =\\frac{x}{\\sqrt{\\left(x - 30\\right)^{2} + 324}} + \\frac{x}{\\sqrt{x^{2} + 144}} - \\frac{30}{\\sqrt{\\left(x - 30\\right)^{2} + 324}}$"
      ]
     },
     "metadata": {},
     "output_type": "display_data"
    },
    {
     "data": {
      "text/latex": [
       "Si $f'(x) =0 \\to$ Puntos críticos: $ x= 12$"
      ]
     },
     "metadata": {},
     "output_type": "display_data"
    },
    {
     "name": "stdout",
     "output_type": "stream",
     "text": [
      "Segunda derivada:\n"
     ]
    },
    {
     "data": {
      "text/latex": [
       "$f''(x) =- \\frac{x^{2}}{\\left(x^{2} + 144\\right)^{\\frac{3}{2}}} - \\frac{\\left(x - 30\\right)^{2}}{\\left(\\left(x - 30\\right)^{2} + 324\\right)^{\\frac{3}{2}}} + \\frac{1}{\\sqrt{\\left(x - 30\\right)^{2} + 324}} + \\frac{1}{\\sqrt{x^{2} + 144}}$"
      ]
     },
     "metadata": {},
     "output_type": "display_data"
    },
    {
     "name": "stdout",
     "output_type": "stream",
     "text": [
      "Extremos relativos:\n"
     ]
    },
    {
     "data": {
      "text/latex": [
       "- El punto $\\left(12,30 \\sqrt{2}\\right)$ es un MÍNIMO RELATIVO ya que $f''(12)=\\frac{5 \\sqrt{2}}{144}$"
      ]
     },
     "metadata": {},
     "output_type": "display_data"
    },
    {
     "name": "stdout",
     "output_type": "stream",
     "text": [
      "\n"
     ]
    }
   ],
   "source": [
    "x = Symbol('x', real=True)\n",
    "\n",
    "\n",
    "def signo(func, arg):\n",
    "    val = func.subs('x',arg)\n",
    "#     pprint(val)\n",
    "    if (val > 0) :\n",
    "        return 'MÍNIMO RELATIVO'\n",
    "    elif (val < 0) :\n",
    "        return 'MÁXIMO RELATIVO'\n",
    "    else:\n",
    "        return 'Ni máximo ni mínimo'\n",
    "\n",
    "datos = [\n",
    "        [r\"\"\"13. Descomponer el número 48 en dos sumandos tales que el quíntuplo del cuadrado del primero más el séxtuplo del\n",
    "cuadrado del segundo sea mínimo.\"\"\",'5*x**2+6*(48-x)**2'],\n",
    "         [r\"\"\"14. Halla el número positivo cuya suma, con 4 veces su recíproco, sea mínima.\"\"\", 'x+4/x'],\n",
    "         [r\"\"\"15. Halla las dimensiones del rectángulo de área máxima inscrito en una circunferencia de 20 cm de radio.\"\"\", 'x*sqrt(40**2-x**2)'],\n",
    "         [r\"\"\"16. Se considera una ventana rectangular en la que el lado superior ha sido sustituido por un triángulo equilátero. Sabiendo\n",
    "que el perímetro de la ventana es de 6,6 m, halla sus dimensiones para que su superficie sea máxima.\"\"\",'(x*(6.6-3*x)/2)+x/2*sqrt(x**2-(x/2)**2)'],\n",
    "    [r\"\"\"17. Halla las dimensiones que hacen mínimo el coste de un contenedor que tiene forma de ortoedro sabiendo que el\n",
    "volumen ha de ser de 9 m 3 su altura 1 m y el coste de construcción por m 2 es de 5 000 pesetas para la base, 6 000 pesetas\n",
    "para la tapa y 4 000 pesetas para cada pared lateral.\"\"\",'99000+8000*(x+9/x)'],\n",
    "         [r\"\"\"18. Una hoja de papel debe contener 18 cm 2 de texto impreso, márgenes superior e inferior de 2 cm de altura y márgenes\n",
    "laterales de 1 cm de anchura. Obtén, razonadamente, las dimensiones que minimizan la superficie de papel.\"\"\",'(x+2)*(18/x+4)'],\n",
    "         [r\"\"\"19. Halla las dimensiones de un depósito abierto superiormente en forma de prisma recto de base cuadrada, de 500 m 3 de\n",
    "capacidad y que tenga un revestimiento de coste mínimo.\"\"\",'2000/x+x**2'],\n",
    "         [r\"\"\"20. Un triángulo isósceles, de perímetro 10 m, gira alrededor de la altura relativa al lado desigual engendrando un cono.\n",
    "Halla la longitud de sus lados para que el cono tenga volumen máximo.\"\"\",'pi/3*(x/2)**2*sqrt(((10-x)/2)**2-(x/2)**2)'],\n",
    "         [r\"\"\"20bis. Un triángulo isósceles, de perímetro 10 m, gira alrededor de la altura relativa al lado desigual engendrando un cono.\n",
    "Halla la longitud de sus lados para que el cono tenga volumen máximo.\"\"\",'pi/3*(5-x)**2*sqrt(10*x-25)'],\n",
    "        [r\"\"\"21. Queremos vallar un campo rectangular que está junto a un camino. La valla del lado del camino cuesta 5 euros/m y la\n",
    "de los otros tres lados, 0,625 euros/m. Halla el área del campo de mayor superficie que podemos cercar con 1800 euros.\"\"\",'x*((1800-5.625*x)/(2*0.625))'],\n",
    "         [r\"\"\"22. Los barriles que se utilizan para almacenar petróleo tienen forma cilíndrica y una capacidad de 160 litros. Halla las\n",
    "dimensiones del cilindro para que la cantidad de chapa empleada en su construcción sea mínima.\"\"\",'2*pi*x**2+2*pi*x*(160/(pi*x**2))'],\n",
    "         [r\"\"\"22bis. Los barriles que se utilizan para almacenar petróleo tienen forma cilíndrica y una capacidad de 160 litros. Halla las\n",
    "dimensiones del cilindro para que la cantidad de chapa empleada en su construcción sea mínima.\"\"\",'x**2+(160/(pi*x))'],\n",
    "        [r\"\"\"23. En los jardines de un museo está expuesta una estatua de 4,5 m de altura sobre un pedestal a 2 m del suelo.\n",
    "¿A qué distancia debe colocarse un crítico de arte de 1,8 m de estatura para ver dicha estatua bajo el mayor ángulo\n",
    "posible?\"\"\",'atan(47/(10*x))'],\n",
    "            [r\"\"\"24. Halla la recta que pasa por el punto P(3,6) y forma con los semiejes positivos de coordenadas \n",
    "            un triángulo de área mínima.\"\"\",'(-9*(2-x)**2)/(2*x)'],\n",
    "            [r\"\"\"25. De todos los triángulos rectángulos cuyos catetos suman 10 cm halla las dimensiones de aquél cuya\n",
    "            área es máxima\"\"\",'(x*(10-x))/(2)'],\n",
    "        [r\"\"\"26. Entre todos los rectángulos de perímetro 12 m, ¿cuál es el que tiene \n",
    "        la diagonal menor?\"\"\",'sqrt(x**2+(6-x)**2)'],\n",
    "            [r\"\"\"26bis. Entre todos los rectángulos de perímetro 12 m, ¿cuál es el que tiene \n",
    "        la diagonal menor?\"\"\",'x**2+(6-x)**2'],\n",
    "                [r\"\"\"27. Determina las dimensiones que debe tener un recipiente cilíndrico de volumen igual a 6,28 litros para que puedo\n",
    "construirse con la menor cantidad posible de hojalata\"\"\",'2*(pi*x**2+628/(100*x))'],\n",
    "        [r\"\"\"28. En un jardín con Forma de semicírculo de radio 10 m se va a Instalar un parterre rectangular, uno de cuyos lados está\n",
    "sobre el diámetro y el opuesto a él tiene sus extremos en la parte curva. Calcula las dimensiones del parterre para que su\n",
    "área sea máxima.\"\"\",'2*pi*x**2*sqrt(5**2-x**2)'],\n",
    "    \n",
    "    [r\"\"\"33.- Entre todos los triángulos isósceles de perímetro 30 cm, ¿cuál es el de área máxima?\n",
    "\"\"\",'x*sqrt(((30-x)/2)**2-(x/2)**2)/2'],\n",
    "        [r\"\"\"34.- Se quiere construir un recipiente cónico de generatriz 10 cm y de capacidad máxima. ¿Cuál debe ser el radio de la base?\n",
    "\"\"\",'pi*x**2*sqrt(10**2-x**2)/3'],\n",
    "        [r\"\"\"35.- Con una lámina cuadrada de 10 dm de lado se quiere construir una caja sin tapa. Para ello, se recortan unos cuadrados\n",
    "de los vértices. Calcula el lado del cuadrado recortado para que el volumen de la caja sea máximo. Si la altura de la caja no\n",
    "puede pasar de 2 dm ¿cuál es la medida del lado del cuadrado que debemos recortar?\n",
    "\"\"\",'x*(10-2*x)**2'],\n",
    "        [r\"\"\"37.- Calcula la generatriz y el radio que debe tener un bote cilíndrico de leche condensada cuyo área total (incluyendo las\n",
    "dos tapas) es de 150 cm 2 para que su volumen sea máximo.\n",
    "\"\"\",'pi*x**2*((150-2*pi*x**2)/(2*pi*x))'],\n",
    "        [r\"\"\"38.- Dos postes de 12 y 18 m de altura distan entre sí 30 m, Se desea tender un cable uniendo un punto del suelo entre los\n",
    "dos postes con los extremos de éstos. ¿Dónde hay que situar el punto del suelo para que la longitud total del cable sea\n",
    "mínima?\n",
    "\"\"\",'sqrt(12**2+x**2)+sqrt(18**2+(30-x)**2)'],\n",
    "        ]\n",
    "\n",
    "n_ejercicio = 'p31e13a38'\n",
    "texto_ejercicio = \"Problemas de optimización\"\n",
    "\n",
    "for p in datos :\n",
    "    pprint(\"--------------------------------------------------------------\")\n",
    "    print(p[0])\n",
    "#     pprint(\"--------------------------------------------------------------\")\n",
    "    pprint(\"\\n\\n\")\n",
    "    f = (S(p[1],evaluate=False))\n",
    "    pprint(\"Función a optimizar:\")\n",
    "#     pprint([\"f(x)\",f])\n",
    "    display_latex(\"$f(x) =\" + latex(f) + \"$\",raw=True)\n",
    "#     pprint(f)\n",
    "#     pprint([\"f'(x)\",simplify(f.diff())])\n",
    "    pprint(\"Primera derivada:\")\n",
    "    display_latex(\"$f'(x) =\" + latex(nsimplify(simplify(f.diff()))) + \"$\",raw=True)\n",
    "    display_latex(r\"Si $f'(x) =0 \\to$ Puntos críticos: $ x= \"+\", x=\".join(list(map(latex,solve(nsimplify(f.diff()))))) + \"$\",raw=True)\n",
    "#     pprint([\"f''(x)\",simplify(f.diff().diff())])\n",
    "    pprint(\"Segunda derivada:\")\n",
    "    display_latex(\"$f''(x) =\" + latex(simplify(f.diff().diff())) + \"$\",raw=True)\n",
    "    extremo = solve(simplify(f.diff()))\n",
    "    pprint(\"Extremos relativos:\")\n",
    "#     display_latex(\"En $x=\"+\", x=\".join(list(map(latex,extremo)))+\"$ hay puntos críticos.\",raw=True)\n",
    "    \n",
    "    \n",
    "    enunciado_latex, enunciado, solucion = [],[],[]\n",
    "    enunciado_latex.append(latex(p[0]))\n",
    "    enunciado.append(\"\")\n",
    "    sol = r\"\\\\ Función a optimizar y derivadas: \\\\\"\n",
    "    sol += r\" $\"+latex([\"f(x)\",f])+r\"$ \\\\\"\n",
    "    sol += r\" $\"+latex([\"f'(x)\",simplify(f.diff())])+r\"$ \\\\\"\n",
    "    sol += r\" $\"+latex([\"f''(x)\",simplify(f.diff().diff())])+r\"$ \\\\\"\n",
    "    sol += r\"Extremos relativos: \\\\\"\n",
    "    \n",
    "    \n",
    "    for i in extremo :\n",
    "        if i in S.Reals :\n",
    "#             pprint([signo(f.diff().diff(),i), \"x\", i])\n",
    "            display_latex(r\"- El punto $\\left({},{}\\right)$ es un {} ya que $f''({})={}$\".format(latex(nsimplify(i)),latex(nsimplify(f.subs('x',i))), signo(f.diff().diff(),i), latex(nsimplify(i)), latex(nsimplify(f.diff().diff().subs('x',i)))),raw=True)\n",
    "            pprint(\"\\n\")\n",
    "            sol += r\" $\"+latex([signo(f.diff().diff(),i), \"x\", i])+r\"$ \\\\\"\n",
    "\n",
    "    sol += r\"\\\\ \\\\ \\\\  \\\\  \\\\\"\n",
    "    solucion.append(sol)\n",
    "#     df_ejercicios = df_ejercicios.append(añadir_ejercicios(enunciado_latex, enunciado, solucion, texto_ejercicio, curso, titulo , n_ejercicio, '1', '1', enun_tex=False, sol_tex=False), ignore_index=True)\n",
    "\n",
    "    \n",
    "    \n"
   ]
  },
  {
   "cell_type": "code",
   "execution_count": 12,
   "metadata": {},
   "outputs": [
    {
     "data": {
      "image/png": "[encoded data removed]",
      "text/latex": [
       "$\\displaystyle 720.0$"
      ],
      "text/plain": [
       "720.0"
      ]
     },
     "execution_count": 12,
     "metadata": {},
     "output_type": "execute_result"
    }
   ],
   "source": [
    "115200/160"
   ]
  },
  {
   "cell_type": "code",
   "execution_count": 10,
   "metadata": {},
   "outputs": [
    {
     "data": {
      "text/markdown": [
       "**Ejercicio: **p31e13a38"
      ],
      "text/plain": [
       "<IPython.core.display.Markdown object>"
      ]
     },
     "metadata": {},
     "output_type": "display_data"
    },
    {
     "data": {
      "text/html": [
       "<div>\n",
       "<style scoped>\n",
       "    .dataframe tbody tr th:only-of-type {\n",
       "        vertical-align: middle;\n",
       "    }\n",
       "\n",
       "    .dataframe tbody tr th {\n",
       "        vertical-align: top;\n",
       "    }\n",
       "\n",
       "    .dataframe thead th {\n",
       "        text-align: right;\n",
       "    }\n",
       "</style>\n",
       "<table border=\"1\" class=\"dataframe\">\n",
       "  <thead>\n",
       "    <tr style=\"text-align: right;\">\n",
       "      <th></th>\n",
       "      <th>enunciado_latex</th>\n",
       "      <th>enunciado</th>\n",
       "      <th>solucion</th>\n",
       "      <th>texto</th>\n",
       "      <th>curso</th>\n",
       "      <th>titulo</th>\n",
       "      <th>n_ejercicio</th>\n",
       "      <th>dificultad</th>\n",
       "      <th>n_columnas</th>\n",
       "      <th>puntos</th>\n",
       "      <th>enun_tex</th>\n",
       "      <th>sol_tex</th>\n",
       "    </tr>\n",
       "  </thead>\n",
       "  <tbody>\n",
       "    <tr>\n",
       "      <th>0</th>\n",
       "      <td>13. Descomponer el número 48 en dos sumandos t...</td>\n",
       "      <td></td>\n",
       "      <td>\\\\ Función a optimizar y derivadas: \\\\ $\\left[...</td>\n",
       "      <td>Problemas de optimización</td>\n",
       "      <td>2BC</td>\n",
       "      <td>Optimización de funciones</td>\n",
       "      <td>p31e13a38</td>\n",
       "      <td>1</td>\n",
       "      <td>1</td>\n",
       "      <td>1</td>\n",
       "      <td>False</td>\n",
       "      <td>False</td>\n",
       "    </tr>\n",
       "    <tr>\n",
       "      <th>1</th>\n",
       "      <td>14. Halla el número positivo cuya suma, con 4 ...</td>\n",
       "      <td></td>\n",
       "      <td>\\\\ Función a optimizar y derivadas: \\\\ $\\left[...</td>\n",
       "      <td>Problemas de optimización</td>\n",
       "      <td>2BC</td>\n",
       "      <td>Optimización de funciones</td>\n",
       "      <td>p31e13a38</td>\n",
       "      <td>1</td>\n",
       "      <td>1</td>\n",
       "      <td>1</td>\n",
       "      <td>False</td>\n",
       "      <td>False</td>\n",
       "    </tr>\n",
       "    <tr>\n",
       "      <th>2</th>\n",
       "      <td>15. Halla las dimensiones del rectángulo de ár...</td>\n",
       "      <td></td>\n",
       "      <td>\\\\ Función a optimizar y derivadas: \\\\ $\\left[...</td>\n",
       "      <td>Problemas de optimización</td>\n",
       "      <td>2BC</td>\n",
       "      <td>Optimización de funciones</td>\n",
       "      <td>p31e13a38</td>\n",
       "      <td>1</td>\n",
       "      <td>1</td>\n",
       "      <td>1</td>\n",
       "      <td>False</td>\n",
       "      <td>False</td>\n",
       "    </tr>\n",
       "    <tr>\n",
       "      <th>3</th>\n",
       "      <td>16. Se considera una ventana rectangular en la...</td>\n",
       "      <td></td>\n",
       "      <td>\\\\ Función a optimizar y derivadas: \\\\ $\\left[...</td>\n",
       "      <td>Problemas de optimización</td>\n",
       "      <td>2BC</td>\n",
       "      <td>Optimización de funciones</td>\n",
       "      <td>p31e13a38</td>\n",
       "      <td>1</td>\n",
       "      <td>1</td>\n",
       "      <td>1</td>\n",
       "      <td>False</td>\n",
       "      <td>False</td>\n",
       "    </tr>\n",
       "    <tr>\n",
       "      <th>4</th>\n",
       "      <td>18. Una hoja de papel debe contener 18 cm 2 de...</td>\n",
       "      <td></td>\n",
       "      <td>\\\\ Función a optimizar y derivadas: \\\\ $\\left[...</td>\n",
       "      <td>Problemas de optimización</td>\n",
       "      <td>2BC</td>\n",
       "      <td>Optimización de funciones</td>\n",
       "      <td>p31e13a38</td>\n",
       "      <td>1</td>\n",
       "      <td>1</td>\n",
       "      <td>1</td>\n",
       "      <td>False</td>\n",
       "      <td>False</td>\n",
       "    </tr>\n",
       "    <tr>\n",
       "      <th>5</th>\n",
       "      <td>19. Halla las dimensiones de un depósito abier...</td>\n",
       "      <td></td>\n",
       "      <td>\\\\ Función a optimizar y derivadas: \\\\ $\\left[...</td>\n",
       "      <td>Problemas de optimización</td>\n",
       "      <td>2BC</td>\n",
       "      <td>Optimización de funciones</td>\n",
       "      <td>p31e13a38</td>\n",
       "      <td>1</td>\n",
       "      <td>1</td>\n",
       "      <td>1</td>\n",
       "      <td>False</td>\n",
       "      <td>False</td>\n",
       "    </tr>\n",
       "    <tr>\n",
       "      <th>6</th>\n",
       "      <td>20. Un triángulo isósceles, de perímetro 10 m,...</td>\n",
       "      <td></td>\n",
       "      <td>\\\\ Función a optimizar y derivadas: \\\\ $\\left[...</td>\n",
       "      <td>Problemas de optimización</td>\n",
       "      <td>2BC</td>\n",
       "      <td>Optimización de funciones</td>\n",
       "      <td>p31e13a38</td>\n",
       "      <td>1</td>\n",
       "      <td>1</td>\n",
       "      <td>1</td>\n",
       "      <td>False</td>\n",
       "      <td>False</td>\n",
       "    </tr>\n",
       "    <tr>\n",
       "      <th>7</th>\n",
       "      <td>21. Queremos vallar un campo rectangular que e...</td>\n",
       "      <td></td>\n",
       "      <td>\\\\ Función a optimizar y derivadas: \\\\ $\\left[...</td>\n",
       "      <td>Problemas de optimización</td>\n",
       "      <td>2BC</td>\n",
       "      <td>Optimización de funciones</td>\n",
       "      <td>p31e13a38</td>\n",
       "      <td>1</td>\n",
       "      <td>1</td>\n",
       "      <td>1</td>\n",
       "      <td>False</td>\n",
       "      <td>False</td>\n",
       "    </tr>\n",
       "    <tr>\n",
       "      <th>8</th>\n",
       "      <td>22. Los barriles que se utilizan para almacena...</td>\n",
       "      <td></td>\n",
       "      <td>\\\\ Función a optimizar y derivadas: \\\\ $\\left[...</td>\n",
       "      <td>Problemas de optimización</td>\n",
       "      <td>2BC</td>\n",
       "      <td>Optimización de funciones</td>\n",
       "      <td>p31e13a38</td>\n",
       "      <td>1</td>\n",
       "      <td>1</td>\n",
       "      <td>1</td>\n",
       "      <td>False</td>\n",
       "      <td>False</td>\n",
       "    </tr>\n",
       "    <tr>\n",
       "      <th>9</th>\n",
       "      <td>33.- Entre todos los triángulos isósceles de p...</td>\n",
       "      <td></td>\n",
       "      <td>\\\\ Función a optimizar y derivadas: \\\\ $\\left[...</td>\n",
       "      <td>Problemas de optimización</td>\n",
       "      <td>2BC</td>\n",
       "      <td>Optimización de funciones</td>\n",
       "      <td>p31e13a38</td>\n",
       "      <td>1</td>\n",
       "      <td>1</td>\n",
       "      <td>1</td>\n",
       "      <td>False</td>\n",
       "      <td>False</td>\n",
       "    </tr>\n",
       "    <tr>\n",
       "      <th>10</th>\n",
       "      <td>34.- Se quiere construir un recipiente cónico ...</td>\n",
       "      <td></td>\n",
       "      <td>\\\\ Función a optimizar y derivadas: \\\\ $\\left[...</td>\n",
       "      <td>Problemas de optimización</td>\n",
       "      <td>2BC</td>\n",
       "      <td>Optimización de funciones</td>\n",
       "      <td>p31e13a38</td>\n",
       "      <td>1</td>\n",
       "      <td>1</td>\n",
       "      <td>1</td>\n",
       "      <td>False</td>\n",
       "      <td>False</td>\n",
       "    </tr>\n",
       "    <tr>\n",
       "      <th>11</th>\n",
       "      <td>35.- Con una lámina cuadrada de 10 dm de lado ...</td>\n",
       "      <td></td>\n",
       "      <td>\\\\ Función a optimizar y derivadas: \\\\ $\\left[...</td>\n",
       "      <td>Problemas de optimización</td>\n",
       "      <td>2BC</td>\n",
       "      <td>Optimización de funciones</td>\n",
       "      <td>p31e13a38</td>\n",
       "      <td>1</td>\n",
       "      <td>1</td>\n",
       "      <td>1</td>\n",
       "      <td>False</td>\n",
       "      <td>False</td>\n",
       "    </tr>\n",
       "    <tr>\n",
       "      <th>12</th>\n",
       "      <td>37.- Calcula la generatriz y el radio que debe...</td>\n",
       "      <td></td>\n",
       "      <td>\\\\ Función a optimizar y derivadas: \\\\ $\\left[...</td>\n",
       "      <td>Problemas de optimización</td>\n",
       "      <td>2BC</td>\n",
       "      <td>Optimización de funciones</td>\n",
       "      <td>p31e13a38</td>\n",
       "      <td>1</td>\n",
       "      <td>1</td>\n",
       "      <td>1</td>\n",
       "      <td>False</td>\n",
       "      <td>False</td>\n",
       "    </tr>\n",
       "    <tr>\n",
       "      <th>13</th>\n",
       "      <td>38.- Dos postes de 12 y 18 m de altura distan ...</td>\n",
       "      <td></td>\n",
       "      <td>\\\\ Función a optimizar y derivadas: \\\\ $\\left[...</td>\n",
       "      <td>Problemas de optimización</td>\n",
       "      <td>2BC</td>\n",
       "      <td>Optimización de funciones</td>\n",
       "      <td>p31e13a38</td>\n",
       "      <td>1</td>\n",
       "      <td>1</td>\n",
       "      <td>1</td>\n",
       "      <td>False</td>\n",
       "      <td>False</td>\n",
       "    </tr>\n",
       "  </tbody>\n",
       "</table>\n",
       "</div>"
      ],
      "text/plain": [
       "                                      enunciado_latex enunciado  \\\n",
       "0   13. Descomponer el número 48 en dos sumandos t...             \n",
       "1   14. Halla el número positivo cuya suma, con 4 ...             \n",
       "2   15. Halla las dimensiones del rectángulo de ár...             \n",
       "3   16. Se considera una ventana rectangular en la...             \n",
       "4   18. Una hoja de papel debe contener 18 cm 2 de...             \n",
       "5   19. Halla las dimensiones de un depósito abier...             \n",
       "6   20. Un triángulo isósceles, de perímetro 10 m,...             \n",
       "7   21. Queremos vallar un campo rectangular que e...             \n",
       "8   22. Los barriles que se utilizan para almacena...             \n",
       "9   33.- Entre todos los triángulos isósceles de p...             \n",
       "10  34.- Se quiere construir un recipiente cónico ...             \n",
       "11  35.- Con una lámina cuadrada de 10 dm de lado ...             \n",
       "12  37.- Calcula la generatriz y el radio que debe...             \n",
       "13  38.- Dos postes de 12 y 18 m de altura distan ...             \n",
       "\n",
       "                                             solucion  \\\n",
       "0   \\\\ Función a optimizar y derivadas: \\\\ $\\left[...   \n",
       "1   \\\\ Función a optimizar y derivadas: \\\\ $\\left[...   \n",
       "2   \\\\ Función a optimizar y derivadas: \\\\ $\\left[...   \n",
       "3   \\\\ Función a optimizar y derivadas: \\\\ $\\left[...   \n",
       "4   \\\\ Función a optimizar y derivadas: \\\\ $\\left[...   \n",
       "5   \\\\ Función a optimizar y derivadas: \\\\ $\\left[...   \n",
       "6   \\\\ Función a optimizar y derivadas: \\\\ $\\left[...   \n",
       "7   \\\\ Función a optimizar y derivadas: \\\\ $\\left[...   \n",
       "8   \\\\ Función a optimizar y derivadas: \\\\ $\\left[...   \n",
       "9   \\\\ Función a optimizar y derivadas: \\\\ $\\left[...   \n",
       "10  \\\\ Función a optimizar y derivadas: \\\\ $\\left[...   \n",
       "11  \\\\ Función a optimizar y derivadas: \\\\ $\\left[...   \n",
       "12  \\\\ Función a optimizar y derivadas: \\\\ $\\left[...   \n",
       "13  \\\\ Función a optimizar y derivadas: \\\\ $\\left[...   \n",
       "\n",
       "                        texto curso                     titulo n_ejercicio  \\\n",
       "0   Problemas de optimización   2BC  Optimización de funciones   p31e13a38   \n",
       "1   Problemas de optimización   2BC  Optimización de funciones   p31e13a38   \n",
       "2   Problemas de optimización   2BC  Optimización de funciones   p31e13a38   \n",
       "3   Problemas de optimización   2BC  Optimización de funciones   p31e13a38   \n",
       "4   Problemas de optimización   2BC  Optimización de funciones   p31e13a38   \n",
       "5   Problemas de optimización   2BC  Optimización de funciones   p31e13a38   \n",
       "6   Problemas de optimización   2BC  Optimización de funciones   p31e13a38   \n",
       "7   Problemas de optimización   2BC  Optimización de funciones   p31e13a38   \n",
       "8   Problemas de optimización   2BC  Optimización de funciones   p31e13a38   \n",
       "9   Problemas de optimización   2BC  Optimización de funciones   p31e13a38   \n",
       "10  Problemas de optimización   2BC  Optimización de funciones   p31e13a38   \n",
       "11  Problemas de optimización   2BC  Optimización de funciones   p31e13a38   \n",
       "12  Problemas de optimización   2BC  Optimización de funciones   p31e13a38   \n",
       "13  Problemas de optimización   2BC  Optimización de funciones   p31e13a38   \n",
       "\n",
       "   dificultad n_columnas puntos  enun_tex  sol_tex  \n",
       "0           1          1      1     False    False  \n",
       "1           1          1      1     False    False  \n",
       "2           1          1      1     False    False  \n",
       "3           1          1      1     False    False  \n",
       "4           1          1      1     False    False  \n",
       "5           1          1      1     False    False  \n",
       "6           1          1      1     False    False  \n",
       "7           1          1      1     False    False  \n",
       "8           1          1      1     False    False  \n",
       "9           1          1      1     False    False  \n",
       "10          1          1      1     False    False  \n",
       "11          1          1      1     False    False  \n",
       "12          1          1      1     False    False  \n",
       "13          1          1      1     False    False  "
      ]
     },
     "metadata": {},
     "output_type": "display_data"
    }
   ],
   "source": [
    "escribir_preambulo(fichero, titulo, 'ejercicios')\n",
    "for s in df_ejercicios.groupby('n_ejercicio').count().index : \n",
    "    display(md(\"**Ejercicio: **\" + s ))\n",
    "    display(df_ejercicios[df_ejercicios.n_ejercicio == s])\n",
    "    escribir_ejercicios(df_ejercicios[df_ejercicios.n_ejercicio == s],fichero)\n",
    "\n",
    "escribir_fin(fichero)"
   ]
  }
 ],
 "metadata": {
  "colab": {
   "collapsed_sections": [],
   "include_colab_link": true,
   "name": "examen1.ipynb",
   "provenance": []
  },
  "kernelspec": {
   "display_name": "Python 3 (ipykernel)",
   "language": "python",
   "name": "python3"
  },
  "language_info": {
   "codemirror_mode": {
    "name": "ipython",
    "version": 3
   },
   "file_extension": ".py",
   "mimetype": "text/x-python",
   "name": "python",
   "nbconvert_exporter": "python",
   "pygments_lexer": "ipython3",
   "version": "3.9.13"
  }
 },
 "nbformat": 4,
 "nbformat_minor": 1
}
