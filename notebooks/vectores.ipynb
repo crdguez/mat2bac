{
 "cells": [
  {
   "cell_type": "code",
   "execution_count": 13,
   "id": "3679b821",
   "metadata": {},
   "outputs": [
    {
     "name": "stdout",
     "output_type": "stream",
     "text": [
      "IPython console for SymPy 1.10.1 (Python 3.9.13-64-bit) (ground types: gmpy)\n",
      "\n",
      "These commands were executed:\n",
      ">>> from sympy import *\n",
      ">>> x, y, z, t = symbols('x y z t')\n",
      ">>> k, m, n = symbols('k m n', integer=True)\n",
      ">>> f, g, h = symbols('f g h', cls=Function)\n",
      ">>> init_printing()\n",
      "\n",
      "Documentation can be found at https://docs.sympy.org/1.10.1/\n",
      "\n"
     ]
    }
   ],
   "source": [
    "from sympy import *\n",
    "init_session()\n",
    "from IPython.display import display_latex"
   ]
  },
  {
   "cell_type": "code",
   "execution_count": 2,
   "id": "a7e94c57",
   "metadata": {},
   "outputs": [
    {
     "data": {
      "image/png": "[encoded data removed]",
      "text/latex": [
       "$\\displaystyle \\left( \\operatorname{Point3D}\\left(-8, 6, 7\\right), \\  \\operatorname{Point3D}\\left(-5, 3, -6\\right), \\  \\operatorname{Point3D}\\left(8.33333333333333, -1.66666666666667, -1.66666666666667\\right)\\right)$"
      ],
      "text/plain": [
       "(Point3D(-8, 6, 7), Point3D(-5, 3, -6), Point3D(8.33333333333333, -1.666666666\n",
       "66667, -1.66666666666667))"
      ]
     },
     "execution_count": 2,
     "metadata": {},
     "output_type": "execute_result"
    }
   ],
   "source": [
    "# p78e1\n",
    "\n",
    "u, v, w = [Point3D(2,0,-1),Point3D(-3,1,2), Point3D(4,-2,7)]\n",
    "5*u+6*v, u+v-w, 2*u-v+1/3*w"
   ]
  },
  {
   "cell_type": "code",
   "execution_count": 5,
   "id": "c321e4f3",
   "metadata": {},
   "outputs": [
    {
     "data": {
      "image/png": "[encoded data removed]",
      "text/latex": [
       "$\\displaystyle \\left( -22, \\  -9, \\  -30, \\  \\left\\{ x : \\frac{22}{7}, \\  y : \\frac{9}{7}, \\  z : \\frac{30}{7}\\right\\}\\right)$"
      ],
      "text/plain": [
       "(-22, -9, -30, {x: 22/7, y: 9/7, z: 30/7})"
      ]
     },
     "execution_count": 5,
     "metadata": {},
     "output_type": "execute_result"
    }
   ],
   "source": [
    "# p78e2\n",
    "\n",
    "u, v, w, s = [Point3D(1,2,3),Point3D(-4,1,7), Point3D(0,-2,-5), Point3D(-2,-1,-3)]\n",
    "\n",
    "Matrix([s,v,w]).T.det(), Matrix([u,s,w]).T.det() , Matrix([u,v,s]).T.det(), solve(list((Matrix([u,v,w]).T*Matrix(3,1,[x,y,z])-Matrix(3,1,list(s))).T))\n"
   ]
  },
  {
   "cell_type": "code",
   "execution_count": 33,
   "id": "25680a56",
   "metadata": {},
   "outputs": [
    {
     "data": {
      "text/latex": [
       "$\\displaystyle \\left( \\left[\\begin{matrix}0 & 1 & 5 & 0\\\\1 & 2 & 7 & 0\\\\1 & 3 & 12 & 0\\end{matrix}\\right], \\  \\left[\\begin{matrix}1 & 2 & 7 & 0\\\\0 & 1 & 5 & 0\\\\0 & 0 & 0 & 0\\end{matrix}\\right]\\right)$"
      ],
      "text/plain": [
       "⎛⎡0  1  5   0⎤  ⎡1  2  7  0⎤⎞\n",
       "⎜⎢           ⎥  ⎢          ⎥⎟\n",
       "⎜⎢1  2  7   0⎥, ⎢0  1  5  0⎥⎟\n",
       "⎜⎢           ⎥  ⎢          ⎥⎟\n",
       "⎝⎣1  3  12  0⎦  ⎣0  0  0  0⎦⎠"
      ]
     },
     "execution_count": 33,
     "metadata": {},
     "output_type": "execute_result"
    }
   ],
   "source": [
    "# p78e4\n",
    "\n",
    "u, v, w = [Point(0,1,1),Point(1,2,3), Point(5,7,12)]\n",
    "\n",
    "A=Matrix([u,v,w]).T\n",
    "A.det()\n",
    "\n",
    "\n",
    "b=Matrix(3,1,[0,0,0])\n",
    "AA=A.row_join(b)\n",
    "AA, AA.LUdecomposition()[1]\n"
   ]
  },
  {
   "cell_type": "code",
   "execution_count": 55,
   "id": "38fe6cc4",
   "metadata": {},
   "outputs": [
    {
     "data": {
      "text/latex": [
       "$\\left[\\begin{matrix}4 & 1 & -5\\\\2 & 3 & -8\\\\1 & 6 & 2\\end{matrix}\\right] \\to  \\left|\\begin{matrix}4 & 1 & -5\\\\2 & 3 & -8\\\\1 & 6 & 2\\end{matrix}\\right|=159 \\to Linealmente \\ Independientes $"
      ]
     },
     "metadata": {},
     "output_type": "display_data"
    },
    {
     "data": {
      "text/latex": [
       "$\\left[\\begin{matrix}4 & 1 & -5\\\\2 & 3 & -8\\\\10 & 0 & -7\\end{matrix}\\right] \\to  \\left|\\begin{matrix}4 & 1 & -5\\\\2 & 3 & -8\\\\10 & 0 & -7\\end{matrix}\\right|=0 \\to Linealmente \\ Dependientes $"
      ]
     },
     "metadata": {},
     "output_type": "display_data"
    },
    {
     "data": {
      "text/latex": [
       "$\\left[\\begin{matrix}2 & 0 & 9\\\\3 & -1 & 2\\\\5 & -1 & 4\\end{matrix}\\right] \\to  \\left|\\begin{matrix}2 & 0 & 9\\\\3 & -1 & 2\\\\5 & -1 & 4\\end{matrix}\\right|=14 \\to Linealmente \\ Independientes $"
      ]
     },
     "metadata": {},
     "output_type": "display_data"
    },
    {
     "data": {
      "text/latex": [
       "$\\left[\\begin{matrix}3 & -2 & 5\\\\-3 & 5 & 2\\\\1 & 1 & 6\\end{matrix}\\right] \\to  \\left|\\begin{matrix}3 & -2 & 5\\\\-3 & 5 & 2\\\\1 & 1 & 6\\end{matrix}\\right|=4 \\to Linealmente \\ Independientes $"
      ]
     },
     "metadata": {},
     "output_type": "display_data"
    },
    {
     "data": {
      "text/latex": [
       "$\\left[\\begin{matrix}1 & -2 & -3\\\\-2 & 4 & 4\\\\-6 & 3 & 0\\end{matrix}\\right] \\to  \\left|\\begin{matrix}1 & -2 & -3\\\\-2 & 4 & 4\\\\-6 & 3 & 0\\end{matrix}\\right|=-18 \\to Linealmente \\ Independientes $"
      ]
     },
     "metadata": {},
     "output_type": "display_data"
    }
   ],
   "source": [
    "# p78e5\n",
    "\n",
    "datos=[\n",
    "    [[4,1,-5], [2,3,-8],[1,6,2]],\n",
    "    [[4,1,-5], [2,3,-8],[10,0,-7]],\n",
    "    [[2,0,9], [3,-1,2],[5,-1,4]],\n",
    "    [[3,-2,5], [-3,5,2],[1,1,6]],\n",
    "    [[1,-2,-3], [-2,4,4],[-6,3,0]],\n",
    "    \n",
    "]\n",
    "for d in datos:   \n",
    "    u, v, w = [Point(i) for i  in d]\n",
    "    ld = True if Matrix([u,v,w]).det()==0 else False\n",
    "    sol_latex=r\"${} \\to  {}={} \\to {} $\".format(latex(Matrix([u,v,w])),\n",
    "                                         latex(Matrix([u,v,w])).replace(r\"[\",r\"|\").replace(r\"]\",r\"|\"),\n",
    "                                         latex(Matrix([u,v,w]).det()),\n",
    "                                         R\"Linealmente \\ Dependientes\" if ld == True else \"Linealmente \\ Independientes\"\n",
    "                                              )\n",
    "    display_latex(sol_latex,raw=True)\n"
   ]
  },
  {
   "cell_type": "code",
   "execution_count": 3,
   "id": "7e7bd269",
   "metadata": {},
   "outputs": [
    {
     "data": {
      "text/latex": [
       "$A=\\left[\\begin{matrix}4 & 1 & -5\\\\2 & 3 & -8\\\\10 & 0 & -7\\\\1 & 6 & 2\\end{matrix}\\right] \\to  ran(A)=3$"
      ]
     },
     "metadata": {},
     "output_type": "display_data"
    },
    {
     "data": {
      "text/latex": [
       "$A=\\left[\\begin{matrix}1 & 4 & 7\\\\2 & 5 & 8\\\\3 & 6 & 9\\\\1 & 3 & 5\\end{matrix}\\right] \\to  ran(A)=2$"
      ]
     },
     "metadata": {},
     "output_type": "display_data"
    }
   ],
   "source": [
    "# p78e5\n",
    "\n",
    "datos=[\n",
    "    [[4,1,-5], [2,3,-8],[10,0,-7],[1,6,2]],\n",
    "    [[1,4,7], [2,5,8],[3,6,9],[1,3,5]],\n",
    "    \n",
    "]\n",
    "for d in datos:   \n",
    "    \n",
    "    A = Matrix([Point(i) for i  in d])\n",
    "    ld = True if Matrix([u,v,w]).det()==0 else False\n",
    "    sol_latex=r\"$A={} \\to  ran(A)={}$\".format(latex(A),\n",
    "                                         latex(A.rank()),\n",
    "                                              )\n",
    "    display_latex(sol_latex,raw=True)\n"
   ]
  },
  {
   "cell_type": "code",
   "execution_count": 18,
   "id": "624c05d2",
   "metadata": {},
   "outputs": [
    {
     "data": {
      "text/latex": [
       "$\\left[\\begin{matrix}0 & 1 & 1\\\\1 & 0 & 1\\\\1 & 1 & 0\\end{matrix}\\right] \\to  \\left|\\begin{matrix}0 & 1 & 1\\\\1 & 0 & 1\\\\1 & 1 & 0\\end{matrix}\\right|=2 $"
      ]
     },
     "metadata": {},
     "output_type": "display_data"
    },
    {
     "data": {
      "text/latex": [
       "$\\left[\\begin{matrix}0 & 1 & 1\\\\1 & 0 & 1\\\\1 & 1 & 0\\end{matrix}\\right]\\cdot\\left[\\begin{matrix}a\\\\b\\\\c\\end{matrix}\\right]=\\left[\\begin{matrix}1\\\\2\\\\3\\end{matrix}\\right] \\to \\left[\\begin{matrix}a\\\\b\\\\c\\end{matrix}\\right]=\\left[\\begin{matrix}2\\\\1\\\\0\\end{matrix}\\right] $"
      ]
     },
     "metadata": {},
     "output_type": "display_data"
    }
   ],
   "source": [
    "# p79e7\n",
    "\n",
    "u, v, w , a= [Point(0,1,1),Point(1,0,1), Point(1,1,0), Point(1,2,3)]\n",
    "\n",
    "\n",
    "sol_latex=r\"${} \\to  {}={} $\".format(latex(Matrix([u,v,w])),\n",
    "                                     latex(Matrix([u,v,w])).replace(r\"[\",r\"|\").replace(r\"]\",r\"|\"),\n",
    "                                     latex(Matrix([u,v,w]).det()),\n",
    "                                    )                                          \n",
    "display_latex(sol_latex,raw=True)\n",
    "\n",
    "\n",
    "sol_latex=r\"${}\\cdot{}={} \\to {}={} $\".format(latex(Matrix([u,v,w]).T),\n",
    "                                     latex(Matrix(3,1,['a','b','c'])),\n",
    "                                    latex(Matrix(3,1,a)),\n",
    "                                              latex(Matrix(3,1,['a','b','c'])),\n",
    "                                              latex(Matrix([u,v,w]).T.inv()*Matrix(3,1,a))\n",
    "                                    )                                          \n",
    "display_latex(sol_latex,raw=True)\n",
    " \n"
   ]
  },
  {
   "cell_type": "code",
   "execution_count": 19,
   "id": "66760efc",
   "metadata": {},
   "outputs": [
    {
     "data": {
      "text/latex": [
       "$\\left[\\begin{matrix}-1 & 1 & 1\\\\1 & -1 & 1\\\\1 & 1 & -1\\end{matrix}\\right] \\to  \\left|\\begin{matrix}-1 & 1 & 1\\\\1 & -1 & 1\\\\1 & 1 & -1\\end{matrix}\\right|=4 $"
      ]
     },
     "metadata": {},
     "output_type": "display_data"
    },
    {
     "data": {
      "text/latex": [
       "$\\left[\\begin{matrix}-1 & 1 & 1\\\\1 & -1 & 1\\\\1 & 1 & -1\\end{matrix}\\right]\\cdot\\left[\\begin{matrix}a\\\\b\\\\c\\end{matrix}\\right]=\\left[\\begin{matrix}2\\\\4\\\\2\\end{matrix}\\right] \\to \\left[\\begin{matrix}a\\\\b\\\\c\\end{matrix}\\right]=\\left[\\begin{matrix}3\\\\2\\\\3\\end{matrix}\\right] $"
      ]
     },
     "metadata": {},
     "output_type": "display_data"
    }
   ],
   "source": [
    "# p79e8\n",
    "\n",
    "u, v, w , a= [Point(-1,1,1),Point(1,-1,1), Point(1,1,-1), Point(2,4,2)]\n",
    "\n",
    "\n",
    "sol_latex=r\"${} \\to  {}={} $\".format(latex(Matrix([u,v,w])),\n",
    "                                     latex(Matrix([u,v,w])).replace(r\"[\",r\"|\").replace(r\"]\",r\"|\"),\n",
    "                                     latex(Matrix([u,v,w]).det()),\n",
    "                                    )                                          \n",
    "display_latex(sol_latex,raw=True)\n",
    "\n",
    "\n",
    "sol_latex=r\"${}\\cdot{}={} \\to {}={} $\".format(latex(Matrix([u,v,w]).T),\n",
    "                                     latex(Matrix(3,1,['a','b','c'])),\n",
    "                                    latex(Matrix(3,1,a)),\n",
    "                                              latex(Matrix(3,1,['a','b','c'])),\n",
    "                                              latex(Matrix([u,v,w]).T.inv()*Matrix(3,1,a))\n",
    "                                    )                                          \n",
    "display_latex(sol_latex,raw=True)\n",
    " "
   ]
  },
  {
   "cell_type": "code",
   "execution_count": 58,
   "id": "d83897a8",
   "metadata": {},
   "outputs": [
    {
     "data": {
      "text/latex": [
       "$\\left[\\begin{matrix}-2 & a & a\\\\a & -2 & a\\\\a & 1 & -2\\end{matrix}\\right] \\to  \\left|\\begin{matrix}-2 & a & a\\\\a & -2 & a\\\\a & 1 & -2\\end{matrix}\\right|=\\left(a - 1\\right) \\left(a + 2\\right) \\left(a + 4\\right) $"
      ]
     },
     "metadata": {},
     "output_type": "display_data"
    },
    {
     "data": {
      "image/png": "[encoded data removed]",
      "text/latex": [
       "$\\displaystyle -4$"
      ],
      "text/plain": [
       "-4"
      ]
     },
     "metadata": {},
     "output_type": "display_data"
    },
    {
     "data": {
      "text/latex": [
       "$\\left[\\begin{matrix}-2 & -4 & -4\\\\-4 & -2 & -4\\\\-4 & 1 & -2\\end{matrix}\\right]\\to\\mathtt{\\text{ran(A)=}}2$"
      ]
     },
     "metadata": {},
     "output_type": "display_data"
    },
    {
     "data": {
      "image/png": "[encoded data removed]",
      "text/latex": [
       "$\\displaystyle -2$"
      ],
      "text/plain": [
       "-2"
      ]
     },
     "metadata": {},
     "output_type": "display_data"
    },
    {
     "data": {
      "text/latex": [
       "$\\left[\\begin{matrix}-2 & -2 & -2\\\\-2 & -2 & -2\\\\-2 & 1 & -2\\end{matrix}\\right]\\to\\mathtt{\\text{ran(A)=}}2$"
      ]
     },
     "metadata": {},
     "output_type": "display_data"
    },
    {
     "data": {
      "image/png": "[encoded data removed]",
      "text/latex": [
       "$\\displaystyle 1$"
      ],
      "text/plain": [
       "1"
      ]
     },
     "metadata": {},
     "output_type": "display_data"
    },
    {
     "data": {
      "text/latex": [
       "$\\left[\\begin{matrix}-2 & 1 & 1\\\\1 & -2 & 1\\\\1 & 1 & -2\\end{matrix}\\right]\\to\\mathtt{\\text{ran(A)=}}2$"
      ]
     },
     "metadata": {},
     "output_type": "display_data"
    }
   ],
   "source": [
    "# p79e9\n",
    "\n",
    "a = symbols('a')\n",
    "\n",
    "u, v, w= [Point(-2,a,a),Point(a,-2,a), Point(a,1,-2)]\n",
    "\n",
    "\n",
    "sol_latex=r\"${} \\to  {}={} $\".format(latex(Matrix([u,v,w])),\n",
    "                                     latex(Matrix([u,v,w])).replace(r\"[\",r\"|\").replace(r\"]\",r\"|\"),\n",
    "                                     latex(factor(Matrix([u,v,w]).det())),\n",
    "                                    )                                          \n",
    "display_latex(sol_latex,raw=True)\n",
    "\n",
    "# for v in solve(factor(Matrix([u,v,w]).det()),a):\n",
    "#     display(v)\n",
    "#     display_latex(latex(Matrix([u,v,w])).subs(a,v),raw=True)\n",
    "    \n",
    "for i in solve(factor(Matrix([u,v,w]).det()),a) :\n",
    "        display(i)\n",
    "        display_latex(\"$\"+latex(Matrix([u,v,w]).subs(a,i))+\n",
    "                      r\"\\to\"+latex(\"ran(A)=\")+\n",
    "                      latex(Matrix([u,v,w]).subs(a,i).rank())+\n",
    "                      \"$\",raw=True)"
   ]
  },
  {
   "cell_type": "code",
   "execution_count": 59,
   "id": "9afb23aa",
   "metadata": {},
   "outputs": [
    {
     "data": {
      "image/png": "[encoded data removed]",
      "text/latex": [
       "$\\displaystyle \\left( \\operatorname{Point3D}\\left(-6, 4, -2\\right), \\  \\operatorname{Point3D}\\left(-3, 8, 3\\right)\\right)$"
      ],
      "text/plain": [
       "(Point3D(-6, 4, -2), Point3D(-3, 8, 3))"
      ]
     },
     "execution_count": 59,
     "metadata": {},
     "output_type": "execute_result"
    }
   ],
   "source": [
    "# p79e10\n",
    "\n",
    "A, B, C=[Point(7,2,-1),Point(1,6,-3),Point(3,4,5)]\n",
    "\n",
    "B-A, C+B-A"
   ]
  },
  {
   "cell_type": "code",
   "execution_count": 60,
   "id": "d6354542",
   "metadata": {},
   "outputs": [
    {
     "data": {
      "text/latex": [
       "$\\left[\\begin{matrix}a & 3 & 1\\\\1 & 1 & a\\\\1 & 1 & 1\\end{matrix}\\right] \\to  \\left|\\begin{matrix}a & 3 & 1\\\\1 & 1 & a\\\\1 & 1 & 1\\end{matrix}\\right|=- \\left(a - 3\\right) \\left(a - 1\\right) $"
      ]
     },
     "metadata": {},
     "output_type": "display_data"
    }
   ],
   "source": [
    "# p79e11\n",
    "\n",
    "a = symbols('a')\n",
    "\n",
    "u, v, w= [Point(a,3,1),Point(1,1,a), Point(1,1,1)]\n",
    "\n",
    "\n",
    "sol_latex=r\"${} \\to  {}={} $\".format(latex(Matrix([u,v,w])),\n",
    "                                     latex(Matrix([u,v,w])).replace(r\"[\",r\"|\").replace(r\"]\",r\"|\"),\n",
    "                                     latex(factor(Matrix([u,v,w]).det())),\n",
    "                                    )                                          \n",
    "display_latex(sol_latex,raw=True)\n",
    "\n",
    "\n",
    "    \n"
   ]
  },
  {
   "cell_type": "code",
   "execution_count": 4,
   "id": "bc28078b",
   "metadata": {},
   "outputs": [
    {
     "data": {
      "text/latex": [
       "$\\left[\\begin{matrix}1 & 2 & 1\\\\2 & 1 & 0\\\\0 & 1 & 3\\end{matrix}\\right] \\to  \\left|\\begin{matrix}1 & 2 & 1\\\\2 & 1 & 0\\\\0 & 1 & 3\\end{matrix}\\right|=-7 $"
      ]
     },
     "metadata": {},
     "output_type": "display_data"
    },
    {
     "data": {
      "text/latex": [
       "$\\left[\\begin{matrix}1 & 2 & 0\\\\2 & 1 & 1\\\\1 & 0 & 3\\end{matrix}\\right]\\cdot\\left[\\begin{matrix}a\\\\b\\\\c\\end{matrix}\\right]=\\left[\\begin{matrix}-3\\\\3\\\\10\\end{matrix}\\right] \\to \\left[\\begin{matrix}a\\\\b\\\\c\\end{matrix}\\right]=\\left[\\begin{matrix}1\\\\-2\\\\3\\end{matrix}\\right] $"
      ]
     },
     "metadata": {},
     "output_type": "display_data"
    }
   ],
   "source": [
    "# p79e12\n",
    "\n",
    "u, v, w , a= [Point(1,2,1),Point(2,1,0), Point(0,1,3), Point(-3,3,10)]\n",
    "\n",
    "\n",
    "sol_latex=r\"${} \\to  {}={} $\".format(latex(Matrix([u,v,w])),\n",
    "                                     latex(Matrix([u,v,w])).replace(r\"[\",r\"|\").replace(r\"]\",r\"|\"),\n",
    "                                     latex(Matrix([u,v,w]).det()),\n",
    "                                    )                                          \n",
    "display_latex(sol_latex,raw=True)\n",
    "\n",
    "\n",
    "sol_latex=r\"${}\\cdot{}={} \\to {}={} $\".format(latex(Matrix([u,v,w]).T),\n",
    "                                     latex(Matrix(3,1,['a','b','c'])),\n",
    "                                    latex(Matrix(3,1,a)),\n",
    "                                              latex(Matrix(3,1,['a','b','c'])),\n",
    "                                              latex(Matrix([u,v,w]).T.inv()*Matrix(3,1,a))\n",
    "                                    )                                          \n",
    "display_latex(sol_latex,raw=True)"
   ]
  },
  {
   "cell_type": "code",
   "execution_count": 9,
   "id": "59269932",
   "metadata": {},
   "outputs": [
    {
     "data": {
      "image/png": "[encoded data removed]",
      "text/latex": [
       "$\\displaystyle \\left( \\operatorname{Point3D}\\left(9, -6, -12\\right), \\  \\operatorname{Point3D}\\left(0, 4, 6\\right), \\  \\operatorname{Point3D}\\left(3, 2, 2\\right)\\right)$"
      ],
      "text/plain": [
       "(Point3D(9, -6, -12), Point3D(0, 4, 6), Point3D(3, 2, 2))"
      ]
     },
     "execution_count": 9,
     "metadata": {},
     "output_type": "execute_result"
    }
   ],
   "source": [
    "# p79e13\n",
    "A, B =[[-3,6,10],[6,0,-2]]\n",
    "AB=Point(B)-Point(A)\n",
    "AB, Point(A)+AB/3, Point(A)+2*AB/3"
   ]
  },
  {
   "cell_type": "code",
   "execution_count": 11,
   "id": "cd741057",
   "metadata": {},
   "outputs": [
    {
     "data": {
      "text/latex": [
       "$\\left[\\begin{matrix}a & a & 1\\\\2 & a & 2\\\\0 & 0 & a\\end{matrix}\\right] \\to  \\left|\\begin{matrix}a & a & 1\\\\2 & a & 2\\\\0 & 0 & a\\end{matrix}\\right|=a^{2} \\left(a - 2\\right) $"
      ]
     },
     "metadata": {},
     "output_type": "display_data"
    }
   ],
   "source": [
    "# p79e14\n",
    "\n",
    "a = symbols('a')\n",
    "\n",
    "u, v, w= [Point(a,a,1),Point(2,a,2), Point(0,0,a)]\n",
    "\n",
    "\n",
    "sol_latex=r\"${} \\to  {}={} $\".format(latex(Matrix([u,v,w])),\n",
    "                                     latex(Matrix([u,v,w])).replace(r\"[\",r\"|\").replace(r\"]\",r\"|\"),\n",
    "                                     latex(factor(Matrix([u,v,w]).det())),\n",
    "                                    )                                          \n",
    "display_latex(sol_latex,raw=True)"
   ]
  },
  {
   "cell_type": "code",
   "execution_count": 21,
   "id": "87872cdf",
   "metadata": {},
   "outputs": [
    {
     "data": {
      "image/png": "[encoded data removed]",
      "text/latex": [
       "$\\displaystyle \\left( \\operatorname{Point3D}\\left(-5, -1, -3\\right), \\  \\operatorname{Point3D}\\left(-4, 2, 2\\right), \\  \\operatorname{Point3D}\\left(-4, -3, -4\\right), \\  \\operatorname{Point3D}\\left(-1, \\frac{3}{2}, 3\\right)\\right)$"
      ],
      "text/plain": [
       "(Point3D(-5, -1, -3), Point3D(-4, 2, 2), Point3D(-4, -3, -4), Point3D(-1, 3/2,\n",
       " 3))"
      ]
     },
     "execution_count": 21,
     "metadata": {},
     "output_type": "execute_result"
    }
   ],
   "source": [
    "# p79e15\n",
    "A, B, C =[[1,3,5],[2,1,4],[-3,0,1]]\n",
    "BC=Point(C)-Point(B)\n",
    "D=Point(A)+BC\n",
    "AC=Point(C)-Point(A)\n",
    "\n",
    "BC, D ,AC, Point(A)+AC/2"
   ]
  },
  {
   "cell_type": "markdown",
   "id": "51141320",
   "metadata": {},
   "source": [
    "# Ejercicios de EVAU\n"
   ]
  },
  {
   "cell_type": "code",
   "execution_count": 43,
   "id": "87d845b7",
   "metadata": {},
   "outputs": [
    {
     "data": {
      "text/latex": [
       "$\\left[\\begin{matrix}-3 & 0 & -1\\\\-1 & 0 & 2\\\\-1 & y - 1 & -1\\end{matrix}\\right] \\to  \\left|\\begin{matrix}-3 & 0 & -1\\\\-1 & 0 & 2\\\\-1 & y - 1 & -1\\end{matrix}\\right|=7 y - 7 $"
      ]
     },
     "metadata": {},
     "output_type": "display_data"
    }
   ],
   "source": [
    "# Julio 22\n",
    "\n",
    "A,B,C, D =[[1,1,1],[-2,1,0],[0,1,3],[0,y,0]]\n",
    "\n",
    "A=Matrix([Point(B)-Point(A),Point(C)-Point(A),Point(D)-Point(A)])\n",
    "\n",
    "sol_latex=r\"${} \\to  {}={} $\".format(latex(A),\n",
    "                                     latex(A).replace(r\"[\",r\"|\").replace(r\"]\",r\"|\"),\n",
    "                                     latex(A.det()))\n",
    "\n",
    "display_latex(sol_latex,raw=True)"
   ]
  },
  {
   "cell_type": "code",
   "execution_count": 6,
   "id": "1432d0d6",
   "metadata": {},
   "outputs": [
    {
     "data": {
      "text/latex": [
       "$\\left[\\begin{matrix}3 & 1 & 1\\\\6 & -2 & 1\\\\-1 & 2 & 0\\end{matrix}\\right] \\to  \\left|\\begin{matrix}3 & 1 & 1\\\\6 & -2 & 1\\\\-1 & 2 & 0\\end{matrix}\\right|=3 $"
      ]
     },
     "metadata": {},
     "output_type": "display_data"
    },
    {
     "data": {
      "text/latex": [
       "$\\left[\\begin{matrix}3 & 1 & 1\\\\6 & -2 & 1\\\\2 & k & 2 k\\end{matrix}\\right] \\to  \\left|\\begin{matrix}3 & 1 & 1\\\\6 & -2 & 1\\\\2 & k & 2 k\\end{matrix}\\right|=6 - 21 k $"
      ]
     },
     "metadata": {},
     "output_type": "display_data"
    }
   ],
   "source": [
    "# Junio 22\n",
    "\n",
    "u,v,P,Q =[Point([3,1,1]),Point([6,-2,1]),Point([0,-2,0]),Point([-1,0,0])]\n",
    "\n",
    "A=Matrix([u,v,Q-P])\n",
    "\n",
    "sol_latex=r\"${} \\to  {}={} $\".format(latex(A),\n",
    "                                     latex(A).replace(r\"[\",r\"|\").replace(r\"]\",r\"|\"),\n",
    "                                     latex(A.det()))\n",
    "\n",
    "display_latex(sol_latex,raw=True)\n",
    "\n",
    "A=Matrix([u,v,Point(2,k,2*k)])\n",
    "\n",
    "sol_latex=r\"${} \\to  {}={} $\".format(latex(A),\n",
    "                                     latex(A).replace(r\"[\",r\"|\").replace(r\"]\",r\"|\"),\n",
    "                                     latex(A.det()))\n",
    "\n",
    "display_latex(sol_latex,raw=True)"
   ]
  },
  {
   "cell_type": "code",
   "execution_count": 9,
   "id": "7dfdf772",
   "metadata": {},
   "outputs": [
    {
     "data": {
      "image/png": "[encoded data removed]",
      "text/latex": [
       "$\\displaystyle 3 - 3 a$"
      ],
      "text/plain": [
       "3 - 3⋅a"
      ]
     },
     "execution_count": 9,
     "metadata": {},
     "output_type": "execute_result"
    }
   ],
   "source": [
    "# Junio 22.2a\n",
    "\n",
    "a = symbols('a')\n",
    "\n",
    "u,v = [Point([a,-2,3]),Point([-1,a,1])]\n",
    "u.dot(v)"
   ]
  },
  {
   "cell_type": "code",
   "execution_count": 10,
   "id": "22ad20a5",
   "metadata": {},
   "outputs": [
    {
     "data": {
      "text/latex": [
       "$\\left[\\begin{matrix}1 & 0 & -2\\\\3 & 1 & 0\\\\4 & 1 & -2\\end{matrix}\\right] \\to  \\left|\\begin{matrix}1 & 0 & -2\\\\3 & 1 & 0\\\\4 & 1 & -2\\end{matrix}\\right|=0 $"
      ]
     },
     "metadata": {},
     "output_type": "display_data"
    }
   ],
   "source": [
    "# Junio 22.2b\n",
    "\n",
    "u,v = [Point([1,0,-2]),Point([3,1,0])]\n",
    "\n",
    "A=Matrix([u,v,u+v])\n",
    "\n",
    "sol_latex=r\"${} \\to  {}={} $\".format(latex(A),\n",
    "                                     latex(A).replace(r\"[\",r\"|\").replace(r\"]\",r\"|\"),\n",
    "                                     latex(A.det()))\n",
    "\n",
    "display_latex(sol_latex,raw=True)\n",
    "\n"
   ]
  },
  {
   "cell_type": "code",
   "execution_count": 18,
   "id": "bdd553bb",
   "metadata": {},
   "outputs": [
    {
     "data": {
      "text/plain": [
       "(Point3D(2, 1, -1),\n",
       " Point3D(1, -1, 0),\n",
       " array([-1, -1, -3], dtype=object),\n",
       " (-x + y + 3, -3*x + z + 3))"
      ]
     },
     "execution_count": 18,
     "metadata": {},
     "output_type": "execute_result"
    }
   ],
   "source": [
    "# Julio 21\n",
    "import numpy as np\n",
    "\n",
    "A, B, C, D =[Point([1,0,1]),Point([3,1,0]),Point(2,-1,1), Point([1,-2,0])]\n",
    "B-A, C-A,np.cross(B-A, C-A), Line3D(D,direction_ratio=np.cross(B-A, C-A)).equation()"
   ]
  },
  {
   "cell_type": "code",
   "execution_count": 39,
   "id": "a7abbea5",
   "metadata": {},
   "outputs": [
    {
     "data": {
      "image/png": "[encoded data removed]",
      "text/latex": [
       "$\\displaystyle \\left( \\left( - 3 x + 2 y - 2, \\  x + 2 z - 2\\right), \\  \\left( - 3 x + 2 y - 2, \\  x + 2 z - 2\\right)\\right)$"
      ],
      "text/plain": [
       "((-3⋅x + 2⋅y - 2, x + 2⋅z - 2), (-3⋅x + 2⋅y - 2, x + 2⋅z - 2))"
      ]
     },
     "execution_count": 39,
     "metadata": {},
     "output_type": "execute_result"
    }
   ],
   "source": [
    "# Junio 21\n",
    "\n",
    "from sympy import Plane\n",
    "import numpy as np\n",
    "\n",
    "A, B, C, D = [Point([0,1,1]),Point([-1,0,2]),Point([1,3,1]),Point([2,-1,0])]\n",
    "p2=Plane(Point(1,0,0),normal_vector=(1,0,2))\n",
    "\n",
    "Plane(B,C,D).equation(), Plane(B,C,D).normal_vector, C-B, D-B, np.cross(C-B, D-B),np.cross((1,0,2),np.cross(C-B, D-B))\n",
    "Line(A, direction_ratio=np.cross(p2.normal_vector,np.cross(C-B, D-B))).equation(), Line(A, direction_ratio=p2.intersection(Plane(B,C,D))[0].direction).equation()\n"
   ]
  },
  {
   "cell_type": "code",
   "execution_count": 7,
   "id": "0199e8df",
   "metadata": {},
   "outputs": [
    {
     "ename": "NameError",
     "evalue": "name 'Point' is not defined",
     "output_type": "error",
     "traceback": [
      "\u001b[0;31m---------------------------------------------------------------------------\u001b[0m",
      "\u001b[0;31mNameError\u001b[0m                                 Traceback (most recent call last)",
      "\u001b[0;32m/tmp/ipykernel_21130/1680829624.py\u001b[0m in \u001b[0;36m<module>\u001b[0;34m\u001b[0m\n\u001b[1;32m      1\u001b[0m \u001b[0;32mimport\u001b[0m \u001b[0mnumpy\u001b[0m \u001b[0;32mas\u001b[0m \u001b[0mnp\u001b[0m\u001b[0;34m\u001b[0m\u001b[0;34m\u001b[0m\u001b[0m\n\u001b[0;32m----> 2\u001b[0;31m \u001b[0mu\u001b[0m\u001b[0;34m,\u001b[0m \u001b[0mv\u001b[0m\u001b[0;34m,\u001b[0m \u001b[0mw\u001b[0m \u001b[0;34m=\u001b[0m \u001b[0;34m[\u001b[0m\u001b[0mPoint\u001b[0m\u001b[0;34m(\u001b[0m\u001b[0mi\u001b[0m\u001b[0;34m)\u001b[0m \u001b[0;32mfor\u001b[0m \u001b[0mi\u001b[0m  \u001b[0;32min\u001b[0m \u001b[0;34m[\u001b[0m\u001b[0;34m[\u001b[0m\u001b[0;36m4\u001b[0m\u001b[0;34m,\u001b[0m\u001b[0;36m1\u001b[0m\u001b[0;34m,\u001b[0m\u001b[0;34m-\u001b[0m\u001b[0;36m5\u001b[0m\u001b[0;34m]\u001b[0m\u001b[0;34m,\u001b[0m \u001b[0;34m[\u001b[0m\u001b[0;36m2\u001b[0m\u001b[0;34m,\u001b[0m\u001b[0;36m3\u001b[0m\u001b[0;34m,\u001b[0m\u001b[0;34m-\u001b[0m\u001b[0;36m8\u001b[0m\u001b[0;34m]\u001b[0m\u001b[0;34m,\u001b[0m\u001b[0;34m[\u001b[0m\u001b[0;36m10\u001b[0m\u001b[0;34m,\u001b[0m\u001b[0;36m0\u001b[0m\u001b[0;34m,\u001b[0m\u001b[0;34m-\u001b[0m\u001b[0;36m7\u001b[0m\u001b[0;34m]\u001b[0m\u001b[0;34m]\u001b[0m\u001b[0;34m]\u001b[0m\u001b[0;34m\u001b[0m\u001b[0;34m\u001b[0m\u001b[0m\n\u001b[0m\u001b[1;32m      3\u001b[0m \u001b[0;34m\u001b[0m\u001b[0m\n\u001b[1;32m      4\u001b[0m \u001b[0mlatex\u001b[0m\u001b[0;34m(\u001b[0m\u001b[0mMatrix\u001b[0m\u001b[0;34m(\u001b[0m\u001b[0;34m[\u001b[0m\u001b[0mu\u001b[0m\u001b[0;34m,\u001b[0m\u001b[0mv\u001b[0m\u001b[0;34m,\u001b[0m\u001b[0mw\u001b[0m\u001b[0;34m]\u001b[0m\u001b[0;34m)\u001b[0m\u001b[0;34m)\u001b[0m\u001b[0;34m\u001b[0m\u001b[0;34m\u001b[0m\u001b[0m\n\u001b[1;32m      5\u001b[0m \u001b[0mdisplay_latex\u001b[0m\u001b[0;34m(\u001b[0m\u001b[0mlatex\u001b[0m\u001b[0;34m(\u001b[0m\u001b[0mMatrix\u001b[0m\u001b[0;34m(\u001b[0m\u001b[0;34m[\u001b[0m\u001b[0mu\u001b[0m\u001b[0;34m,\u001b[0m\u001b[0mv\u001b[0m\u001b[0;34m,\u001b[0m\u001b[0mw\u001b[0m\u001b[0;34m]\u001b[0m\u001b[0;34m)\u001b[0m\u001b[0;34m)\u001b[0m\u001b[0;34m,\u001b[0m \u001b[0mraw\u001b[0m\u001b[0;34m=\u001b[0m\u001b[0;32mTrue\u001b[0m\u001b[0;34m)\u001b[0m\u001b[0;34m,\u001b[0m \u001b[0mnp\u001b[0m\u001b[0;34m.\u001b[0m\u001b[0mcross\u001b[0m\u001b[0;34m(\u001b[0m\u001b[0mC\u001b[0m\u001b[0;34m-\u001b[0m\u001b[0mB\u001b[0m\u001b[0;34m,\u001b[0m \u001b[0mD\u001b[0m\u001b[0;34m-\u001b[0m\u001b[0mB\u001b[0m\u001b[0;34m)\u001b[0m\u001b[0;34m\u001b[0m\u001b[0;34m\u001b[0m\u001b[0m\n",
      "\u001b[0;32m/tmp/ipykernel_21130/1680829624.py\u001b[0m in \u001b[0;36m<listcomp>\u001b[0;34m(.0)\u001b[0m\n\u001b[1;32m      1\u001b[0m \u001b[0;32mimport\u001b[0m \u001b[0mnumpy\u001b[0m \u001b[0;32mas\u001b[0m \u001b[0mnp\u001b[0m\u001b[0;34m\u001b[0m\u001b[0;34m\u001b[0m\u001b[0m\n\u001b[0;32m----> 2\u001b[0;31m \u001b[0mu\u001b[0m\u001b[0;34m,\u001b[0m \u001b[0mv\u001b[0m\u001b[0;34m,\u001b[0m \u001b[0mw\u001b[0m \u001b[0;34m=\u001b[0m \u001b[0;34m[\u001b[0m\u001b[0mPoint\u001b[0m\u001b[0;34m(\u001b[0m\u001b[0mi\u001b[0m\u001b[0;34m)\u001b[0m \u001b[0;32mfor\u001b[0m \u001b[0mi\u001b[0m  \u001b[0;32min\u001b[0m \u001b[0;34m[\u001b[0m\u001b[0;34m[\u001b[0m\u001b[0;36m4\u001b[0m\u001b[0;34m,\u001b[0m\u001b[0;36m1\u001b[0m\u001b[0;34m,\u001b[0m\u001b[0;34m-\u001b[0m\u001b[0;36m5\u001b[0m\u001b[0;34m]\u001b[0m\u001b[0;34m,\u001b[0m \u001b[0;34m[\u001b[0m\u001b[0;36m2\u001b[0m\u001b[0;34m,\u001b[0m\u001b[0;36m3\u001b[0m\u001b[0;34m,\u001b[0m\u001b[0;34m-\u001b[0m\u001b[0;36m8\u001b[0m\u001b[0;34m]\u001b[0m\u001b[0;34m,\u001b[0m\u001b[0;34m[\u001b[0m\u001b[0;36m10\u001b[0m\u001b[0;34m,\u001b[0m\u001b[0;36m0\u001b[0m\u001b[0;34m,\u001b[0m\u001b[0;34m-\u001b[0m\u001b[0;36m7\u001b[0m\u001b[0;34m]\u001b[0m\u001b[0;34m]\u001b[0m\u001b[0;34m]\u001b[0m\u001b[0;34m\u001b[0m\u001b[0;34m\u001b[0m\u001b[0m\n\u001b[0m\u001b[1;32m      3\u001b[0m \u001b[0;34m\u001b[0m\u001b[0m\n\u001b[1;32m      4\u001b[0m \u001b[0mlatex\u001b[0m\u001b[0;34m(\u001b[0m\u001b[0mMatrix\u001b[0m\u001b[0;34m(\u001b[0m\u001b[0;34m[\u001b[0m\u001b[0mu\u001b[0m\u001b[0;34m,\u001b[0m\u001b[0mv\u001b[0m\u001b[0;34m,\u001b[0m\u001b[0mw\u001b[0m\u001b[0;34m]\u001b[0m\u001b[0;34m)\u001b[0m\u001b[0;34m)\u001b[0m\u001b[0;34m\u001b[0m\u001b[0;34m\u001b[0m\u001b[0m\n\u001b[1;32m      5\u001b[0m \u001b[0mdisplay_latex\u001b[0m\u001b[0;34m(\u001b[0m\u001b[0mlatex\u001b[0m\u001b[0;34m(\u001b[0m\u001b[0mMatrix\u001b[0m\u001b[0;34m(\u001b[0m\u001b[0;34m[\u001b[0m\u001b[0mu\u001b[0m\u001b[0;34m,\u001b[0m\u001b[0mv\u001b[0m\u001b[0;34m,\u001b[0m\u001b[0mw\u001b[0m\u001b[0;34m]\u001b[0m\u001b[0;34m)\u001b[0m\u001b[0;34m)\u001b[0m\u001b[0;34m,\u001b[0m \u001b[0mraw\u001b[0m\u001b[0;34m=\u001b[0m\u001b[0;32mTrue\u001b[0m\u001b[0;34m)\u001b[0m\u001b[0;34m,\u001b[0m \u001b[0mnp\u001b[0m\u001b[0;34m.\u001b[0m\u001b[0mcross\u001b[0m\u001b[0;34m(\u001b[0m\u001b[0mC\u001b[0m\u001b[0;34m-\u001b[0m\u001b[0mB\u001b[0m\u001b[0;34m,\u001b[0m \u001b[0mD\u001b[0m\u001b[0;34m-\u001b[0m\u001b[0mB\u001b[0m\u001b[0;34m)\u001b[0m\u001b[0;34m\u001b[0m\u001b[0;34m\u001b[0m\u001b[0m\n",
      "\u001b[0;31mNameError\u001b[0m: name 'Point' is not defined"
     ]
    }
   ],
   "source": [
    "\n",
    "u, v, w = [Point(i) for i  in [[4,1,-5], [2,3,-8],[10,0,-7]]]\n",
    "\n",
    "latex(Matrix([u,v,w]))\n",
    "display_latex(latex(Matrix([u,v,w])), raw=True)"
   ]
  },
  {
   "cell_type": "code",
   "execution_count": 52,
   "id": "8fa45710",
   "metadata": {},
   "outputs": [],
   "source": [
    "display_latex?\n"
   ]
  }
 ],
 "metadata": {
  "kernelspec": {
   "display_name": "Python 3 (ipykernel)",
   "language": "python",
   "name": "python3"
  },
  "language_info": {
   "codemirror_mode": {
    "name": "ipython",
    "version": 3
   },
   "file_extension": ".py",
   "mimetype": "text/x-python",
   "name": "python",
   "nbconvert_exporter": "python",
   "pygments_lexer": "ipython3",
   "version": "3.9.13"
  }
 },
 "nbformat": 4,
 "nbformat_minor": 5
}
