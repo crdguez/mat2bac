{
 "cells": [
  {
   "cell_type": "code",
   "execution_count": 1,
   "metadata": {},
   "outputs": [
    {
     "name": "stdout",
     "output_type": "stream",
     "text": [
      "IPython console for SymPy 1.3 (Python 3.7.1-32-bit) (ground types: gmpy)\n",
      "\n",
      "These commands were executed:\n",
      ">>> from __future__ import division\n",
      ">>> from sympy import *\n",
      ">>> x, y, z, t = symbols('x y z t')\n",
      ">>> k, m, n = symbols('k m n', integer=True)\n",
      ">>> f, g, h = symbols('f g h', cls=Function)\n",
      ">>> init_printing()\n",
      "\n",
      "Documentation can be found at http://docs.sympy.org/1.3/\n",
      "\n"
     ]
    }
   ],
   "source": [
    "from sympy import init_session\n",
    "from sympy import div, QQ\n",
    "from sympy.parsing.latex import parse_latex\n",
    "from sympy.parsing.sympy_parser import parse_expr\n",
    "from IPython.display import Markdown as md\n",
    "from IPython.display import display\n",
    "import pandas as pd\n",
    "\n",
    "import numpy as np\n",
    "\n",
    "\n",
    "\n",
    "\n",
    "init_session()\n",
    "\n",
    "a, b, c, d = symbols('a b c d', real = True)\n",
    "from docparts import añadir_ejercicios, doc_ejer, escribir_preambulo, escribir_ejercicios, escribir_fin\n",
    "\n",
    "df_ejercicios = pd.DataFrame()\n",
    "\n",
    "fichero = 'integrdef'\n",
    "titulo = 'Integral definida'\n",
    "curso = '2BC'\n",
    "\n",
    "\n",
    "x,y = symbols('x, y', real=True)\n",
    "\n",
    "import matplotlib.pyplot as plt\n",
    "from matplotlib import style\n",
    "#style.use('ggplot')\n",
    "style.use('seaborn-whitegrid')\n",
    "\n",
    "\n",
    "%matplotlib inline\n"
   ]
  },
  {
   "cell_type": "code",
   "execution_count": 2,
   "metadata": {},
   "outputs": [
    {
     "data": {
      "image/png": "[encoded data removed]",
      "text/latex": [
       "$$\\int_{2}^{3} x^{2}\\, dx$$"
      ],
      "text/plain": [
       "3      \n",
       "⌠      \n",
       "⎮  2   \n",
       "⎮ x  dx\n",
       "⌡      \n",
       "2      "
      ]
     },
     "metadata": {},
     "output_type": "display_data"
    },
    {
     "data": {
      "image/png": "[encoded data removed]",
      "text/latex": [
       "$$\\frac{19}{3}$$"
      ],
      "text/plain": [
       "19/3"
      ]
     },
     "metadata": {},
     "output_type": "display_data"
    },
    {
     "data": {
      "image/png": "[encoded data removed]",
      "text/latex": [
       "$$\\frac{19}{3}$$"
      ],
      "text/plain": [
       "19/3"
      ]
     },
     "metadata": {},
     "output_type": "display_data"
    }
   ],
   "source": [
    "datos =[['x**3',-1,1]\n",
    "    \n",
    "]\n",
    "\n",
    "for j, t in enumerate(datos):\n",
    "    integ = Integral(S(t[0],evaluate=False),('x',t[1],t[2]))\n",
    "    display(integ)\n",
    "    display(integ.doit())\n",
    "    display(integrate(S(t[0],evaluate=False),('x',t[1],t[2])))\n",
    "    \n",
    "\n",
    "    "
   ]
  },
  {
   "cell_type": "code",
   "execution_count": 23,
   "metadata": {},
   "outputs": [
    {
     "data": {
      "image/png": "[encoded data removed]",
      "text/latex": [
       "$$-1$$"
      ],
      "text/plain": [
       "-1"
      ]
     },
     "metadata": {},
     "output_type": "display_data"
    },
    {
     "data": {
      "image/png": "[encoded data removed]",
      "text/latex": [
       "$$0$$"
      ],
      "text/plain": [
       "0"
      ]
     },
     "metadata": {},
     "output_type": "display_data"
    },
    {
     "data": {
      "image/png": "[encoded data removed]",
      "text/latex": [
       "$$\\int_{-1}^{0} x^{3}\\, dx$$"
      ],
      "text/plain": [
       "0       \n",
       "⌠       \n",
       "⎮   3   \n",
       "⎮  x  dx\n",
       "⌡       \n",
       "-1      "
      ]
     },
     "metadata": {},
     "output_type": "display_data"
    },
    {
     "data": {
      "image/png": "[encoded data removed]",
      "text/latex": [
       "$$- \\frac{1}{4}$$"
      ],
      "text/plain": [
       "-1/4"
      ]
     },
     "metadata": {},
     "output_type": "display_data"
    },
    {
     "data": {
      "image/png": "[encoded data removed]",
      "text/latex": [
       "$$0$$"
      ],
      "text/plain": [
       "0"
      ]
     },
     "metadata": {},
     "output_type": "display_data"
    },
    {
     "data": {
      "image/png": "[encoded data removed]",
      "text/latex": [
       "$$1$$"
      ],
      "text/plain": [
       "1"
      ]
     },
     "metadata": {},
     "output_type": "display_data"
    },
    {
     "data": {
      "image/png": "[encoded data removed]",
      "text/latex": [
       "$$\\int_{0}^{1} x^{3}\\, dx$$"
      ],
      "text/plain": [
       "1      \n",
       "⌠      \n",
       "⎮  3   \n",
       "⎮ x  dx\n",
       "⌡      \n",
       "0      "
      ]
     },
     "metadata": {},
     "output_type": "display_data"
    },
    {
     "data": {
      "image/png": "[encoded data removed]",
      "text/latex": [
       "$$\\frac{1}{4}$$"
      ],
      "text/plain": [
       "1/4"
      ]
     },
     "metadata": {},
     "output_type": "display_data"
    }
   ],
   "source": [
    "t = ['x**3',-1,1]\n",
    "\n",
    "inter = Interval(t[1],t[2])\n",
    "for h in (inter - solveset(t[0], domain=(inter) )).args :\n",
    "    display(h.args[0])\n",
    "    display(h.args[1])\n",
    "    display(Integral(S(t[0],evaluate=False),('x',h.args[0],h.args[1])))\n",
    "    display(Integral(S(t[0],evaluate=False),('x',h.args[0],h.args[1])).doit())\n",
    "#solveset?"
   ]
  },
  {
   "cell_type": "code",
   "execution_count": 3,
   "metadata": {},
   "outputs": [
    {
     "data": {
      "text/markdown": [
       "**Utiliza la regla de Barrow para calcular :\n",
       "**"
      ],
      "text/plain": [
       "<IPython.core.display.Markdown object>"
      ]
     },
     "metadata": {},
     "output_type": "display_data"
    },
    {
     "data": {
      "text/markdown": [
       "$\\int_{0}^{3} \\left(3 x^{2} - 6\\right)\\, dx$ $ \\rightarrow $$9 \\ (F(x)=x^{3} - 6 x)$"
      ],
      "text/plain": [
       "<IPython.core.display.Markdown object>"
      ]
     },
     "metadata": {},
     "output_type": "display_data"
    },
    {
     "data": {
      "text/markdown": [
       "$\\int_{1}^{2} \\frac{1}{x}\\, dx$ $ \\rightarrow $$\\log{\\left (2 \\right )} \\ (F(x)=\\log{\\left (x \\right )})$"
      ],
      "text/plain": [
       "<IPython.core.display.Markdown object>"
      ]
     },
     "metadata": {},
     "output_type": "display_data"
    },
    {
     "data": {
      "text/markdown": [
       "$\\int_{0}^{1} \\frac{5}{7 x^{2} + 7}\\, dx$ $ \\rightarrow $$\\frac{5 \\pi}{28} \\ (F(x)=\\frac{5 \\operatorname{atan}{\\left (x \\right )}}{7})$"
      ],
      "text/plain": [
       "<IPython.core.display.Markdown object>"
      ]
     },
     "metadata": {},
     "output_type": "display_data"
    },
    {
     "data": {
      "text/markdown": [
       "$\\int_{2}^{3} \\frac{1}{x \\log{\\left (x \\right )}}\\, dx$ $ \\rightarrow $$\\log{\\left (\\frac{\\log{\\left (3 \\right )}}{\\log{\\left (2 \\right )}} \\right )} \\ (F(x)=\\log{\\left (\\log{\\left (x \\right )} \\right )})$"
      ],
      "text/plain": [
       "<IPython.core.display.Markdown object>"
      ]
     },
     "metadata": {},
     "output_type": "display_data"
    },
    {
     "data": {
      "text/markdown": [
       "$\\int_{\\frac{\\pi}{2}}^{2 \\pi} \\sin^{5}{\\left (x \\right )} \\cos{\\left (x \\right )}\\, dx$ $ \\rightarrow $$- \\frac{1}{6} \\ (F(x)=\\frac{\\sin^{6}{\\left (x \\right )}}{6})$"
      ],
      "text/plain": [
       "<IPython.core.display.Markdown object>"
      ]
     },
     "metadata": {},
     "output_type": "display_data"
    },
    {
     "data": {
      "text/markdown": [
       "$\\int_{2}^{5} e^{x} x\\, dx$ $ \\rightarrow $$- e^{2} + 4 e^{5} \\ (F(x)=\\left(x - 1\\right) e^{x})$"
      ],
      "text/plain": [
       "<IPython.core.display.Markdown object>"
      ]
     },
     "metadata": {},
     "output_type": "display_data"
    }
   ],
   "source": [
    "puntuacion = '1'                          \n",
    "                      \n",
    "datos = [['3*x**2-6',0,3],['x**(-1)',1,2],['5/(7+7*x**2)',0,1],\n",
    "         ['1/(x*log(x))',2,3], ['cos(x)*sin(x)**5',pi/2,2*pi],['x*E**x',2,5]\n",
    "         ]\n",
    "        \n",
    "n_ejercicio = 'p43e03'\n",
    "enunciado_latex, enunciado, solucion = [],[],[]\n",
    "\n",
    "texto_ejercicio = r\"\"\"Utiliza la regla de Barrow para calcular :\n",
    "\"\"\"\n",
    "\n",
    "display(md(\"**\"+texto_ejercicio+\"**\"))\n",
    "\n",
    "for j, t in enumerate(datos):\n",
    "    integ = Integral(S(t[0],evaluate=False),('x',t[1],t[2]))\n",
    "    enunciado_latex.append(r\"$\"+latex(integ)+r\"$\")\n",
    "    enunciado.append(r'integrate('+str(S(t[0],evaluate=False))+r\",('x',\"+latex(t[1])+\",\"+latex(t[2])+r\"))\")\n",
    "    sol=r\"$\"+latex(simplify(integ.doit()))+r\" \\ (F(x)=\"+latex(integrate(S(t[0],evaluate=False)))+r\")$\"\n",
    "    solucion.append(sol)\n",
    "    display(md(enunciado_latex[j] +\" $ \\\\rightarrow $\" + solucion[j] ))\n",
    "\n",
    "\n",
    "df_ejercicios = df_ejercicios.append(añadir_ejercicios(enunciado_latex, enunciado, solucion, texto_ejercicio, curso, titulo , n_ejercicio, '5', '2', enun_tex=False, sol_tex=False), ignore_index=True)\n",
    "\n",
    "\n"
   ]
  },
  {
   "cell_type": "code",
   "execution_count": 4,
   "metadata": {},
   "outputs": [
    {
     "data": {
      "text/markdown": [
       "**Calcula:\n",
       "**"
      ],
      "text/plain": [
       "<IPython.core.display.Markdown object>"
      ]
     },
     "metadata": {},
     "output_type": "display_data"
    },
    {
     "data": {
      "text/markdown": [
       "el área del recinto limitado por la gráfica de la función \n",
       "$f(x) = -x^2 + 4$, el eje de abscisas y las rectas x=0\n",
       "y x=2 $ \\rightarrow $$\\int_{0}^{2} \\left(- x^{2} + 4\\right)\\, dx=$$\\frac{16}{3} \\ (F(x)=- \\frac{x^{3}}{3} + 4 x)$"
      ],
      "text/plain": [
       "<IPython.core.display.Markdown object>"
      ]
     },
     "metadata": {},
     "output_type": "display_data"
    }
   ],
   "source": [
    "puntuacion = '1'                          \n",
    "                      \n",
    "datos = [['-x**2+4',0,2,r\"\"\"el área del recinto limitado por la gráfica de la función \n",
    "$f(x) = -x^2 + 4$, el eje de abscisas y las rectas x=0\n",
    "y x=2\"\"\"],\n",
    "         ]\n",
    "        \n",
    "n_ejercicio = 'p43e06'\n",
    "\n",
    "enunciado_latex, enunciado, solucion = [],[],[]\n",
    "\n",
    "texto_ejercicio = r\"\"\"Calcula:\n",
    "\"\"\"\n",
    "\n",
    "display(md(\"**\"+texto_ejercicio+\"**\"))\n",
    "\n",
    "for j, t in enumerate(datos):\n",
    "    integ = Integral(S(t[0],evaluate=False),('x',t[1],t[2]))\n",
    "    enunciado_latex.append(t[3])\n",
    "    #enunciado_latex.append(r\"$\"+latex(integ)+r\"$\")\n",
    "    enunciado.append(r'integrate('+str(S(t[0],evaluate=False))+r\",('x',\"+latex(t[1])+\",\"+latex(t[2])+r\"))\")\n",
    "    sol=r\"$\"+latex(integ)+r\"=$\"+r\"$\"+latex(simplify(integ.doit()))+r\" \\ (F(x)=\"+latex(integrate(S(t[0],evaluate=False)))+r\")$\"\n",
    "    solucion.append(sol)\n",
    "    display(md(enunciado_latex[j] +\" $ \\\\rightarrow $\" + solucion[j] ))\n",
    "\n",
    "\n",
    "df_ejercicios = df_ejercicios.append(añadir_ejercicios(enunciado_latex, enunciado, solucion, texto_ejercicio, curso, titulo , n_ejercicio, '5', '2', enun_tex=False, sol_tex=False), ignore_index=True)\n",
    "\n",
    "\n"
   ]
  },
  {
   "cell_type": "code",
   "execution_count": 5,
   "metadata": {
    "scrolled": false
   },
   "outputs": [
    {
     "data": {
      "text/html": [
       "<div>\n",
       "<style scoped>\n",
       "    .dataframe tbody tr th:only-of-type {\n",
       "        vertical-align: middle;\n",
       "    }\n",
       "\n",
       "    .dataframe tbody tr th {\n",
       "        vertical-align: top;\n",
       "    }\n",
       "\n",
       "    .dataframe thead th {\n",
       "        text-align: right;\n",
       "    }\n",
       "</style>\n",
       "<table border=\"1\" class=\"dataframe\">\n",
       "  <thead>\n",
       "    <tr style=\"text-align: right;\">\n",
       "      <th></th>\n",
       "      <th>enunciado_latex</th>\n",
       "      <th>enunciado</th>\n",
       "      <th>solucion</th>\n",
       "      <th>texto</th>\n",
       "      <th>curso</th>\n",
       "      <th>titulo</th>\n",
       "      <th>n_ejercicio</th>\n",
       "      <th>dificultad</th>\n",
       "      <th>n_columnas</th>\n",
       "      <th>puntos</th>\n",
       "      <th>enun_tex</th>\n",
       "      <th>sol_tex</th>\n",
       "    </tr>\n",
       "  </thead>\n",
       "  <tbody>\n",
       "    <tr>\n",
       "      <th>0</th>\n",
       "      <td>$\\int_{0}^{3} \\left(3 x^{2} - 6\\right)\\, dx$</td>\n",
       "      <td>integrate(3*x**2 - 6,('x',0,3))</td>\n",
       "      <td>$9 \\ (F(x)=x^{3} - 6 x)$</td>\n",
       "      <td>Utiliza la regla de Barrow para calcular :\\n</td>\n",
       "      <td>2BC</td>\n",
       "      <td>Integral definida</td>\n",
       "      <td>p43e03</td>\n",
       "      <td>5</td>\n",
       "      <td>2</td>\n",
       "      <td>1</td>\n",
       "      <td>False</td>\n",
       "      <td>False</td>\n",
       "    </tr>\n",
       "    <tr>\n",
       "      <th>1</th>\n",
       "      <td>$\\int_{1}^{2} \\frac{1}{x}\\, dx$</td>\n",
       "      <td>integrate(1/x,('x',1,2))</td>\n",
       "      <td>$\\log{\\left (2 \\right )} \\ (F(x)=\\log{\\left (x...</td>\n",
       "      <td>Utiliza la regla de Barrow para calcular :\\n</td>\n",
       "      <td>2BC</td>\n",
       "      <td>Integral definida</td>\n",
       "      <td>p43e03</td>\n",
       "      <td>5</td>\n",
       "      <td>2</td>\n",
       "      <td>1</td>\n",
       "      <td>False</td>\n",
       "      <td>False</td>\n",
       "    </tr>\n",
       "    <tr>\n",
       "      <th>2</th>\n",
       "      <td>$\\int_{0}^{1} \\frac{5}{7 x^{2} + 7}\\, dx$</td>\n",
       "      <td>integrate(5/(7*x**2 + 7),('x',0,1))</td>\n",
       "      <td>$\\frac{5 \\pi}{28} \\ (F(x)=\\frac{5 \\operatornam...</td>\n",
       "      <td>Utiliza la regla de Barrow para calcular :\\n</td>\n",
       "      <td>2BC</td>\n",
       "      <td>Integral definida</td>\n",
       "      <td>p43e03</td>\n",
       "      <td>5</td>\n",
       "      <td>2</td>\n",
       "      <td>1</td>\n",
       "      <td>False</td>\n",
       "      <td>False</td>\n",
       "    </tr>\n",
       "    <tr>\n",
       "      <th>3</th>\n",
       "      <td>$\\int_{2}^{3} \\frac{1}{x \\log{\\left (x \\right ...</td>\n",
       "      <td>integrate(1/(x*log(x)),('x',2,3))</td>\n",
       "      <td>$\\log{\\left (\\frac{\\log{\\left (3 \\right )}}{\\l...</td>\n",
       "      <td>Utiliza la regla de Barrow para calcular :\\n</td>\n",
       "      <td>2BC</td>\n",
       "      <td>Integral definida</td>\n",
       "      <td>p43e03</td>\n",
       "      <td>5</td>\n",
       "      <td>2</td>\n",
       "      <td>1</td>\n",
       "      <td>False</td>\n",
       "      <td>False</td>\n",
       "    </tr>\n",
       "    <tr>\n",
       "      <th>4</th>\n",
       "      <td>$\\int_{\\frac{\\pi}{2}}^{2 \\pi} \\sin^{5}{\\left (...</td>\n",
       "      <td>integrate(sin(x)**5*cos(x),('x',\\frac{\\pi}{2},...</td>\n",
       "      <td>$- \\frac{1}{6} \\ (F(x)=\\frac{\\sin^{6}{\\left (x...</td>\n",
       "      <td>Utiliza la regla de Barrow para calcular :\\n</td>\n",
       "      <td>2BC</td>\n",
       "      <td>Integral definida</td>\n",
       "      <td>p43e03</td>\n",
       "      <td>5</td>\n",
       "      <td>2</td>\n",
       "      <td>1</td>\n",
       "      <td>False</td>\n",
       "      <td>False</td>\n",
       "    </tr>\n",
       "    <tr>\n",
       "      <th>5</th>\n",
       "      <td>$\\int_{2}^{5} e^{x} x\\, dx$</td>\n",
       "      <td>integrate(E**x*x,('x',2,5))</td>\n",
       "      <td>$- e^{2} + 4 e^{5} \\ (F(x)=\\left(x - 1\\right) ...</td>\n",
       "      <td>Utiliza la regla de Barrow para calcular :\\n</td>\n",
       "      <td>2BC</td>\n",
       "      <td>Integral definida</td>\n",
       "      <td>p43e03</td>\n",
       "      <td>5</td>\n",
       "      <td>2</td>\n",
       "      <td>1</td>\n",
       "      <td>False</td>\n",
       "      <td>False</td>\n",
       "    </tr>\n",
       "    <tr>\n",
       "      <th>6</th>\n",
       "      <td>el área del recinto limitado por la gráfica de...</td>\n",
       "      <td>integrate(-x**2 + 4,('x',0,2))</td>\n",
       "      <td>$\\int_{0}^{2} \\left(- x^{2} + 4\\right)\\, dx=$$...</td>\n",
       "      <td>Calcula:\\n</td>\n",
       "      <td>2BC</td>\n",
       "      <td>Integral definida</td>\n",
       "      <td>p43e06</td>\n",
       "      <td>5</td>\n",
       "      <td>2</td>\n",
       "      <td>1</td>\n",
       "      <td>False</td>\n",
       "      <td>False</td>\n",
       "    </tr>\n",
       "  </tbody>\n",
       "</table>\n",
       "</div>"
      ],
      "text/plain": [
       "                                     enunciado_latex  \\\n",
       "0       $\\int_{0}^{3} \\left(3 x^{2} - 6\\right)\\, dx$   \n",
       "1                    $\\int_{1}^{2} \\frac{1}{x}\\, dx$   \n",
       "2          $\\int_{0}^{1} \\frac{5}{7 x^{2} + 7}\\, dx$   \n",
       "3  $\\int_{2}^{3} \\frac{1}{x \\log{\\left (x \\right ...   \n",
       "4  $\\int_{\\frac{\\pi}{2}}^{2 \\pi} \\sin^{5}{\\left (...   \n",
       "5                        $\\int_{2}^{5} e^{x} x\\, dx$   \n",
       "6  el área del recinto limitado por la gráfica de...   \n",
       "\n",
       "                                           enunciado  \\\n",
       "0                    integrate(3*x**2 - 6,('x',0,3))   \n",
       "1                           integrate(1/x,('x',1,2))   \n",
       "2                integrate(5/(7*x**2 + 7),('x',0,1))   \n",
       "3                  integrate(1/(x*log(x)),('x',2,3))   \n",
       "4  integrate(sin(x)**5*cos(x),('x',\\frac{\\pi}{2},...   \n",
       "5                        integrate(E**x*x,('x',2,5))   \n",
       "6                     integrate(-x**2 + 4,('x',0,2))   \n",
       "\n",
       "                                            solucion  \\\n",
       "0                           $9 \\ (F(x)=x^{3} - 6 x)$   \n",
       "1  $\\log{\\left (2 \\right )} \\ (F(x)=\\log{\\left (x...   \n",
       "2  $\\frac{5 \\pi}{28} \\ (F(x)=\\frac{5 \\operatornam...   \n",
       "3  $\\log{\\left (\\frac{\\log{\\left (3 \\right )}}{\\l...   \n",
       "4  $- \\frac{1}{6} \\ (F(x)=\\frac{\\sin^{6}{\\left (x...   \n",
       "5  $- e^{2} + 4 e^{5} \\ (F(x)=\\left(x - 1\\right) ...   \n",
       "6  $\\int_{0}^{2} \\left(- x^{2} + 4\\right)\\, dx=$$...   \n",
       "\n",
       "                                          texto curso             titulo  \\\n",
       "0  Utiliza la regla de Barrow para calcular :\\n   2BC  Integral definida   \n",
       "1  Utiliza la regla de Barrow para calcular :\\n   2BC  Integral definida   \n",
       "2  Utiliza la regla de Barrow para calcular :\\n   2BC  Integral definida   \n",
       "3  Utiliza la regla de Barrow para calcular :\\n   2BC  Integral definida   \n",
       "4  Utiliza la regla de Barrow para calcular :\\n   2BC  Integral definida   \n",
       "5  Utiliza la regla de Barrow para calcular :\\n   2BC  Integral definida   \n",
       "6                                    Calcula:\\n   2BC  Integral definida   \n",
       "\n",
       "  n_ejercicio dificultad n_columnas puntos  enun_tex  sol_tex  \n",
       "0      p43e03          5          2      1     False    False  \n",
       "1      p43e03          5          2      1     False    False  \n",
       "2      p43e03          5          2      1     False    False  \n",
       "3      p43e03          5          2      1     False    False  \n",
       "4      p43e03          5          2      1     False    False  \n",
       "5      p43e03          5          2      1     False    False  \n",
       "6      p43e06          5          2      1     False    False  "
      ]
     },
     "execution_count": 5,
     "metadata": {},
     "output_type": "execute_result"
    }
   ],
   "source": [
    "df_ejercicios"
   ]
  },
  {
   "cell_type": "code",
   "execution_count": 6,
   "metadata": {},
   "outputs": [
    {
     "data": {
      "text/markdown": [
       "**Ejercicio: **p43e03"
      ],
      "text/plain": [
       "<IPython.core.display.Markdown object>"
      ]
     },
     "metadata": {},
     "output_type": "display_data"
    },
    {
     "data": {
      "text/html": [
       "<div>\n",
       "<style scoped>\n",
       "    .dataframe tbody tr th:only-of-type {\n",
       "        vertical-align: middle;\n",
       "    }\n",
       "\n",
       "    .dataframe tbody tr th {\n",
       "        vertical-align: top;\n",
       "    }\n",
       "\n",
       "    .dataframe thead th {\n",
       "        text-align: right;\n",
       "    }\n",
       "</style>\n",
       "<table border=\"1\" class=\"dataframe\">\n",
       "  <thead>\n",
       "    <tr style=\"text-align: right;\">\n",
       "      <th></th>\n",
       "      <th>enunciado_latex</th>\n",
       "      <th>enunciado</th>\n",
       "      <th>solucion</th>\n",
       "      <th>texto</th>\n",
       "      <th>curso</th>\n",
       "      <th>titulo</th>\n",
       "      <th>n_ejercicio</th>\n",
       "      <th>dificultad</th>\n",
       "      <th>n_columnas</th>\n",
       "      <th>puntos</th>\n",
       "      <th>enun_tex</th>\n",
       "      <th>sol_tex</th>\n",
       "    </tr>\n",
       "  </thead>\n",
       "  <tbody>\n",
       "    <tr>\n",
       "      <th>0</th>\n",
       "      <td>$\\int_{0}^{3} \\left(3 x^{2} - 6\\right)\\, dx$</td>\n",
       "      <td>integrate(3*x**2 - 6,('x',0,3))</td>\n",
       "      <td>$9 \\ (F(x)=x^{3} - 6 x)$</td>\n",
       "      <td>Utiliza la regla de Barrow para calcular :\\n</td>\n",
       "      <td>2BC</td>\n",
       "      <td>Integral definida</td>\n",
       "      <td>p43e03</td>\n",
       "      <td>5</td>\n",
       "      <td>2</td>\n",
       "      <td>1</td>\n",
       "      <td>False</td>\n",
       "      <td>False</td>\n",
       "    </tr>\n",
       "    <tr>\n",
       "      <th>1</th>\n",
       "      <td>$\\int_{1}^{2} \\frac{1}{x}\\, dx$</td>\n",
       "      <td>integrate(1/x,('x',1,2))</td>\n",
       "      <td>$\\log{\\left (2 \\right )} \\ (F(x)=\\log{\\left (x...</td>\n",
       "      <td>Utiliza la regla de Barrow para calcular :\\n</td>\n",
       "      <td>2BC</td>\n",
       "      <td>Integral definida</td>\n",
       "      <td>p43e03</td>\n",
       "      <td>5</td>\n",
       "      <td>2</td>\n",
       "      <td>1</td>\n",
       "      <td>False</td>\n",
       "      <td>False</td>\n",
       "    </tr>\n",
       "    <tr>\n",
       "      <th>2</th>\n",
       "      <td>$\\int_{0}^{1} \\frac{5}{7 x^{2} + 7}\\, dx$</td>\n",
       "      <td>integrate(5/(7*x**2 + 7),('x',0,1))</td>\n",
       "      <td>$\\frac{5 \\pi}{28} \\ (F(x)=\\frac{5 \\operatornam...</td>\n",
       "      <td>Utiliza la regla de Barrow para calcular :\\n</td>\n",
       "      <td>2BC</td>\n",
       "      <td>Integral definida</td>\n",
       "      <td>p43e03</td>\n",
       "      <td>5</td>\n",
       "      <td>2</td>\n",
       "      <td>1</td>\n",
       "      <td>False</td>\n",
       "      <td>False</td>\n",
       "    </tr>\n",
       "    <tr>\n",
       "      <th>3</th>\n",
       "      <td>$\\int_{2}^{3} \\frac{1}{x \\log{\\left (x \\right ...</td>\n",
       "      <td>integrate(1/(x*log(x)),('x',2,3))</td>\n",
       "      <td>$\\log{\\left (\\frac{\\log{\\left (3 \\right )}}{\\l...</td>\n",
       "      <td>Utiliza la regla de Barrow para calcular :\\n</td>\n",
       "      <td>2BC</td>\n",
       "      <td>Integral definida</td>\n",
       "      <td>p43e03</td>\n",
       "      <td>5</td>\n",
       "      <td>2</td>\n",
       "      <td>1</td>\n",
       "      <td>False</td>\n",
       "      <td>False</td>\n",
       "    </tr>\n",
       "    <tr>\n",
       "      <th>4</th>\n",
       "      <td>$\\int_{\\frac{\\pi}{2}}^{2 \\pi} \\sin^{5}{\\left (...</td>\n",
       "      <td>integrate(sin(x)**5*cos(x),('x',\\frac{\\pi}{2},...</td>\n",
       "      <td>$- \\frac{1}{6} \\ (F(x)=\\frac{\\sin^{6}{\\left (x...</td>\n",
       "      <td>Utiliza la regla de Barrow para calcular :\\n</td>\n",
       "      <td>2BC</td>\n",
       "      <td>Integral definida</td>\n",
       "      <td>p43e03</td>\n",
       "      <td>5</td>\n",
       "      <td>2</td>\n",
       "      <td>1</td>\n",
       "      <td>False</td>\n",
       "      <td>False</td>\n",
       "    </tr>\n",
       "    <tr>\n",
       "      <th>5</th>\n",
       "      <td>$\\int_{2}^{5} e^{x} x\\, dx$</td>\n",
       "      <td>integrate(E**x*x,('x',2,5))</td>\n",
       "      <td>$- e^{2} + 4 e^{5} \\ (F(x)=\\left(x - 1\\right) ...</td>\n",
       "      <td>Utiliza la regla de Barrow para calcular :\\n</td>\n",
       "      <td>2BC</td>\n",
       "      <td>Integral definida</td>\n",
       "      <td>p43e03</td>\n",
       "      <td>5</td>\n",
       "      <td>2</td>\n",
       "      <td>1</td>\n",
       "      <td>False</td>\n",
       "      <td>False</td>\n",
       "    </tr>\n",
       "  </tbody>\n",
       "</table>\n",
       "</div>"
      ],
      "text/plain": [
       "                                     enunciado_latex  \\\n",
       "0       $\\int_{0}^{3} \\left(3 x^{2} - 6\\right)\\, dx$   \n",
       "1                    $\\int_{1}^{2} \\frac{1}{x}\\, dx$   \n",
       "2          $\\int_{0}^{1} \\frac{5}{7 x^{2} + 7}\\, dx$   \n",
       "3  $\\int_{2}^{3} \\frac{1}{x \\log{\\left (x \\right ...   \n",
       "4  $\\int_{\\frac{\\pi}{2}}^{2 \\pi} \\sin^{5}{\\left (...   \n",
       "5                        $\\int_{2}^{5} e^{x} x\\, dx$   \n",
       "\n",
       "                                           enunciado  \\\n",
       "0                    integrate(3*x**2 - 6,('x',0,3))   \n",
       "1                           integrate(1/x,('x',1,2))   \n",
       "2                integrate(5/(7*x**2 + 7),('x',0,1))   \n",
       "3                  integrate(1/(x*log(x)),('x',2,3))   \n",
       "4  integrate(sin(x)**5*cos(x),('x',\\frac{\\pi}{2},...   \n",
       "5                        integrate(E**x*x,('x',2,5))   \n",
       "\n",
       "                                            solucion  \\\n",
       "0                           $9 \\ (F(x)=x^{3} - 6 x)$   \n",
       "1  $\\log{\\left (2 \\right )} \\ (F(x)=\\log{\\left (x...   \n",
       "2  $\\frac{5 \\pi}{28} \\ (F(x)=\\frac{5 \\operatornam...   \n",
       "3  $\\log{\\left (\\frac{\\log{\\left (3 \\right )}}{\\l...   \n",
       "4  $- \\frac{1}{6} \\ (F(x)=\\frac{\\sin^{6}{\\left (x...   \n",
       "5  $- e^{2} + 4 e^{5} \\ (F(x)=\\left(x - 1\\right) ...   \n",
       "\n",
       "                                          texto curso             titulo  \\\n",
       "0  Utiliza la regla de Barrow para calcular :\\n   2BC  Integral definida   \n",
       "1  Utiliza la regla de Barrow para calcular :\\n   2BC  Integral definida   \n",
       "2  Utiliza la regla de Barrow para calcular :\\n   2BC  Integral definida   \n",
       "3  Utiliza la regla de Barrow para calcular :\\n   2BC  Integral definida   \n",
       "4  Utiliza la regla de Barrow para calcular :\\n   2BC  Integral definida   \n",
       "5  Utiliza la regla de Barrow para calcular :\\n   2BC  Integral definida   \n",
       "\n",
       "  n_ejercicio dificultad n_columnas puntos  enun_tex  sol_tex  \n",
       "0      p43e03          5          2      1     False    False  \n",
       "1      p43e03          5          2      1     False    False  \n",
       "2      p43e03          5          2      1     False    False  \n",
       "3      p43e03          5          2      1     False    False  \n",
       "4      p43e03          5          2      1     False    False  \n",
       "5      p43e03          5          2      1     False    False  "
      ]
     },
     "metadata": {},
     "output_type": "display_data"
    },
    {
     "data": {
      "text/markdown": [
       "**Ejercicio: **p43e06"
      ],
      "text/plain": [
       "<IPython.core.display.Markdown object>"
      ]
     },
     "metadata": {},
     "output_type": "display_data"
    },
    {
     "data": {
      "text/html": [
       "<div>\n",
       "<style scoped>\n",
       "    .dataframe tbody tr th:only-of-type {\n",
       "        vertical-align: middle;\n",
       "    }\n",
       "\n",
       "    .dataframe tbody tr th {\n",
       "        vertical-align: top;\n",
       "    }\n",
       "\n",
       "    .dataframe thead th {\n",
       "        text-align: right;\n",
       "    }\n",
       "</style>\n",
       "<table border=\"1\" class=\"dataframe\">\n",
       "  <thead>\n",
       "    <tr style=\"text-align: right;\">\n",
       "      <th></th>\n",
       "      <th>enunciado_latex</th>\n",
       "      <th>enunciado</th>\n",
       "      <th>solucion</th>\n",
       "      <th>texto</th>\n",
       "      <th>curso</th>\n",
       "      <th>titulo</th>\n",
       "      <th>n_ejercicio</th>\n",
       "      <th>dificultad</th>\n",
       "      <th>n_columnas</th>\n",
       "      <th>puntos</th>\n",
       "      <th>enun_tex</th>\n",
       "      <th>sol_tex</th>\n",
       "    </tr>\n",
       "  </thead>\n",
       "  <tbody>\n",
       "    <tr>\n",
       "      <th>6</th>\n",
       "      <td>el área del recinto limitado por la gráfica de...</td>\n",
       "      <td>integrate(-x**2 + 4,('x',0,2))</td>\n",
       "      <td>$\\int_{0}^{2} \\left(- x^{2} + 4\\right)\\, dx=$$...</td>\n",
       "      <td>Calcula:\\n</td>\n",
       "      <td>2BC</td>\n",
       "      <td>Integral definida</td>\n",
       "      <td>p43e06</td>\n",
       "      <td>5</td>\n",
       "      <td>2</td>\n",
       "      <td>1</td>\n",
       "      <td>False</td>\n",
       "      <td>False</td>\n",
       "    </tr>\n",
       "  </tbody>\n",
       "</table>\n",
       "</div>"
      ],
      "text/plain": [
       "                                     enunciado_latex  \\\n",
       "6  el área del recinto limitado por la gráfica de...   \n",
       "\n",
       "                        enunciado  \\\n",
       "6  integrate(-x**2 + 4,('x',0,2))   \n",
       "\n",
       "                                            solucion       texto curso  \\\n",
       "6  $\\int_{0}^{2} \\left(- x^{2} + 4\\right)\\, dx=$$...  Calcula:\\n   2BC   \n",
       "\n",
       "              titulo n_ejercicio dificultad n_columnas puntos  enun_tex  \\\n",
       "6  Integral definida      p43e06          5          2      1     False   \n",
       "\n",
       "   sol_tex  \n",
       "6    False  "
      ]
     },
     "metadata": {},
     "output_type": "display_data"
    }
   ],
   "source": [
    "escribir_preambulo(fichero, titulo, 'ejercicios')\n",
    "for s in df_ejercicios.groupby('n_ejercicio').count().index : \n",
    "    display(md(\"**Ejercicio: **\" + s ))\n",
    "    display(df_ejercicios[df_ejercicios.n_ejercicio == s])\n",
    "    escribir_ejercicios(df_ejercicios[df_ejercicios.n_ejercicio == s],fichero)\n",
    "\n",
    "escribir_fin(fichero)"
   ]
  },
  {
   "cell_type": "code",
   "execution_count": 7,
   "metadata": {},
   "outputs": [
    {
     "data": {
      "text/markdown": [
       "**Ejercicio: **p43e03"
      ],
      "text/plain": [
       "<IPython.core.display.Markdown object>"
      ]
     },
     "metadata": {},
     "output_type": "display_data"
    },
    {
     "data": {
      "text/html": [
       "<div>\n",
       "<style scoped>\n",
       "    .dataframe tbody tr th:only-of-type {\n",
       "        vertical-align: middle;\n",
       "    }\n",
       "\n",
       "    .dataframe tbody tr th {\n",
       "        vertical-align: top;\n",
       "    }\n",
       "\n",
       "    .dataframe thead th {\n",
       "        text-align: right;\n",
       "    }\n",
       "</style>\n",
       "<table border=\"1\" class=\"dataframe\">\n",
       "  <thead>\n",
       "    <tr style=\"text-align: right;\">\n",
       "      <th></th>\n",
       "      <th>enunciado_latex</th>\n",
       "      <th>enunciado</th>\n",
       "      <th>solucion</th>\n",
       "      <th>texto</th>\n",
       "      <th>curso</th>\n",
       "      <th>titulo</th>\n",
       "      <th>n_ejercicio</th>\n",
       "      <th>dificultad</th>\n",
       "      <th>n_columnas</th>\n",
       "      <th>puntos</th>\n",
       "      <th>enun_tex</th>\n",
       "      <th>sol_tex</th>\n",
       "    </tr>\n",
       "  </thead>\n",
       "  <tbody>\n",
       "    <tr>\n",
       "      <th>0</th>\n",
       "      <td>$\\int_{0}^{3} \\left(3 x^{2} - 6\\right)\\, dx$</td>\n",
       "      <td>integrate(3*x**2 - 6,('x',0,3))</td>\n",
       "      <td>$9 \\ (F(x)=x^{3} - 6 x)$</td>\n",
       "      <td>Utiliza la regla de Barrow para calcular :\\n</td>\n",
       "      <td>2BC</td>\n",
       "      <td>Integral definida</td>\n",
       "      <td>p43e03</td>\n",
       "      <td>5</td>\n",
       "      <td>2</td>\n",
       "      <td>1</td>\n",
       "      <td>False</td>\n",
       "      <td>False</td>\n",
       "    </tr>\n",
       "    <tr>\n",
       "      <th>1</th>\n",
       "      <td>$\\int_{1}^{2} \\frac{1}{x}\\, dx$</td>\n",
       "      <td>integrate(1/x,('x',1,2))</td>\n",
       "      <td>$\\log{\\left (2 \\right )} \\ (F(x)=\\log{\\left (x...</td>\n",
       "      <td>Utiliza la regla de Barrow para calcular :\\n</td>\n",
       "      <td>2BC</td>\n",
       "      <td>Integral definida</td>\n",
       "      <td>p43e03</td>\n",
       "      <td>5</td>\n",
       "      <td>2</td>\n",
       "      <td>1</td>\n",
       "      <td>False</td>\n",
       "      <td>False</td>\n",
       "    </tr>\n",
       "    <tr>\n",
       "      <th>2</th>\n",
       "      <td>$\\int_{0}^{1} \\frac{5}{7 x^{2} + 7}\\, dx$</td>\n",
       "      <td>integrate(5/(7*x**2 + 7),('x',0,1))</td>\n",
       "      <td>$\\frac{5 \\pi}{28} \\ (F(x)=\\frac{5 \\operatornam...</td>\n",
       "      <td>Utiliza la regla de Barrow para calcular :\\n</td>\n",
       "      <td>2BC</td>\n",
       "      <td>Integral definida</td>\n",
       "      <td>p43e03</td>\n",
       "      <td>5</td>\n",
       "      <td>2</td>\n",
       "      <td>1</td>\n",
       "      <td>False</td>\n",
       "      <td>False</td>\n",
       "    </tr>\n",
       "    <tr>\n",
       "      <th>3</th>\n",
       "      <td>$\\int_{2}^{3} \\frac{1}{x \\log{\\left (x \\right ...</td>\n",
       "      <td>integrate(1/(x*log(x)),('x',2,3))</td>\n",
       "      <td>$\\log{\\left (\\frac{\\log{\\left (3 \\right )}}{\\l...</td>\n",
       "      <td>Utiliza la regla de Barrow para calcular :\\n</td>\n",
       "      <td>2BC</td>\n",
       "      <td>Integral definida</td>\n",
       "      <td>p43e03</td>\n",
       "      <td>5</td>\n",
       "      <td>2</td>\n",
       "      <td>1</td>\n",
       "      <td>False</td>\n",
       "      <td>False</td>\n",
       "    </tr>\n",
       "    <tr>\n",
       "      <th>4</th>\n",
       "      <td>$\\int_{\\frac{\\pi}{2}}^{2 \\pi} \\sin^{5}{\\left (...</td>\n",
       "      <td>integrate(sin(x)**5*cos(x),('x',\\frac{\\pi}{2},...</td>\n",
       "      <td>$- \\frac{1}{6} \\ (F(x)=\\frac{\\sin^{6}{\\left (x...</td>\n",
       "      <td>Utiliza la regla de Barrow para calcular :\\n</td>\n",
       "      <td>2BC</td>\n",
       "      <td>Integral definida</td>\n",
       "      <td>p43e03</td>\n",
       "      <td>5</td>\n",
       "      <td>2</td>\n",
       "      <td>1</td>\n",
       "      <td>False</td>\n",
       "      <td>False</td>\n",
       "    </tr>\n",
       "    <tr>\n",
       "      <th>5</th>\n",
       "      <td>$\\int_{2}^{5} e^{x} x\\, dx$</td>\n",
       "      <td>integrate(E**x*x,('x',2,5))</td>\n",
       "      <td>$- e^{2} + 4 e^{5} \\ (F(x)=\\left(x - 1\\right) ...</td>\n",
       "      <td>Utiliza la regla de Barrow para calcular :\\n</td>\n",
       "      <td>2BC</td>\n",
       "      <td>Integral definida</td>\n",
       "      <td>p43e03</td>\n",
       "      <td>5</td>\n",
       "      <td>2</td>\n",
       "      <td>1</td>\n",
       "      <td>False</td>\n",
       "      <td>False</td>\n",
       "    </tr>\n",
       "  </tbody>\n",
       "</table>\n",
       "</div>"
      ],
      "text/plain": [
       "                                     enunciado_latex  \\\n",
       "0       $\\int_{0}^{3} \\left(3 x^{2} - 6\\right)\\, dx$   \n",
       "1                    $\\int_{1}^{2} \\frac{1}{x}\\, dx$   \n",
       "2          $\\int_{0}^{1} \\frac{5}{7 x^{2} + 7}\\, dx$   \n",
       "3  $\\int_{2}^{3} \\frac{1}{x \\log{\\left (x \\right ...   \n",
       "4  $\\int_{\\frac{\\pi}{2}}^{2 \\pi} \\sin^{5}{\\left (...   \n",
       "5                        $\\int_{2}^{5} e^{x} x\\, dx$   \n",
       "\n",
       "                                           enunciado  \\\n",
       "0                    integrate(3*x**2 - 6,('x',0,3))   \n",
       "1                           integrate(1/x,('x',1,2))   \n",
       "2                integrate(5/(7*x**2 + 7),('x',0,1))   \n",
       "3                  integrate(1/(x*log(x)),('x',2,3))   \n",
       "4  integrate(sin(x)**5*cos(x),('x',\\frac{\\pi}{2},...   \n",
       "5                        integrate(E**x*x,('x',2,5))   \n",
       "\n",
       "                                            solucion  \\\n",
       "0                           $9 \\ (F(x)=x^{3} - 6 x)$   \n",
       "1  $\\log{\\left (2 \\right )} \\ (F(x)=\\log{\\left (x...   \n",
       "2  $\\frac{5 \\pi}{28} \\ (F(x)=\\frac{5 \\operatornam...   \n",
       "3  $\\log{\\left (\\frac{\\log{\\left (3 \\right )}}{\\l...   \n",
       "4  $- \\frac{1}{6} \\ (F(x)=\\frac{\\sin^{6}{\\left (x...   \n",
       "5  $- e^{2} + 4 e^{5} \\ (F(x)=\\left(x - 1\\right) ...   \n",
       "\n",
       "                                          texto curso             titulo  \\\n",
       "0  Utiliza la regla de Barrow para calcular :\\n   2BC  Integral definida   \n",
       "1  Utiliza la regla de Barrow para calcular :\\n   2BC  Integral definida   \n",
       "2  Utiliza la regla de Barrow para calcular :\\n   2BC  Integral definida   \n",
       "3  Utiliza la regla de Barrow para calcular :\\n   2BC  Integral definida   \n",
       "4  Utiliza la regla de Barrow para calcular :\\n   2BC  Integral definida   \n",
       "5  Utiliza la regla de Barrow para calcular :\\n   2BC  Integral definida   \n",
       "\n",
       "  n_ejercicio dificultad n_columnas puntos  enun_tex  sol_tex  \n",
       "0      p43e03          5          2      1     False    False  \n",
       "1      p43e03          5          2      1     False    False  \n",
       "2      p43e03          5          2      1     False    False  \n",
       "3      p43e03          5          2      1     False    False  \n",
       "4      p43e03          5          2      1     False    False  \n",
       "5      p43e03          5          2      1     False    False  "
      ]
     },
     "metadata": {},
     "output_type": "display_data"
    },
    {
     "data": {
      "text/markdown": [
       "**Ejercicio: **p43e06"
      ],
      "text/plain": [
       "<IPython.core.display.Markdown object>"
      ]
     },
     "metadata": {},
     "output_type": "display_data"
    },
    {
     "data": {
      "text/html": [
       "<div>\n",
       "<style scoped>\n",
       "    .dataframe tbody tr th:only-of-type {\n",
       "        vertical-align: middle;\n",
       "    }\n",
       "\n",
       "    .dataframe tbody tr th {\n",
       "        vertical-align: top;\n",
       "    }\n",
       "\n",
       "    .dataframe thead th {\n",
       "        text-align: right;\n",
       "    }\n",
       "</style>\n",
       "<table border=\"1\" class=\"dataframe\">\n",
       "  <thead>\n",
       "    <tr style=\"text-align: right;\">\n",
       "      <th></th>\n",
       "      <th>enunciado_latex</th>\n",
       "      <th>enunciado</th>\n",
       "      <th>solucion</th>\n",
       "      <th>texto</th>\n",
       "      <th>curso</th>\n",
       "      <th>titulo</th>\n",
       "      <th>n_ejercicio</th>\n",
       "      <th>dificultad</th>\n",
       "      <th>n_columnas</th>\n",
       "      <th>puntos</th>\n",
       "      <th>enun_tex</th>\n",
       "      <th>sol_tex</th>\n",
       "    </tr>\n",
       "  </thead>\n",
       "  <tbody>\n",
       "    <tr>\n",
       "      <th>6</th>\n",
       "      <td>el área del recinto limitado por la gráfica de...</td>\n",
       "      <td>integrate(-x**2 + 4,('x',0,2))</td>\n",
       "      <td>$\\int_{0}^{2} \\left(- x^{2} + 4\\right)\\, dx=$$...</td>\n",
       "      <td>Calcula:\\n</td>\n",
       "      <td>2BC</td>\n",
       "      <td>Integral definida</td>\n",
       "      <td>p43e06</td>\n",
       "      <td>5</td>\n",
       "      <td>2</td>\n",
       "      <td>1</td>\n",
       "      <td>False</td>\n",
       "      <td>False</td>\n",
       "    </tr>\n",
       "  </tbody>\n",
       "</table>\n",
       "</div>"
      ],
      "text/plain": [
       "                                     enunciado_latex  \\\n",
       "6  el área del recinto limitado por la gráfica de...   \n",
       "\n",
       "                        enunciado  \\\n",
       "6  integrate(-x**2 + 4,('x',0,2))   \n",
       "\n",
       "                                            solucion       texto curso  \\\n",
       "6  $\\int_{0}^{2} \\left(- x^{2} + 4\\right)\\, dx=$$...  Calcula:\\n   2BC   \n",
       "\n",
       "              titulo n_ejercicio dificultad n_columnas puntos  enun_tex  \\\n",
       "6  Integral definida      p43e06          5          2      1     False   \n",
       "\n",
       "   sol_tex  \n",
       "6    False  "
      ]
     },
     "metadata": {},
     "output_type": "display_data"
    }
   ],
   "source": [
    "escribir_preambulo(fichero, titulo, 'ejercicios')\n",
    "for s in df_ejercicios.groupby('n_ejercicio').count().index : \n",
    "    display(md(\"**Ejercicio: **\" + s ))\n",
    "    display(df_ejercicios[df_ejercicios.n_ejercicio == s])\n",
    "    escribir_ejercicios(df_ejercicios[df_ejercicios.n_ejercicio == s],fichero)\n",
    "\n",
    "escribir_fin(fichero)"
   ]
  }
 ],
 "metadata": {
  "kernelspec": {
   "display_name": "Python 3",
   "language": "python",
   "name": "python3"
  },
  "language_info": {
   "codemirror_mode": {
    "name": "ipython",
    "version": 3
   },
   "file_extension": ".py",
   "mimetype": "text/x-python",
   "name": "python",
   "nbconvert_exporter": "python",
   "pygments_lexer": "ipython3",
   "version": "3.7.1"
  }
 },
 "nbformat": 4,
 "nbformat_minor": 2
}
