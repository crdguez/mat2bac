{
 "cells": [
  {
   "cell_type": "code",
   "execution_count": 1,
   "metadata": {},
   "outputs": [
    {
     "name": "stdout",
     "output_type": "stream",
     "text": [
      "IPython console for SymPy 1.3 (Python 3.7.1-32-bit) (ground types: gmpy)\n",
      "\n",
      "These commands were executed:\n",
      ">>> from __future__ import division\n",
      ">>> from sympy import *\n",
      ">>> x, y, z, t = symbols('x y z t')\n",
      ">>> k, m, n = symbols('k m n', integer=True)\n",
      ">>> f, g, h = symbols('f g h', cls=Function)\n",
      ">>> init_printing()\n",
      "\n",
      "Documentation can be found at http://docs.sympy.org/1.3/\n",
      "\n"
     ]
    }
   ],
   "source": [
    "from sympy import init_session\n",
    "from sympy import div, QQ\n",
    "from sympy.parsing.latex import parse_latex\n",
    "from sympy.parsing.sympy_parser import parse_expr\n",
    "from IPython.display import Markdown as md\n",
    "from IPython.display import display\n",
    "import pandas as pd\n",
    "\n",
    "import numpy as np\n",
    "\n",
    "\n",
    "\n",
    "\n",
    "init_session()\n",
    "\n",
    "a, b, c, d = symbols('a b c d', real = True)\n",
    "from docparts import añadir_ejercicios, doc_ejer, escribir_preambulo, escribir_ejercicios, escribir_fin\n",
    "\n",
    "df_ejercicios = pd.DataFrame()\n",
    "\n",
    "fichero = 'integrdef'\n",
    "titulo = 'Integral definida'\n",
    "curso = '2BC'\n",
    "\n",
    "\n",
    "x,y = symbols('x, y', real=True)\n",
    "\n",
    "import matplotlib.pyplot as plt\n",
    "from matplotlib import style\n",
    "#style.use('ggplot')\n",
    "style.use('seaborn-whitegrid')\n",
    "\n",
    "\n",
    "%matplotlib inline\n"
   ]
  },
  {
   "cell_type": "code",
   "execution_count": 10,
   "metadata": {
    "scrolled": true
   },
   "outputs": [
    {
     "data": {
      "text/markdown": [
       "**Calcula:\n",
       "**"
      ],
      "text/plain": [
       "<IPython.core.display.Markdown object>"
      ]
     },
     "metadata": {},
     "output_type": "display_data"
    },
    {
     "data": {
      "text/plain": [
       "'x^{3}'"
      ]
     },
     "metadata": {},
     "output_type": "display_data"
    },
    {
     "data": {
      "text/markdown": [
       "El área del recinto limitado por la gráfica de la función \n",
       "$f(x) = x^3$, el eje de abscisas y las rectas x=-1\n",
       "y x=1 $ \\rightarrow $Intervalos donde calcular la integral definida: \\ $\\left[-1, 0\\right) \\cup \\left(0, 1\\right] \\to $ \\\\ Integrales definidas: \\\\ $\\int_{-1}^{0} x^{3}\\, dx=\\frac{1}{4} \\ (F(x)=\\frac{x^{4}}{4})$  \\\\ $\\int_{0}^{1} x^{3}\\, dx=\\frac{1}{4} \\ (F(x)=\\frac{x^{4}}{4})$  \\\\ Área total = $\\frac{1}{2}$"
      ],
      "text/plain": [
       "<IPython.core.display.Markdown object>"
      ]
     },
     "metadata": {},
     "output_type": "display_data"
    },
    {
     "data": {
      "text/plain": [
       "'- x^{2} + 4'"
      ]
     },
     "metadata": {},
     "output_type": "display_data"
    },
    {
     "data": {
      "text/markdown": [
       "El área del recinto limitado por la gráfica de la función \n",
       "    $f(x) = -x^2 + 4$, el eje de abscisas y las rectas x=0\n",
       "    y x=2 $ \\rightarrow $Intervalos donde calcular la integral definida: \\ $\\left[0, 2\\right) \\to $ \\\\ Integrales definidas: \\\\ $\\int_{0}^{2} \\left(- x^{2} + 4\\right)\\, dx=\\frac{16}{3} \\ (F(x)=- \\frac{x^{3}}{3} + 4 x)$  \\\\ Área total = $\\frac{16}{3}$"
      ],
      "text/plain": [
       "<IPython.core.display.Markdown object>"
      ]
     },
     "metadata": {},
     "output_type": "display_data"
    },
    {
     "data": {
      "text/plain": [
       "'x^{4} - 3 x^{3} - 4 x^{2} + 12 x'"
      ]
     },
     "metadata": {},
     "output_type": "display_data"
    },
    {
     "data": {
      "text/markdown": [
       "El área del recinto limitado por la gráfica de $f(x)=x^4 -3x^3 -4x2 +12x$ y el eje OX $ \\rightarrow $Intervalos donde calcular la integral definida: \\ $\\left(-\\infty, -2\\right) \\cup \\left(-2, 0\\right) \\cup \\left(0, 2\\right) \\cup \\left(2, 3\\right) \\cup \\left(3, \\infty\\right) \\to $ \\\\ Integrales definidas: \\\\ $\\int_{-\\infty}^{-2} \\left(x^{4} - 3 x^{3} - 4 x^{2} + 12 x\\right)\\, dx=\\infty \\ (F(x)=\\frac{x^{5}}{5} - \\frac{3 x^{4}}{4} - \\frac{4 x^{3}}{3} + 6 x^{2})$  \\\\ $\\int_{-2}^{0} \\left(x^{4} - 3 x^{3} - 4 x^{2} + 12 x\\right)\\, dx=\\frac{244}{15} \\ (F(x)=\\frac{x^{5}}{5} - \\frac{3 x^{4}}{4} - \\frac{4 x^{3}}{3} + 6 x^{2})$  \\\\ $\\int_{0}^{2} \\left(x^{4} - 3 x^{3} - 4 x^{2} + 12 x\\right)\\, dx=\\frac{116}{15} \\ (F(x)=\\frac{x^{5}}{5} - \\frac{3 x^{4}}{4} - \\frac{4 x^{3}}{3} + 6 x^{2})$  \\\\ $\\int_{2}^{3} \\left(x^{4} - 3 x^{3} - 4 x^{2} + 12 x\\right)\\, dx=\\frac{113}{60} \\ (F(x)=\\frac{x^{5}}{5} - \\frac{3 x^{4}}{4} - \\frac{4 x^{3}}{3} + 6 x^{2})$  \\\\ $\\int_{3}^{\\infty} \\left(x^{4} - 3 x^{3} - 4 x^{2} + 12 x\\right)\\, dx=\\infty \\ (F(x)=\\frac{x^{5}}{5} - \\frac{3 x^{4}}{4} - \\frac{4 x^{3}}{3} + 6 x^{2})$  \\\\ Área total = $\\frac{1553}{60}$"
      ],
      "text/plain": [
       "<IPython.core.display.Markdown object>"
      ]
     },
     "metadata": {},
     "output_type": "display_data"
    },
    {
     "data": {
      "text/plain": [
       "'- 2 x^{2} - 3 x + 9'"
      ]
     },
     "metadata": {},
     "output_type": "display_data"
    },
    {
     "data": {
      "text/markdown": [
       "El área limitada por las gráficas de $f(x) = -x^2-4x+3 \\land g(x) = x^2 -x-6$ $ \\rightarrow $Intervalos donde calcular la integral definida: \\ $\\left(-\\infty, -3\\right) \\cup \\left(-3, \\frac{3}{2}\\right) \\cup \\left(\\frac{3}{2}, \\infty\\right) \\to $ \\\\ Integrales definidas: \\\\ $\\int_{-\\infty}^{-3} \\left(\\left(-2\\right) x^{2} - 3 x + 9\\right)\\, dx=\\infty \\ (F(x)=- \\frac{2 x^{3}}{3} - \\frac{3 x^{2}}{2} + 9 x)$  \\\\ $\\int_{-3}^{\\frac{3}{2}} \\left(\\left(-2\\right) x^{2} - 3 x + 9\\right)\\, dx=\\frac{243}{8} \\ (F(x)=- \\frac{2 x^{3}}{3} - \\frac{3 x^{2}}{2} + 9 x)$  \\\\ $\\int_{\\frac{3}{2}}^{\\infty} \\left(\\left(-2\\right) x^{2} - 3 x + 9\\right)\\, dx=\\infty \\ (F(x)=- \\frac{2 x^{3}}{3} - \\frac{3 x^{2}}{2} + 9 x)$  \\\\ Área total = $\\frac{243}{8}$"
      ],
      "text/plain": [
       "<IPython.core.display.Markdown object>"
      ]
     },
     "metadata": {},
     "output_type": "display_data"
    },
    {
     "data": {
      "text/plain": [
       "'3 x + 2'"
      ]
     },
     "metadata": {},
     "output_type": "display_data"
    },
    {
     "data": {
      "text/markdown": [
       "El área del recinto limitado por la recta $y = 3x + 2$, el eje OX y las rectas x = 1 y x = 3. Comprueba el\n",
       "resultado por métodos geométricos $ \\rightarrow $Intervalos donde calcular la integral definida: \\ $\\left[1, 3\\right] \\to $ \\\\ Integrales definidas: \\\\ $\\int_{1}^{3} \\left(3 x + 2\\right)\\, dx=16 \\ (F(x)=\\frac{3 x^{2}}{2} + 2 x)$  \\\\ Área total = $16$"
      ],
      "text/plain": [
       "<IPython.core.display.Markdown object>"
      ]
     },
     "metadata": {},
     "output_type": "display_data"
    },
    {
     "data": {
      "text/plain": [
       "'- x^{2} + x'"
      ]
     },
     "metadata": {},
     "output_type": "display_data"
    },
    {
     "data": {
      "text/markdown": [
       "El área limitada por las gráficas de las funciones \n",
       "    $f(x) = x+1 \\land g(x) = x^2 +1$ $ \\rightarrow $Intervalos donde calcular la integral definida: \\ $\\left(-\\infty, 0\\right) \\cup \\left(0, 1\\right) \\cup \\left(1, \\infty\\right) \\to $ \\\\ Integrales definidas: \\\\ $\\int_{-\\infty}^{0} \\left(x - \\left(x^{2} + 1\\right) + 1\\right)\\, dx=\\infty \\ (F(x)=- \\frac{x^{3}}{3} + \\frac{x^{2}}{2})$  \\\\ $\\int_{0}^{1} \\left(x - \\left(x^{2} + 1\\right) + 1\\right)\\, dx=\\frac{1}{6} \\ (F(x)=- \\frac{x^{3}}{3} + \\frac{x^{2}}{2})$  \\\\ $\\int_{1}^{\\infty} \\left(x - \\left(x^{2} + 1\\right) + 1\\right)\\, dx=\\infty \\ (F(x)=- \\frac{x^{3}}{3} + \\frac{x^{2}}{2})$  \\\\ Área total = $\\frac{1}{6}$"
      ],
      "text/plain": [
       "<IPython.core.display.Markdown object>"
      ]
     },
     "metadata": {},
     "output_type": "display_data"
    },
    {
     "data": {
      "text/plain": [
       "'- 3 x^{3} + 21 x^{2} - 42 x + 24'"
      ]
     },
     "metadata": {},
     "output_type": "display_data"
    },
    {
     "data": {
      "text/markdown": [
       "El área limitada por las gráficas de las funciones \n",
       "    $f(x) = 5x-9 \\land g(x) = 3x^3 -21x^2 +47x-33$ $ \\rightarrow $Intervalos donde calcular la integral definida: \\ $\\left(-\\infty, 1\\right) \\cup \\left(1, 2\\right) \\cup \\left(2, 4\\right) \\cup \\left(4, \\infty\\right) \\to $ \\\\ Integrales definidas: \\\\ $\\int_{-\\infty}^{1} \\left(5 x - \\left(3 x^{3} - 21 x^{2} + 47 x - 33\\right) - 9\\right)\\, dx=\\infty \\ (F(x)=- \\frac{3 x^{4}}{4} + 7 x^{3} - 21 x^{2} + 24 x)$  \\\\ $\\int_{1}^{2} \\left(5 x - \\left(3 x^{3} - 21 x^{2} + 47 x - 33\\right) - 9\\right)\\, dx=\\frac{5}{4} \\ (F(x)=- \\frac{3 x^{4}}{4} + 7 x^{3} - 21 x^{2} + 24 x)$  \\\\ $\\int_{2}^{4} \\left(5 x - \\left(3 x^{3} - 21 x^{2} + 47 x - 33\\right) - 9\\right)\\, dx=8 \\ (F(x)=- \\frac{3 x^{4}}{4} + 7 x^{3} - 21 x^{2} + 24 x)$  \\\\ $\\int_{4}^{\\infty} \\left(5 x - \\left(3 x^{3} - 21 x^{2} + 47 x - 33\\right) - 9\\right)\\, dx=\\infty \\ (F(x)=- \\frac{3 x^{4}}{4} + 7 x^{3} - 21 x^{2} + 24 x)$  \\\\ Área total = $\\frac{37}{4}$"
      ],
      "text/plain": [
       "<IPython.core.display.Markdown object>"
      ]
     },
     "metadata": {},
     "output_type": "display_data"
    },
    {
     "data": {
      "text/plain": [
       "'x^{2} - 2 x - 15'"
      ]
     },
     "metadata": {},
     "output_type": "display_data"
    },
    {
     "data": {
      "text/markdown": [
       "el área limitada por $f(x) = x^2 - 2x - 15$, el eje OX \n",
       "    y las rectas x = -4 y x = 7. $ \\rightarrow $Intervalos donde calcular la integral definida: \\ $\\left[-4, -3\\right) \\cup \\left(-3, 5\\right) \\cup \\left(5, 7\\right] \\to $ \\\\ Integrales definidas: \\\\ $\\int_{-4}^{-3} \\left(x^{2} - 2 x - 15\\right)\\, dx=\\frac{13}{3} \\ (F(x)=\\frac{x^{3}}{3} - x^{2} - 15 x)$  \\\\ $\\int_{-3}^{5} \\left(x^{2} - 2 x - 15\\right)\\, dx=\\frac{256}{3} \\ (F(x)=\\frac{x^{3}}{3} - x^{2} - 15 x)$  \\\\ $\\int_{5}^{7} \\left(x^{2} - 2 x - 15\\right)\\, dx=\\frac{56}{3} \\ (F(x)=\\frac{x^{3}}{3} - x^{2} - 15 x)$  \\\\ Área total = $\\frac{325}{3}$"
      ],
      "text/plain": [
       "<IPython.core.display.Markdown object>"
      ]
     },
     "metadata": {},
     "output_type": "display_data"
    },
    {
     "data": {
      "text/plain": [
       "'x^{3} + 2 x^{2} - 5 x - 6'"
      ]
     },
     "metadata": {},
     "output_type": "display_data"
    },
    {
     "data": {
      "text/markdown": [
       "El área limitada por $f(x) = x^3 + 2x^2 - 5x -6$ \n",
       "    y el eje horizontal entre las abscisas -5 y $\\frac{3}{2}$ $ \\rightarrow $Intervalos donde calcular la integral definida: \\ $\\left[-5, -3\\right) \\cup \\left(-3, -1\\right) \\cup \\left(-1, 1.5\\right] \\to $ \\\\ Integrales definidas: \\\\ $\\int_{-5}^{-3} \\left(x^{3} + 2 x^{2} - 5 x - 6\\right)\\, dx=\\frac{128}{3} \\ (F(x)=\\frac{x^{4}}{4} + \\frac{2 x^{3}}{3} - \\frac{5 x^{2}}{2} - 6 x)$  \\\\ $\\int_{-3}^{-1} \\left(x^{3} + 2 x^{2} - 5 x - 6\\right)\\, dx=\\frac{16}{3} \\ (F(x)=\\frac{x^{4}}{4} + \\frac{2 x^{3}}{3} - \\frac{5 x^{2}}{2} - 6 x)$  \\\\ $\\int_{-1}^{1.5} \\left(x^{3} + 2 x^{2} - 5 x - 6\\right)\\, dx=14.1927083333333 \\ (F(x)=\\frac{x^{4}}{4} + \\frac{2 x^{3}}{3} - \\frac{5 x^{2}}{2} - 6 x)$  \\\\ Área total = $62.1927083333333$"
      ],
      "text/plain": [
       "<IPython.core.display.Markdown object>"
      ]
     },
     "metadata": {},
     "output_type": "display_data"
    },
    {
     "data": {
      "text/plain": [
       "'x^{3} + x^{2} - 10 x + 8'"
      ]
     },
     "metadata": {},
     "output_type": "display_data"
    },
    {
     "data": {
      "text/markdown": [
       "El área limitada por \n",
       "    $f(x) = x^3 + x^2 -10x + 8$ y el eje OX $ \\rightarrow $Intervalos donde calcular la integral definida: \\ $\\left(-\\infty, -4\\right) \\cup \\left(-4, 1\\right) \\cup \\left(1, 2\\right) \\cup \\left(2, \\infty\\right) \\to $ \\\\ Integrales definidas: \\\\ $\\int_{-\\infty}^{-4} \\left(x^{3} + x^{2} - 10 x + 8\\right)\\, dx=\\infty \\ (F(x)=\\frac{x^{4}}{4} + \\frac{x^{3}}{3} - 5 x^{2} + 8 x)$  \\\\ $\\int_{-4}^{1} \\left(x^{3} + x^{2} - 10 x + 8\\right)\\, dx=\\frac{875}{12} \\ (F(x)=\\frac{x^{4}}{4} + \\frac{x^{3}}{3} - 5 x^{2} + 8 x)$  \\\\ $\\int_{1}^{2} \\left(x^{3} + x^{2} - 10 x + 8\\right)\\, dx=\\frac{11}{12} \\ (F(x)=\\frac{x^{4}}{4} + \\frac{x^{3}}{3} - 5 x^{2} + 8 x)$  \\\\ $\\int_{2}^{\\infty} \\left(x^{3} + x^{2} - 10 x + 8\\right)\\, dx=\\infty \\ (F(x)=\\frac{x^{4}}{4} + \\frac{x^{3}}{3} - 5 x^{2} + 8 x)$  \\\\ Área total = $\\frac{443}{6}$"
      ],
      "text/plain": [
       "<IPython.core.display.Markdown object>"
      ]
     },
     "metadata": {},
     "output_type": "display_data"
    },
    {
     "data": {
      "text/plain": [
       "'x^{2} - 4 x'"
      ]
     },
     "metadata": {},
     "output_type": "display_data"
    },
    {
     "data": {
      "text/markdown": [
       "El área del recinto limitado por la \n",
       "    parábola $y = x^2 - 4x$ y el eje OX $ \\rightarrow $Intervalos donde calcular la integral definida: \\ $\\left(-\\infty, 0\\right) \\cup \\left(0, 4\\right) \\cup \\left(4, \\infty\\right) \\to $ \\\\ Integrales definidas: \\\\ $\\int_{-\\infty}^{0} \\left(x^{2} - 4 x\\right)\\, dx=\\infty \\ (F(x)=\\frac{x^{3}}{3} - 2 x^{2})$  \\\\ $\\int_{0}^{4} \\left(x^{2} - 4 x\\right)\\, dx=\\frac{32}{3} \\ (F(x)=\\frac{x^{3}}{3} - 2 x^{2})$  \\\\ $\\int_{4}^{\\infty} \\left(x^{2} - 4 x\\right)\\, dx=\\infty \\ (F(x)=\\frac{x^{3}}{3} - 2 x^{2})$  \\\\ Área total = $\\frac{32}{3}$"
      ],
      "text/plain": [
       "<IPython.core.display.Markdown object>"
      ]
     },
     "metadata": {},
     "output_type": "display_data"
    },
    {
     "data": {
      "text/plain": [
       "'- x^{2} + 4 x'"
      ]
     },
     "metadata": {},
     "output_type": "display_data"
    },
    {
     "data": {
      "text/markdown": [
       "El área del recinto limitado por la \n",
       "    parábola $y = 4x - x^2 $ y el eje OX $ \\rightarrow $Intervalos donde calcular la integral definida: \\ $\\left(-\\infty, 0\\right) \\cup \\left(0, 4\\right) \\cup \\left(4, \\infty\\right) \\to $ \\\\ Integrales definidas: \\\\ $\\int_{-\\infty}^{0} \\left(- x^{2} + 4 x\\right)\\, dx=\\infty \\ (F(x)=- \\frac{x^{3}}{3} + 2 x^{2})$  \\\\ $\\int_{0}^{4} \\left(- x^{2} + 4 x\\right)\\, dx=\\frac{32}{3} \\ (F(x)=- \\frac{x^{3}}{3} + 2 x^{2})$  \\\\ $\\int_{4}^{\\infty} \\left(- x^{2} + 4 x\\right)\\, dx=\\infty \\ (F(x)=- \\frac{x^{3}}{3} + 2 x^{2})$  \\\\ Área total = $\\frac{32}{3}$"
      ],
      "text/plain": [
       "<IPython.core.display.Markdown object>"
      ]
     },
     "metadata": {},
     "output_type": "display_data"
    }
   ],
   "source": [
    "puntuacion = '1'                          \n",
    "                      \n",
    "datos = [\n",
    "        \n",
    "        ['x**3',-1,1,r\"\"\"El área del recinto limitado por la gráfica de la función \n",
    "$f(x) = x^3$, el eje de abscisas y las rectas x=-1\n",
    "y x=1\"\"\"],\n",
    "            ['-x**2+4',0,2,r\"\"\"El área del recinto limitado por la gráfica de la función \n",
    "    $f(x) = -x^2 + 4$, el eje de abscisas y las rectas x=0\n",
    "    y x=2\"\"\"],\n",
    "    ['x**4-3*x**3-4*x**2+12*x',-oo,oo,\n",
    "     r\"\"\"El área del recinto limitado por la gráfica de $f(x)=x^4 -3x^3 -4x2 +12x$ y el eje OX\"\"\"],\n",
    "    ['-2*x**2-3*x+9', -oo,oo,\n",
    "     r\"\"\"El área limitada por las gráficas de $f(x) = -x^2-4x+3 \\land g(x) = x^2 -x-6$\"\"\"],\n",
    "    ['3*x+2',1,3,r\"\"\"El área del recinto limitado por la recta $y = 3x + 2$, el eje OX y las rectas x = 1 y x = 3. Comprueba el\n",
    "resultado por métodos geométricos\"\"\"],\n",
    "    ['(x+1)-(x**2+1)',-oo,oo,r\"\"\"El área limitada por las gráficas de las funciones \n",
    "    $f(x) = x+1 \\land g(x) = x^2 +1$\"\"\"],\n",
    "    ['(5*x-9)-(3*x**3-21*x**2+47*x-33)',-oo,oo,r\"\"\"El área limitada por las gráficas de las funciones \n",
    "    $f(x) = 5x-9 \\land g(x) = 3x^3 -21x^2 +47x-33$\"\"\"],\n",
    "    ['x**2-2*x-15',-4,7,r\"\"\"el área limitada por $f(x) = x^2 - 2x - 15$, el eje OX \n",
    "    y las rectas x = -4 y x = 7.\"\"\"],\n",
    "    ['x**3+2*x**2-5*x-6',-5,3/2,r\"\"\"El área limitada por $f(x) = x^3 + 2x^2 - 5x -6$ \n",
    "    y el eje horizontal entre las abscisas -5 y $\\frac{3}{2}$\"\"\"],\n",
    "    ['x**3 + x**2 -10*x + 8',-oo,oo,r\"\"\"El área limitada por \n",
    "    $f(x) = x^3 + x^2 -10x + 8$ y el eje OX\"\"\"],\n",
    "    ['x**2 - 4*x',-oo,oo,r\"\"\"El área del recinto limitado por la \n",
    "    parábola $y = x^2 - 4x$ y el eje OX\"\"\"],\n",
    "    ['-x**2 + 4*x',-oo,oo,r\"\"\"El área del recinto limitado por la \n",
    "    parábola $y = 4x - x^2 $ y el eje OX\"\"\"],\n",
    "    ['-2*x+1/2*x**2',-oo,oo,r\"\"\"El área del recinto limitado por\n",
    "    la recta $y = -2x$ y la parábola $y =-\\frac{1}{2}x^2$\"\"\"],\n",
    "    ['x**3 - 8x**2 + 7*x',2,7,r\"\"\"El área de la región limitada por la curva \n",
    "    y= x^3 - 8x^2 + 7x, el eje OX y las rectas x = 2 y x = 7\"\"\"],\n",
    "    ['-E**{x}',-1,2,r\"\"\"El área de la región limitada por $f(x) = -e^x$ \n",
    "    el eje de abscisas y las rectas x = -1 y x = 2\"\"\"],\n",
    "    ['-log(x)',E,E**2,r\"\"\"El área del recintor limitado por $f(x) = -ln \\ x$ \n",
    "    el eje de abscisas y las rectas $x = e$ y $x = e^2$\"\"\"],\n",
    "    \n",
    "         ]\n",
    "        \n",
    "n_ejercicio = 'p43e06a33'\n",
    "\n",
    "enunciado_latex, enunciado, solucion = [],[],[]\n",
    "\n",
    "texto_ejercicio = r\"\"\"Calcula:\n",
    "\"\"\"\n",
    "\n",
    "display(md(\"**\"+texto_ejercicio+\"**\"))\n",
    "\n",
    "for j, t in enumerate(datos):\n",
    "    inter = Interval(t[1],t[2])\n",
    "    integ = Integral(S(t[0],evaluate=False),('x',t[1],t[2]))\n",
    "    display(latex(S(t[0])))\n",
    "    #enun = r\"\"\"El área del recinto limitado por la gráfica de la \n",
    "    #función $f(x)={}$, el eje de abscisas y las rectas x={}\n",
    "    #y x={}\"\"\".format(latex(S(t[0],evaluate=False)), latex(t[1]), latex(t[2]))\n",
    "    #enunciado_latex.append(enun)\n",
    "    enunciado_latex.append(t[3])\n",
    "    enunciado.append(t[3])\n",
    "    sol = \"Intervalos donde calcular la integral definida: \\\\ \"\n",
    "    sol += r\"$\"+latex(inter - solveset(t[0], domain=(inter) ))+r\" \\to $ \\\\ Integrales definidas: \\\\ \"\n",
    "    area = 0\n",
    "    if (inter - solveset(t[0], domain=(inter) )).is_Interval : intervalos = [(inter - solveset(t[0], domain=(inter) ))]\n",
    "    else : intervalos = (inter - solveset(t[0], domain=(inter) )).args   \n",
    "    for h in intervalos :\n",
    "        #display(h.args[0])\n",
    "        #display(h.args[1])\n",
    "        sol += r\"$\"+latex(Integral(S(t[0],evaluate=False),('x',h.args[0],h.args[1])))+r\"=\"\n",
    "        #display(Integral(S(t[0],evaluate=False),('x',h.args[0],h.args[1])).doit())\n",
    "        region =  abs(Integral(S(t[0],evaluate=False),('x',h.args[0],h.args[1])).doit())\n",
    "        sol +=  latex(region)+r\" \\ (F(x)=\"+latex(integrate(S(t[0],evaluate=False)))+r\")$  \\\\ \"\n",
    "        if region.is_finite : area += region\n",
    "\n",
    "    #enunciado_latex.append(r\"$\"+latex(integ)+r\"$\")\n",
    "    sol+=r\"Área total = $\"+latex(area)+r\"$\"    \n",
    "    solucion.append(sol)\n",
    "    display(md(enunciado_latex[j] +\" $ \\\\rightarrow $\" + solucion[j] ))\n",
    "\n",
    "\n",
    "df_ejercicios = df_ejercicios.append(añadir_ejercicios(enunciado_latex, enunciado, solucion, texto_ejercicio, curso, titulo , n_ejercicio, '5', '1', enun_tex=False, sol_tex=False), ignore_index=True)\n",
    "\n",
    "\n"
   ]
  },
  {
   "cell_type": "code",
   "execution_count": 5,
   "metadata": {},
   "outputs": [
    {
     "data": {
      "text/markdown": [
       "**Utiliza la regla de Barrow para calcular :\n",
       "**"
      ],
      "text/plain": [
       "<IPython.core.display.Markdown object>"
      ]
     },
     "metadata": {},
     "output_type": "display_data"
    },
    {
     "data": {
      "text/markdown": [
       "$\\int_{0}^{3} \\left(3 x^{2} - 6\\right)\\, dx$ $ \\rightarrow $$9 \\ (F(x)=x^{3} - 6 x)$"
      ],
      "text/plain": [
       "<IPython.core.display.Markdown object>"
      ]
     },
     "metadata": {},
     "output_type": "display_data"
    },
    {
     "data": {
      "text/markdown": [
       "$\\int_{1}^{2} \\frac{1}{x}\\, dx$ $ \\rightarrow $$\\log{\\left (2 \\right )} \\ (F(x)=\\log{\\left (x \\right )})$"
      ],
      "text/plain": [
       "<IPython.core.display.Markdown object>"
      ]
     },
     "metadata": {},
     "output_type": "display_data"
    },
    {
     "data": {
      "text/markdown": [
       "$\\int_{0}^{1} \\frac{5}{7 x^{2} + 7}\\, dx$ $ \\rightarrow $$\\frac{5 \\pi}{28} \\ (F(x)=\\frac{5 \\operatorname{atan}{\\left (x \\right )}}{7})$"
      ],
      "text/plain": [
       "<IPython.core.display.Markdown object>"
      ]
     },
     "metadata": {},
     "output_type": "display_data"
    },
    {
     "data": {
      "text/markdown": [
       "$\\int_{2}^{3} \\frac{1}{x \\log{\\left (x \\right )}}\\, dx$ $ \\rightarrow $$\\log{\\left (\\frac{\\log{\\left (3 \\right )}}{\\log{\\left (2 \\right )}} \\right )} \\ (F(x)=\\log{\\left (\\log{\\left (x \\right )} \\right )})$"
      ],
      "text/plain": [
       "<IPython.core.display.Markdown object>"
      ]
     },
     "metadata": {},
     "output_type": "display_data"
    },
    {
     "data": {
      "text/markdown": [
       "$\\int_{\\frac{\\pi}{2}}^{2 \\pi} \\sin^{5}{\\left (x \\right )} \\cos{\\left (x \\right )}\\, dx$ $ \\rightarrow $$- \\frac{1}{6} \\ (F(x)=\\frac{\\sin^{6}{\\left (x \\right )}}{6})$"
      ],
      "text/plain": [
       "<IPython.core.display.Markdown object>"
      ]
     },
     "metadata": {},
     "output_type": "display_data"
    },
    {
     "data": {
      "text/markdown": [
       "$\\int_{2}^{5} e^{x} x\\, dx$ $ \\rightarrow $$- e^{2} + 4 e^{5} \\ (F(x)=\\left(x - 1\\right) e^{x})$"
      ],
      "text/plain": [
       "<IPython.core.display.Markdown object>"
      ]
     },
     "metadata": {},
     "output_type": "display_data"
    },
    {
     "data": {
      "text/markdown": [
       "$\\int_{0}^{5} \\begin{cases} x + 1 & \\text{for}\\: x < 1 \\\\- x + 3 & \\text{for}\\: x \\leq 3 \\\\x - 3 & \\text{otherwise} \\end{cases}\\, dx$ $ \\rightarrow $$\\frac{11}{2} \\ (F(x)=\\begin{cases} \\frac{x^{2}}{2} + x & \\text{for}\\: x < 1 \\\\- \\frac{x^{2}}{2} + 3 x - 1 & \\text{for}\\: x \\leq 3 \\\\\\frac{x^{2}}{2} - 3 x + 8 & \\text{otherwise} \\end{cases})$"
      ],
      "text/plain": [
       "<IPython.core.display.Markdown object>"
      ]
     },
     "metadata": {},
     "output_type": "display_data"
    },
    {
     "data": {
      "text/markdown": [
       "$\\int_{-5}^{5} \\left|{x}\\right|\\, dx$ $ \\rightarrow $$25 \\ (F(x)=\\int \\left|{x}\\right|\\, dx)$"
      ],
      "text/plain": [
       "<IPython.core.display.Markdown object>"
      ]
     },
     "metadata": {},
     "output_type": "display_data"
    },
    {
     "data": {
      "text/markdown": [
       "$\\int_{0}^{\\pi} \\left|{x - 2}\\right|\\, dx$ $ \\rightarrow $$- 2 \\pi + 4 + \\frac{\\pi^{2}}{2} \\ (F(x)=\\int \\left|{x - 2}\\right|\\, dx)$"
      ],
      "text/plain": [
       "<IPython.core.display.Markdown object>"
      ]
     },
     "metadata": {},
     "output_type": "display_data"
    }
   ],
   "source": [
    "puntuacion = '1'                          \n",
    "                      \n",
    "datos = [['3*x**2-6',0,3],['x**(-1)',1,2],['5/(7+7*x**2)',0,1],\n",
    "         ['1/(x*log(x))',2,3], ['cos(x)*sin(x)**5',pi/2,2*pi],['x*E**x',2,5],\n",
    "         ['Piecewise((x+1,x<1),(3-x,x<=3),(x-3,True))',0,5],\n",
    "         ['Abs(x)',-5,5], ['Abs(x-2)',0,pi]\n",
    "         \n",
    "         ]\n",
    "        \n",
    "n_ejercicio = 'p43e03a5'\n",
    "enunciado_latex, enunciado, solucion = [],[],[]\n",
    "\n",
    "texto_ejercicio = r\"\"\"Utiliza la regla de Barrow para calcular :\n",
    "\"\"\"\n",
    "\n",
    "display(md(\"**\"+texto_ejercicio+\"**\"))\n",
    "\n",
    "for j, t in enumerate(datos):\n",
    "    integ = Integral(S(t[0],evaluate=False),('x',t[1],t[2]))\n",
    "    enunciado_latex.append(r\"$\"+latex(integ)+r\"$\")\n",
    "    enunciado.append(r'integrate('+str(S(t[0],evaluate=False))+r\",('x',\"+latex(t[1])+\",\"+latex(t[2])+r\"))\")\n",
    "    sol=r\"$\"+latex(simplify(integ.doit()))+r\" \\ (F(x)=\"+latex(integrate(S(t[0],evaluate=False)))+r\")$\"\n",
    "    solucion.append(sol)\n",
    "    display(md(enunciado_latex[j] +\" $ \\\\rightarrow $\" + solucion[j] ))\n",
    "\n",
    "\n",
    "df_ejercicios = df_ejercicios.append(añadir_ejercicios(enunciado_latex, enunciado, solucion, texto_ejercicio, curso, titulo , n_ejercicio, '5', '2', enun_tex=False, sol_tex=False), ignore_index=True)\n",
    "\n",
    "\n"
   ]
  },
  {
   "cell_type": "code",
   "execution_count": 6,
   "metadata": {},
   "outputs": [
    {
     "data": {
      "text/markdown": [
       "**Calcula:\n",
       "**"
      ],
      "text/plain": [
       "<IPython.core.display.Markdown object>"
      ]
     },
     "metadata": {},
     "output_type": "display_data"
    },
    {
     "data": {
      "text/markdown": [
       "el área del recinto limitado por la gráfica de la función \n",
       "$f(x) = -x^2 + 4$, el eje de abscisas y las rectas x=0\n",
       "y x=2 $ \\rightarrow $$\\int_{0}^{2} \\left(- x^{2} + 4\\right)\\, dx=$$\\frac{16}{3} \\ (F(x)=- \\frac{x^{3}}{3} + 4 x)$"
      ],
      "text/plain": [
       "<IPython.core.display.Markdown object>"
      ]
     },
     "metadata": {},
     "output_type": "display_data"
    }
   ],
   "source": [
    "puntuacion = '1'                          \n",
    "                      \n",
    "datos = [['-x**2+4',0,2,r\"\"\"el área del recinto limitado por la gráfica de la función \n",
    "$f(x) = -x^2 + 4$, el eje de abscisas y las rectas x=0\n",
    "y x=2\"\"\"],\n",
    "         ]\n",
    "        \n",
    "n_ejercicio = 'p43e06'\n",
    "\n",
    "enunciado_latex, enunciado, solucion = [],[],[]\n",
    "\n",
    "texto_ejercicio = r\"\"\"Calcula:\n",
    "\"\"\"\n",
    "\n",
    "display(md(\"**\"+texto_ejercicio+\"**\"))\n",
    "\n",
    "for j, t in enumerate(datos):\n",
    "    integ = Integral(S(t[0],evaluate=False),('x',t[1],t[2]))\n",
    "    enunciado_latex.append(t[3])\n",
    "    #enunciado_latex.append(r\"$\"+latex(integ)+r\"$\")\n",
    "    enunciado.append(r'integrate('+str(S(t[0],evaluate=False))+r\",('x',\"+latex(t[1])+\",\"+latex(t[2])+r\"))\")\n",
    "    sol=r\"$\"+latex(integ)+r\"=$\"+r\"$\"+latex(simplify(integ.doit()))+r\" \\ (F(x)=\"+latex(integrate(S(t[0],evaluate=False)))+r\")$\"\n",
    "    solucion.append(sol)\n",
    "    display(md(enunciado_latex[j] +\" $ \\\\rightarrow $\" + solucion[j] ))\n",
    "\n",
    "\n",
    "#df_ejercicios = df_ejercicios.append(añadir_ejercicios(enunciado_latex, enunciado, solucion, texto_ejercicio, curso, titulo , n_ejercicio, '5', '2', enun_tex=False, sol_tex=False), ignore_index=True)\n",
    "\n",
    "\n"
   ]
  },
  {
   "cell_type": "code",
   "execution_count": 7,
   "metadata": {
    "scrolled": false
   },
   "outputs": [
    {
     "data": {
      "text/html": [
       "<div>\n",
       "<style scoped>\n",
       "    .dataframe tbody tr th:only-of-type {\n",
       "        vertical-align: middle;\n",
       "    }\n",
       "\n",
       "    .dataframe tbody tr th {\n",
       "        vertical-align: top;\n",
       "    }\n",
       "\n",
       "    .dataframe thead th {\n",
       "        text-align: right;\n",
       "    }\n",
       "</style>\n",
       "<table border=\"1\" class=\"dataframe\">\n",
       "  <thead>\n",
       "    <tr style=\"text-align: right;\">\n",
       "      <th></th>\n",
       "      <th>enunciado_latex</th>\n",
       "      <th>enunciado</th>\n",
       "      <th>solucion</th>\n",
       "      <th>texto</th>\n",
       "      <th>curso</th>\n",
       "      <th>titulo</th>\n",
       "      <th>n_ejercicio</th>\n",
       "      <th>dificultad</th>\n",
       "      <th>n_columnas</th>\n",
       "      <th>puntos</th>\n",
       "      <th>enun_tex</th>\n",
       "      <th>sol_tex</th>\n",
       "    </tr>\n",
       "  </thead>\n",
       "  <tbody>\n",
       "    <tr>\n",
       "      <th>0</th>\n",
       "      <td>El área del recinto limitado por la gráfica de...</td>\n",
       "      <td>El área del recinto limitado por la gráfica de...</td>\n",
       "      <td>Intervalos donde calcular la integral definida...</td>\n",
       "      <td>Calcula:\\n</td>\n",
       "      <td>2BC</td>\n",
       "      <td>Integral definida</td>\n",
       "      <td>p43e06a33</td>\n",
       "      <td>5</td>\n",
       "      <td>1</td>\n",
       "      <td>1</td>\n",
       "      <td>False</td>\n",
       "      <td>False</td>\n",
       "    </tr>\n",
       "    <tr>\n",
       "      <th>1</th>\n",
       "      <td>El área del recinto limitado por la gráfica de...</td>\n",
       "      <td>El área del recinto limitado por la gráfica de...</td>\n",
       "      <td>Intervalos donde calcular la integral definida...</td>\n",
       "      <td>Calcula:\\n</td>\n",
       "      <td>2BC</td>\n",
       "      <td>Integral definida</td>\n",
       "      <td>p43e06a33</td>\n",
       "      <td>5</td>\n",
       "      <td>1</td>\n",
       "      <td>1</td>\n",
       "      <td>False</td>\n",
       "      <td>False</td>\n",
       "    </tr>\n",
       "    <tr>\n",
       "      <th>2</th>\n",
       "      <td>El área del recinto limitado por la gráfica de...</td>\n",
       "      <td>El área del recinto limitado por la gráfica de...</td>\n",
       "      <td>Intervalos donde calcular la integral definida...</td>\n",
       "      <td>Calcula:\\n</td>\n",
       "      <td>2BC</td>\n",
       "      <td>Integral definida</td>\n",
       "      <td>p43e06a33</td>\n",
       "      <td>5</td>\n",
       "      <td>1</td>\n",
       "      <td>1</td>\n",
       "      <td>False</td>\n",
       "      <td>False</td>\n",
       "    </tr>\n",
       "    <tr>\n",
       "      <th>3</th>\n",
       "      <td>El área limitada por las gráficas de $f(x) = -...</td>\n",
       "      <td>El área limitada por las gráficas de $f(x) = -...</td>\n",
       "      <td>Intervalos donde calcular la integral definida...</td>\n",
       "      <td>Calcula:\\n</td>\n",
       "      <td>2BC</td>\n",
       "      <td>Integral definida</td>\n",
       "      <td>p43e06a33</td>\n",
       "      <td>5</td>\n",
       "      <td>1</td>\n",
       "      <td>1</td>\n",
       "      <td>False</td>\n",
       "      <td>False</td>\n",
       "    </tr>\n",
       "    <tr>\n",
       "      <th>4</th>\n",
       "      <td>El área del recinto limitado por la recta $y =...</td>\n",
       "      <td>El área del recinto limitado por la recta $y =...</td>\n",
       "      <td>Intervalos donde calcular la integral definida...</td>\n",
       "      <td>Calcula:\\n</td>\n",
       "      <td>2BC</td>\n",
       "      <td>Integral definida</td>\n",
       "      <td>p43e06a33</td>\n",
       "      <td>5</td>\n",
       "      <td>1</td>\n",
       "      <td>1</td>\n",
       "      <td>False</td>\n",
       "      <td>False</td>\n",
       "    </tr>\n",
       "    <tr>\n",
       "      <th>5</th>\n",
       "      <td>El área limitada por las gráficas de las funci...</td>\n",
       "      <td>El área limitada por las gráficas de las funci...</td>\n",
       "      <td>Intervalos donde calcular la integral definida...</td>\n",
       "      <td>Calcula:\\n</td>\n",
       "      <td>2BC</td>\n",
       "      <td>Integral definida</td>\n",
       "      <td>p43e06a33</td>\n",
       "      <td>5</td>\n",
       "      <td>1</td>\n",
       "      <td>1</td>\n",
       "      <td>False</td>\n",
       "      <td>False</td>\n",
       "    </tr>\n",
       "    <tr>\n",
       "      <th>6</th>\n",
       "      <td>El área limitada por las gráficas de las funci...</td>\n",
       "      <td>El área limitada por las gráficas de las funci...</td>\n",
       "      <td>Intervalos donde calcular la integral definida...</td>\n",
       "      <td>Calcula:\\n</td>\n",
       "      <td>2BC</td>\n",
       "      <td>Integral definida</td>\n",
       "      <td>p43e06a33</td>\n",
       "      <td>5</td>\n",
       "      <td>1</td>\n",
       "      <td>1</td>\n",
       "      <td>False</td>\n",
       "      <td>False</td>\n",
       "    </tr>\n",
       "    <tr>\n",
       "      <th>7</th>\n",
       "      <td>$\\int_{0}^{3} \\left(3 x^{2} - 6\\right)\\, dx$</td>\n",
       "      <td>integrate(3*x**2 - 6,('x',0,3))</td>\n",
       "      <td>$9 \\ (F(x)=x^{3} - 6 x)$</td>\n",
       "      <td>Utiliza la regla de Barrow para calcular :\\n</td>\n",
       "      <td>2BC</td>\n",
       "      <td>Integral definida</td>\n",
       "      <td>p43e03a5</td>\n",
       "      <td>5</td>\n",
       "      <td>2</td>\n",
       "      <td>1</td>\n",
       "      <td>False</td>\n",
       "      <td>False</td>\n",
       "    </tr>\n",
       "    <tr>\n",
       "      <th>8</th>\n",
       "      <td>$\\int_{1}^{2} \\frac{1}{x}\\, dx$</td>\n",
       "      <td>integrate(1/x,('x',1,2))</td>\n",
       "      <td>$\\log{\\left (2 \\right )} \\ (F(x)=\\log{\\left (x...</td>\n",
       "      <td>Utiliza la regla de Barrow para calcular :\\n</td>\n",
       "      <td>2BC</td>\n",
       "      <td>Integral definida</td>\n",
       "      <td>p43e03a5</td>\n",
       "      <td>5</td>\n",
       "      <td>2</td>\n",
       "      <td>1</td>\n",
       "      <td>False</td>\n",
       "      <td>False</td>\n",
       "    </tr>\n",
       "    <tr>\n",
       "      <th>9</th>\n",
       "      <td>$\\int_{0}^{1} \\frac{5}{7 x^{2} + 7}\\, dx$</td>\n",
       "      <td>integrate(5/(7*x**2 + 7),('x',0,1))</td>\n",
       "      <td>$\\frac{5 \\pi}{28} \\ (F(x)=\\frac{5 \\operatornam...</td>\n",
       "      <td>Utiliza la regla de Barrow para calcular :\\n</td>\n",
       "      <td>2BC</td>\n",
       "      <td>Integral definida</td>\n",
       "      <td>p43e03a5</td>\n",
       "      <td>5</td>\n",
       "      <td>2</td>\n",
       "      <td>1</td>\n",
       "      <td>False</td>\n",
       "      <td>False</td>\n",
       "    </tr>\n",
       "    <tr>\n",
       "      <th>10</th>\n",
       "      <td>$\\int_{2}^{3} \\frac{1}{x \\log{\\left (x \\right ...</td>\n",
       "      <td>integrate(1/(x*log(x)),('x',2,3))</td>\n",
       "      <td>$\\log{\\left (\\frac{\\log{\\left (3 \\right )}}{\\l...</td>\n",
       "      <td>Utiliza la regla de Barrow para calcular :\\n</td>\n",
       "      <td>2BC</td>\n",
       "      <td>Integral definida</td>\n",
       "      <td>p43e03a5</td>\n",
       "      <td>5</td>\n",
       "      <td>2</td>\n",
       "      <td>1</td>\n",
       "      <td>False</td>\n",
       "      <td>False</td>\n",
       "    </tr>\n",
       "    <tr>\n",
       "      <th>11</th>\n",
       "      <td>$\\int_{\\frac{\\pi}{2}}^{2 \\pi} \\sin^{5}{\\left (...</td>\n",
       "      <td>integrate(sin(x)**5*cos(x),('x',\\frac{\\pi}{2},...</td>\n",
       "      <td>$- \\frac{1}{6} \\ (F(x)=\\frac{\\sin^{6}{\\left (x...</td>\n",
       "      <td>Utiliza la regla de Barrow para calcular :\\n</td>\n",
       "      <td>2BC</td>\n",
       "      <td>Integral definida</td>\n",
       "      <td>p43e03a5</td>\n",
       "      <td>5</td>\n",
       "      <td>2</td>\n",
       "      <td>1</td>\n",
       "      <td>False</td>\n",
       "      <td>False</td>\n",
       "    </tr>\n",
       "    <tr>\n",
       "      <th>12</th>\n",
       "      <td>$\\int_{2}^{5} e^{x} x\\, dx$</td>\n",
       "      <td>integrate(E**x*x,('x',2,5))</td>\n",
       "      <td>$- e^{2} + 4 e^{5} \\ (F(x)=\\left(x - 1\\right) ...</td>\n",
       "      <td>Utiliza la regla de Barrow para calcular :\\n</td>\n",
       "      <td>2BC</td>\n",
       "      <td>Integral definida</td>\n",
       "      <td>p43e03a5</td>\n",
       "      <td>5</td>\n",
       "      <td>2</td>\n",
       "      <td>1</td>\n",
       "      <td>False</td>\n",
       "      <td>False</td>\n",
       "    </tr>\n",
       "    <tr>\n",
       "      <th>13</th>\n",
       "      <td>$\\int_{0}^{5} \\begin{cases} x + 1 &amp; \\text{for}...</td>\n",
       "      <td>integrate(Piecewise((x + 1, x &lt; 1), (-x + 3, x...</td>\n",
       "      <td>$\\frac{11}{2} \\ (F(x)=\\begin{cases} \\frac{x^{2...</td>\n",
       "      <td>Utiliza la regla de Barrow para calcular :\\n</td>\n",
       "      <td>2BC</td>\n",
       "      <td>Integral definida</td>\n",
       "      <td>p43e03a5</td>\n",
       "      <td>5</td>\n",
       "      <td>2</td>\n",
       "      <td>1</td>\n",
       "      <td>False</td>\n",
       "      <td>False</td>\n",
       "    </tr>\n",
       "    <tr>\n",
       "      <th>14</th>\n",
       "      <td>$\\int_{-5}^{5} \\left|{x}\\right|\\, dx$</td>\n",
       "      <td>integrate(Abs(x),('x',-5,5))</td>\n",
       "      <td>$25 \\ (F(x)=\\int \\left|{x}\\right|\\, dx)$</td>\n",
       "      <td>Utiliza la regla de Barrow para calcular :\\n</td>\n",
       "      <td>2BC</td>\n",
       "      <td>Integral definida</td>\n",
       "      <td>p43e03a5</td>\n",
       "      <td>5</td>\n",
       "      <td>2</td>\n",
       "      <td>1</td>\n",
       "      <td>False</td>\n",
       "      <td>False</td>\n",
       "    </tr>\n",
       "    <tr>\n",
       "      <th>15</th>\n",
       "      <td>$\\int_{0}^{\\pi} \\left|{x - 2}\\right|\\, dx$</td>\n",
       "      <td>integrate(Abs(x - 2),('x',0,\\pi))</td>\n",
       "      <td>$- 2 \\pi + 4 + \\frac{\\pi^{2}}{2} \\ (F(x)=\\int ...</td>\n",
       "      <td>Utiliza la regla de Barrow para calcular :\\n</td>\n",
       "      <td>2BC</td>\n",
       "      <td>Integral definida</td>\n",
       "      <td>p43e03a5</td>\n",
       "      <td>5</td>\n",
       "      <td>2</td>\n",
       "      <td>1</td>\n",
       "      <td>False</td>\n",
       "      <td>False</td>\n",
       "    </tr>\n",
       "  </tbody>\n",
       "</table>\n",
       "</div>"
      ],
      "text/plain": [
       "                                      enunciado_latex  \\\n",
       "0   El área del recinto limitado por la gráfica de...   \n",
       "1   El área del recinto limitado por la gráfica de...   \n",
       "2   El área del recinto limitado por la gráfica de...   \n",
       "3   El área limitada por las gráficas de $f(x) = -...   \n",
       "4   El área del recinto limitado por la recta $y =...   \n",
       "5   El área limitada por las gráficas de las funci...   \n",
       "6   El área limitada por las gráficas de las funci...   \n",
       "7        $\\int_{0}^{3} \\left(3 x^{2} - 6\\right)\\, dx$   \n",
       "8                     $\\int_{1}^{2} \\frac{1}{x}\\, dx$   \n",
       "9           $\\int_{0}^{1} \\frac{5}{7 x^{2} + 7}\\, dx$   \n",
       "10  $\\int_{2}^{3} \\frac{1}{x \\log{\\left (x \\right ...   \n",
       "11  $\\int_{\\frac{\\pi}{2}}^{2 \\pi} \\sin^{5}{\\left (...   \n",
       "12                        $\\int_{2}^{5} e^{x} x\\, dx$   \n",
       "13  $\\int_{0}^{5} \\begin{cases} x + 1 & \\text{for}...   \n",
       "14              $\\int_{-5}^{5} \\left|{x}\\right|\\, dx$   \n",
       "15         $\\int_{0}^{\\pi} \\left|{x - 2}\\right|\\, dx$   \n",
       "\n",
       "                                            enunciado  \\\n",
       "0   El área del recinto limitado por la gráfica de...   \n",
       "1   El área del recinto limitado por la gráfica de...   \n",
       "2   El área del recinto limitado por la gráfica de...   \n",
       "3   El área limitada por las gráficas de $f(x) = -...   \n",
       "4   El área del recinto limitado por la recta $y =...   \n",
       "5   El área limitada por las gráficas de las funci...   \n",
       "6   El área limitada por las gráficas de las funci...   \n",
       "7                     integrate(3*x**2 - 6,('x',0,3))   \n",
       "8                            integrate(1/x,('x',1,2))   \n",
       "9                 integrate(5/(7*x**2 + 7),('x',0,1))   \n",
       "10                  integrate(1/(x*log(x)),('x',2,3))   \n",
       "11  integrate(sin(x)**5*cos(x),('x',\\frac{\\pi}{2},...   \n",
       "12                        integrate(E**x*x,('x',2,5))   \n",
       "13  integrate(Piecewise((x + 1, x < 1), (-x + 3, x...   \n",
       "14                       integrate(Abs(x),('x',-5,5))   \n",
       "15                  integrate(Abs(x - 2),('x',0,\\pi))   \n",
       "\n",
       "                                             solucion  \\\n",
       "0   Intervalos donde calcular la integral definida...   \n",
       "1   Intervalos donde calcular la integral definida...   \n",
       "2   Intervalos donde calcular la integral definida...   \n",
       "3   Intervalos donde calcular la integral definida...   \n",
       "4   Intervalos donde calcular la integral definida...   \n",
       "5   Intervalos donde calcular la integral definida...   \n",
       "6   Intervalos donde calcular la integral definida...   \n",
       "7                            $9 \\ (F(x)=x^{3} - 6 x)$   \n",
       "8   $\\log{\\left (2 \\right )} \\ (F(x)=\\log{\\left (x...   \n",
       "9   $\\frac{5 \\pi}{28} \\ (F(x)=\\frac{5 \\operatornam...   \n",
       "10  $\\log{\\left (\\frac{\\log{\\left (3 \\right )}}{\\l...   \n",
       "11  $- \\frac{1}{6} \\ (F(x)=\\frac{\\sin^{6}{\\left (x...   \n",
       "12  $- e^{2} + 4 e^{5} \\ (F(x)=\\left(x - 1\\right) ...   \n",
       "13  $\\frac{11}{2} \\ (F(x)=\\begin{cases} \\frac{x^{2...   \n",
       "14           $25 \\ (F(x)=\\int \\left|{x}\\right|\\, dx)$   \n",
       "15  $- 2 \\pi + 4 + \\frac{\\pi^{2}}{2} \\ (F(x)=\\int ...   \n",
       "\n",
       "                                           texto curso             titulo  \\\n",
       "0                                     Calcula:\\n   2BC  Integral definida   \n",
       "1                                     Calcula:\\n   2BC  Integral definida   \n",
       "2                                     Calcula:\\n   2BC  Integral definida   \n",
       "3                                     Calcula:\\n   2BC  Integral definida   \n",
       "4                                     Calcula:\\n   2BC  Integral definida   \n",
       "5                                     Calcula:\\n   2BC  Integral definida   \n",
       "6                                     Calcula:\\n   2BC  Integral definida   \n",
       "7   Utiliza la regla de Barrow para calcular :\\n   2BC  Integral definida   \n",
       "8   Utiliza la regla de Barrow para calcular :\\n   2BC  Integral definida   \n",
       "9   Utiliza la regla de Barrow para calcular :\\n   2BC  Integral definida   \n",
       "10  Utiliza la regla de Barrow para calcular :\\n   2BC  Integral definida   \n",
       "11  Utiliza la regla de Barrow para calcular :\\n   2BC  Integral definida   \n",
       "12  Utiliza la regla de Barrow para calcular :\\n   2BC  Integral definida   \n",
       "13  Utiliza la regla de Barrow para calcular :\\n   2BC  Integral definida   \n",
       "14  Utiliza la regla de Barrow para calcular :\\n   2BC  Integral definida   \n",
       "15  Utiliza la regla de Barrow para calcular :\\n   2BC  Integral definida   \n",
       "\n",
       "   n_ejercicio dificultad n_columnas puntos  enun_tex  sol_tex  \n",
       "0    p43e06a33          5          1      1     False    False  \n",
       "1    p43e06a33          5          1      1     False    False  \n",
       "2    p43e06a33          5          1      1     False    False  \n",
       "3    p43e06a33          5          1      1     False    False  \n",
       "4    p43e06a33          5          1      1     False    False  \n",
       "5    p43e06a33          5          1      1     False    False  \n",
       "6    p43e06a33          5          1      1     False    False  \n",
       "7     p43e03a5          5          2      1     False    False  \n",
       "8     p43e03a5          5          2      1     False    False  \n",
       "9     p43e03a5          5          2      1     False    False  \n",
       "10    p43e03a5          5          2      1     False    False  \n",
       "11    p43e03a5          5          2      1     False    False  \n",
       "12    p43e03a5          5          2      1     False    False  \n",
       "13    p43e03a5          5          2      1     False    False  \n",
       "14    p43e03a5          5          2      1     False    False  \n",
       "15    p43e03a5          5          2      1     False    False  "
      ]
     },
     "execution_count": 7,
     "metadata": {},
     "output_type": "execute_result"
    }
   ],
   "source": [
    "df_ejercicios"
   ]
  },
  {
   "cell_type": "code",
   "execution_count": 8,
   "metadata": {},
   "outputs": [
    {
     "data": {
      "text/markdown": [
       "**Ejercicio: **p43e03a5"
      ],
      "text/plain": [
       "<IPython.core.display.Markdown object>"
      ]
     },
     "metadata": {},
     "output_type": "display_data"
    },
    {
     "data": {
      "text/html": [
       "<div>\n",
       "<style scoped>\n",
       "    .dataframe tbody tr th:only-of-type {\n",
       "        vertical-align: middle;\n",
       "    }\n",
       "\n",
       "    .dataframe tbody tr th {\n",
       "        vertical-align: top;\n",
       "    }\n",
       "\n",
       "    .dataframe thead th {\n",
       "        text-align: right;\n",
       "    }\n",
       "</style>\n",
       "<table border=\"1\" class=\"dataframe\">\n",
       "  <thead>\n",
       "    <tr style=\"text-align: right;\">\n",
       "      <th></th>\n",
       "      <th>enunciado_latex</th>\n",
       "      <th>enunciado</th>\n",
       "      <th>solucion</th>\n",
       "      <th>texto</th>\n",
       "      <th>curso</th>\n",
       "      <th>titulo</th>\n",
       "      <th>n_ejercicio</th>\n",
       "      <th>dificultad</th>\n",
       "      <th>n_columnas</th>\n",
       "      <th>puntos</th>\n",
       "      <th>enun_tex</th>\n",
       "      <th>sol_tex</th>\n",
       "    </tr>\n",
       "  </thead>\n",
       "  <tbody>\n",
       "    <tr>\n",
       "      <th>7</th>\n",
       "      <td>$\\int_{0}^{3} \\left(3 x^{2} - 6\\right)\\, dx$</td>\n",
       "      <td>integrate(3*x**2 - 6,('x',0,3))</td>\n",
       "      <td>$9 \\ (F(x)=x^{3} - 6 x)$</td>\n",
       "      <td>Utiliza la regla de Barrow para calcular :\\n</td>\n",
       "      <td>2BC</td>\n",
       "      <td>Integral definida</td>\n",
       "      <td>p43e03a5</td>\n",
       "      <td>5</td>\n",
       "      <td>2</td>\n",
       "      <td>1</td>\n",
       "      <td>False</td>\n",
       "      <td>False</td>\n",
       "    </tr>\n",
       "    <tr>\n",
       "      <th>8</th>\n",
       "      <td>$\\int_{1}^{2} \\frac{1}{x}\\, dx$</td>\n",
       "      <td>integrate(1/x,('x',1,2))</td>\n",
       "      <td>$\\log{\\left (2 \\right )} \\ (F(x)=\\log{\\left (x...</td>\n",
       "      <td>Utiliza la regla de Barrow para calcular :\\n</td>\n",
       "      <td>2BC</td>\n",
       "      <td>Integral definida</td>\n",
       "      <td>p43e03a5</td>\n",
       "      <td>5</td>\n",
       "      <td>2</td>\n",
       "      <td>1</td>\n",
       "      <td>False</td>\n",
       "      <td>False</td>\n",
       "    </tr>\n",
       "    <tr>\n",
       "      <th>9</th>\n",
       "      <td>$\\int_{0}^{1} \\frac{5}{7 x^{2} + 7}\\, dx$</td>\n",
       "      <td>integrate(5/(7*x**2 + 7),('x',0,1))</td>\n",
       "      <td>$\\frac{5 \\pi}{28} \\ (F(x)=\\frac{5 \\operatornam...</td>\n",
       "      <td>Utiliza la regla de Barrow para calcular :\\n</td>\n",
       "      <td>2BC</td>\n",
       "      <td>Integral definida</td>\n",
       "      <td>p43e03a5</td>\n",
       "      <td>5</td>\n",
       "      <td>2</td>\n",
       "      <td>1</td>\n",
       "      <td>False</td>\n",
       "      <td>False</td>\n",
       "    </tr>\n",
       "    <tr>\n",
       "      <th>10</th>\n",
       "      <td>$\\int_{2}^{3} \\frac{1}{x \\log{\\left (x \\right ...</td>\n",
       "      <td>integrate(1/(x*log(x)),('x',2,3))</td>\n",
       "      <td>$\\log{\\left (\\frac{\\log{\\left (3 \\right )}}{\\l...</td>\n",
       "      <td>Utiliza la regla de Barrow para calcular :\\n</td>\n",
       "      <td>2BC</td>\n",
       "      <td>Integral definida</td>\n",
       "      <td>p43e03a5</td>\n",
       "      <td>5</td>\n",
       "      <td>2</td>\n",
       "      <td>1</td>\n",
       "      <td>False</td>\n",
       "      <td>False</td>\n",
       "    </tr>\n",
       "    <tr>\n",
       "      <th>11</th>\n",
       "      <td>$\\int_{\\frac{\\pi}{2}}^{2 \\pi} \\sin^{5}{\\left (...</td>\n",
       "      <td>integrate(sin(x)**5*cos(x),('x',\\frac{\\pi}{2},...</td>\n",
       "      <td>$- \\frac{1}{6} \\ (F(x)=\\frac{\\sin^{6}{\\left (x...</td>\n",
       "      <td>Utiliza la regla de Barrow para calcular :\\n</td>\n",
       "      <td>2BC</td>\n",
       "      <td>Integral definida</td>\n",
       "      <td>p43e03a5</td>\n",
       "      <td>5</td>\n",
       "      <td>2</td>\n",
       "      <td>1</td>\n",
       "      <td>False</td>\n",
       "      <td>False</td>\n",
       "    </tr>\n",
       "    <tr>\n",
       "      <th>12</th>\n",
       "      <td>$\\int_{2}^{5} e^{x} x\\, dx$</td>\n",
       "      <td>integrate(E**x*x,('x',2,5))</td>\n",
       "      <td>$- e^{2} + 4 e^{5} \\ (F(x)=\\left(x - 1\\right) ...</td>\n",
       "      <td>Utiliza la regla de Barrow para calcular :\\n</td>\n",
       "      <td>2BC</td>\n",
       "      <td>Integral definida</td>\n",
       "      <td>p43e03a5</td>\n",
       "      <td>5</td>\n",
       "      <td>2</td>\n",
       "      <td>1</td>\n",
       "      <td>False</td>\n",
       "      <td>False</td>\n",
       "    </tr>\n",
       "    <tr>\n",
       "      <th>13</th>\n",
       "      <td>$\\int_{0}^{5} \\begin{cases} x + 1 &amp; \\text{for}...</td>\n",
       "      <td>integrate(Piecewise((x + 1, x &lt; 1), (-x + 3, x...</td>\n",
       "      <td>$\\frac{11}{2} \\ (F(x)=\\begin{cases} \\frac{x^{2...</td>\n",
       "      <td>Utiliza la regla de Barrow para calcular :\\n</td>\n",
       "      <td>2BC</td>\n",
       "      <td>Integral definida</td>\n",
       "      <td>p43e03a5</td>\n",
       "      <td>5</td>\n",
       "      <td>2</td>\n",
       "      <td>1</td>\n",
       "      <td>False</td>\n",
       "      <td>False</td>\n",
       "    </tr>\n",
       "    <tr>\n",
       "      <th>14</th>\n",
       "      <td>$\\int_{-5}^{5} \\left|{x}\\right|\\, dx$</td>\n",
       "      <td>integrate(Abs(x),('x',-5,5))</td>\n",
       "      <td>$25 \\ (F(x)=\\int \\left|{x}\\right|\\, dx)$</td>\n",
       "      <td>Utiliza la regla de Barrow para calcular :\\n</td>\n",
       "      <td>2BC</td>\n",
       "      <td>Integral definida</td>\n",
       "      <td>p43e03a5</td>\n",
       "      <td>5</td>\n",
       "      <td>2</td>\n",
       "      <td>1</td>\n",
       "      <td>False</td>\n",
       "      <td>False</td>\n",
       "    </tr>\n",
       "    <tr>\n",
       "      <th>15</th>\n",
       "      <td>$\\int_{0}^{\\pi} \\left|{x - 2}\\right|\\, dx$</td>\n",
       "      <td>integrate(Abs(x - 2),('x',0,\\pi))</td>\n",
       "      <td>$- 2 \\pi + 4 + \\frac{\\pi^{2}}{2} \\ (F(x)=\\int ...</td>\n",
       "      <td>Utiliza la regla de Barrow para calcular :\\n</td>\n",
       "      <td>2BC</td>\n",
       "      <td>Integral definida</td>\n",
       "      <td>p43e03a5</td>\n",
       "      <td>5</td>\n",
       "      <td>2</td>\n",
       "      <td>1</td>\n",
       "      <td>False</td>\n",
       "      <td>False</td>\n",
       "    </tr>\n",
       "  </tbody>\n",
       "</table>\n",
       "</div>"
      ],
      "text/plain": [
       "                                      enunciado_latex  \\\n",
       "7        $\\int_{0}^{3} \\left(3 x^{2} - 6\\right)\\, dx$   \n",
       "8                     $\\int_{1}^{2} \\frac{1}{x}\\, dx$   \n",
       "9           $\\int_{0}^{1} \\frac{5}{7 x^{2} + 7}\\, dx$   \n",
       "10  $\\int_{2}^{3} \\frac{1}{x \\log{\\left (x \\right ...   \n",
       "11  $\\int_{\\frac{\\pi}{2}}^{2 \\pi} \\sin^{5}{\\left (...   \n",
       "12                        $\\int_{2}^{5} e^{x} x\\, dx$   \n",
       "13  $\\int_{0}^{5} \\begin{cases} x + 1 & \\text{for}...   \n",
       "14              $\\int_{-5}^{5} \\left|{x}\\right|\\, dx$   \n",
       "15         $\\int_{0}^{\\pi} \\left|{x - 2}\\right|\\, dx$   \n",
       "\n",
       "                                            enunciado  \\\n",
       "7                     integrate(3*x**2 - 6,('x',0,3))   \n",
       "8                            integrate(1/x,('x',1,2))   \n",
       "9                 integrate(5/(7*x**2 + 7),('x',0,1))   \n",
       "10                  integrate(1/(x*log(x)),('x',2,3))   \n",
       "11  integrate(sin(x)**5*cos(x),('x',\\frac{\\pi}{2},...   \n",
       "12                        integrate(E**x*x,('x',2,5))   \n",
       "13  integrate(Piecewise((x + 1, x < 1), (-x + 3, x...   \n",
       "14                       integrate(Abs(x),('x',-5,5))   \n",
       "15                  integrate(Abs(x - 2),('x',0,\\pi))   \n",
       "\n",
       "                                             solucion  \\\n",
       "7                            $9 \\ (F(x)=x^{3} - 6 x)$   \n",
       "8   $\\log{\\left (2 \\right )} \\ (F(x)=\\log{\\left (x...   \n",
       "9   $\\frac{5 \\pi}{28} \\ (F(x)=\\frac{5 \\operatornam...   \n",
       "10  $\\log{\\left (\\frac{\\log{\\left (3 \\right )}}{\\l...   \n",
       "11  $- \\frac{1}{6} \\ (F(x)=\\frac{\\sin^{6}{\\left (x...   \n",
       "12  $- e^{2} + 4 e^{5} \\ (F(x)=\\left(x - 1\\right) ...   \n",
       "13  $\\frac{11}{2} \\ (F(x)=\\begin{cases} \\frac{x^{2...   \n",
       "14           $25 \\ (F(x)=\\int \\left|{x}\\right|\\, dx)$   \n",
       "15  $- 2 \\pi + 4 + \\frac{\\pi^{2}}{2} \\ (F(x)=\\int ...   \n",
       "\n",
       "                                           texto curso             titulo  \\\n",
       "7   Utiliza la regla de Barrow para calcular :\\n   2BC  Integral definida   \n",
       "8   Utiliza la regla de Barrow para calcular :\\n   2BC  Integral definida   \n",
       "9   Utiliza la regla de Barrow para calcular :\\n   2BC  Integral definida   \n",
       "10  Utiliza la regla de Barrow para calcular :\\n   2BC  Integral definida   \n",
       "11  Utiliza la regla de Barrow para calcular :\\n   2BC  Integral definida   \n",
       "12  Utiliza la regla de Barrow para calcular :\\n   2BC  Integral definida   \n",
       "13  Utiliza la regla de Barrow para calcular :\\n   2BC  Integral definida   \n",
       "14  Utiliza la regla de Barrow para calcular :\\n   2BC  Integral definida   \n",
       "15  Utiliza la regla de Barrow para calcular :\\n   2BC  Integral definida   \n",
       "\n",
       "   n_ejercicio dificultad n_columnas puntos  enun_tex  sol_tex  \n",
       "7     p43e03a5          5          2      1     False    False  \n",
       "8     p43e03a5          5          2      1     False    False  \n",
       "9     p43e03a5          5          2      1     False    False  \n",
       "10    p43e03a5          5          2      1     False    False  \n",
       "11    p43e03a5          5          2      1     False    False  \n",
       "12    p43e03a5          5          2      1     False    False  \n",
       "13    p43e03a5          5          2      1     False    False  \n",
       "14    p43e03a5          5          2      1     False    False  \n",
       "15    p43e03a5          5          2      1     False    False  "
      ]
     },
     "metadata": {},
     "output_type": "display_data"
    },
    {
     "data": {
      "text/markdown": [
       "**Ejercicio: **p43e06a33"
      ],
      "text/plain": [
       "<IPython.core.display.Markdown object>"
      ]
     },
     "metadata": {},
     "output_type": "display_data"
    },
    {
     "data": {
      "text/html": [
       "<div>\n",
       "<style scoped>\n",
       "    .dataframe tbody tr th:only-of-type {\n",
       "        vertical-align: middle;\n",
       "    }\n",
       "\n",
       "    .dataframe tbody tr th {\n",
       "        vertical-align: top;\n",
       "    }\n",
       "\n",
       "    .dataframe thead th {\n",
       "        text-align: right;\n",
       "    }\n",
       "</style>\n",
       "<table border=\"1\" class=\"dataframe\">\n",
       "  <thead>\n",
       "    <tr style=\"text-align: right;\">\n",
       "      <th></th>\n",
       "      <th>enunciado_latex</th>\n",
       "      <th>enunciado</th>\n",
       "      <th>solucion</th>\n",
       "      <th>texto</th>\n",
       "      <th>curso</th>\n",
       "      <th>titulo</th>\n",
       "      <th>n_ejercicio</th>\n",
       "      <th>dificultad</th>\n",
       "      <th>n_columnas</th>\n",
       "      <th>puntos</th>\n",
       "      <th>enun_tex</th>\n",
       "      <th>sol_tex</th>\n",
       "    </tr>\n",
       "  </thead>\n",
       "  <tbody>\n",
       "    <tr>\n",
       "      <th>0</th>\n",
       "      <td>El área del recinto limitado por la gráfica de...</td>\n",
       "      <td>El área del recinto limitado por la gráfica de...</td>\n",
       "      <td>Intervalos donde calcular la integral definida...</td>\n",
       "      <td>Calcula:\\n</td>\n",
       "      <td>2BC</td>\n",
       "      <td>Integral definida</td>\n",
       "      <td>p43e06a33</td>\n",
       "      <td>5</td>\n",
       "      <td>1</td>\n",
       "      <td>1</td>\n",
       "      <td>False</td>\n",
       "      <td>False</td>\n",
       "    </tr>\n",
       "    <tr>\n",
       "      <th>1</th>\n",
       "      <td>El área del recinto limitado por la gráfica de...</td>\n",
       "      <td>El área del recinto limitado por la gráfica de...</td>\n",
       "      <td>Intervalos donde calcular la integral definida...</td>\n",
       "      <td>Calcula:\\n</td>\n",
       "      <td>2BC</td>\n",
       "      <td>Integral definida</td>\n",
       "      <td>p43e06a33</td>\n",
       "      <td>5</td>\n",
       "      <td>1</td>\n",
       "      <td>1</td>\n",
       "      <td>False</td>\n",
       "      <td>False</td>\n",
       "    </tr>\n",
       "    <tr>\n",
       "      <th>2</th>\n",
       "      <td>El área del recinto limitado por la gráfica de...</td>\n",
       "      <td>El área del recinto limitado por la gráfica de...</td>\n",
       "      <td>Intervalos donde calcular la integral definida...</td>\n",
       "      <td>Calcula:\\n</td>\n",
       "      <td>2BC</td>\n",
       "      <td>Integral definida</td>\n",
       "      <td>p43e06a33</td>\n",
       "      <td>5</td>\n",
       "      <td>1</td>\n",
       "      <td>1</td>\n",
       "      <td>False</td>\n",
       "      <td>False</td>\n",
       "    </tr>\n",
       "    <tr>\n",
       "      <th>3</th>\n",
       "      <td>El área limitada por las gráficas de $f(x) = -...</td>\n",
       "      <td>El área limitada por las gráficas de $f(x) = -...</td>\n",
       "      <td>Intervalos donde calcular la integral definida...</td>\n",
       "      <td>Calcula:\\n</td>\n",
       "      <td>2BC</td>\n",
       "      <td>Integral definida</td>\n",
       "      <td>p43e06a33</td>\n",
       "      <td>5</td>\n",
       "      <td>1</td>\n",
       "      <td>1</td>\n",
       "      <td>False</td>\n",
       "      <td>False</td>\n",
       "    </tr>\n",
       "    <tr>\n",
       "      <th>4</th>\n",
       "      <td>El área del recinto limitado por la recta $y =...</td>\n",
       "      <td>El área del recinto limitado por la recta $y =...</td>\n",
       "      <td>Intervalos donde calcular la integral definida...</td>\n",
       "      <td>Calcula:\\n</td>\n",
       "      <td>2BC</td>\n",
       "      <td>Integral definida</td>\n",
       "      <td>p43e06a33</td>\n",
       "      <td>5</td>\n",
       "      <td>1</td>\n",
       "      <td>1</td>\n",
       "      <td>False</td>\n",
       "      <td>False</td>\n",
       "    </tr>\n",
       "    <tr>\n",
       "      <th>5</th>\n",
       "      <td>El área limitada por las gráficas de las funci...</td>\n",
       "      <td>El área limitada por las gráficas de las funci...</td>\n",
       "      <td>Intervalos donde calcular la integral definida...</td>\n",
       "      <td>Calcula:\\n</td>\n",
       "      <td>2BC</td>\n",
       "      <td>Integral definida</td>\n",
       "      <td>p43e06a33</td>\n",
       "      <td>5</td>\n",
       "      <td>1</td>\n",
       "      <td>1</td>\n",
       "      <td>False</td>\n",
       "      <td>False</td>\n",
       "    </tr>\n",
       "    <tr>\n",
       "      <th>6</th>\n",
       "      <td>El área limitada por las gráficas de las funci...</td>\n",
       "      <td>El área limitada por las gráficas de las funci...</td>\n",
       "      <td>Intervalos donde calcular la integral definida...</td>\n",
       "      <td>Calcula:\\n</td>\n",
       "      <td>2BC</td>\n",
       "      <td>Integral definida</td>\n",
       "      <td>p43e06a33</td>\n",
       "      <td>5</td>\n",
       "      <td>1</td>\n",
       "      <td>1</td>\n",
       "      <td>False</td>\n",
       "      <td>False</td>\n",
       "    </tr>\n",
       "  </tbody>\n",
       "</table>\n",
       "</div>"
      ],
      "text/plain": [
       "                                     enunciado_latex  \\\n",
       "0  El área del recinto limitado por la gráfica de...   \n",
       "1  El área del recinto limitado por la gráfica de...   \n",
       "2  El área del recinto limitado por la gráfica de...   \n",
       "3  El área limitada por las gráficas de $f(x) = -...   \n",
       "4  El área del recinto limitado por la recta $y =...   \n",
       "5  El área limitada por las gráficas de las funci...   \n",
       "6  El área limitada por las gráficas de las funci...   \n",
       "\n",
       "                                           enunciado  \\\n",
       "0  El área del recinto limitado por la gráfica de...   \n",
       "1  El área del recinto limitado por la gráfica de...   \n",
       "2  El área del recinto limitado por la gráfica de...   \n",
       "3  El área limitada por las gráficas de $f(x) = -...   \n",
       "4  El área del recinto limitado por la recta $y =...   \n",
       "5  El área limitada por las gráficas de las funci...   \n",
       "6  El área limitada por las gráficas de las funci...   \n",
       "\n",
       "                                            solucion       texto curso  \\\n",
       "0  Intervalos donde calcular la integral definida...  Calcula:\\n   2BC   \n",
       "1  Intervalos donde calcular la integral definida...  Calcula:\\n   2BC   \n",
       "2  Intervalos donde calcular la integral definida...  Calcula:\\n   2BC   \n",
       "3  Intervalos donde calcular la integral definida...  Calcula:\\n   2BC   \n",
       "4  Intervalos donde calcular la integral definida...  Calcula:\\n   2BC   \n",
       "5  Intervalos donde calcular la integral definida...  Calcula:\\n   2BC   \n",
       "6  Intervalos donde calcular la integral definida...  Calcula:\\n   2BC   \n",
       "\n",
       "              titulo n_ejercicio dificultad n_columnas puntos  enun_tex  \\\n",
       "0  Integral definida   p43e06a33          5          1      1     False   \n",
       "1  Integral definida   p43e06a33          5          1      1     False   \n",
       "2  Integral definida   p43e06a33          5          1      1     False   \n",
       "3  Integral definida   p43e06a33          5          1      1     False   \n",
       "4  Integral definida   p43e06a33          5          1      1     False   \n",
       "5  Integral definida   p43e06a33          5          1      1     False   \n",
       "6  Integral definida   p43e06a33          5          1      1     False   \n",
       "\n",
       "   sol_tex  \n",
       "0    False  \n",
       "1    False  \n",
       "2    False  \n",
       "3    False  \n",
       "4    False  \n",
       "5    False  \n",
       "6    False  "
      ]
     },
     "metadata": {},
     "output_type": "display_data"
    }
   ],
   "source": [
    "escribir_preambulo(fichero, titulo, 'ejercicios')\n",
    "for s in df_ejercicios.groupby('n_ejercicio').count().index : \n",
    "    display(md(\"**Ejercicio: **\" + s ))\n",
    "    display(df_ejercicios[df_ejercicios.n_ejercicio == s])\n",
    "    escribir_ejercicios(df_ejercicios[df_ejercicios.n_ejercicio == s],fichero)\n",
    "\n",
    "escribir_fin(fichero)"
   ]
  },
  {
   "cell_type": "code",
   "execution_count": 9,
   "metadata": {},
   "outputs": [
    {
     "data": {
      "text/markdown": [
       "**Ejercicio: **p43e03a5"
      ],
      "text/plain": [
       "<IPython.core.display.Markdown object>"
      ]
     },
     "metadata": {},
     "output_type": "display_data"
    },
    {
     "data": {
      "text/html": [
       "<div>\n",
       "<style scoped>\n",
       "    .dataframe tbody tr th:only-of-type {\n",
       "        vertical-align: middle;\n",
       "    }\n",
       "\n",
       "    .dataframe tbody tr th {\n",
       "        vertical-align: top;\n",
       "    }\n",
       "\n",
       "    .dataframe thead th {\n",
       "        text-align: right;\n",
       "    }\n",
       "</style>\n",
       "<table border=\"1\" class=\"dataframe\">\n",
       "  <thead>\n",
       "    <tr style=\"text-align: right;\">\n",
       "      <th></th>\n",
       "      <th>enunciado_latex</th>\n",
       "      <th>enunciado</th>\n",
       "      <th>solucion</th>\n",
       "      <th>texto</th>\n",
       "      <th>curso</th>\n",
       "      <th>titulo</th>\n",
       "      <th>n_ejercicio</th>\n",
       "      <th>dificultad</th>\n",
       "      <th>n_columnas</th>\n",
       "      <th>puntos</th>\n",
       "      <th>enun_tex</th>\n",
       "      <th>sol_tex</th>\n",
       "    </tr>\n",
       "  </thead>\n",
       "  <tbody>\n",
       "    <tr>\n",
       "      <th>7</th>\n",
       "      <td>$\\int_{0}^{3} \\left(3 x^{2} - 6\\right)\\, dx$</td>\n",
       "      <td>integrate(3*x**2 - 6,('x',0,3))</td>\n",
       "      <td>$9 \\ (F(x)=x^{3} - 6 x)$</td>\n",
       "      <td>Utiliza la regla de Barrow para calcular :\\n</td>\n",
       "      <td>2BC</td>\n",
       "      <td>Integral definida</td>\n",
       "      <td>p43e03a5</td>\n",
       "      <td>5</td>\n",
       "      <td>2</td>\n",
       "      <td>1</td>\n",
       "      <td>False</td>\n",
       "      <td>False</td>\n",
       "    </tr>\n",
       "    <tr>\n",
       "      <th>8</th>\n",
       "      <td>$\\int_{1}^{2} \\frac{1}{x}\\, dx$</td>\n",
       "      <td>integrate(1/x,('x',1,2))</td>\n",
       "      <td>$\\log{\\left (2 \\right )} \\ (F(x)=\\log{\\left (x...</td>\n",
       "      <td>Utiliza la regla de Barrow para calcular :\\n</td>\n",
       "      <td>2BC</td>\n",
       "      <td>Integral definida</td>\n",
       "      <td>p43e03a5</td>\n",
       "      <td>5</td>\n",
       "      <td>2</td>\n",
       "      <td>1</td>\n",
       "      <td>False</td>\n",
       "      <td>False</td>\n",
       "    </tr>\n",
       "    <tr>\n",
       "      <th>9</th>\n",
       "      <td>$\\int_{0}^{1} \\frac{5}{7 x^{2} + 7}\\, dx$</td>\n",
       "      <td>integrate(5/(7*x**2 + 7),('x',0,1))</td>\n",
       "      <td>$\\frac{5 \\pi}{28} \\ (F(x)=\\frac{5 \\operatornam...</td>\n",
       "      <td>Utiliza la regla de Barrow para calcular :\\n</td>\n",
       "      <td>2BC</td>\n",
       "      <td>Integral definida</td>\n",
       "      <td>p43e03a5</td>\n",
       "      <td>5</td>\n",
       "      <td>2</td>\n",
       "      <td>1</td>\n",
       "      <td>False</td>\n",
       "      <td>False</td>\n",
       "    </tr>\n",
       "    <tr>\n",
       "      <th>10</th>\n",
       "      <td>$\\int_{2}^{3} \\frac{1}{x \\log{\\left (x \\right ...</td>\n",
       "      <td>integrate(1/(x*log(x)),('x',2,3))</td>\n",
       "      <td>$\\log{\\left (\\frac{\\log{\\left (3 \\right )}}{\\l...</td>\n",
       "      <td>Utiliza la regla de Barrow para calcular :\\n</td>\n",
       "      <td>2BC</td>\n",
       "      <td>Integral definida</td>\n",
       "      <td>p43e03a5</td>\n",
       "      <td>5</td>\n",
       "      <td>2</td>\n",
       "      <td>1</td>\n",
       "      <td>False</td>\n",
       "      <td>False</td>\n",
       "    </tr>\n",
       "    <tr>\n",
       "      <th>11</th>\n",
       "      <td>$\\int_{\\frac{\\pi}{2}}^{2 \\pi} \\sin^{5}{\\left (...</td>\n",
       "      <td>integrate(sin(x)**5*cos(x),('x',\\frac{\\pi}{2},...</td>\n",
       "      <td>$- \\frac{1}{6} \\ (F(x)=\\frac{\\sin^{6}{\\left (x...</td>\n",
       "      <td>Utiliza la regla de Barrow para calcular :\\n</td>\n",
       "      <td>2BC</td>\n",
       "      <td>Integral definida</td>\n",
       "      <td>p43e03a5</td>\n",
       "      <td>5</td>\n",
       "      <td>2</td>\n",
       "      <td>1</td>\n",
       "      <td>False</td>\n",
       "      <td>False</td>\n",
       "    </tr>\n",
       "    <tr>\n",
       "      <th>12</th>\n",
       "      <td>$\\int_{2}^{5} e^{x} x\\, dx$</td>\n",
       "      <td>integrate(E**x*x,('x',2,5))</td>\n",
       "      <td>$- e^{2} + 4 e^{5} \\ (F(x)=\\left(x - 1\\right) ...</td>\n",
       "      <td>Utiliza la regla de Barrow para calcular :\\n</td>\n",
       "      <td>2BC</td>\n",
       "      <td>Integral definida</td>\n",
       "      <td>p43e03a5</td>\n",
       "      <td>5</td>\n",
       "      <td>2</td>\n",
       "      <td>1</td>\n",
       "      <td>False</td>\n",
       "      <td>False</td>\n",
       "    </tr>\n",
       "    <tr>\n",
       "      <th>13</th>\n",
       "      <td>$\\int_{0}^{5} \\begin{cases} x + 1 &amp; \\text{for}...</td>\n",
       "      <td>integrate(Piecewise((x + 1, x &lt; 1), (-x + 3, x...</td>\n",
       "      <td>$\\frac{11}{2} \\ (F(x)=\\begin{cases} \\frac{x^{2...</td>\n",
       "      <td>Utiliza la regla de Barrow para calcular :\\n</td>\n",
       "      <td>2BC</td>\n",
       "      <td>Integral definida</td>\n",
       "      <td>p43e03a5</td>\n",
       "      <td>5</td>\n",
       "      <td>2</td>\n",
       "      <td>1</td>\n",
       "      <td>False</td>\n",
       "      <td>False</td>\n",
       "    </tr>\n",
       "    <tr>\n",
       "      <th>14</th>\n",
       "      <td>$\\int_{-5}^{5} \\left|{x}\\right|\\, dx$</td>\n",
       "      <td>integrate(Abs(x),('x',-5,5))</td>\n",
       "      <td>$25 \\ (F(x)=\\int \\left|{x}\\right|\\, dx)$</td>\n",
       "      <td>Utiliza la regla de Barrow para calcular :\\n</td>\n",
       "      <td>2BC</td>\n",
       "      <td>Integral definida</td>\n",
       "      <td>p43e03a5</td>\n",
       "      <td>5</td>\n",
       "      <td>2</td>\n",
       "      <td>1</td>\n",
       "      <td>False</td>\n",
       "      <td>False</td>\n",
       "    </tr>\n",
       "    <tr>\n",
       "      <th>15</th>\n",
       "      <td>$\\int_{0}^{\\pi} \\left|{x - 2}\\right|\\, dx$</td>\n",
       "      <td>integrate(Abs(x - 2),('x',0,\\pi))</td>\n",
       "      <td>$- 2 \\pi + 4 + \\frac{\\pi^{2}}{2} \\ (F(x)=\\int ...</td>\n",
       "      <td>Utiliza la regla de Barrow para calcular :\\n</td>\n",
       "      <td>2BC</td>\n",
       "      <td>Integral definida</td>\n",
       "      <td>p43e03a5</td>\n",
       "      <td>5</td>\n",
       "      <td>2</td>\n",
       "      <td>1</td>\n",
       "      <td>False</td>\n",
       "      <td>False</td>\n",
       "    </tr>\n",
       "  </tbody>\n",
       "</table>\n",
       "</div>"
      ],
      "text/plain": [
       "                                      enunciado_latex  \\\n",
       "7        $\\int_{0}^{3} \\left(3 x^{2} - 6\\right)\\, dx$   \n",
       "8                     $\\int_{1}^{2} \\frac{1}{x}\\, dx$   \n",
       "9           $\\int_{0}^{1} \\frac{5}{7 x^{2} + 7}\\, dx$   \n",
       "10  $\\int_{2}^{3} \\frac{1}{x \\log{\\left (x \\right ...   \n",
       "11  $\\int_{\\frac{\\pi}{2}}^{2 \\pi} \\sin^{5}{\\left (...   \n",
       "12                        $\\int_{2}^{5} e^{x} x\\, dx$   \n",
       "13  $\\int_{0}^{5} \\begin{cases} x + 1 & \\text{for}...   \n",
       "14              $\\int_{-5}^{5} \\left|{x}\\right|\\, dx$   \n",
       "15         $\\int_{0}^{\\pi} \\left|{x - 2}\\right|\\, dx$   \n",
       "\n",
       "                                            enunciado  \\\n",
       "7                     integrate(3*x**2 - 6,('x',0,3))   \n",
       "8                            integrate(1/x,('x',1,2))   \n",
       "9                 integrate(5/(7*x**2 + 7),('x',0,1))   \n",
       "10                  integrate(1/(x*log(x)),('x',2,3))   \n",
       "11  integrate(sin(x)**5*cos(x),('x',\\frac{\\pi}{2},...   \n",
       "12                        integrate(E**x*x,('x',2,5))   \n",
       "13  integrate(Piecewise((x + 1, x < 1), (-x + 3, x...   \n",
       "14                       integrate(Abs(x),('x',-5,5))   \n",
       "15                  integrate(Abs(x - 2),('x',0,\\pi))   \n",
       "\n",
       "                                             solucion  \\\n",
       "7                            $9 \\ (F(x)=x^{3} - 6 x)$   \n",
       "8   $\\log{\\left (2 \\right )} \\ (F(x)=\\log{\\left (x...   \n",
       "9   $\\frac{5 \\pi}{28} \\ (F(x)=\\frac{5 \\operatornam...   \n",
       "10  $\\log{\\left (\\frac{\\log{\\left (3 \\right )}}{\\l...   \n",
       "11  $- \\frac{1}{6} \\ (F(x)=\\frac{\\sin^{6}{\\left (x...   \n",
       "12  $- e^{2} + 4 e^{5} \\ (F(x)=\\left(x - 1\\right) ...   \n",
       "13  $\\frac{11}{2} \\ (F(x)=\\begin{cases} \\frac{x^{2...   \n",
       "14           $25 \\ (F(x)=\\int \\left|{x}\\right|\\, dx)$   \n",
       "15  $- 2 \\pi + 4 + \\frac{\\pi^{2}}{2} \\ (F(x)=\\int ...   \n",
       "\n",
       "                                           texto curso             titulo  \\\n",
       "7   Utiliza la regla de Barrow para calcular :\\n   2BC  Integral definida   \n",
       "8   Utiliza la regla de Barrow para calcular :\\n   2BC  Integral definida   \n",
       "9   Utiliza la regla de Barrow para calcular :\\n   2BC  Integral definida   \n",
       "10  Utiliza la regla de Barrow para calcular :\\n   2BC  Integral definida   \n",
       "11  Utiliza la regla de Barrow para calcular :\\n   2BC  Integral definida   \n",
       "12  Utiliza la regla de Barrow para calcular :\\n   2BC  Integral definida   \n",
       "13  Utiliza la regla de Barrow para calcular :\\n   2BC  Integral definida   \n",
       "14  Utiliza la regla de Barrow para calcular :\\n   2BC  Integral definida   \n",
       "15  Utiliza la regla de Barrow para calcular :\\n   2BC  Integral definida   \n",
       "\n",
       "   n_ejercicio dificultad n_columnas puntos  enun_tex  sol_tex  \n",
       "7     p43e03a5          5          2      1     False    False  \n",
       "8     p43e03a5          5          2      1     False    False  \n",
       "9     p43e03a5          5          2      1     False    False  \n",
       "10    p43e03a5          5          2      1     False    False  \n",
       "11    p43e03a5          5          2      1     False    False  \n",
       "12    p43e03a5          5          2      1     False    False  \n",
       "13    p43e03a5          5          2      1     False    False  \n",
       "14    p43e03a5          5          2      1     False    False  \n",
       "15    p43e03a5          5          2      1     False    False  "
      ]
     },
     "metadata": {},
     "output_type": "display_data"
    },
    {
     "data": {
      "text/markdown": [
       "**Ejercicio: **p43e06a33"
      ],
      "text/plain": [
       "<IPython.core.display.Markdown object>"
      ]
     },
     "metadata": {},
     "output_type": "display_data"
    },
    {
     "data": {
      "text/html": [
       "<div>\n",
       "<style scoped>\n",
       "    .dataframe tbody tr th:only-of-type {\n",
       "        vertical-align: middle;\n",
       "    }\n",
       "\n",
       "    .dataframe tbody tr th {\n",
       "        vertical-align: top;\n",
       "    }\n",
       "\n",
       "    .dataframe thead th {\n",
       "        text-align: right;\n",
       "    }\n",
       "</style>\n",
       "<table border=\"1\" class=\"dataframe\">\n",
       "  <thead>\n",
       "    <tr style=\"text-align: right;\">\n",
       "      <th></th>\n",
       "      <th>enunciado_latex</th>\n",
       "      <th>enunciado</th>\n",
       "      <th>solucion</th>\n",
       "      <th>texto</th>\n",
       "      <th>curso</th>\n",
       "      <th>titulo</th>\n",
       "      <th>n_ejercicio</th>\n",
       "      <th>dificultad</th>\n",
       "      <th>n_columnas</th>\n",
       "      <th>puntos</th>\n",
       "      <th>enun_tex</th>\n",
       "      <th>sol_tex</th>\n",
       "    </tr>\n",
       "  </thead>\n",
       "  <tbody>\n",
       "    <tr>\n",
       "      <th>0</th>\n",
       "      <td>El área del recinto limitado por la gráfica de...</td>\n",
       "      <td>El área del recinto limitado por la gráfica de...</td>\n",
       "      <td>Intervalos donde calcular la integral definida...</td>\n",
       "      <td>Calcula:\\n</td>\n",
       "      <td>2BC</td>\n",
       "      <td>Integral definida</td>\n",
       "      <td>p43e06a33</td>\n",
       "      <td>5</td>\n",
       "      <td>1</td>\n",
       "      <td>1</td>\n",
       "      <td>False</td>\n",
       "      <td>False</td>\n",
       "    </tr>\n",
       "    <tr>\n",
       "      <th>1</th>\n",
       "      <td>El área del recinto limitado por la gráfica de...</td>\n",
       "      <td>El área del recinto limitado por la gráfica de...</td>\n",
       "      <td>Intervalos donde calcular la integral definida...</td>\n",
       "      <td>Calcula:\\n</td>\n",
       "      <td>2BC</td>\n",
       "      <td>Integral definida</td>\n",
       "      <td>p43e06a33</td>\n",
       "      <td>5</td>\n",
       "      <td>1</td>\n",
       "      <td>1</td>\n",
       "      <td>False</td>\n",
       "      <td>False</td>\n",
       "    </tr>\n",
       "    <tr>\n",
       "      <th>2</th>\n",
       "      <td>El área del recinto limitado por la gráfica de...</td>\n",
       "      <td>El área del recinto limitado por la gráfica de...</td>\n",
       "      <td>Intervalos donde calcular la integral definida...</td>\n",
       "      <td>Calcula:\\n</td>\n",
       "      <td>2BC</td>\n",
       "      <td>Integral definida</td>\n",
       "      <td>p43e06a33</td>\n",
       "      <td>5</td>\n",
       "      <td>1</td>\n",
       "      <td>1</td>\n",
       "      <td>False</td>\n",
       "      <td>False</td>\n",
       "    </tr>\n",
       "    <tr>\n",
       "      <th>3</th>\n",
       "      <td>El área limitada por las gráficas de $f(x) = -...</td>\n",
       "      <td>El área limitada por las gráficas de $f(x) = -...</td>\n",
       "      <td>Intervalos donde calcular la integral definida...</td>\n",
       "      <td>Calcula:\\n</td>\n",
       "      <td>2BC</td>\n",
       "      <td>Integral definida</td>\n",
       "      <td>p43e06a33</td>\n",
       "      <td>5</td>\n",
       "      <td>1</td>\n",
       "      <td>1</td>\n",
       "      <td>False</td>\n",
       "      <td>False</td>\n",
       "    </tr>\n",
       "    <tr>\n",
       "      <th>4</th>\n",
       "      <td>El área del recinto limitado por la recta $y =...</td>\n",
       "      <td>El área del recinto limitado por la recta $y =...</td>\n",
       "      <td>Intervalos donde calcular la integral definida...</td>\n",
       "      <td>Calcula:\\n</td>\n",
       "      <td>2BC</td>\n",
       "      <td>Integral definida</td>\n",
       "      <td>p43e06a33</td>\n",
       "      <td>5</td>\n",
       "      <td>1</td>\n",
       "      <td>1</td>\n",
       "      <td>False</td>\n",
       "      <td>False</td>\n",
       "    </tr>\n",
       "    <tr>\n",
       "      <th>5</th>\n",
       "      <td>El área limitada por las gráficas de las funci...</td>\n",
       "      <td>El área limitada por las gráficas de las funci...</td>\n",
       "      <td>Intervalos donde calcular la integral definida...</td>\n",
       "      <td>Calcula:\\n</td>\n",
       "      <td>2BC</td>\n",
       "      <td>Integral definida</td>\n",
       "      <td>p43e06a33</td>\n",
       "      <td>5</td>\n",
       "      <td>1</td>\n",
       "      <td>1</td>\n",
       "      <td>False</td>\n",
       "      <td>False</td>\n",
       "    </tr>\n",
       "    <tr>\n",
       "      <th>6</th>\n",
       "      <td>El área limitada por las gráficas de las funci...</td>\n",
       "      <td>El área limitada por las gráficas de las funci...</td>\n",
       "      <td>Intervalos donde calcular la integral definida...</td>\n",
       "      <td>Calcula:\\n</td>\n",
       "      <td>2BC</td>\n",
       "      <td>Integral definida</td>\n",
       "      <td>p43e06a33</td>\n",
       "      <td>5</td>\n",
       "      <td>1</td>\n",
       "      <td>1</td>\n",
       "      <td>False</td>\n",
       "      <td>False</td>\n",
       "    </tr>\n",
       "  </tbody>\n",
       "</table>\n",
       "</div>"
      ],
      "text/plain": [
       "                                     enunciado_latex  \\\n",
       "0  El área del recinto limitado por la gráfica de...   \n",
       "1  El área del recinto limitado por la gráfica de...   \n",
       "2  El área del recinto limitado por la gráfica de...   \n",
       "3  El área limitada por las gráficas de $f(x) = -...   \n",
       "4  El área del recinto limitado por la recta $y =...   \n",
       "5  El área limitada por las gráficas de las funci...   \n",
       "6  El área limitada por las gráficas de las funci...   \n",
       "\n",
       "                                           enunciado  \\\n",
       "0  El área del recinto limitado por la gráfica de...   \n",
       "1  El área del recinto limitado por la gráfica de...   \n",
       "2  El área del recinto limitado por la gráfica de...   \n",
       "3  El área limitada por las gráficas de $f(x) = -...   \n",
       "4  El área del recinto limitado por la recta $y =...   \n",
       "5  El área limitada por las gráficas de las funci...   \n",
       "6  El área limitada por las gráficas de las funci...   \n",
       "\n",
       "                                            solucion       texto curso  \\\n",
       "0  Intervalos donde calcular la integral definida...  Calcula:\\n   2BC   \n",
       "1  Intervalos donde calcular la integral definida...  Calcula:\\n   2BC   \n",
       "2  Intervalos donde calcular la integral definida...  Calcula:\\n   2BC   \n",
       "3  Intervalos donde calcular la integral definida...  Calcula:\\n   2BC   \n",
       "4  Intervalos donde calcular la integral definida...  Calcula:\\n   2BC   \n",
       "5  Intervalos donde calcular la integral definida...  Calcula:\\n   2BC   \n",
       "6  Intervalos donde calcular la integral definida...  Calcula:\\n   2BC   \n",
       "\n",
       "              titulo n_ejercicio dificultad n_columnas puntos  enun_tex  \\\n",
       "0  Integral definida   p43e06a33          5          1      1     False   \n",
       "1  Integral definida   p43e06a33          5          1      1     False   \n",
       "2  Integral definida   p43e06a33          5          1      1     False   \n",
       "3  Integral definida   p43e06a33          5          1      1     False   \n",
       "4  Integral definida   p43e06a33          5          1      1     False   \n",
       "5  Integral definida   p43e06a33          5          1      1     False   \n",
       "6  Integral definida   p43e06a33          5          1      1     False   \n",
       "\n",
       "   sol_tex  \n",
       "0    False  \n",
       "1    False  \n",
       "2    False  \n",
       "3    False  \n",
       "4    False  \n",
       "5    False  \n",
       "6    False  "
      ]
     },
     "metadata": {},
     "output_type": "display_data"
    }
   ],
   "source": [
    "escribir_preambulo(fichero, titulo, 'ejercicios')\n",
    "for s in df_ejercicios.groupby('n_ejercicio').count().index : \n",
    "    display(md(\"**Ejercicio: **\" + s ))\n",
    "    display(df_ejercicios[df_ejercicios.n_ejercicio == s])\n",
    "    escribir_ejercicios(df_ejercicios[df_ejercicios.n_ejercicio == s],fichero)\n",
    "\n",
    "escribir_fin(fichero)"
   ]
  }
 ],
 "metadata": {
  "kernelspec": {
   "display_name": "Python 3",
   "language": "python",
   "name": "python3"
  },
  "language_info": {
   "codemirror_mode": {
    "name": "ipython",
    "version": 3
   },
   "file_extension": ".py",
   "mimetype": "text/x-python",
   "name": "python",
   "nbconvert_exporter": "python",
   "pygments_lexer": "ipython3",
   "version": "3.7.1"
  }
 },
 "nbformat": 4,
 "nbformat_minor": 2
}
