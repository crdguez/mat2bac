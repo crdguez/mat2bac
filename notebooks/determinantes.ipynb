{
 "cells": [
  {
   "cell_type": "code",
   "execution_count": 0,
   "metadata": {
    "colab": {},
    "colab_type": "code",
    "id": "-cVvkLt0Yl6m"
   },
   "outputs": [],
   "source": [
    "#!pip install sympy"
   ]
  },
  {
   "cell_type": "code",
   "execution_count": 1,
   "metadata": {
    "colab": {},
    "colab_type": "code",
    "id": "fkQeaZkrY0PY"
   },
   "outputs": [],
   "source": [
    "from sympy import *\n",
    "# init_session()\n",
    "from __future__ import division\n",
    "x, y, z, t = symbols('x y z t')\n",
    "k, m, n = symbols('k m n', integer=True)\n",
    "f, g, h = symbols('f g h', cls=Function)\n",
    "init_printing()\n"
   ]
  },
  {
   "cell_type": "code",
   "execution_count": 2,
   "metadata": {
    "colab": {
     "base_uri": "https://localhost:8080/",
     "height": 391
    },
    "colab_type": "code",
    "id": "xE8BglLaQdKT",
    "outputId": "b4fade14-2660-4a87-9b7d-4766795783a8"
   },
   "outputs": [
    {
     "name": "stdout",
     "output_type": "stream",
     "text": [
      "⎡⎡2  -2  0   1 ⎤      ⎤\n",
      "⎢⎢             ⎥      ⎥\n",
      "⎢⎢4  1   -2  1 ⎥      ⎥\n",
      "⎢⎢             ⎥, -218⎥\n",
      "⎢⎢6  2   0   4 ⎥      ⎥\n",
      "⎢⎢             ⎥      ⎥\n",
      "⎣⎣3  4   3   -2⎦      ⎦\n",
      "⎡⎡1  2   -1  3 ⎤     ⎤\n",
      "⎢⎢             ⎥     ⎥\n",
      "⎢⎢0  1   2   3 ⎥     ⎥\n",
      "⎢⎢             ⎥, -92⎥\n",
      "⎢⎢1  -1  0   2 ⎥     ⎥\n",
      "⎢⎢             ⎥     ⎥\n",
      "⎣⎣2  0   5   -2⎦     ⎦\n",
      "⎡⎡2   3  -1  4⎤     ⎤\n",
      "⎢⎢            ⎥     ⎥\n",
      "⎢⎢5   6  2   3⎥     ⎥\n",
      "⎢⎢            ⎥, 295⎥\n",
      "⎢⎢-4  2  5   2⎥     ⎥\n",
      "⎢⎢            ⎥     ⎥\n",
      "⎣⎣2   4  -2  3⎦     ⎦\n"
     ]
    },
    {
     "data": {
      "text/plain": [
       "[None, None, None]"
      ]
     },
     "execution_count": 2,
     "metadata": {},
     "output_type": "execute_result"
    }
   ],
   "source": [
    "# P9.E6\n",
    "\n",
    "datos = [Matrix([[2,-2,0,1],[4,1,-2,1],[6,2,0,4],[3,4,3,-2]]),Matrix([[1,2,-1,3],[0,1,2,3],[1,-1,0,2],[2,0,5,-2]]),Matrix([[2,3,-1,4],[5,6,2,3],[-4,2,5,2],[2,4,-2,3]])]\n",
    "\n",
    "[pprint([A,A.det()]) for A in datos]"
   ]
  },
  {
   "cell_type": "code",
   "execution_count": 3,
   "metadata": {
    "colab": {
     "base_uri": "https://localhost:8080/",
     "height": 255
    },
    "colab_type": "code",
    "id": "nB7QUpLXRUXa",
    "outputId": "20706075-c63e-43cc-a1a3-83ad64990482"
   },
   "outputs": [
    {
     "name": "stdout",
     "output_type": "stream",
     "text": [
      "⎡⎡ 29    -33    25     19  ⎤  ⎡ 29    -33    25     19  ⎤⎤\n",
      "⎢⎢ ──    ────   ──     ──  ⎥  ⎢ ──    ────   ──     ──  ⎥⎥\n",
      "⎢⎢ 92     92    92     92  ⎥  ⎢ 92     92    92     92  ⎥⎥\n",
      "⎢⎢                         ⎥  ⎢                         ⎥⎥\n",
      "⎢⎢ 27          -37         ⎥  ⎢ 27          -37         ⎥⎥\n",
      "⎢⎢ ──    1/92  ────   5/92 ⎥  ⎢ ──    1/92  ────   5/92 ⎥⎥\n",
      "⎢⎢ 92           92         ⎥, ⎢ 92           92         ⎥⎥\n",
      "⎢⎢                         ⎥  ⎢                         ⎥⎥\n",
      "⎢⎢-3/23  5/23  -1/23  2/23 ⎥  ⎢-3/23  5/23  -1/23  2/23 ⎥⎥\n",
      "⎢⎢                         ⎥  ⎢                         ⎥⎥\n",
      "⎢⎢        17    15         ⎥  ⎢        17    15         ⎥⎥\n",
      "⎢⎢-1/92   ──    ──    -7/92⎥  ⎢-1/92   ──    ──    -7/92⎥⎥\n",
      "⎣⎣        92    92         ⎦  ⎣        92    92         ⎦⎦\n",
      "[-29, -25, -19, -92]\n"
     ]
    }
   ],
   "source": [
    "A=Matrix([[1,2,-1,3],[0,1,2,3],[1,-1,0,2],[2,0,5,-2]])\n",
    "A.det(), pprint([1/A.det()*A.adjugate(), A.inv()])\n",
    "pprint([A.cofactor(0,0),A.cofactor(2,0),A.cofactor(3,0),A.det()])"
   ]
  },
  {
   "cell_type": "code",
   "execution_count": 4,
   "metadata": {
    "colab": {
     "base_uri": "https://localhost:8080/",
     "height": 85
    },
    "colab_type": "code",
    "id": "KHQiCBFfM0tc",
    "outputId": "84154b31-0afa-4534-f98c-01a4057a467a"
   },
   "outputs": [
    {
     "name": "stdout",
     "output_type": "stream",
     "text": [
      "[70]\n",
      "[-70]\n",
      "[-218, -218]\n"
     ]
    },
    {
     "data": {
      "text/plain": [
       "[None]"
      ]
     },
     "execution_count": 4,
     "metadata": {},
     "output_type": "execute_result"
    }
   ],
   "source": [
    "\n",
    "\n",
    "datos = [Matrix([[2,-2,0,1],[4,1,-2,1],[6,2,0,4],[3,4,3,-2]])]\n",
    "\n",
    "\n",
    "# cofactor es el adjunto\n",
    "[pprint([A.cofactor(1,2)]) for A in datos]\n",
    "\n",
    "# minor es el menor complementario\n",
    "\n",
    "[pprint([A.minor(1,2)]) for A in datos]\n",
    "\n",
    "[pprint([A[1,2]*A.cofactor(1,2)+A[3,2]*A.cofactor(3,2), A.det()]) for A in datos]\n",
    "\n"
   ]
  },
  {
   "cell_type": "code",
   "execution_count": 5,
   "metadata": {
    "colab": {
     "base_uri": "https://localhost:8080/",
     "height": 425
    },
    "colab_type": "code",
    "id": "hUAR3NPOUBCz",
    "outputId": "2e2e7b8f-8c1f-43b0-b8a6-5fbf80bcdea6"
   },
   "outputs": [
    {
     "name": "stdout",
     "output_type": "stream",
     "text": [
      "Matriz, Adjunta de la traspuesta, determinante, inversa:\n",
      "⎡                                                 ⎡                           \n",
      "⎢                                                 ⎢                           \n",
      "⎢                                                 ⎢                           \n",
      "⎢⎡⎡1   0  1⎤  ⎡0   2   -1⎤     ⎡0   2/5   -1/5⎤⎤  ⎢⎡3   -1  5 ⎤  ⎡ 8   -6   -1\n",
      "⎢⎢⎢        ⎥  ⎢          ⎥     ⎢              ⎥⎥  ⎢⎢          ⎥  ⎢            \n",
      "⎢⎢⎢2   1  1⎥, ⎢-5  3   1 ⎥, 5, ⎢-1  3/5   1/5 ⎥⎥, ⎢⎢-1  3   -2⎥, ⎢-6   -13   1\n",
      "⎢⎢⎢        ⎥  ⎢          ⎥     ⎢              ⎥⎥  ⎢⎢          ⎥  ⎢            \n",
      "⎢⎣⎣-1  2  2⎦  ⎣5   -2  1 ⎦     ⎣1   -2/5  1/5 ⎦⎦  ⎢⎣5   -2  4 ⎦  ⎣-13   1    8\n",
      "⎢                                                 ⎢                           \n",
      "⎢                                                 ⎢                           \n",
      "⎣                                                 ⎣                           \n",
      "\n",
      "         ⎡               13  ⎤⎤⎤\n",
      "         ⎢-8/35  6/35    ──  ⎥⎥⎥\n",
      "         ⎢               35  ⎥⎥⎥\n",
      "3⎤       ⎢                   ⎥⎥⎥\n",
      " ⎥       ⎢        13         ⎥⎥⎥\n",
      " ⎥, -35, ⎢6/35    ──    -1/35⎥⎥⎥\n",
      " ⎥       ⎢        35         ⎥⎥⎥\n",
      " ⎦       ⎢                   ⎥⎥⎥\n",
      "         ⎢ 13                ⎥⎥⎥\n",
      "         ⎢ ──    -1/35  -8/35⎥⎥⎥\n",
      "         ⎣ 35                ⎦⎦⎦\n"
     ]
    }
   ],
   "source": [
    "# P9.E7\n",
    "\n",
    "datos = [Matrix(3,3,[1,0,1,2,1,1,-1,2,2]),Matrix(3,3,[3,-1,5,-1,3,-2,5,-2,4])]\n",
    "pprint(\"Matriz, Adjunta de la traspuesta, determinante, inversa:\")\n",
    "pprint([[A, A.T.cofactor_matrix(), A.det(), A.inv()] for A in datos])"
   ]
  },
  {
   "cell_type": "code",
   "execution_count": 6,
   "metadata": {
    "colab": {
     "base_uri": "https://localhost:8080/",
     "height": 289
    },
    "colab_type": "code",
    "id": "sSZgfE24UPSp",
    "outputId": "943ec173-a272-4575-e18a-4b178ccb1aa1"
   },
   "outputs": [
    {
     "name": "stdout",
     "output_type": "stream",
     "text": [
      "Matriz, determinante\n",
      "⎡⎡⎡2  -2  0   1 ⎤      ⎤  ⎡⎡1  2   -1  3 ⎤     ⎤  ⎡⎡2   3  -1  4⎤     ⎤⎤\n",
      "⎢⎢⎢             ⎥      ⎥  ⎢⎢             ⎥     ⎥  ⎢⎢            ⎥     ⎥⎥\n",
      "⎢⎢⎢4  1   -2  1 ⎥      ⎥  ⎢⎢0  1   2   3 ⎥     ⎥  ⎢⎢5   6  2   3⎥     ⎥⎥\n",
      "⎢⎢⎢             ⎥, -218⎥, ⎢⎢             ⎥, -92⎥, ⎢⎢            ⎥, 295⎥⎥\n",
      "⎢⎢⎢6  2   0   4 ⎥      ⎥  ⎢⎢1  -1  0   2 ⎥     ⎥  ⎢⎢-4  2  5   2⎥     ⎥⎥\n",
      "⎢⎢⎢             ⎥      ⎥  ⎢⎢             ⎥     ⎥  ⎢⎢            ⎥     ⎥⎥\n",
      "⎣⎣⎣3  4   3   -2⎦      ⎦  ⎣⎣2  0   5   -2⎦     ⎦  ⎣⎣2   4  -2  3⎦     ⎦⎦\n"
     ]
    }
   ],
   "source": [
    "# p9 e6.a\n",
    "A,B = [Matrix(4,4,[2,-2,0,1,4,1,-2,1,6,2,0,4,3,4,3,-2]),Matrix(3,3,[2,-2,1,6,11/3,-1/3,6,2,4])]\n",
    "\n",
    "A.det(),-3*B.det()\n",
    "#pprint([A,B])\n",
    "\n",
    "datos = [Matrix(4,4,[2,-2,0,1,4,1,-2,1,6,2,0,4,3,4,3,-2]),\n",
    "         Matrix(4,4,[1,2,-1,3,0,1,2,3,1,-1,0,2,2,0,5,-2]),\n",
    "         Matrix(4,4,[2,3,-1,4,5,6,2,3,-4,2,5,2,2,4,-2,3]),\n",
    "         \n",
    "         ]\n",
    "pprint(\"Matriz, determinante\")\n",
    "pprint([[i,i.det()] for i in datos])"
   ]
  },
  {
   "cell_type": "code",
   "execution_count": 7,
   "metadata": {
    "colab": {
     "base_uri": "https://localhost:8080/",
     "height": 289
    },
    "colab_type": "code",
    "id": "rTH5CLZQ07pr",
    "outputId": "c80dfe51-9edb-4e0a-b3eb-49fdc0fe9562"
   },
   "outputs": [
    {
     "name": "stdout",
     "output_type": "stream",
     "text": [
      "Matriz, rango\n",
      "⎡                                                                  ⎡⎡5   -2   \n",
      "⎢                                               ⎡⎡-3  -2  -4⎤   ⎤  ⎢⎢         \n",
      "⎢⎡⎡3          -1        ⎤   ⎤  ⎡⎡0  3  -2⎤   ⎤  ⎢⎢          ⎥   ⎥  ⎢⎢1    4   \n",
      "⎢⎢⎢                     ⎥, 1⎥, ⎢⎢        ⎥, 2⎥, ⎢⎢-1  1   2 ⎥, 2⎥, ⎢⎢         \n",
      "⎢⎣⎣-2  0.666666666666667⎦   ⎦  ⎣⎣1  6  3 ⎦   ⎦  ⎢⎢          ⎥   ⎥  ⎢⎢3   -10  \n",
      "⎢                                               ⎣⎣3   2   4 ⎦   ⎦  ⎢⎢         \n",
      "⎣                                                                  ⎣⎣-2  -8   \n",
      "\n",
      "9 ⎤   ⎤  ⎡⎡3   1  2  6 ⎤   ⎤⎤\n",
      "  ⎥   ⎥  ⎢⎢            ⎥   ⎥⎥\n",
      "1 ⎥   ⎥  ⎢⎢6   1  3  10⎥   ⎥⎥\n",
      "  ⎥, 2⎥, ⎢⎢            ⎥, 4⎥⎥\n",
      "7 ⎥   ⎥  ⎢⎢1   1  4  6 ⎥   ⎥⎥\n",
      "  ⎥   ⎥  ⎢⎢            ⎥   ⎥⎥\n",
      "-2⎦   ⎦  ⎣⎣-2  1  5  3 ⎦   ⎦⎦\n"
     ]
    }
   ],
   "source": [
    "# p10.e5\n",
    "\n",
    "datos = [Matrix(2,2,[3,-1,-2,2/3]),\n",
    "         Matrix(2,3,[0,3,-2,1,6,3]),\n",
    "         Matrix(3,3,[-3,-2,-4,-1,1,2,3,2,4]),\n",
    "         Matrix(4,3,[5,-2,9,1,4,1,3,-10,7,-2,-8,-2]),\n",
    "         Matrix(4,4,[3,1,2,6,6,1,3,10,1,1,4,6,-2,1,5,3])\n",
    "         ]\n",
    "pprint(\"Matriz, rango\")\n",
    "pprint([[i,i.rank()] for i in datos])"
   ]
  },
  {
   "cell_type": "code",
   "execution_count": 8,
   "metadata": {
    "colab": {
     "base_uri": "https://localhost:8080/",
     "height": 289
    },
    "colab_type": "code",
    "id": "-bix2fOl4S_d",
    "outputId": "1dde2ed0-ac5f-49b4-83d3-1da6f384eeef"
   },
   "outputs": [
    {
     "name": "stdout",
     "output_type": "stream",
     "text": [
      "Matriz, determinante, rango, rango menor si \n",
      "⎡                                                         ⎡⎡k  1  1  1⎤       \n",
      "⎢⎡⎡1  2  k⎤                  ⎤  ⎡⎡1  -1  -1⎤           ⎤  ⎢⎢          ⎥       \n",
      "⎢⎢⎢       ⎥                  ⎥  ⎢⎢         ⎥           ⎥  ⎢⎢1  k  1  1⎥   4   \n",
      "⎢⎢⎢0  3  5⎥, 12 - 6⋅k, 3, [2]⎥, ⎢⎢1  -1  2 ⎥, -9, 3, []⎥, ⎢⎢          ⎥, k  - \n",
      "⎢⎢⎢       ⎥                  ⎥  ⎢⎢         ⎥           ⎥  ⎢⎢1  1  k  1⎥       \n",
      "⎢⎣⎣2  4  4⎦                  ⎦  ⎣⎣2  1   k ⎦           ⎦  ⎢⎢          ⎥       \n",
      "⎣                                                         ⎣⎣1  1  1  k⎦       \n",
      "\n",
      "                          ⎤⎤\n",
      "                          ⎥⎥\n",
      "   2                      ⎥⎥\n",
      "6⋅k  + 8⋅k - 3, 4, [-3, 1]⎥⎥\n",
      "                          ⎥⎥\n",
      "                          ⎥⎥\n",
      "                          ⎦⎦\n"
     ]
    }
   ],
   "source": [
    "# p11.e6\n",
    "\n",
    "datos = [Matrix(3,3,[1,2,k,0,3,5,2,4,4]),\n",
    "         Matrix(3,3,[1,-1,-1,1,-1,2,2,1,k]),\n",
    "         Matrix(4,4,[k,1,1,1,1,k,1,1,1,1,k,1,1,1,1,k]),\n",
    "         #Matrix(3,4,[1,6,10,1,5,-k,-1,2,2,1,k,1])\n",
    "         \n",
    "         ]\n",
    "pprint(\"Matriz, determinante, rango, rango menor si \")\n",
    "pprint([[i,i.det(),i.rank(), solve(i.det(),k)] for i in datos])\n"
   ]
  },
  {
   "cell_type": "code",
   "execution_count": 9,
   "metadata": {
    "colab": {
     "base_uri": "https://localhost:8080/",
     "height": 221
    },
    "colab_type": "code",
    "id": "_OKNwmDm9G9o",
    "outputId": "4945c237-87c8-49ec-92d2-192271a3026d"
   },
   "outputs": [
    {
     "name": "stdout",
     "output_type": "stream",
     "text": [
      "Datos:\n",
      "⎡⎡1  0   2⎤  ⎡1  -1  0⎤  ⎡1   -7  -2⎤⎤\n",
      "⎢⎢        ⎥  ⎢        ⎥  ⎢          ⎥⎥\n",
      "⎢⎢2  1   3⎥, ⎢0  1   2⎥, ⎢-4  -6  -1⎥⎥\n",
      "⎢⎢        ⎥  ⎢        ⎥  ⎢          ⎥⎥\n",
      "⎣⎣1  -1  1⎦  ⎣3  1   1⎦  ⎣7   1   3 ⎦⎦\n",
      "inversa de A, X:\n",
      "⎡⎡ -2    1     1  ⎤  ⎡1  -1  0⎤⎤\n",
      "⎢⎢                ⎥  ⎢        ⎥⎥\n",
      "⎢⎢-1/2  1/2   -1/2⎥, ⎢2  1   2⎥⎥\n",
      "⎢⎢                ⎥  ⎢        ⎥⎥\n",
      "⎣⎣3/2   -1/2  -1/2⎦  ⎣0  3   1⎦⎦\n"
     ]
    }
   ],
   "source": [
    "# p11.e10\n",
    "\n",
    "\n",
    "A, B, C = Matrix(3,3,[1,0,2,2,1,3,1,-1,1]), Matrix(3,3,[1,-1,0,0,1,2,3,1,1]), Matrix(3,3,[1,-7,-2,-4,-6,-1,7,1,3])\n",
    "pprint(\"Datos:\")\n",
    "pprint([A, B , C])\n",
    "pprint(\"inversa de A, X:\")\n",
    "pprint([A.inv(),A.inv()*(2*B-C)])\n"
   ]
  }
 ],
 "metadata": {
  "colab": {
   "collapsed_sections": [],
   "name": "determinantes.ipynb",
   "provenance": []
  },
  "kernelspec": {
   "display_name": "Python 3",
   "language": "python",
   "name": "python3"
  },
  "language_info": {
   "codemirror_mode": {
    "name": "ipython",
    "version": 3
   },
   "file_extension": ".py",
   "mimetype": "text/x-python",
   "name": "python",
   "nbconvert_exporter": "python",
   "pygments_lexer": "ipython3",
   "version": "3.6.8"
  }
 },
 "nbformat": 4,
 "nbformat_minor": 1
}
