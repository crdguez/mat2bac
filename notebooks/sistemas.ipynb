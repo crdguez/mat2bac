{
 "cells": [
  {
   "cell_type": "code",
   "execution_count": 0,
   "metadata": {
    "colab": {},
    "colab_type": "code",
    "id": "-cVvkLt0Yl6m"
   },
   "outputs": [],
   "source": [
    "#!pip install sympy"
   ]
  },
  {
   "cell_type": "code",
   "execution_count": 1,
   "metadata": {
    "colab": {},
    "colab_type": "code",
    "id": "fkQeaZkrY0PY"
   },
   "outputs": [],
   "source": [
    "from sympy import *\n",
    "# init_session()\n",
    "from __future__ import division\n",
    "x, y, z, t = symbols('x y z t')\n",
    "k, m, n = symbols('k m n', integer=True)\n",
    "f, g, h = symbols('f g h', cls=Function)\n",
    "init_printing()\n"
   ]
  },
  {
   "cell_type": "code",
   "execution_count": 10,
   "metadata": {
    "colab": {
     "base_uri": "https://localhost:8080/",
     "height": 323
    },
    "colab_type": "code",
    "id": "tTZ57LHhAmxY",
    "outputId": "b29e3203-5be9-4b44-d13a-3e1950c073a0"
   },
   "outputs": [
    {
     "name": "stdout",
     "output_type": "stream",
     "text": [
      "[x - 2⋅y + 3⋅z = -3, 2⋅x + y = 2, -x - 8⋅y + 9⋅z = 3]\n",
      "⎡⎡1   -2  3⎤     ⎡1   -2  3  -3⎤           ⎤\n",
      "⎢⎢         ⎥     ⎢             ⎥           ⎥\n",
      "⎢⎢2   1   0⎥, 2, ⎢2   1   0  2 ⎥, 3, (3, 3)⎥\n",
      "⎢⎢         ⎥     ⎢             ⎥           ⎥\n",
      "⎣⎣-1  -8  9⎦     ⎣-1  -8  9  3 ⎦           ⎦\n",
      "∅\n",
      "[]\n",
      "[x - 2⋅y + z = 0, x + y - 2⋅z = -3, -2⋅x + 5⋅y - z = 5, 3⋅x - 2⋅y + z = 2]\n",
      "⎡⎡1   -2  1 ⎤     ⎡1   -2  1   0 ⎤           ⎤\n",
      "⎢⎢          ⎥     ⎢              ⎥           ⎥\n",
      "⎢⎢1   1   -2⎥     ⎢1   1   -2  -3⎥           ⎥\n",
      "⎢⎢          ⎥, 3, ⎢              ⎥, 3, (4, 3)⎥\n",
      "⎢⎢-2  5   -1⎥     ⎢-2  5   -1  5 ⎥           ⎥\n",
      "⎢⎢          ⎥     ⎢              ⎥           ⎥\n",
      "⎣⎣3   -2  1 ⎦     ⎣3   -2  1   2 ⎦           ⎦\n",
      "{(1, 2, 3)}\n",
      "{x: 1, y: 2, z: 3}\n"
     ]
    }
   ],
   "source": [
    "# p14.e1\n",
    "\n",
    "sistemas = [[Eq(x-2*y+3*z,-3),Eq(2*x+y,2), Eq(-x-8*y+9*z,3)],\n",
    "            [Eq(x-2*y+z,0), Eq(x+y-2*z,-3),Eq(-2*x+5*y-z,5), Eq(3*x-2*y+z,2)],\n",
    "           ]\n",
    "\n",
    "for sist in sistemas:\n",
    "  pprint(sist)\n",
    "  A, b = linear_eq_to_matrix(sist,[x,y,z])\n",
    "  AA = A.row_join(b)\n",
    "  #pprint(linear_eq_to_matrix(sistema,[x,y,z]))\n",
    "  pprint([A,A.rank(),AA,AA.rank(),A.shape])\n",
    "  #pprint([A.LUdecomposition(),A.LUsolve(b)])\n",
    "  pprint(linsolve(sist,[x,y,z]))\n",
    "  pprint(solve(sist))"
   ]
  },
  {
   "cell_type": "code",
   "execution_count": 0,
   "metadata": {
    "colab": {
     "base_uri": "https://localhost:8080/",
     "height": 306
    },
    "colab_type": "code",
    "id": "Es3ghpxpSch7",
    "outputId": "d79e6c68-4963-4caf-e5ff-9a148efbba05"
   },
   "outputs": [
    {
     "name": "stdout",
     "output_type": "stream",
     "text": [
      "[2⋅x - y + 3⋅z = -3, x + y + z = 0, 2⋅x + 5⋅y + z = 3]\n",
      "⎡⎡2  -1  3⎤     ⎡2  -1  3  -3⎤           ⎤\n",
      "⎢⎢        ⎥     ⎢            ⎥           ⎥\n",
      "⎢⎢1  1   1⎥, 2, ⎢1  1   1  0 ⎥, 2, (3, 3)⎥\n",
      "⎢⎢        ⎥     ⎢            ⎥           ⎥\n",
      "⎣⎣2  5   1⎦     ⎣2  5   1  3 ⎦           ⎦\n",
      "⎡⎛⎡ 1   0  0⎤  ⎡2  -1    3  ⎤    ⎞  ⎡nan⎤⎤\n",
      "⎢⎜⎢         ⎥  ⎢            ⎥    ⎟  ⎢   ⎥⎥\n",
      "⎢⎜⎢1/2  1  0⎥, ⎢0  3/2  -1/2⎥, []⎟, ⎢nan⎥⎥\n",
      "⎢⎜⎢         ⎥  ⎢            ⎥    ⎟  ⎢   ⎥⎥\n",
      "⎣⎝⎣ 1   4  1⎦  ⎣0   0    0  ⎦    ⎠  ⎣nan⎦⎦\n",
      "⎧⎛  4⋅z      z       ⎞⎫\n",
      "⎨⎜- ─── - 1, ─ + 1, z⎟⎬\n",
      "⎩⎝   3       3       ⎠⎭\n",
      "⎧     4⋅z         z    ⎫\n",
      "⎨x: - ─── - 1, y: ─ + 1⎬\n",
      "⎩      3          3    ⎭\n"
     ]
    }
   ],
   "source": [
    "# p14.e2\n",
    "\n",
    "sistemas = [[Eq(2*x-y+3*z,-3),Eq(x+y+z,0), Eq(2*x+5*y+z,3)],\n",
    "           ]\n",
    "\n",
    "for sist in sistemas:\n",
    "  pprint(sist)\n",
    "  A, b = linear_eq_to_matrix(sist,[x,y,z])\n",
    "  AA = A.row_join(b)\n",
    "  #pprint(linear_eq_to_matrix(sistema,[x,y,z]))\n",
    "  pprint([A,A.rank(),AA,AA.rank(),A.shape])\n",
    "  pprint([A.LUdecomposition(),A.LUsolve(b)])\n",
    "  pprint(linsolve(sist,[x,y,z]))\n",
    "  pprint(solve(sist))\n",
    "  "
   ]
  },
  {
   "cell_type": "code",
   "execution_count": 0,
   "metadata": {
    "colab": {
     "base_uri": "https://localhost:8080/",
     "height": 935
    },
    "colab_type": "code",
    "id": "OkeFOR-6Ta-Y",
    "outputId": "605cc1e9-42b9-437e-f2df-e2d371ebf7ec"
   },
   "outputs": [
    {
     "name": "stdout",
     "output_type": "stream",
     "text": [
      "[2⋅x + 4⋅y + 5⋅z = 1, x + 3⋅y + 3⋅z = -1, 3⋅x + 3⋅y + 2⋅z = 2]\n",
      "⎡⎡2  4  5⎤     ⎡2  4  5  1 ⎤           ⎤\n",
      "⎢⎢       ⎥     ⎢           ⎥           ⎥\n",
      "⎢⎢1  3  3⎥, 3, ⎢1  3  3  -1⎥, 3, (3, 3)⎥\n",
      "⎢⎢       ⎥     ⎢           ⎥           ⎥\n",
      "⎣⎣3  3  2⎦     ⎣3  3  2  2 ⎦           ⎦\n",
      "⎡⎛⎡ 1   0   0⎤  ⎡2  4   5 ⎤    ⎞  ⎡2 ⎤⎤\n",
      "⎢⎜⎢          ⎥  ⎢         ⎥    ⎟  ⎢  ⎥⎥\n",
      "⎢⎜⎢1/2  1   0⎥, ⎢0  1  1/2⎥, []⎟, ⎢-2⎥⎥\n",
      "⎢⎜⎢          ⎥  ⎢         ⎥    ⎟  ⎢  ⎥⎥\n",
      "⎣⎝⎣3/2  -3  1⎦  ⎣0  0  -4 ⎦    ⎠  ⎣1 ⎦⎦\n",
      "{(2, -2, 1)}\n",
      "{x: 2, y: -2, z: 1}\n",
      "⎡2 ⎤\n",
      "⎢  ⎥\n",
      "⎢-2⎥\n",
      "⎢  ⎥\n",
      "⎣1 ⎦\n",
      "{x: 2, y: -2, z: 1}\n",
      "Delta_i, A.det, s_i\n",
      "[-16, -8, 2]\n",
      "Delta_i, A.det, s_i\n",
      "[16, -8, -2]\n",
      "Delta_i, A.det, s_i\n",
      "[-8, -8, 1]\n",
      "[x + y + z = 2, x + 2⋅y - 3⋅z = 8, 2⋅x - 2⋅y + 2⋅z = -4]\n",
      "⎡⎡1  1   1 ⎤     ⎡1  1   1   2 ⎤           ⎤\n",
      "⎢⎢         ⎥     ⎢             ⎥           ⎥\n",
      "⎢⎢1  2   -3⎥, 3, ⎢1  2   -3  8 ⎥, 3, (3, 3)⎥\n",
      "⎢⎢         ⎥     ⎢             ⎥           ⎥\n",
      "⎣⎣2  -2  2 ⎦     ⎣2  -2  2   -4⎦           ⎦\n",
      "⎡⎛⎡1  0   0⎤  ⎡1  1   1 ⎤    ⎞  ⎡1 ⎤⎤\n",
      "⎢⎜⎢        ⎥  ⎢         ⎥    ⎟  ⎢  ⎥⎥\n",
      "⎢⎜⎢1  1   0⎥, ⎢0  1  -4 ⎥, []⎟, ⎢2 ⎥⎥\n",
      "⎢⎜⎢        ⎥  ⎢         ⎥    ⎟  ⎢  ⎥⎥\n",
      "⎣⎝⎣2  -4  1⎦  ⎣0  0  -16⎦    ⎠  ⎣-1⎦⎦\n",
      "{(1, 2, -1)}\n",
      "{x: 1, y: 2, z: -1}\n",
      "⎡1 ⎤\n",
      "⎢  ⎥\n",
      "⎢2 ⎥\n",
      "⎢  ⎥\n",
      "⎣-1⎦\n",
      "{x: 1, y: 2, z: -1}\n",
      "Delta_i, A.det, s_i\n",
      "[-16, -16, 1]\n",
      "Delta_i, A.det, s_i\n",
      "[-32, -16, 2]\n",
      "Delta_i, A.det, s_i\n",
      "[16, -16, -1]\n"
     ]
    }
   ],
   "source": [
    "# p14.e3y4\n",
    "\n",
    "sistemas = [[Eq(2*x+4*y+5*z,1),Eq(x+3*y+3*z,-1), Eq(3*x+3*y+2*z,2)],\n",
    "            [Eq(x+y+z,2),Eq(x+2*y-3*z,8), Eq(2*x-2*y+2*z,-4)]\n",
    "           ]\n",
    "\n",
    "for sist in sistemas:\n",
    "  pprint(sist)\n",
    "  A, b = linear_eq_to_matrix(sist,[x,y,z])\n",
    "  AA = A.row_join(b)\n",
    "  #pprint(linear_eq_to_matrix(sistema,[x,y,z]))\n",
    "  pprint([A,A.rank(),AA,AA.rank(),A.shape])\n",
    "  pprint([A.LUdecomposition(),A.LUsolve(b)])\n",
    "  pprint(linsolve(sist,[x,y,z]))\n",
    "  pprint(solve(sist))\n",
    "  pprint(A.inv()*b)\n",
    "  pprint(solve_linear_system(AA,x,y,z))\n",
    "  #cramer\n",
    "  for i in range(A.shape[1]):\n",
    "    AA.col_swap(i,3)\n",
    "    pprint(\"Delta_i, A.det, s_i\")\n",
    "    pprint([AA[:,:-1].det(),A.det(),AA[:,:-1].det()/A.det()])\n",
    "    AA.col_swap(i,3)\n",
    "    #pprint(AA)\n"
   ]
  },
  {
   "cell_type": "code",
   "execution_count": 26,
   "metadata": {
    "colab": {
     "base_uri": "https://localhost:8080/",
     "height": 476
    },
    "colab_type": "code",
    "id": "UxCcmpuj2M5D",
    "outputId": "1590ed56-79a0-4ade-c574-c765d9dfaf0b"
   },
   "outputs": [
    {
     "name": "stdout",
     "output_type": "stream",
     "text": [
      "6. Una compañía aérea realiza vuelos a tres ciudades, A, B y C. Calcula el precio de los billetes a cada ciudad con\n",
      "la siguiente información. Si vende 10 billetes para ir a la ciudad A, 5 para B y ninguno para C, ingresa 925 euros;\n",
      "si vende 12 billetes para A, 8 para B y ninguno para C, ingresa 1200 euros; y si vende 6 billetes para A, 5 para B y\n",
      "8 para C, ingresa 861 euros.\n",
      "\\left[ 10 x + 5 y = 925, \\  12 x + 8 y = 1200, \\  6 x + 5 y + 8 z = 861\\right]\n",
      "⎡⎡10  5  0⎤     ⎡10  5  0  925 ⎤           ⎤\n",
      "⎢⎢        ⎥     ⎢              ⎥           ⎥\n",
      "⎢⎢12  8  0⎥, 3, ⎢12  8  0  1200⎥, 3, (3, 3)⎥\n",
      "⎢⎢        ⎥     ⎢              ⎥           ⎥\n",
      "⎣⎣6   5  8⎦     ⎣6   5  8  861 ⎦           ⎦\n",
      "⎡⎛⎡ 1   0  0⎤  ⎡10  5  0⎤    ⎞  ⎡70⎤⎤\n",
      "⎢⎜⎢         ⎥  ⎢        ⎥    ⎟  ⎢  ⎥⎥\n",
      "⎢⎜⎢6/5  1  0⎥, ⎢0   2  0⎥, []⎟, ⎢45⎥⎥\n",
      "⎢⎜⎢         ⎥  ⎢        ⎥    ⎟  ⎢  ⎥⎥\n",
      "⎣⎝⎣3/5  1  1⎦  ⎣0   0  8⎦    ⎠  ⎣27⎦⎦\n",
      "{(70, 45, 27)}\n",
      "{x: 70, y: 45, z: 27}\n",
      "⎡70⎤\n",
      "⎢  ⎥\n",
      "⎢45⎥\n",
      "⎢  ⎥\n",
      "⎣27⎦\n",
      "{x: 70, y: 45, z: 27}\n",
      "Delta_i, A.det, s_i\n",
      "[11200, 160, 70]\n",
      "Delta_i, A.det, s_i\n",
      "[7200, 160, 45]\n",
      "Delta_i, A.det, s_i\n",
      "[4320, 160, 27]\n",
      "7. En una competición deportiva participan 50 atletas distribuidos, según la edad, en tres categorías: Infantiles,\n",
      "Cadetes y Juveniles. El doble del número de atletas infantiles excede en una unidad al número de atletas cadetes\n",
      "y, además, coincide con el quíntuplo del número de atletas juveniles. Determina el número de atletas de cada\n",
      "categoría.\n",
      "\\left[ 2 x = y + 1, \\  2 x = 5 z, \\  x + y + z = 50\\right]\n",
      "⎡⎡2  -1  0 ⎤     ⎡2  -1  0   1 ⎤           ⎤\n",
      "⎢⎢         ⎥     ⎢             ⎥           ⎥\n",
      "⎢⎢2  0   -5⎥, 3, ⎢2  0   -5  0 ⎥, 3, (3, 3)⎥\n",
      "⎢⎢         ⎥     ⎢             ⎥           ⎥\n",
      "⎣⎣1  1   1 ⎦     ⎣1  1   1   50⎦           ⎦\n",
      "⎡⎛⎡ 1    0   0⎤  ⎡2  -1   0  ⎤    ⎞  ⎡15⎤⎤\n",
      "⎢⎜⎢           ⎥  ⎢           ⎥    ⎟  ⎢  ⎥⎥\n",
      "⎢⎜⎢ 1    1   0⎥, ⎢0  1    -5 ⎥, []⎟, ⎢29⎥⎥\n",
      "⎢⎜⎢           ⎥  ⎢           ⎥    ⎟  ⎢  ⎥⎥\n",
      "⎣⎝⎣1/2  3/2  1⎦  ⎣0  0   17/2⎦    ⎠  ⎣6 ⎦⎦\n",
      "{(15, 29, 6)}\n",
      "{x: 15, y: 29, z: 6}\n",
      "⎡15⎤\n",
      "⎢  ⎥\n",
      "⎢29⎥\n",
      "⎢  ⎥\n",
      "⎣6 ⎦\n",
      "{x: 15, y: 29, z: 6}\n",
      "Delta_i, A.det, s_i\n",
      "[255, 17, 15]\n",
      "Delta_i, A.det, s_i\n",
      "[493, 17, 29]\n",
      "Delta_i, A.det, s_i\n",
      "[102, 17, 6]\n",
      "7. En una competición deportiva participan 50 atletas distribuidos, según la edad, en tres categorías: Infantiles,\n",
      "Cadetes y Juveniles. El doble del número de atletas infantiles excede en una unidad al número de atletas cadetes\n",
      "y, además, coincide con el quíntuplo del número de atletas juveniles. Determina el número de atletas de cada\n",
      "categoría.\n",
      "\\left[ 2 x = y + 1, \\  2 x = 5 z, \\  x + y + z = 50\\right]\n",
      "⎡⎡2  -1  0 ⎤     ⎡2  -1  0   1 ⎤           ⎤\n",
      "⎢⎢         ⎥     ⎢             ⎥           ⎥\n",
      "⎢⎢2  0   -5⎥, 3, ⎢2  0   -5  0 ⎥, 3, (3, 3)⎥\n",
      "⎢⎢         ⎥     ⎢             ⎥           ⎥\n",
      "⎣⎣1  1   1 ⎦     ⎣1  1   1   50⎦           ⎦\n",
      "⎡⎛⎡ 1    0   0⎤  ⎡2  -1   0  ⎤    ⎞  ⎡15⎤⎤\n",
      "⎢⎜⎢           ⎥  ⎢           ⎥    ⎟  ⎢  ⎥⎥\n",
      "⎢⎜⎢ 1    1   0⎥, ⎢0  1    -5 ⎥, []⎟, ⎢29⎥⎥\n",
      "⎢⎜⎢           ⎥  ⎢           ⎥    ⎟  ⎢  ⎥⎥\n",
      "⎣⎝⎣1/2  3/2  1⎦  ⎣0  0   17/2⎦    ⎠  ⎣6 ⎦⎦\n",
      "{(15, 29, 6)}\n",
      "{x: 15, y: 29, z: 6}\n",
      "⎡15⎤\n",
      "⎢  ⎥\n",
      "⎢29⎥\n",
      "⎢  ⎥\n",
      "⎣6 ⎦\n",
      "{x: 15, y: 29, z: 6}\n",
      "Delta_i, A.det, s_i\n",
      "[255, 17, 15]\n",
      "Delta_i, A.det, s_i\n",
      "[493, 17, 29]\n",
      "Delta_i, A.det, s_i\n",
      "[102, 17, 6]\n"
     ]
    }
   ],
   "source": [
    "# p14.e6a\n",
    "\n",
    "sistemas = [[r\"\"\"6. Una compañía aérea realiza vuelos a tres ciudades, A, B y C. Calcula el precio de los billetes a cada ciudad con\n",
    "la siguiente información. Si vende 10 billetes para ir a la ciudad A, 5 para B y ninguno para C, ingresa 925 euros;\n",
    "si vende 12 billetes para A, 8 para B y ninguno para C, ingresa 1200 euros; y si vende 6 billetes para A, 5 para B y\n",
    "8 para C, ingresa 861 euros.\"\"\",[Eq(10*x+5*y,925),Eq(12*x+8*y,1200), Eq(6*x+5*y+8*z,861)]],\n",
    "            [r\"\"\"7. En una competición deportiva participan 50 atletas distribuidos, según la edad, en tres categorías: Infantiles,\n",
    "Cadetes y Juveniles. El doble del número de atletas infantiles excede en una unidad al número de atletas cadetes\n",
    "y, además, coincide con el quíntuplo del número de atletas juveniles. Determina el número de atletas de cada\n",
    "categoría.\"\"\",[Eq(2*x,y+1),Eq(2*x,5*z), Eq(x+y+z,50)]],           \n",
    "            \n",
    "            \n",
    "           ]\n",
    "\n",
    "for sist in sistemas:\n",
    "  print(sist[0])\n",
    "  #pprint(latex(sist[1]))\n",
    "  A, b = linear_eq_to_matrix(sist[1],[x,y,z])\n",
    "  AA = A.row_join(b)\n",
    "  #pprint(linear_eq_to_matrix(sistema,[x,y,z]))\n",
    "  pprint([A,A.rank(),AA,AA.rank(),A.shape])\n",
    "  pprint([A.LUdecomposition(),A.LUsolve(b)])\n",
    "  pprint(linsolve(sist[1],[x,y,z]))\n",
    "  pprint(solve(sist[1]))\n",
    "  pprint(A.inv()*b)\n",
    "  pprint(solve_linear_system(AA,x,y,z))\n",
    "  #cramer\n",
    "  for i in range(A.shape[1]):\n",
    "    AA.col_swap(i,3)\n",
    "    pprint(\"Delta_i, A.det, s_i\")\n",
    "    pprint([AA[:,:-1].det(),A.det(),AA[:,:-1].det()/A.det()])\n",
    "    AA.col_swap(i,3)\n",
    "    #pprint(AA)\n"
   ]
  }
 ],
 "metadata": {
  "colab": {
   "collapsed_sections": [],
   "name": "determinantes.ipynb",
   "provenance": []
  },
  "kernelspec": {
   "display_name": "Python 3",
   "language": "python",
   "name": "python3"
  },
  "language_info": {
   "codemirror_mode": {
    "name": "ipython",
    "version": 3
   },
   "file_extension": ".py",
   "mimetype": "text/x-python",
   "name": "python",
   "nbconvert_exporter": "python",
   "pygments_lexer": "ipython3",
   "version": "3.6.8"
  }
 },
 "nbformat": 4,
 "nbformat_minor": 1
}
