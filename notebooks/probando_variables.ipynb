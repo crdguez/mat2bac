{
  "cells": [
    {
      "cell_type": "code",
      "execution_count": null,
      "metadata": {
        "colab": {
          "base_uri": "https://localhost:8080/",
          "height": 182
        },
        "id": "FjnHLoSQna8G",
        "outputId": "13b88ab1-cf32-47a6-9f96-20aa84cc7769"
      },
      "outputs": [
        {
          "name": "stdout",
          "output_type": "stream",
          "text": [
            "Collecting sympy==1.4\n",
            "\u001b[?25l  Downloading https://files.pythonhosted.org/packages/21/21/f4105795ca7f35c541d82c5b06be684dd2f5cb4f508fb487cd7aea4de776/sympy-1.4-py2.py3-none-any.whl (5.3MB)\n",
            "\u001b[K     |████████████████████████████████| 5.3MB 4.2MB/s \n",
            "\u001b[?25hRequirement already satisfied: mpmath>=0.19 in /usr/local/lib/python3.6/dist-packages (from sympy==1.4) (1.1.0)\n",
            "Installing collected packages: sympy\n",
            "  Found existing installation: sympy 1.1.1\n",
            "    Uninstalling sympy-1.1.1:\n",
            "      Successfully uninstalled sympy-1.1.1\n",
            "Successfully installed sympy-1.4\n"
          ]
        }
      ],
      "source": [
        "! pip install sympy==1.4"
      ]
    },
    {
      "cell_type": "code",
      "execution_count": 1,
      "metadata": {
        "id": "KveWap4UpMBj"
      },
      "outputs": [],
      "source": [
        "from sympy import *\n",
        "#init_session()\n",
        "init_printing(use_latex=False)"
      ]
    },
    {
      "cell_type": "code",
      "execution_count": 2,
      "metadata": {
        "id": "7-kGsMaEpXi1"
      },
      "outputs": [],
      "source": [
        "from sympy.stats import P,Normal, Binomial, Die\n",
        "\n",
        "X = Binomial('X',5,0.5)\n",
        "\n",
        "Z = Normal('Z',0,1)"
      ]
    },
    {
      "cell_type": "code",
      "source": [
        "[p.evalf() for p in [P(Z<1.83), P(Z>0.27), P(Z<-0.78), P(Z>0-2.4), P(Eq(Z,1.6)), P(And(Z>-2.71,Z<1.83))\n",
        ",P(And(Z>1.5,Z<2.5)), P(And(Z>-1.87,Z<1.25)),P(Z>1.32), P(Z>-1.32), P(Z<-2.17),P(And(Z>1.52,Z<2.05))\n",
        ",P(And(Z>-2.03,Z<1.52))]\n",
        "]"
      ],
      "metadata": {
        "id": "qsaMsAvCBujN",
        "outputId": "5ad08344-a5f5-4e5e-af9f-b28aa6988618",
        "colab": {
          "base_uri": "https://localhost:8080/"
        }
      },
      "execution_count": 7,
      "outputs": [
        {
          "output_type": "execute_result",
          "data": {
            "text/plain": [
              "[0.966375030580372, 0.39358012680196, 0.217695437585733, 0.991802464075404, 0,\n",
              " 0.963010870173702, 0.0605975359430819, 0.863608317403679, 0.0934175089934718,\n",
              " 0.906582491006528, 0.0150034229737322, 0.0440732724132314, 0.914566242538392]"
            ]
          },
          "metadata": {},
          "execution_count": 7
        }
      ]
    },
    {
      "cell_type": "code",
      "execution_count": null,
      "metadata": {
        "colab": {
          "base_uri": "https://localhost:8080/",
          "height": 35
        },
        "id": "_cfxekAyptMO",
        "outputId": "150f8354-1526-4afd-8d9f-264dd6905edb"
      },
      "outputs": [
        {
          "data": {
            "text/plain": [
              "0.10935"
            ]
          },
          "execution_count": 6,
          "metadata": {
            "tags": []
          },
          "output_type": "execute_result"
        }
      ],
      "source": [
        "1-P(Z<=1.23).evalf().round(5)"
      ]
    },
    {
      "cell_type": "code",
      "execution_count": null,
      "metadata": {
        "colab": {
          "base_uri": "https://localhost:8080/",
          "height": 35
        },
        "id": "mznELePDvdgD",
        "outputId": "33e8a000-320c-4573-e727-88feb5abfa6c"
      },
      "outputs": [
        {
          "data": {
            "text/plain": [
              "(0.01578, 0.01578, 0.98422)"
            ]
          },
          "execution_count": 9,
          "metadata": {
            "tags": []
          },
          "output_type": "execute_result"
        }
      ],
      "source": [
        "P(Z < -2.15).evalf().round(5), 1 - P(Z < 2.15).evalf().round(5), P(Z < 2.15).evalf().round(5)"
      ]
    },
    {
      "cell_type": "code",
      "execution_count": null,
      "metadata": {
        "colab": {
          "base_uri": "https://localhost:8080/",
          "height": 35
        },
        "id": "9Vv4vQCEx_8Z",
        "outputId": "38a85af4-9f4a-4b13-8682-1c4038b1aee6"
      },
      "outputs": [
        {
          "data": {
            "text/plain": [
              "(0.90223, 0.90223, 0.99903, 0.9032)"
            ]
          },
          "execution_count": 11,
          "metadata": {
            "tags": []
          },
          "output_type": "execute_result"
        }
      ],
      "source": [
        "P(Z < 3.1).evalf().round(5) -1 + P(Z < 1.3).evalf().round(5), P(And(Z < 3.1, Z>-1.3)).evalf().round(5), P(Z < 3.1).evalf().round(5), P(Z < 1.3).evalf().round(5)"
      ]
    },
    {
      "cell_type": "code",
      "execution_count": 12,
      "metadata": {
        "colab": {
          "base_uri": "https://localhost:8080/"
        },
        "id": "waxFrd_xyy0b",
        "outputId": "32b10bbe-7405-43e1-e754-0236ea4d6815"
      },
      "outputs": [
        {
          "output_type": "execute_result",
          "data": {
            "text/plain": [
              "0.8801094874493673"
            ]
          },
          "metadata": {},
          "execution_count": 12
        }
      ],
      "source": [
        "from scipy.stats import norm\n",
        "\n",
        "z=norm(0,1)\n",
        "\n",
        "z.ppf(1-0.1894)\n"
      ]
    },
    {
      "cell_type": "code",
      "execution_count": null,
      "metadata": {
        "id": "5SpTz6mF5uvp",
        "outputId": "32faa5e3-2125-4627-e356-cd267ae06431"
      },
      "outputs": [
        {
          "data": {
            "text/plain": [
              "(1/9, 1/2)"
            ]
          },
          "execution_count": 21,
          "metadata": {},
          "output_type": "execute_result"
        }
      ],
      "source": [
        "#Se lanzan dos dados, ¿cuál es la probabilidad de obtener una suma de puntos igual a siete?. Si la suma de\n",
        "#puntos ha sido 7, ¿cuál es la probabilidad de que en alguno de los dados haya salido un 3?\n",
        "\n",
        "D1, D2 = Die('D1'),Die('D2')\n",
        "suma=9\n",
        "valor=3\n",
        "\n",
        "\n",
        "\n",
        "P(Eq(D1+D2,suma)),P(Or(Eq(D1,valor),Eq(D2,valor)),Eq(D1+D2,suma))\n"
      ]
    },
    {
      "cell_type": "code",
      "execution_count": null,
      "metadata": {
        "id": "2wWoAgNQBocW"
      },
      "outputs": [],
      "source": [
        "D1 = Die"
      ]
    }
  ],
  "metadata": {
    "colab": {
      "name": "probando_variables.ipynb",
      "provenance": []
    },
    "kernelspec": {
      "display_name": "Python 3",
      "language": "python",
      "name": "python3"
    },
    "language_info": {
      "codemirror_mode": {
        "name": "ipython",
        "version": 3
      },
      "file_extension": ".py",
      "mimetype": "text/x-python",
      "name": "python",
      "nbconvert_exporter": "python",
      "pygments_lexer": "ipython3",
      "version": "3.6.13"
    }
  },
  "nbformat": 4,
  "nbformat_minor": 0
}