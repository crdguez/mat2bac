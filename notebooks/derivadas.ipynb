{
 "cells": [
  {
   "cell_type": "code",
   "execution_count": 2,
   "metadata": {},
   "outputs": [
    {
     "name": "stdout",
     "output_type": "stream",
     "text": [
      "IPython console for SymPy 1.4 (Python 3.6.8-64-bit) (ground types: gmpy)\n",
      "\n",
      "These commands were executed:\n",
      ">>> from __future__ import division\n",
      ">>> from sympy import *\n",
      ">>> x, y, z, t = symbols('x y z t')\n",
      ">>> k, m, n = symbols('k m n', integer=True)\n",
      ">>> f, g, h = symbols('f g h', cls=Function)\n",
      ">>> init_printing()\n",
      "\n",
      "Documentation can be found at https://docs.sympy.org/1.4/\n",
      "\n"
     ]
    }
   ],
   "source": [
    "from sympy import init_session\n",
    "from sympy import div, QQ\n",
    "from sympy.parsing.latex import parse_latex\n",
    "from sympy.parsing.sympy_parser import parse_expr\n",
    "from IPython.display import Markdown as md\n",
    "from IPython.display import display\n",
    "import pandas as pd\n",
    "\n",
    "import numpy as np\n",
    "\n",
    "\n",
    "\n",
    "\n",
    "init_session()\n",
    "\n",
    "a, b, c, d = symbols('a b c d', real = True)\n",
    "from docparts import añadir_ejercicios, doc_ejer, escribir_preambulo, escribir_ejercicios, escribir_fin\n",
    "\n",
    "df_ejercicios = pd.DataFrame()\n",
    "\n",
    "fichero = 'derivadas'\n",
    "titulo = 'Derivadas'\n",
    "curso = '2BC'\n",
    "\n",
    "\n",
    "x,y = symbols('x, y', real=True)\n",
    "\n",
    "import matplotlib.pyplot as plt\n",
    "from matplotlib import style\n",
    "#style.use('ggplot')\n",
    "style.use('seaborn-whitegrid')\n",
    "\n",
    "\n",
    "%matplotlib inline\n"
   ]
  },
  {
   "cell_type": "code",
   "execution_count": 9,
   "metadata": {},
   "outputs": [
    {
     "data": {
      "text/markdown": [
       "**Calcula las siguientes derivadas:\n",
       "**"
      ],
      "text/plain": [
       "<IPython.core.display.Markdown object>"
      ]
     },
     "metadata": {},
     "output_type": "display_data"
    },
    {
     "data": {
      "text/markdown": [
       "$y=2 x$ $ \\rightarrow $$y'=2$"
      ],
      "text/plain": [
       "<IPython.core.display.Markdown object>"
      ]
     },
     "metadata": {},
     "output_type": "display_data"
    },
    {
     "data": {
      "text/markdown": [
       "$y=3 x - 5$ $ \\rightarrow $$y'=3$"
      ],
      "text/plain": [
       "<IPython.core.display.Markdown object>"
      ]
     },
     "metadata": {},
     "output_type": "display_data"
    },
    {
     "data": {
      "text/markdown": [
       "$y=2 x^{2} - 7 x + 5$ $ \\rightarrow $$y'=4 x - 7$"
      ],
      "text/plain": [
       "<IPython.core.display.Markdown object>"
      ]
     },
     "metadata": {},
     "output_type": "display_data"
    },
    {
     "data": {
      "text/markdown": [
       "$y=7 x^{5} - 3 x^{2} + x + 2345$ $ \\rightarrow $$y'=35 x^{4} - 6 x + 1$"
      ],
      "text/plain": [
       "<IPython.core.display.Markdown object>"
      ]
     },
     "metadata": {},
     "output_type": "display_data"
    },
    {
     "data": {
      "text/markdown": [
       "$y=x \\left(x + 2\\right)$ $ \\rightarrow $$y'=2 x + 2$"
      ],
      "text/plain": [
       "<IPython.core.display.Markdown object>"
      ]
     },
     "metadata": {},
     "output_type": "display_data"
    },
    {
     "data": {
      "text/markdown": [
       "$y=\\left(x - 1\\right) \\left(x + 1\\right)$ $ \\rightarrow $$y'=2 x$"
      ],
      "text/plain": [
       "<IPython.core.display.Markdown object>"
      ]
     },
     "metadata": {},
     "output_type": "display_data"
    },
    {
     "data": {
      "text/markdown": [
       "$y=\\frac{5 x^{4}}{7} - \\frac{x^{3}}{55} - \\frac{3 x^{2}}{4} + x - 1255$ $ \\rightarrow $$y'=\\frac{20 x^{3}}{7} - \\frac{3 x^{2}}{55} - \\frac{3 x}{2} + 1$"
      ],
      "text/plain": [
       "<IPython.core.display.Markdown object>"
      ]
     },
     "metadata": {},
     "output_type": "display_data"
    },
    {
     "data": {
      "text/markdown": [
       "$y=\\left(x + 1\\right)^{3}$ $ \\rightarrow $$y'=3 \\left(x + 1\\right)^{2}$"
      ],
      "text/plain": [
       "<IPython.core.display.Markdown object>"
      ]
     },
     "metadata": {},
     "output_type": "display_data"
    },
    {
     "data": {
      "text/markdown": [
       "$y=\\left(x^{3} + x + 1\\right)^{4}$ $ \\rightarrow $$y'=\\left(12 x^{2} + 4\\right) \\left(x^{3} + x + 1\\right)^{3}$"
      ],
      "text/plain": [
       "<IPython.core.display.Markdown object>"
      ]
     },
     "metadata": {},
     "output_type": "display_data"
    },
    {
     "data": {
      "text/markdown": [
       "$y=- \\left(3 x - 1\\right)^{2} + \\left(3 x + 1\\right)^{2}$ $ \\rightarrow $$y'=12$"
      ],
      "text/plain": [
       "<IPython.core.display.Markdown object>"
      ]
     },
     "metadata": {},
     "output_type": "display_data"
    },
    {
     "data": {
      "text/markdown": [
       "$y=\\frac{1}{x^{2}}$ $ \\rightarrow $$y'=- \\frac{2}{x^{3}}$"
      ],
      "text/plain": [
       "<IPython.core.display.Markdown object>"
      ]
     },
     "metadata": {},
     "output_type": "display_data"
    },
    {
     "data": {
      "text/markdown": [
       "$y=\\frac{1}{x + 1}$ $ \\rightarrow $$y'=- \\frac{1}{\\left(x + 1\\right)^{2}}$"
      ],
      "text/plain": [
       "<IPython.core.display.Markdown object>"
      ]
     },
     "metadata": {},
     "output_type": "display_data"
    },
    {
     "data": {
      "text/markdown": [
       "$y=\\frac{x^{2} - 3}{x^{3} + x}$ $ \\rightarrow $$y'=\\frac{- x^{4} + 10 x^{2} + 3}{x^{2} \\left(x^{4} + 2 x^{2} + 1\\right)}$"
      ],
      "text/plain": [
       "<IPython.core.display.Markdown object>"
      ]
     },
     "metadata": {},
     "output_type": "display_data"
    },
    {
     "data": {
      "text/markdown": [
       "$y=\\frac{x + 1}{x}$ $ \\rightarrow $$y'=- \\frac{1}{x^{2}}$"
      ],
      "text/plain": [
       "<IPython.core.display.Markdown object>"
      ]
     },
     "metadata": {},
     "output_type": "display_data"
    },
    {
     "data": {
      "text/markdown": [
       "$y=\\frac{x \\left(x^{2} - 1\\right)}{3 x^{2} - 3}$ $ \\rightarrow $$y'=\\frac{1}{3}$"
      ],
      "text/plain": [
       "<IPython.core.display.Markdown object>"
      ]
     },
     "metadata": {},
     "output_type": "display_data"
    },
    {
     "data": {
      "text/markdown": [
       "$y=\\frac{1}{x^{3}}$ $ \\rightarrow $$y'=- \\frac{3}{x^{4}}$"
      ],
      "text/plain": [
       "<IPython.core.display.Markdown object>"
      ]
     },
     "metadata": {},
     "output_type": "display_data"
    },
    {
     "data": {
      "text/markdown": [
       "$y=x^{\\frac{1}{2}}$ $ \\rightarrow $$y'=\\frac{1}{2 \\sqrt{x}}$"
      ],
      "text/plain": [
       "<IPython.core.display.Markdown object>"
      ]
     },
     "metadata": {},
     "output_type": "display_data"
    },
    {
     "data": {
      "text/markdown": [
       "$y=x^{\\frac{2}{3}}$ $ \\rightarrow $$y'=\\frac{2}{3 \\sqrt[3]{x}}$"
      ],
      "text/plain": [
       "<IPython.core.display.Markdown object>"
      ]
     },
     "metadata": {},
     "output_type": "display_data"
    },
    {
     "data": {
      "text/markdown": [
       "$y=x^{\\frac{-2}{3}}$ $ \\rightarrow $$y'=- \\frac{2}{3 x^{\\frac{5}{3}}}$"
      ],
      "text/plain": [
       "<IPython.core.display.Markdown object>"
      ]
     },
     "metadata": {},
     "output_type": "display_data"
    },
    {
     "data": {
      "text/markdown": [
       "$y=x^{\\frac{1}{2}} + x^{\\frac{1}{5}} + x^{\\frac{1}{6}}$ $ \\rightarrow $$y'=\\frac{\\frac{x^{\\frac{49}{30}}}{2} + \\frac{x^{\\frac{13}{10}}}{6} + \\frac{x^{\\frac{4}{3}}}{5}}{x^{\\frac{32}{15}}}$"
      ],
      "text/plain": [
       "<IPython.core.display.Markdown object>"
      ]
     },
     "metadata": {},
     "output_type": "display_data"
    },
    {
     "data": {
      "text/markdown": [
       "$y=\\sqrt{3} \\sqrt{x}$ $ \\rightarrow $$y'=\\frac{\\sqrt{3}}{2 \\sqrt{x}}$"
      ],
      "text/plain": [
       "<IPython.core.display.Markdown object>"
      ]
     },
     "metadata": {},
     "output_type": "display_data"
    },
    {
     "data": {
      "text/markdown": [
       "$y=\\frac{x^{3}}{\\sqrt{x}}$ $ \\rightarrow $$y'=\\frac{5 x^{\\frac{3}{2}}}{2}$"
      ],
      "text/plain": [
       "<IPython.core.display.Markdown object>"
      ]
     },
     "metadata": {},
     "output_type": "display_data"
    },
    {
     "data": {
      "text/markdown": [
       "$y=x^{3} x^{\\frac{1}{3}}$ $ \\rightarrow $$y'=\\frac{10 x^{\\frac{7}{3}}}{3}$"
      ],
      "text/plain": [
       "<IPython.core.display.Markdown object>"
      ]
     },
     "metadata": {},
     "output_type": "display_data"
    },
    {
     "data": {
      "text/markdown": [
       "$y=\\frac{\\sqrt{x}}{x}$ $ \\rightarrow $$y'=- \\frac{1}{2 x^{\\frac{3}{2}}}$"
      ],
      "text/plain": [
       "<IPython.core.display.Markdown object>"
      ]
     },
     "metadata": {},
     "output_type": "display_data"
    },
    {
     "data": {
      "text/markdown": [
       "$y=\\left(1 - x^{2}\\right)^{3}$ $ \\rightarrow $$y'=- 6 x \\left(x^{2} - 1\\right)^{2}$"
      ],
      "text/plain": [
       "<IPython.core.display.Markdown object>"
      ]
     },
     "metadata": {},
     "output_type": "display_data"
    },
    {
     "data": {
      "text/markdown": [
       "$y=\\sqrt{2 x - 4}$ $ \\rightarrow $$y'=\\frac{\\sqrt{2}}{2 \\sqrt{x - 2}}$"
      ],
      "text/plain": [
       "<IPython.core.display.Markdown object>"
      ]
     },
     "metadata": {},
     "output_type": "display_data"
    },
    {
     "data": {
      "text/markdown": [
       "$y=\\sqrt{2 - x}$ $ \\rightarrow $$y'=- \\frac{1}{2 \\sqrt{2 - x}}$"
      ],
      "text/plain": [
       "<IPython.core.display.Markdown object>"
      ]
     },
     "metadata": {},
     "output_type": "display_data"
    },
    {
     "data": {
      "text/markdown": [
       "$y=\\sqrt[3]{2} \\sqrt[3]{x^{2}}$ $ \\rightarrow $$y'=\\frac{2 \\sqrt[3]{2} \\sqrt[3]{x^{2}}}{3 x}$"
      ],
      "text/plain": [
       "<IPython.core.display.Markdown object>"
      ]
     },
     "metadata": {},
     "output_type": "display_data"
    },
    {
     "data": {
      "text/markdown": [
       "$y=\\sqrt{3 x^{2} - 1}$ $ \\rightarrow $$y'=\\frac{3 x}{\\sqrt{3 x^{2} - 1}}$"
      ],
      "text/plain": [
       "<IPython.core.display.Markdown object>"
      ]
     },
     "metadata": {},
     "output_type": "display_data"
    },
    {
     "data": {
      "text/markdown": [
       "$y=\\frac{2 x}{\\sqrt{x - 1}}$ $ \\rightarrow $$y'=\\frac{x - 2}{\\left(x - 1\\right)^{\\frac{3}{2}}}$"
      ],
      "text/plain": [
       "<IPython.core.display.Markdown object>"
      ]
     },
     "metadata": {},
     "output_type": "display_data"
    },
    {
     "data": {
      "text/markdown": [
       "$y=\\sqrt{1}$ $ \\rightarrow $$y'=0$"
      ],
      "text/plain": [
       "<IPython.core.display.Markdown object>"
      ]
     },
     "metadata": {},
     "output_type": "display_data"
    },
    {
     "data": {
      "text/markdown": [
       "$y=e^{2 x}$ $ \\rightarrow $$y'=2 e^{2 x}$"
      ],
      "text/plain": [
       "<IPython.core.display.Markdown object>"
      ]
     },
     "metadata": {},
     "output_type": "display_data"
    },
    {
     "data": {
      "text/markdown": [
       "$y=2^{5 x}$ $ \\rightarrow $$y'=32^{x} \\log{\\left(32 \\right)}$"
      ],
      "text/plain": [
       "<IPython.core.display.Markdown object>"
      ]
     },
     "metadata": {},
     "output_type": "display_data"
    },
    {
     "data": {
      "text/markdown": [
       "$y=8^{3 x^{2} - 1}$ $ \\rightarrow $$y'=9 \\cdot 2^{9 x^{2} - 2} x \\log{\\left(2 \\right)}$"
      ],
      "text/plain": [
       "<IPython.core.display.Markdown object>"
      ]
     },
     "metadata": {},
     "output_type": "display_data"
    },
    {
     "data": {
      "text/markdown": [
       "$y=a^{x} x^{a}$ $ \\rightarrow $$y'=a^{x} x^{a - 1} \\left(a + x \\log{\\left(a \\right)}\\right)$"
      ],
      "text/plain": [
       "<IPython.core.display.Markdown object>"
      ]
     },
     "metadata": {},
     "output_type": "display_data"
    },
    {
     "data": {
      "text/markdown": [
       "$y=e^{\\sqrt{x}}$ $ \\rightarrow $$y'=\\frac{e^{\\sqrt{x}}}{2 \\sqrt{x}}$"
      ],
      "text/plain": [
       "<IPython.core.display.Markdown object>"
      ]
     },
     "metadata": {},
     "output_type": "display_data"
    },
    {
     "data": {
      "text/markdown": [
       "$y=\\frac{\\log{\\left(2 x - 1 \\right)}}{\\log{\\left(10 \\right)}}$ $ \\rightarrow $$y'=\\frac{2}{\\left(2 x - 1\\right) \\log{\\left(10 \\right)}}$"
      ],
      "text/plain": [
       "<IPython.core.display.Markdown object>"
      ]
     },
     "metadata": {},
     "output_type": "display_data"
    },
    {
     "data": {
      "text/markdown": [
       "$y=\\log{\\left(x + 3 \\right)}$ $ \\rightarrow $$y'=\\frac{1}{x + 3}$"
      ],
      "text/plain": [
       "<IPython.core.display.Markdown object>"
      ]
     },
     "metadata": {},
     "output_type": "display_data"
    }
   ],
   "source": [
    "puntuacion = '1'                          \n",
    "                      \n",
    "datos =  [  \n",
    "            '2*x','3*x-5','2*x**2 -7*x+5','7*x** 5 -3*x**2 +x+2345',\n",
    "            'x*(x+2)','(x+1)*(x-1)', '5/7*x**4 -1/55 *x**3 -3/4* x**2 + x - 1255',\n",
    "            '(x+1)**3','(x**3 +x+1)** 4','(3*x+1)**2 - (3*x-1)**2',\n",
    "            '1/x**2','1/(x+1)','(x**2 - 3)/(x**3 + x)','(x + 1)/x','(x*(x**2-1))/(3*x**2-3)',\n",
    "            'x**(-3)','x**(1/2)','x**(2/3)','x**(-2/3)',\n",
    "            'x**(1/2)+x**(1/6)+x**(1/5)','sqrt(3*x)','x**3/sqrt(x)','x**3*x**(1/3)',\n",
    "            'sqrt(x)/x','(1-x**2)**3','sqrt(2*x-4)','sqrt(2-x)',\n",
    "            'cbrt((2*x**2))','sqrt(3*x**2-1)','(2*x)/(sqrt(x-1))','sqrt((1-x)/(1-x))',\n",
    "            'E**(2*x)','2**(5*x)','8**(3*x**2-1)','a**x*x**a',\n",
    "            'E**(sqrt(x))','log((2*x-1),10)','log(x+3)'\n",
    "    \n",
    "    \n",
    "   \n",
    "         ]\n",
    "        \n",
    "n_ejercicio = 'p25e16'\n",
    "enunciado_latex, enunciado, solucion = [],[],[]\n",
    "\n",
    "texto_ejercicio = r\"\"\"Calcula las siguientes derivadas:\n",
    "\"\"\"\n",
    "\n",
    "display(md(\"**\"+texto_ejercicio+\"**\"))\n",
    "\n",
    "for j, t in enumerate(datos):\n",
    "    enunciado_latex.append(r'$y='+latex(S(t,evaluate=False))+r'$')\n",
    "    enunciado.append(r'diff('+str(nsimplify(S(t)))+r')')\n",
    "    #display(S(t),diff(S(t)))\n",
    "    sol=r\"$y'=\"+latex(simplify(diff(S(t),'x')))+r\"$\"\n",
    "    solucion.append(sol)\n",
    "    display(md(enunciado_latex[j] +\" $ \\\\rightarrow $\" + solucion[j] ))\n",
    "\n",
    "\n",
    "df_ejercicios = df_ejercicios.append(añadir_ejercicios(enunciado_latex, enunciado, solucion, texto_ejercicio, curso, titulo , n_ejercicio, '5', '2', enun_tex=False, sol_tex=False), ignore_index=True)\n",
    "\n",
    "\n"
   ]
  },
  {
   "cell_type": "code",
   "execution_count": 18,
   "metadata": {},
   "outputs": [
    {
     "data": {
      "text/markdown": [
       "**Calcula las siguientes derivadas:\n",
       "**"
      ],
      "text/plain": [
       "<IPython.core.display.Markdown object>"
      ]
     },
     "metadata": {},
     "output_type": "display_data"
    },
    {
     "data": {
      "text/markdown": [
       "$y=\\log{\\left(3 x^{2} - 7 \\right)}$ $ \\rightarrow $$y'=\\frac{6 x}{3 x^{2} - 7}$"
      ],
      "text/plain": [
       "<IPython.core.display.Markdown object>"
      ]
     },
     "metadata": {},
     "output_type": "display_data"
    },
    {
     "data": {
      "text/markdown": [
       "$y=\\log{\\left(\\left(x - 2\\right)^{2} \\right)}$ $ \\rightarrow $$y'=\\frac{2}{x - 2}$"
      ],
      "text/plain": [
       "<IPython.core.display.Markdown object>"
      ]
     },
     "metadata": {},
     "output_type": "display_data"
    },
    {
     "data": {
      "text/markdown": [
       "$y=\\frac{\\log{\\left(x^{2} - 2 x \\right)}}{\\log{\\left(10 \\right)}}$ $ \\rightarrow $$y'=\\frac{2 \\left(x - 1\\right)}{x \\left(x - 2\\right) \\log{\\left(10 \\right)}}$"
      ],
      "text/plain": [
       "<IPython.core.display.Markdown object>"
      ]
     },
     "metadata": {},
     "output_type": "display_data"
    },
    {
     "data": {
      "text/markdown": [
       "$y=\\frac{\\log{\\left(2 x^{3} + 3 x^{2} \\right)}}{\\log{\\left(2 \\right)}}$ $ \\rightarrow $$y'=\\frac{6 \\left(x + 1\\right)}{x \\left(2 x + 3\\right) \\log{\\left(2 \\right)}}$"
      ],
      "text/plain": [
       "<IPython.core.display.Markdown object>"
      ]
     },
     "metadata": {},
     "output_type": "display_data"
    },
    {
     "data": {
      "text/markdown": [
       "$y=\\sqrt{\\log{\\left(x \\right)}}$ $ \\rightarrow $$y'=\\frac{1}{2 x \\sqrt{\\log{\\left(x \\right)}}}$"
      ],
      "text/plain": [
       "<IPython.core.display.Markdown object>"
      ]
     },
     "metadata": {},
     "output_type": "display_data"
    },
    {
     "data": {
      "text/markdown": [
       "$y=\\frac{\\log{\\left(x \\right)}}{x}$ $ \\rightarrow $$y'=\\frac{1 - \\log{\\left(x \\right)}}{x^{2}}$"
      ],
      "text/plain": [
       "<IPython.core.display.Markdown object>"
      ]
     },
     "metadata": {},
     "output_type": "display_data"
    },
    {
     "data": {
      "text/markdown": [
       "$y=\\log{\\left(\\frac{1 - x}{x + 1} \\right)}$ $ \\rightarrow $$y'=\\frac{2}{x^{2} - 1}$"
      ],
      "text/plain": [
       "<IPython.core.display.Markdown object>"
      ]
     },
     "metadata": {},
     "output_type": "display_data"
    },
    {
     "data": {
      "text/markdown": [
       "$y=\\log{\\left(\\sqrt[4]{x^{3}} \\right)}$ $ \\rightarrow $$y'=\\frac{3}{4 x}$"
      ],
      "text/plain": [
       "<IPython.core.display.Markdown object>"
      ]
     },
     "metadata": {},
     "output_type": "display_data"
    },
    {
     "data": {
      "text/markdown": [
       "$y=\\frac{\\log{\\left(2 x + 1 \\right)}}{\\log{\\left(4 \\right)}}$ $ \\rightarrow $$y'=\\frac{1}{\\left(2 x + 1\\right) \\log{\\left(2 \\right)}}$"
      ],
      "text/plain": [
       "<IPython.core.display.Markdown object>"
      ]
     },
     "metadata": {},
     "output_type": "display_data"
    },
    {
     "data": {
      "text/markdown": [
       "$y=\\log{\\left(\\frac{e^{x}}{e^{x} - 1} \\right)}$ $ \\rightarrow $$y'=\\frac{1}{1 - e^{x}}$"
      ],
      "text/plain": [
       "<IPython.core.display.Markdown object>"
      ]
     },
     "metadata": {},
     "output_type": "display_data"
    },
    {
     "data": {
      "text/markdown": [
       "$y=\\frac{1 - \\log{\\left(x \\right)}}{\\log{\\left(x \\right)} + 1}$ $ \\rightarrow $$y'=- \\frac{2}{x \\left(\\log{\\left(x \\right)} + 1\\right)^{2}}$"
      ],
      "text/plain": [
       "<IPython.core.display.Markdown object>"
      ]
     },
     "metadata": {},
     "output_type": "display_data"
    },
    {
     "data": {
      "text/markdown": [
       "$y=\\frac{e^{x}}{x - 1}$ $ \\rightarrow $$y'=\\frac{\\left(x - 2\\right) e^{x}}{x^{2} - 2 x + 1}$"
      ],
      "text/plain": [
       "<IPython.core.display.Markdown object>"
      ]
     },
     "metadata": {},
     "output_type": "display_data"
    },
    {
     "data": {
      "text/markdown": [
       "$y=\\frac{e^{x} - e^{- x}}{e^{x} + e^{- x}}$ $ \\rightarrow $$y'=\\frac{4 e^{2 x}}{e^{4 x} + 2 e^{2 x} + 1}$"
      ],
      "text/plain": [
       "<IPython.core.display.Markdown object>"
      ]
     },
     "metadata": {},
     "output_type": "display_data"
    },
    {
     "data": {
      "text/markdown": [
       "$y=e^{\\sqrt{x^{2} + 1}}$ $ \\rightarrow $$y'=\\frac{x e^{\\sqrt{x^{2} + 1}}}{\\sqrt{x^{2} + 1}}$"
      ],
      "text/plain": [
       "<IPython.core.display.Markdown object>"
      ]
     },
     "metadata": {},
     "output_type": "display_data"
    },
    {
     "data": {
      "text/markdown": [
       "$y=\\sin{\\left(2 x \\right)}$ $ \\rightarrow $$y'=2 \\cos{\\left(2 x \\right)}$"
      ],
      "text/plain": [
       "<IPython.core.display.Markdown object>"
      ]
     },
     "metadata": {},
     "output_type": "display_data"
    },
    {
     "data": {
      "text/markdown": [
       "$y=\\sin{\\left(7 x - 3 \\right)}$ $ \\rightarrow $$y'=7 \\cos{\\left(7 x - 3 \\right)}$"
      ],
      "text/plain": [
       "<IPython.core.display.Markdown object>"
      ]
     },
     "metadata": {},
     "output_type": "display_data"
    },
    {
     "data": {
      "text/markdown": [
       "$y=\\cos{\\left(5 x \\right)}$ $ \\rightarrow $$y'=- 5 \\sin{\\left(5 x \\right)}$"
      ],
      "text/plain": [
       "<IPython.core.display.Markdown object>"
      ]
     },
     "metadata": {},
     "output_type": "display_data"
    },
    {
     "data": {
      "text/markdown": [
       "$y=3 \\tan{\\left(2 x \\right)}$ $ \\rightarrow $$y'=\\frac{6}{\\cos^{2}{\\left(2 x \\right)}}$"
      ],
      "text/plain": [
       "<IPython.core.display.Markdown object>"
      ]
     },
     "metadata": {},
     "output_type": "display_data"
    }
   ],
   "source": [
    "puntuacion = '1'                          \n",
    "                      \n",
    "datos =  [  \n",
    "            'log(3*x**2-7)','log((x-2)**2)','log((x**2-2*x),10)',\n",
    "            'log((2*x**3+3*x**2),2)','sqrt(log(x))','log(x)/x', 'log((1-x)/(1+x))',\n",
    "            'log(root(x**3,4))', 'log((1+2*x),4)','log((E**x)/(E**x-1))',\n",
    "            '(1-log(x))/(1+log(x))','E**x/(x-1)',\n",
    "            '(E**x-E**(-x))/(E**x+E**(-x))','E**(sqrt(x**2+1))', 'sin(2*x)',\n",
    "            'sin(7*x-3)','cos(5*x)','3*tan(2*x)'\n",
    "    \n",
    "    \n",
    "   \n",
    "         ]\n",
    "        \n",
    "n_ejercicio = 'p25e17'\n",
    "enunciado_latex, enunciado, solucion = [],[],[]\n",
    "\n",
    "texto_ejercicio = r\"\"\"Calcula las siguientes derivadas:\n",
    "\"\"\"\n",
    "\n",
    "display(md(\"**\"+texto_ejercicio+\"**\"))\n",
    "\n",
    "for j, t in enumerate(datos):\n",
    "    enunciado_latex.append(r'$y='+latex(S(t,evaluate=False))+r'$')\n",
    "    enunciado.append(r'diff('+str(nsimplify(S(t)))+r')')\n",
    "    #display(S(t),diff(S(t)))\n",
    "    sol=r\"$y'=\"+latex(simplify(diff(S(t),'x')))+r\"$\"\n",
    "    solucion.append(sol)\n",
    "    display(md(enunciado_latex[j] +\" $ \\\\rightarrow $\" + solucion[j] ))\n",
    "\n",
    "\n",
    "df_ejercicios = df_ejercicios.append(añadir_ejercicios(enunciado_latex, enunciado, solucion, texto_ejercicio, curso, titulo , n_ejercicio, '5', '2', enun_tex=False, sol_tex=False), ignore_index=True)\n",
    "\n",
    "\n"
   ]
  },
  {
   "cell_type": "code",
   "execution_count": 3,
   "metadata": {},
   "outputs": [
    {
     "data": {
      "text/html": [
       "<div>\n",
       "<style scoped>\n",
       "    .dataframe tbody tr th:only-of-type {\n",
       "        vertical-align: middle;\n",
       "    }\n",
       "\n",
       "    .dataframe tbody tr th {\n",
       "        vertical-align: top;\n",
       "    }\n",
       "\n",
       "    .dataframe thead th {\n",
       "        text-align: right;\n",
       "    }\n",
       "</style>\n",
       "<table border=\"1\" class=\"dataframe\">\n",
       "  <thead>\n",
       "    <tr style=\"text-align: right;\">\n",
       "      <th></th>\n",
       "      <th>enunciado_latex</th>\n",
       "      <th>enunciado</th>\n",
       "      <th>solucion</th>\n",
       "      <th>texto</th>\n",
       "      <th>curso</th>\n",
       "      <th>titulo</th>\n",
       "      <th>n_ejercicio</th>\n",
       "      <th>dificultad</th>\n",
       "      <th>n_columnas</th>\n",
       "      <th>puntos</th>\n",
       "      <th>enun_tex</th>\n",
       "      <th>sol_tex</th>\n",
       "    </tr>\n",
       "  </thead>\n",
       "  <tbody>\n",
       "    <tr>\n",
       "      <th>0</th>\n",
       "      <td>$y=2 x$</td>\n",
       "      <td>diff(2*x)</td>\n",
       "      <td>$y'=2$</td>\n",
       "      <td>Calcula las siguientes derivadas:\\n</td>\n",
       "      <td>2BC</td>\n",
       "      <td>Derivadas</td>\n",
       "      <td>p25e16</td>\n",
       "      <td>5</td>\n",
       "      <td>2</td>\n",
       "      <td>1</td>\n",
       "      <td>False</td>\n",
       "      <td>False</td>\n",
       "    </tr>\n",
       "    <tr>\n",
       "      <th>1</th>\n",
       "      <td>$y=3 x - 5$</td>\n",
       "      <td>diff(3*x - 5)</td>\n",
       "      <td>$y'=3$</td>\n",
       "      <td>Calcula las siguientes derivadas:\\n</td>\n",
       "      <td>2BC</td>\n",
       "      <td>Derivadas</td>\n",
       "      <td>p25e16</td>\n",
       "      <td>5</td>\n",
       "      <td>2</td>\n",
       "      <td>1</td>\n",
       "      <td>False</td>\n",
       "      <td>False</td>\n",
       "    </tr>\n",
       "    <tr>\n",
       "      <th>2</th>\n",
       "      <td>$y=2 x^{2} - 7 x + 5$</td>\n",
       "      <td>diff(2*x**2 - 7*x + 5)</td>\n",
       "      <td>$y'=4 x - 7$</td>\n",
       "      <td>Calcula las siguientes derivadas:\\n</td>\n",
       "      <td>2BC</td>\n",
       "      <td>Derivadas</td>\n",
       "      <td>p25e16</td>\n",
       "      <td>5</td>\n",
       "      <td>2</td>\n",
       "      <td>1</td>\n",
       "      <td>False</td>\n",
       "      <td>False</td>\n",
       "    </tr>\n",
       "    <tr>\n",
       "      <th>3</th>\n",
       "      <td>$y=7 x^{5} - 3 x^{2} + x + 2345$</td>\n",
       "      <td>diff(7*x**5 - 3*x**2 + x + 2345)</td>\n",
       "      <td>$y'=35 x^{4} - 6 x + 1$</td>\n",
       "      <td>Calcula las siguientes derivadas:\\n</td>\n",
       "      <td>2BC</td>\n",
       "      <td>Derivadas</td>\n",
       "      <td>p25e16</td>\n",
       "      <td>5</td>\n",
       "      <td>2</td>\n",
       "      <td>1</td>\n",
       "      <td>False</td>\n",
       "      <td>False</td>\n",
       "    </tr>\n",
       "    <tr>\n",
       "      <th>4</th>\n",
       "      <td>$y=x \\left(x + 2\\right)$</td>\n",
       "      <td>diff(x*(x + 2))</td>\n",
       "      <td>$y'=2 x + 2$</td>\n",
       "      <td>Calcula las siguientes derivadas:\\n</td>\n",
       "      <td>2BC</td>\n",
       "      <td>Derivadas</td>\n",
       "      <td>p25e16</td>\n",
       "      <td>5</td>\n",
       "      <td>2</td>\n",
       "      <td>1</td>\n",
       "      <td>False</td>\n",
       "      <td>False</td>\n",
       "    </tr>\n",
       "    <tr>\n",
       "      <th>5</th>\n",
       "      <td>$y=\\left(x - 1\\right) \\left(x + 1\\right)$</td>\n",
       "      <td>diff((x - 1)*(x + 1))</td>\n",
       "      <td>$y'=2 x$</td>\n",
       "      <td>Calcula las siguientes derivadas:\\n</td>\n",
       "      <td>2BC</td>\n",
       "      <td>Derivadas</td>\n",
       "      <td>p25e16</td>\n",
       "      <td>5</td>\n",
       "      <td>2</td>\n",
       "      <td>1</td>\n",
       "      <td>False</td>\n",
       "      <td>False</td>\n",
       "    </tr>\n",
       "    <tr>\n",
       "      <th>6</th>\n",
       "      <td>$y=\\frac{5 x^{4}}{7} - \\frac{x^{3}}{55} - \\fra...</td>\n",
       "      <td>diff(5*x**4/7 - x**3/55 - 3*x**2/4 + x - 1255)</td>\n",
       "      <td>$y'=\\frac{20 x^{3}}{7} - \\frac{3 x^{2}}{55} - ...</td>\n",
       "      <td>Calcula las siguientes derivadas:\\n</td>\n",
       "      <td>2BC</td>\n",
       "      <td>Derivadas</td>\n",
       "      <td>p25e16</td>\n",
       "      <td>5</td>\n",
       "      <td>2</td>\n",
       "      <td>1</td>\n",
       "      <td>False</td>\n",
       "      <td>False</td>\n",
       "    </tr>\n",
       "    <tr>\n",
       "      <th>7</th>\n",
       "      <td>$y=\\left(x + 1\\right)^{3}$</td>\n",
       "      <td>diff((x + 1)**3)</td>\n",
       "      <td>$y'=3 \\left(x + 1\\right)^{2}$</td>\n",
       "      <td>Calcula las siguientes derivadas:\\n</td>\n",
       "      <td>2BC</td>\n",
       "      <td>Derivadas</td>\n",
       "      <td>p25e16</td>\n",
       "      <td>5</td>\n",
       "      <td>2</td>\n",
       "      <td>1</td>\n",
       "      <td>False</td>\n",
       "      <td>False</td>\n",
       "    </tr>\n",
       "    <tr>\n",
       "      <th>8</th>\n",
       "      <td>$y=\\left(x^{3} + x + 1\\right)^{4}$</td>\n",
       "      <td>diff((x**3 + x + 1)**4)</td>\n",
       "      <td>$y'=\\left(12 x^{2} + 4\\right) \\left(x^{3} + x ...</td>\n",
       "      <td>Calcula las siguientes derivadas:\\n</td>\n",
       "      <td>2BC</td>\n",
       "      <td>Derivadas</td>\n",
       "      <td>p25e16</td>\n",
       "      <td>5</td>\n",
       "      <td>2</td>\n",
       "      <td>1</td>\n",
       "      <td>False</td>\n",
       "      <td>False</td>\n",
       "    </tr>\n",
       "    <tr>\n",
       "      <th>9</th>\n",
       "      <td>$y=- \\left(3 x - 1\\right)^{2} + \\left(3 x + 1\\...</td>\n",
       "      <td>diff(-(3*x - 1)**2 + (3*x + 1)**2)</td>\n",
       "      <td>$y'=12$</td>\n",
       "      <td>Calcula las siguientes derivadas:\\n</td>\n",
       "      <td>2BC</td>\n",
       "      <td>Derivadas</td>\n",
       "      <td>p25e16</td>\n",
       "      <td>5</td>\n",
       "      <td>2</td>\n",
       "      <td>1</td>\n",
       "      <td>False</td>\n",
       "      <td>False</td>\n",
       "    </tr>\n",
       "    <tr>\n",
       "      <th>10</th>\n",
       "      <td>$y=\\frac{1}{x^{2}}$</td>\n",
       "      <td>diff(x**(-2))</td>\n",
       "      <td>$y'=- \\frac{2}{x^{3}}$</td>\n",
       "      <td>Calcula las siguientes derivadas:\\n</td>\n",
       "      <td>2BC</td>\n",
       "      <td>Derivadas</td>\n",
       "      <td>p25e16</td>\n",
       "      <td>5</td>\n",
       "      <td>2</td>\n",
       "      <td>1</td>\n",
       "      <td>False</td>\n",
       "      <td>False</td>\n",
       "    </tr>\n",
       "    <tr>\n",
       "      <th>11</th>\n",
       "      <td>$y=\\frac{1}{x + 1}$</td>\n",
       "      <td>diff(1/(x + 1))</td>\n",
       "      <td>$y'=- \\frac{1}{\\left(x + 1\\right)^{2}}$</td>\n",
       "      <td>Calcula las siguientes derivadas:\\n</td>\n",
       "      <td>2BC</td>\n",
       "      <td>Derivadas</td>\n",
       "      <td>p25e16</td>\n",
       "      <td>5</td>\n",
       "      <td>2</td>\n",
       "      <td>1</td>\n",
       "      <td>False</td>\n",
       "      <td>False</td>\n",
       "    </tr>\n",
       "    <tr>\n",
       "      <th>12</th>\n",
       "      <td>$y=\\frac{x^{2} - 3}{x^{3} + x}$</td>\n",
       "      <td>diff((x**2 - 3)/(x**3 + x))</td>\n",
       "      <td>$y'=\\frac{- x^{4} + 10 x^{2} + 3}{x^{2} \\left(...</td>\n",
       "      <td>Calcula las siguientes derivadas:\\n</td>\n",
       "      <td>2BC</td>\n",
       "      <td>Derivadas</td>\n",
       "      <td>p25e16</td>\n",
       "      <td>5</td>\n",
       "      <td>2</td>\n",
       "      <td>1</td>\n",
       "      <td>False</td>\n",
       "      <td>False</td>\n",
       "    </tr>\n",
       "    <tr>\n",
       "      <th>13</th>\n",
       "      <td>$y=\\frac{x + 1}{x}$</td>\n",
       "      <td>diff((x + 1)/x)</td>\n",
       "      <td>$y'=- \\frac{1}{x^{2}}$</td>\n",
       "      <td>Calcula las siguientes derivadas:\\n</td>\n",
       "      <td>2BC</td>\n",
       "      <td>Derivadas</td>\n",
       "      <td>p25e16</td>\n",
       "      <td>5</td>\n",
       "      <td>2</td>\n",
       "      <td>1</td>\n",
       "      <td>False</td>\n",
       "      <td>False</td>\n",
       "    </tr>\n",
       "    <tr>\n",
       "      <th>14</th>\n",
       "      <td>$y=\\frac{x \\left(x^{2} - 1\\right)}{3 x^{2} - 3}$</td>\n",
       "      <td>diff(x*(x**2 - 1)/(3*x**2 - 3))</td>\n",
       "      <td>$y'=\\frac{1}{3}$</td>\n",
       "      <td>Calcula las siguientes derivadas:\\n</td>\n",
       "      <td>2BC</td>\n",
       "      <td>Derivadas</td>\n",
       "      <td>p25e16</td>\n",
       "      <td>5</td>\n",
       "      <td>2</td>\n",
       "      <td>1</td>\n",
       "      <td>False</td>\n",
       "      <td>False</td>\n",
       "    </tr>\n",
       "  </tbody>\n",
       "</table>\n",
       "</div>"
      ],
      "text/plain": [
       "                                      enunciado_latex  \\\n",
       "0                                             $y=2 x$   \n",
       "1                                         $y=3 x - 5$   \n",
       "2                               $y=2 x^{2} - 7 x + 5$   \n",
       "3                    $y=7 x^{5} - 3 x^{2} + x + 2345$   \n",
       "4                            $y=x \\left(x + 2\\right)$   \n",
       "5           $y=\\left(x - 1\\right) \\left(x + 1\\right)$   \n",
       "6   $y=\\frac{5 x^{4}}{7} - \\frac{x^{3}}{55} - \\fra...   \n",
       "7                          $y=\\left(x + 1\\right)^{3}$   \n",
       "8                  $y=\\left(x^{3} + x + 1\\right)^{4}$   \n",
       "9   $y=- \\left(3 x - 1\\right)^{2} + \\left(3 x + 1\\...   \n",
       "10                                $y=\\frac{1}{x^{2}}$   \n",
       "11                                $y=\\frac{1}{x + 1}$   \n",
       "12                    $y=\\frac{x^{2} - 3}{x^{3} + x}$   \n",
       "13                                $y=\\frac{x + 1}{x}$   \n",
       "14   $y=\\frac{x \\left(x^{2} - 1\\right)}{3 x^{2} - 3}$   \n",
       "\n",
       "                                         enunciado  \\\n",
       "0                                        diff(2*x)   \n",
       "1                                    diff(3*x - 5)   \n",
       "2                           diff(2*x**2 - 7*x + 5)   \n",
       "3                 diff(7*x**5 - 3*x**2 + x + 2345)   \n",
       "4                                  diff(x*(x + 2))   \n",
       "5                            diff((x - 1)*(x + 1))   \n",
       "6   diff(5*x**4/7 - x**3/55 - 3*x**2/4 + x - 1255)   \n",
       "7                                 diff((x + 1)**3)   \n",
       "8                          diff((x**3 + x + 1)**4)   \n",
       "9               diff(-(3*x - 1)**2 + (3*x + 1)**2)   \n",
       "10                                   diff(x**(-2))   \n",
       "11                                 diff(1/(x + 1))   \n",
       "12                     diff((x**2 - 3)/(x**3 + x))   \n",
       "13                                 diff((x + 1)/x)   \n",
       "14                 diff(x*(x**2 - 1)/(3*x**2 - 3))   \n",
       "\n",
       "                                             solucion  \\\n",
       "0                                              $y'=2$   \n",
       "1                                              $y'=3$   \n",
       "2                                        $y'=4 x - 7$   \n",
       "3                             $y'=35 x^{4} - 6 x + 1$   \n",
       "4                                        $y'=2 x + 2$   \n",
       "5                                            $y'=2 x$   \n",
       "6   $y'=\\frac{20 x^{3}}{7} - \\frac{3 x^{2}}{55} - ...   \n",
       "7                       $y'=3 \\left(x + 1\\right)^{2}$   \n",
       "8   $y'=\\left(12 x^{2} + 4\\right) \\left(x^{3} + x ...   \n",
       "9                                             $y'=12$   \n",
       "10                             $y'=- \\frac{2}{x^{3}}$   \n",
       "11            $y'=- \\frac{1}{\\left(x + 1\\right)^{2}}$   \n",
       "12  $y'=\\frac{- x^{4} + 10 x^{2} + 3}{x^{2} \\left(...   \n",
       "13                             $y'=- \\frac{1}{x^{2}}$   \n",
       "14                                   $y'=\\frac{1}{3}$   \n",
       "\n",
       "                                  texto curso     titulo n_ejercicio  \\\n",
       "0   Calcula las siguientes derivadas:\\n   2BC  Derivadas      p25e16   \n",
       "1   Calcula las siguientes derivadas:\\n   2BC  Derivadas      p25e16   \n",
       "2   Calcula las siguientes derivadas:\\n   2BC  Derivadas      p25e16   \n",
       "3   Calcula las siguientes derivadas:\\n   2BC  Derivadas      p25e16   \n",
       "4   Calcula las siguientes derivadas:\\n   2BC  Derivadas      p25e16   \n",
       "5   Calcula las siguientes derivadas:\\n   2BC  Derivadas      p25e16   \n",
       "6   Calcula las siguientes derivadas:\\n   2BC  Derivadas      p25e16   \n",
       "7   Calcula las siguientes derivadas:\\n   2BC  Derivadas      p25e16   \n",
       "8   Calcula las siguientes derivadas:\\n   2BC  Derivadas      p25e16   \n",
       "9   Calcula las siguientes derivadas:\\n   2BC  Derivadas      p25e16   \n",
       "10  Calcula las siguientes derivadas:\\n   2BC  Derivadas      p25e16   \n",
       "11  Calcula las siguientes derivadas:\\n   2BC  Derivadas      p25e16   \n",
       "12  Calcula las siguientes derivadas:\\n   2BC  Derivadas      p25e16   \n",
       "13  Calcula las siguientes derivadas:\\n   2BC  Derivadas      p25e16   \n",
       "14  Calcula las siguientes derivadas:\\n   2BC  Derivadas      p25e16   \n",
       "\n",
       "   dificultad n_columnas puntos  enun_tex  sol_tex  \n",
       "0           5          2      1     False    False  \n",
       "1           5          2      1     False    False  \n",
       "2           5          2      1     False    False  \n",
       "3           5          2      1     False    False  \n",
       "4           5          2      1     False    False  \n",
       "5           5          2      1     False    False  \n",
       "6           5          2      1     False    False  \n",
       "7           5          2      1     False    False  \n",
       "8           5          2      1     False    False  \n",
       "9           5          2      1     False    False  \n",
       "10          5          2      1     False    False  \n",
       "11          5          2      1     False    False  \n",
       "12          5          2      1     False    False  \n",
       "13          5          2      1     False    False  \n",
       "14          5          2      1     False    False  "
      ]
     },
     "execution_count": 3,
     "metadata": {},
     "output_type": "execute_result"
    }
   ],
   "source": [
    "df_ejercicios"
   ]
  },
  {
   "cell_type": "code",
   "execution_count": 4,
   "metadata": {},
   "outputs": [
    {
     "data": {
      "text/markdown": [
       "**Ejercicio: **p25e16"
      ],
      "text/plain": [
       "<IPython.core.display.Markdown object>"
      ]
     },
     "metadata": {},
     "output_type": "display_data"
    },
    {
     "data": {
      "text/html": [
       "<div>\n",
       "<style scoped>\n",
       "    .dataframe tbody tr th:only-of-type {\n",
       "        vertical-align: middle;\n",
       "    }\n",
       "\n",
       "    .dataframe tbody tr th {\n",
       "        vertical-align: top;\n",
       "    }\n",
       "\n",
       "    .dataframe thead th {\n",
       "        text-align: right;\n",
       "    }\n",
       "</style>\n",
       "<table border=\"1\" class=\"dataframe\">\n",
       "  <thead>\n",
       "    <tr style=\"text-align: right;\">\n",
       "      <th></th>\n",
       "      <th>enunciado_latex</th>\n",
       "      <th>enunciado</th>\n",
       "      <th>solucion</th>\n",
       "      <th>texto</th>\n",
       "      <th>curso</th>\n",
       "      <th>titulo</th>\n",
       "      <th>n_ejercicio</th>\n",
       "      <th>dificultad</th>\n",
       "      <th>n_columnas</th>\n",
       "      <th>puntos</th>\n",
       "      <th>enun_tex</th>\n",
       "      <th>sol_tex</th>\n",
       "    </tr>\n",
       "  </thead>\n",
       "  <tbody>\n",
       "    <tr>\n",
       "      <th>0</th>\n",
       "      <td>$y=2 x$</td>\n",
       "      <td>diff(2*x)</td>\n",
       "      <td>$y'=2$</td>\n",
       "      <td>Calcula las siguientes derivadas:\\n</td>\n",
       "      <td>2BC</td>\n",
       "      <td>Derivadas</td>\n",
       "      <td>p25e16</td>\n",
       "      <td>5</td>\n",
       "      <td>2</td>\n",
       "      <td>1</td>\n",
       "      <td>False</td>\n",
       "      <td>False</td>\n",
       "    </tr>\n",
       "    <tr>\n",
       "      <th>1</th>\n",
       "      <td>$y=3 x - 5$</td>\n",
       "      <td>diff(3*x - 5)</td>\n",
       "      <td>$y'=3$</td>\n",
       "      <td>Calcula las siguientes derivadas:\\n</td>\n",
       "      <td>2BC</td>\n",
       "      <td>Derivadas</td>\n",
       "      <td>p25e16</td>\n",
       "      <td>5</td>\n",
       "      <td>2</td>\n",
       "      <td>1</td>\n",
       "      <td>False</td>\n",
       "      <td>False</td>\n",
       "    </tr>\n",
       "    <tr>\n",
       "      <th>2</th>\n",
       "      <td>$y=2 x^{2} - 7 x + 5$</td>\n",
       "      <td>diff(2*x**2 - 7*x + 5)</td>\n",
       "      <td>$y'=4 x - 7$</td>\n",
       "      <td>Calcula las siguientes derivadas:\\n</td>\n",
       "      <td>2BC</td>\n",
       "      <td>Derivadas</td>\n",
       "      <td>p25e16</td>\n",
       "      <td>5</td>\n",
       "      <td>2</td>\n",
       "      <td>1</td>\n",
       "      <td>False</td>\n",
       "      <td>False</td>\n",
       "    </tr>\n",
       "    <tr>\n",
       "      <th>3</th>\n",
       "      <td>$y=7 x^{5} - 3 x^{2} + x + 2345$</td>\n",
       "      <td>diff(7*x**5 - 3*x**2 + x + 2345)</td>\n",
       "      <td>$y'=35 x^{4} - 6 x + 1$</td>\n",
       "      <td>Calcula las siguientes derivadas:\\n</td>\n",
       "      <td>2BC</td>\n",
       "      <td>Derivadas</td>\n",
       "      <td>p25e16</td>\n",
       "      <td>5</td>\n",
       "      <td>2</td>\n",
       "      <td>1</td>\n",
       "      <td>False</td>\n",
       "      <td>False</td>\n",
       "    </tr>\n",
       "    <tr>\n",
       "      <th>4</th>\n",
       "      <td>$y=x \\left(x + 2\\right)$</td>\n",
       "      <td>diff(x*(x + 2))</td>\n",
       "      <td>$y'=2 x + 2$</td>\n",
       "      <td>Calcula las siguientes derivadas:\\n</td>\n",
       "      <td>2BC</td>\n",
       "      <td>Derivadas</td>\n",
       "      <td>p25e16</td>\n",
       "      <td>5</td>\n",
       "      <td>2</td>\n",
       "      <td>1</td>\n",
       "      <td>False</td>\n",
       "      <td>False</td>\n",
       "    </tr>\n",
       "    <tr>\n",
       "      <th>5</th>\n",
       "      <td>$y=\\left(x - 1\\right) \\left(x + 1\\right)$</td>\n",
       "      <td>diff((x - 1)*(x + 1))</td>\n",
       "      <td>$y'=2 x$</td>\n",
       "      <td>Calcula las siguientes derivadas:\\n</td>\n",
       "      <td>2BC</td>\n",
       "      <td>Derivadas</td>\n",
       "      <td>p25e16</td>\n",
       "      <td>5</td>\n",
       "      <td>2</td>\n",
       "      <td>1</td>\n",
       "      <td>False</td>\n",
       "      <td>False</td>\n",
       "    </tr>\n",
       "    <tr>\n",
       "      <th>6</th>\n",
       "      <td>$y=\\frac{5 x^{4}}{7} - \\frac{x^{3}}{55} - \\fra...</td>\n",
       "      <td>diff(5*x**4/7 - x**3/55 - 3*x**2/4 + x - 1255)</td>\n",
       "      <td>$y'=\\frac{20 x^{3}}{7} - \\frac{3 x^{2}}{55} - ...</td>\n",
       "      <td>Calcula las siguientes derivadas:\\n</td>\n",
       "      <td>2BC</td>\n",
       "      <td>Derivadas</td>\n",
       "      <td>p25e16</td>\n",
       "      <td>5</td>\n",
       "      <td>2</td>\n",
       "      <td>1</td>\n",
       "      <td>False</td>\n",
       "      <td>False</td>\n",
       "    </tr>\n",
       "    <tr>\n",
       "      <th>7</th>\n",
       "      <td>$y=\\left(x + 1\\right)^{3}$</td>\n",
       "      <td>diff((x + 1)**3)</td>\n",
       "      <td>$y'=3 \\left(x + 1\\right)^{2}$</td>\n",
       "      <td>Calcula las siguientes derivadas:\\n</td>\n",
       "      <td>2BC</td>\n",
       "      <td>Derivadas</td>\n",
       "      <td>p25e16</td>\n",
       "      <td>5</td>\n",
       "      <td>2</td>\n",
       "      <td>1</td>\n",
       "      <td>False</td>\n",
       "      <td>False</td>\n",
       "    </tr>\n",
       "    <tr>\n",
       "      <th>8</th>\n",
       "      <td>$y=\\left(x^{3} + x + 1\\right)^{4}$</td>\n",
       "      <td>diff((x**3 + x + 1)**4)</td>\n",
       "      <td>$y'=\\left(12 x^{2} + 4\\right) \\left(x^{3} + x ...</td>\n",
       "      <td>Calcula las siguientes derivadas:\\n</td>\n",
       "      <td>2BC</td>\n",
       "      <td>Derivadas</td>\n",
       "      <td>p25e16</td>\n",
       "      <td>5</td>\n",
       "      <td>2</td>\n",
       "      <td>1</td>\n",
       "      <td>False</td>\n",
       "      <td>False</td>\n",
       "    </tr>\n",
       "    <tr>\n",
       "      <th>9</th>\n",
       "      <td>$y=- \\left(3 x - 1\\right)^{2} + \\left(3 x + 1\\...</td>\n",
       "      <td>diff(-(3*x - 1)**2 + (3*x + 1)**2)</td>\n",
       "      <td>$y'=12$</td>\n",
       "      <td>Calcula las siguientes derivadas:\\n</td>\n",
       "      <td>2BC</td>\n",
       "      <td>Derivadas</td>\n",
       "      <td>p25e16</td>\n",
       "      <td>5</td>\n",
       "      <td>2</td>\n",
       "      <td>1</td>\n",
       "      <td>False</td>\n",
       "      <td>False</td>\n",
       "    </tr>\n",
       "    <tr>\n",
       "      <th>10</th>\n",
       "      <td>$y=\\frac{1}{x^{2}}$</td>\n",
       "      <td>diff(x**(-2))</td>\n",
       "      <td>$y'=- \\frac{2}{x^{3}}$</td>\n",
       "      <td>Calcula las siguientes derivadas:\\n</td>\n",
       "      <td>2BC</td>\n",
       "      <td>Derivadas</td>\n",
       "      <td>p25e16</td>\n",
       "      <td>5</td>\n",
       "      <td>2</td>\n",
       "      <td>1</td>\n",
       "      <td>False</td>\n",
       "      <td>False</td>\n",
       "    </tr>\n",
       "    <tr>\n",
       "      <th>11</th>\n",
       "      <td>$y=\\frac{1}{x + 1}$</td>\n",
       "      <td>diff(1/(x + 1))</td>\n",
       "      <td>$y'=- \\frac{1}{\\left(x + 1\\right)^{2}}$</td>\n",
       "      <td>Calcula las siguientes derivadas:\\n</td>\n",
       "      <td>2BC</td>\n",
       "      <td>Derivadas</td>\n",
       "      <td>p25e16</td>\n",
       "      <td>5</td>\n",
       "      <td>2</td>\n",
       "      <td>1</td>\n",
       "      <td>False</td>\n",
       "      <td>False</td>\n",
       "    </tr>\n",
       "    <tr>\n",
       "      <th>12</th>\n",
       "      <td>$y=\\frac{x^{2} - 3}{x^{3} + x}$</td>\n",
       "      <td>diff((x**2 - 3)/(x**3 + x))</td>\n",
       "      <td>$y'=\\frac{- x^{4} + 10 x^{2} + 3}{x^{2} \\left(...</td>\n",
       "      <td>Calcula las siguientes derivadas:\\n</td>\n",
       "      <td>2BC</td>\n",
       "      <td>Derivadas</td>\n",
       "      <td>p25e16</td>\n",
       "      <td>5</td>\n",
       "      <td>2</td>\n",
       "      <td>1</td>\n",
       "      <td>False</td>\n",
       "      <td>False</td>\n",
       "    </tr>\n",
       "    <tr>\n",
       "      <th>13</th>\n",
       "      <td>$y=\\frac{x + 1}{x}$</td>\n",
       "      <td>diff((x + 1)/x)</td>\n",
       "      <td>$y'=- \\frac{1}{x^{2}}$</td>\n",
       "      <td>Calcula las siguientes derivadas:\\n</td>\n",
       "      <td>2BC</td>\n",
       "      <td>Derivadas</td>\n",
       "      <td>p25e16</td>\n",
       "      <td>5</td>\n",
       "      <td>2</td>\n",
       "      <td>1</td>\n",
       "      <td>False</td>\n",
       "      <td>False</td>\n",
       "    </tr>\n",
       "    <tr>\n",
       "      <th>14</th>\n",
       "      <td>$y=\\frac{x \\left(x^{2} - 1\\right)}{3 x^{2} - 3}$</td>\n",
       "      <td>diff(x*(x**2 - 1)/(3*x**2 - 3))</td>\n",
       "      <td>$y'=\\frac{1}{3}$</td>\n",
       "      <td>Calcula las siguientes derivadas:\\n</td>\n",
       "      <td>2BC</td>\n",
       "      <td>Derivadas</td>\n",
       "      <td>p25e16</td>\n",
       "      <td>5</td>\n",
       "      <td>2</td>\n",
       "      <td>1</td>\n",
       "      <td>False</td>\n",
       "      <td>False</td>\n",
       "    </tr>\n",
       "  </tbody>\n",
       "</table>\n",
       "</div>"
      ],
      "text/plain": [
       "                                      enunciado_latex  \\\n",
       "0                                             $y=2 x$   \n",
       "1                                         $y=3 x - 5$   \n",
       "2                               $y=2 x^{2} - 7 x + 5$   \n",
       "3                    $y=7 x^{5} - 3 x^{2} + x + 2345$   \n",
       "4                            $y=x \\left(x + 2\\right)$   \n",
       "5           $y=\\left(x - 1\\right) \\left(x + 1\\right)$   \n",
       "6   $y=\\frac{5 x^{4}}{7} - \\frac{x^{3}}{55} - \\fra...   \n",
       "7                          $y=\\left(x + 1\\right)^{3}$   \n",
       "8                  $y=\\left(x^{3} + x + 1\\right)^{4}$   \n",
       "9   $y=- \\left(3 x - 1\\right)^{2} + \\left(3 x + 1\\...   \n",
       "10                                $y=\\frac{1}{x^{2}}$   \n",
       "11                                $y=\\frac{1}{x + 1}$   \n",
       "12                    $y=\\frac{x^{2} - 3}{x^{3} + x}$   \n",
       "13                                $y=\\frac{x + 1}{x}$   \n",
       "14   $y=\\frac{x \\left(x^{2} - 1\\right)}{3 x^{2} - 3}$   \n",
       "\n",
       "                                         enunciado  \\\n",
       "0                                        diff(2*x)   \n",
       "1                                    diff(3*x - 5)   \n",
       "2                           diff(2*x**2 - 7*x + 5)   \n",
       "3                 diff(7*x**5 - 3*x**2 + x + 2345)   \n",
       "4                                  diff(x*(x + 2))   \n",
       "5                            diff((x - 1)*(x + 1))   \n",
       "6   diff(5*x**4/7 - x**3/55 - 3*x**2/4 + x - 1255)   \n",
       "7                                 diff((x + 1)**3)   \n",
       "8                          diff((x**3 + x + 1)**4)   \n",
       "9               diff(-(3*x - 1)**2 + (3*x + 1)**2)   \n",
       "10                                   diff(x**(-2))   \n",
       "11                                 diff(1/(x + 1))   \n",
       "12                     diff((x**2 - 3)/(x**3 + x))   \n",
       "13                                 diff((x + 1)/x)   \n",
       "14                 diff(x*(x**2 - 1)/(3*x**2 - 3))   \n",
       "\n",
       "                                             solucion  \\\n",
       "0                                              $y'=2$   \n",
       "1                                              $y'=3$   \n",
       "2                                        $y'=4 x - 7$   \n",
       "3                             $y'=35 x^{4} - 6 x + 1$   \n",
       "4                                        $y'=2 x + 2$   \n",
       "5                                            $y'=2 x$   \n",
       "6   $y'=\\frac{20 x^{3}}{7} - \\frac{3 x^{2}}{55} - ...   \n",
       "7                       $y'=3 \\left(x + 1\\right)^{2}$   \n",
       "8   $y'=\\left(12 x^{2} + 4\\right) \\left(x^{3} + x ...   \n",
       "9                                             $y'=12$   \n",
       "10                             $y'=- \\frac{2}{x^{3}}$   \n",
       "11            $y'=- \\frac{1}{\\left(x + 1\\right)^{2}}$   \n",
       "12  $y'=\\frac{- x^{4} + 10 x^{2} + 3}{x^{2} \\left(...   \n",
       "13                             $y'=- \\frac{1}{x^{2}}$   \n",
       "14                                   $y'=\\frac{1}{3}$   \n",
       "\n",
       "                                  texto curso     titulo n_ejercicio  \\\n",
       "0   Calcula las siguientes derivadas:\\n   2BC  Derivadas      p25e16   \n",
       "1   Calcula las siguientes derivadas:\\n   2BC  Derivadas      p25e16   \n",
       "2   Calcula las siguientes derivadas:\\n   2BC  Derivadas      p25e16   \n",
       "3   Calcula las siguientes derivadas:\\n   2BC  Derivadas      p25e16   \n",
       "4   Calcula las siguientes derivadas:\\n   2BC  Derivadas      p25e16   \n",
       "5   Calcula las siguientes derivadas:\\n   2BC  Derivadas      p25e16   \n",
       "6   Calcula las siguientes derivadas:\\n   2BC  Derivadas      p25e16   \n",
       "7   Calcula las siguientes derivadas:\\n   2BC  Derivadas      p25e16   \n",
       "8   Calcula las siguientes derivadas:\\n   2BC  Derivadas      p25e16   \n",
       "9   Calcula las siguientes derivadas:\\n   2BC  Derivadas      p25e16   \n",
       "10  Calcula las siguientes derivadas:\\n   2BC  Derivadas      p25e16   \n",
       "11  Calcula las siguientes derivadas:\\n   2BC  Derivadas      p25e16   \n",
       "12  Calcula las siguientes derivadas:\\n   2BC  Derivadas      p25e16   \n",
       "13  Calcula las siguientes derivadas:\\n   2BC  Derivadas      p25e16   \n",
       "14  Calcula las siguientes derivadas:\\n   2BC  Derivadas      p25e16   \n",
       "\n",
       "   dificultad n_columnas puntos  enun_tex  sol_tex  \n",
       "0           5          2      1     False    False  \n",
       "1           5          2      1     False    False  \n",
       "2           5          2      1     False    False  \n",
       "3           5          2      1     False    False  \n",
       "4           5          2      1     False    False  \n",
       "5           5          2      1     False    False  \n",
       "6           5          2      1     False    False  \n",
       "7           5          2      1     False    False  \n",
       "8           5          2      1     False    False  \n",
       "9           5          2      1     False    False  \n",
       "10          5          2      1     False    False  \n",
       "11          5          2      1     False    False  \n",
       "12          5          2      1     False    False  \n",
       "13          5          2      1     False    False  \n",
       "14          5          2      1     False    False  "
      ]
     },
     "metadata": {},
     "output_type": "display_data"
    }
   ],
   "source": [
    "escribir_preambulo(fichero, titulo, 'ejercicios')\n",
    "for s in df_ejercicios.groupby('n_ejercicio').count().index : \n",
    "    display(md(\"**Ejercicio: **\" + s ))\n",
    "    display(df_ejercicios[df_ejercicios.n_ejercicio == s])\n",
    "    escribir_ejercicios(df_ejercicios[df_ejercicios.n_ejercicio == s],fichero)\n",
    "\n",
    "escribir_fin(fichero)"
   ]
  },
  {
   "cell_type": "code",
   "execution_count": 5,
   "metadata": {},
   "outputs": [
    {
     "data": {
      "text/markdown": [
       "**Ejercicio: **p25e16"
      ],
      "text/plain": [
       "<IPython.core.display.Markdown object>"
      ]
     },
     "metadata": {},
     "output_type": "display_data"
    },
    {
     "data": {
      "text/html": [
       "<div>\n",
       "<style scoped>\n",
       "    .dataframe tbody tr th:only-of-type {\n",
       "        vertical-align: middle;\n",
       "    }\n",
       "\n",
       "    .dataframe tbody tr th {\n",
       "        vertical-align: top;\n",
       "    }\n",
       "\n",
       "    .dataframe thead th {\n",
       "        text-align: right;\n",
       "    }\n",
       "</style>\n",
       "<table border=\"1\" class=\"dataframe\">\n",
       "  <thead>\n",
       "    <tr style=\"text-align: right;\">\n",
       "      <th></th>\n",
       "      <th>enunciado_latex</th>\n",
       "      <th>enunciado</th>\n",
       "      <th>solucion</th>\n",
       "      <th>texto</th>\n",
       "      <th>curso</th>\n",
       "      <th>titulo</th>\n",
       "      <th>n_ejercicio</th>\n",
       "      <th>dificultad</th>\n",
       "      <th>n_columnas</th>\n",
       "      <th>puntos</th>\n",
       "      <th>enun_tex</th>\n",
       "      <th>sol_tex</th>\n",
       "    </tr>\n",
       "  </thead>\n",
       "  <tbody>\n",
       "    <tr>\n",
       "      <th>0</th>\n",
       "      <td>$y=2 x$</td>\n",
       "      <td>diff(2*x)</td>\n",
       "      <td>$y'=2$</td>\n",
       "      <td>Calcula las siguientes derivadas:\\n</td>\n",
       "      <td>2BC</td>\n",
       "      <td>Derivadas</td>\n",
       "      <td>p25e16</td>\n",
       "      <td>5</td>\n",
       "      <td>2</td>\n",
       "      <td>1</td>\n",
       "      <td>False</td>\n",
       "      <td>False</td>\n",
       "    </tr>\n",
       "    <tr>\n",
       "      <th>1</th>\n",
       "      <td>$y=3 x - 5$</td>\n",
       "      <td>diff(3*x - 5)</td>\n",
       "      <td>$y'=3$</td>\n",
       "      <td>Calcula las siguientes derivadas:\\n</td>\n",
       "      <td>2BC</td>\n",
       "      <td>Derivadas</td>\n",
       "      <td>p25e16</td>\n",
       "      <td>5</td>\n",
       "      <td>2</td>\n",
       "      <td>1</td>\n",
       "      <td>False</td>\n",
       "      <td>False</td>\n",
       "    </tr>\n",
       "    <tr>\n",
       "      <th>2</th>\n",
       "      <td>$y=2 x^{2} - 7 x + 5$</td>\n",
       "      <td>diff(2*x**2 - 7*x + 5)</td>\n",
       "      <td>$y'=4 x - 7$</td>\n",
       "      <td>Calcula las siguientes derivadas:\\n</td>\n",
       "      <td>2BC</td>\n",
       "      <td>Derivadas</td>\n",
       "      <td>p25e16</td>\n",
       "      <td>5</td>\n",
       "      <td>2</td>\n",
       "      <td>1</td>\n",
       "      <td>False</td>\n",
       "      <td>False</td>\n",
       "    </tr>\n",
       "    <tr>\n",
       "      <th>3</th>\n",
       "      <td>$y=7 x^{5} - 3 x^{2} + x + 2345$</td>\n",
       "      <td>diff(7*x**5 - 3*x**2 + x + 2345)</td>\n",
       "      <td>$y'=35 x^{4} - 6 x + 1$</td>\n",
       "      <td>Calcula las siguientes derivadas:\\n</td>\n",
       "      <td>2BC</td>\n",
       "      <td>Derivadas</td>\n",
       "      <td>p25e16</td>\n",
       "      <td>5</td>\n",
       "      <td>2</td>\n",
       "      <td>1</td>\n",
       "      <td>False</td>\n",
       "      <td>False</td>\n",
       "    </tr>\n",
       "    <tr>\n",
       "      <th>4</th>\n",
       "      <td>$y=x \\left(x + 2\\right)$</td>\n",
       "      <td>diff(x*(x + 2))</td>\n",
       "      <td>$y'=2 x + 2$</td>\n",
       "      <td>Calcula las siguientes derivadas:\\n</td>\n",
       "      <td>2BC</td>\n",
       "      <td>Derivadas</td>\n",
       "      <td>p25e16</td>\n",
       "      <td>5</td>\n",
       "      <td>2</td>\n",
       "      <td>1</td>\n",
       "      <td>False</td>\n",
       "      <td>False</td>\n",
       "    </tr>\n",
       "    <tr>\n",
       "      <th>5</th>\n",
       "      <td>$y=\\left(x - 1\\right) \\left(x + 1\\right)$</td>\n",
       "      <td>diff((x - 1)*(x + 1))</td>\n",
       "      <td>$y'=2 x$</td>\n",
       "      <td>Calcula las siguientes derivadas:\\n</td>\n",
       "      <td>2BC</td>\n",
       "      <td>Derivadas</td>\n",
       "      <td>p25e16</td>\n",
       "      <td>5</td>\n",
       "      <td>2</td>\n",
       "      <td>1</td>\n",
       "      <td>False</td>\n",
       "      <td>False</td>\n",
       "    </tr>\n",
       "    <tr>\n",
       "      <th>6</th>\n",
       "      <td>$y=\\frac{5 x^{4}}{7} - \\frac{x^{3}}{55} - \\fra...</td>\n",
       "      <td>diff(5*x**4/7 - x**3/55 - 3*x**2/4 + x - 1255)</td>\n",
       "      <td>$y'=\\frac{20 x^{3}}{7} - \\frac{3 x^{2}}{55} - ...</td>\n",
       "      <td>Calcula las siguientes derivadas:\\n</td>\n",
       "      <td>2BC</td>\n",
       "      <td>Derivadas</td>\n",
       "      <td>p25e16</td>\n",
       "      <td>5</td>\n",
       "      <td>2</td>\n",
       "      <td>1</td>\n",
       "      <td>False</td>\n",
       "      <td>False</td>\n",
       "    </tr>\n",
       "    <tr>\n",
       "      <th>7</th>\n",
       "      <td>$y=\\left(x + 1\\right)^{3}$</td>\n",
       "      <td>diff((x + 1)**3)</td>\n",
       "      <td>$y'=3 \\left(x + 1\\right)^{2}$</td>\n",
       "      <td>Calcula las siguientes derivadas:\\n</td>\n",
       "      <td>2BC</td>\n",
       "      <td>Derivadas</td>\n",
       "      <td>p25e16</td>\n",
       "      <td>5</td>\n",
       "      <td>2</td>\n",
       "      <td>1</td>\n",
       "      <td>False</td>\n",
       "      <td>False</td>\n",
       "    </tr>\n",
       "    <tr>\n",
       "      <th>8</th>\n",
       "      <td>$y=\\left(x^{3} + x + 1\\right)^{4}$</td>\n",
       "      <td>diff((x**3 + x + 1)**4)</td>\n",
       "      <td>$y'=\\left(12 x^{2} + 4\\right) \\left(x^{3} + x ...</td>\n",
       "      <td>Calcula las siguientes derivadas:\\n</td>\n",
       "      <td>2BC</td>\n",
       "      <td>Derivadas</td>\n",
       "      <td>p25e16</td>\n",
       "      <td>5</td>\n",
       "      <td>2</td>\n",
       "      <td>1</td>\n",
       "      <td>False</td>\n",
       "      <td>False</td>\n",
       "    </tr>\n",
       "    <tr>\n",
       "      <th>9</th>\n",
       "      <td>$y=- \\left(3 x - 1\\right)^{2} + \\left(3 x + 1\\...</td>\n",
       "      <td>diff(-(3*x - 1)**2 + (3*x + 1)**2)</td>\n",
       "      <td>$y'=12$</td>\n",
       "      <td>Calcula las siguientes derivadas:\\n</td>\n",
       "      <td>2BC</td>\n",
       "      <td>Derivadas</td>\n",
       "      <td>p25e16</td>\n",
       "      <td>5</td>\n",
       "      <td>2</td>\n",
       "      <td>1</td>\n",
       "      <td>False</td>\n",
       "      <td>False</td>\n",
       "    </tr>\n",
       "    <tr>\n",
       "      <th>10</th>\n",
       "      <td>$y=\\frac{1}{x^{2}}$</td>\n",
       "      <td>diff(x**(-2))</td>\n",
       "      <td>$y'=- \\frac{2}{x^{3}}$</td>\n",
       "      <td>Calcula las siguientes derivadas:\\n</td>\n",
       "      <td>2BC</td>\n",
       "      <td>Derivadas</td>\n",
       "      <td>p25e16</td>\n",
       "      <td>5</td>\n",
       "      <td>2</td>\n",
       "      <td>1</td>\n",
       "      <td>False</td>\n",
       "      <td>False</td>\n",
       "    </tr>\n",
       "    <tr>\n",
       "      <th>11</th>\n",
       "      <td>$y=\\frac{1}{x + 1}$</td>\n",
       "      <td>diff(1/(x + 1))</td>\n",
       "      <td>$y'=- \\frac{1}{\\left(x + 1\\right)^{2}}$</td>\n",
       "      <td>Calcula las siguientes derivadas:\\n</td>\n",
       "      <td>2BC</td>\n",
       "      <td>Derivadas</td>\n",
       "      <td>p25e16</td>\n",
       "      <td>5</td>\n",
       "      <td>2</td>\n",
       "      <td>1</td>\n",
       "      <td>False</td>\n",
       "      <td>False</td>\n",
       "    </tr>\n",
       "    <tr>\n",
       "      <th>12</th>\n",
       "      <td>$y=\\frac{x^{2} - 3}{x^{3} + x}$</td>\n",
       "      <td>diff((x**2 - 3)/(x**3 + x))</td>\n",
       "      <td>$y'=\\frac{- x^{4} + 10 x^{2} + 3}{x^{2} \\left(...</td>\n",
       "      <td>Calcula las siguientes derivadas:\\n</td>\n",
       "      <td>2BC</td>\n",
       "      <td>Derivadas</td>\n",
       "      <td>p25e16</td>\n",
       "      <td>5</td>\n",
       "      <td>2</td>\n",
       "      <td>1</td>\n",
       "      <td>False</td>\n",
       "      <td>False</td>\n",
       "    </tr>\n",
       "    <tr>\n",
       "      <th>13</th>\n",
       "      <td>$y=\\frac{x + 1}{x}$</td>\n",
       "      <td>diff((x + 1)/x)</td>\n",
       "      <td>$y'=- \\frac{1}{x^{2}}$</td>\n",
       "      <td>Calcula las siguientes derivadas:\\n</td>\n",
       "      <td>2BC</td>\n",
       "      <td>Derivadas</td>\n",
       "      <td>p25e16</td>\n",
       "      <td>5</td>\n",
       "      <td>2</td>\n",
       "      <td>1</td>\n",
       "      <td>False</td>\n",
       "      <td>False</td>\n",
       "    </tr>\n",
       "    <tr>\n",
       "      <th>14</th>\n",
       "      <td>$y=\\frac{x \\left(x^{2} - 1\\right)}{3 x^{2} - 3}$</td>\n",
       "      <td>diff(x*(x**2 - 1)/(3*x**2 - 3))</td>\n",
       "      <td>$y'=\\frac{1}{3}$</td>\n",
       "      <td>Calcula las siguientes derivadas:\\n</td>\n",
       "      <td>2BC</td>\n",
       "      <td>Derivadas</td>\n",
       "      <td>p25e16</td>\n",
       "      <td>5</td>\n",
       "      <td>2</td>\n",
       "      <td>1</td>\n",
       "      <td>False</td>\n",
       "      <td>False</td>\n",
       "    </tr>\n",
       "  </tbody>\n",
       "</table>\n",
       "</div>"
      ],
      "text/plain": [
       "                                      enunciado_latex  \\\n",
       "0                                             $y=2 x$   \n",
       "1                                         $y=3 x - 5$   \n",
       "2                               $y=2 x^{2} - 7 x + 5$   \n",
       "3                    $y=7 x^{5} - 3 x^{2} + x + 2345$   \n",
       "4                            $y=x \\left(x + 2\\right)$   \n",
       "5           $y=\\left(x - 1\\right) \\left(x + 1\\right)$   \n",
       "6   $y=\\frac{5 x^{4}}{7} - \\frac{x^{3}}{55} - \\fra...   \n",
       "7                          $y=\\left(x + 1\\right)^{3}$   \n",
       "8                  $y=\\left(x^{3} + x + 1\\right)^{4}$   \n",
       "9   $y=- \\left(3 x - 1\\right)^{2} + \\left(3 x + 1\\...   \n",
       "10                                $y=\\frac{1}{x^{2}}$   \n",
       "11                                $y=\\frac{1}{x + 1}$   \n",
       "12                    $y=\\frac{x^{2} - 3}{x^{3} + x}$   \n",
       "13                                $y=\\frac{x + 1}{x}$   \n",
       "14   $y=\\frac{x \\left(x^{2} - 1\\right)}{3 x^{2} - 3}$   \n",
       "\n",
       "                                         enunciado  \\\n",
       "0                                        diff(2*x)   \n",
       "1                                    diff(3*x - 5)   \n",
       "2                           diff(2*x**2 - 7*x + 5)   \n",
       "3                 diff(7*x**5 - 3*x**2 + x + 2345)   \n",
       "4                                  diff(x*(x + 2))   \n",
       "5                            diff((x - 1)*(x + 1))   \n",
       "6   diff(5*x**4/7 - x**3/55 - 3*x**2/4 + x - 1255)   \n",
       "7                                 diff((x + 1)**3)   \n",
       "8                          diff((x**3 + x + 1)**4)   \n",
       "9               diff(-(3*x - 1)**2 + (3*x + 1)**2)   \n",
       "10                                   diff(x**(-2))   \n",
       "11                                 diff(1/(x + 1))   \n",
       "12                     diff((x**2 - 3)/(x**3 + x))   \n",
       "13                                 diff((x + 1)/x)   \n",
       "14                 diff(x*(x**2 - 1)/(3*x**2 - 3))   \n",
       "\n",
       "                                             solucion  \\\n",
       "0                                              $y'=2$   \n",
       "1                                              $y'=3$   \n",
       "2                                        $y'=4 x - 7$   \n",
       "3                             $y'=35 x^{4} - 6 x + 1$   \n",
       "4                                        $y'=2 x + 2$   \n",
       "5                                            $y'=2 x$   \n",
       "6   $y'=\\frac{20 x^{3}}{7} - \\frac{3 x^{2}}{55} - ...   \n",
       "7                       $y'=3 \\left(x + 1\\right)^{2}$   \n",
       "8   $y'=\\left(12 x^{2} + 4\\right) \\left(x^{3} + x ...   \n",
       "9                                             $y'=12$   \n",
       "10                             $y'=- \\frac{2}{x^{3}}$   \n",
       "11            $y'=- \\frac{1}{\\left(x + 1\\right)^{2}}$   \n",
       "12  $y'=\\frac{- x^{4} + 10 x^{2} + 3}{x^{2} \\left(...   \n",
       "13                             $y'=- \\frac{1}{x^{2}}$   \n",
       "14                                   $y'=\\frac{1}{3}$   \n",
       "\n",
       "                                  texto curso     titulo n_ejercicio  \\\n",
       "0   Calcula las siguientes derivadas:\\n   2BC  Derivadas      p25e16   \n",
       "1   Calcula las siguientes derivadas:\\n   2BC  Derivadas      p25e16   \n",
       "2   Calcula las siguientes derivadas:\\n   2BC  Derivadas      p25e16   \n",
       "3   Calcula las siguientes derivadas:\\n   2BC  Derivadas      p25e16   \n",
       "4   Calcula las siguientes derivadas:\\n   2BC  Derivadas      p25e16   \n",
       "5   Calcula las siguientes derivadas:\\n   2BC  Derivadas      p25e16   \n",
       "6   Calcula las siguientes derivadas:\\n   2BC  Derivadas      p25e16   \n",
       "7   Calcula las siguientes derivadas:\\n   2BC  Derivadas      p25e16   \n",
       "8   Calcula las siguientes derivadas:\\n   2BC  Derivadas      p25e16   \n",
       "9   Calcula las siguientes derivadas:\\n   2BC  Derivadas      p25e16   \n",
       "10  Calcula las siguientes derivadas:\\n   2BC  Derivadas      p25e16   \n",
       "11  Calcula las siguientes derivadas:\\n   2BC  Derivadas      p25e16   \n",
       "12  Calcula las siguientes derivadas:\\n   2BC  Derivadas      p25e16   \n",
       "13  Calcula las siguientes derivadas:\\n   2BC  Derivadas      p25e16   \n",
       "14  Calcula las siguientes derivadas:\\n   2BC  Derivadas      p25e16   \n",
       "\n",
       "   dificultad n_columnas puntos  enun_tex  sol_tex  \n",
       "0           5          2      1     False    False  \n",
       "1           5          2      1     False    False  \n",
       "2           5          2      1     False    False  \n",
       "3           5          2      1     False    False  \n",
       "4           5          2      1     False    False  \n",
       "5           5          2      1     False    False  \n",
       "6           5          2      1     False    False  \n",
       "7           5          2      1     False    False  \n",
       "8           5          2      1     False    False  \n",
       "9           5          2      1     False    False  \n",
       "10          5          2      1     False    False  \n",
       "11          5          2      1     False    False  \n",
       "12          5          2      1     False    False  \n",
       "13          5          2      1     False    False  \n",
       "14          5          2      1     False    False  "
      ]
     },
     "metadata": {},
     "output_type": "display_data"
    }
   ],
   "source": [
    "escribir_preambulo(fichero, titulo, 'ejercicios')\n",
    "for s in df_ejercicios.groupby('n_ejercicio').count().index : \n",
    "    display(md(\"**Ejercicio: **\" + s ))\n",
    "    display(df_ejercicios[df_ejercicios.n_ejercicio == s])\n",
    "    escribir_ejercicios(df_ejercicios[df_ejercicios.n_ejercicio == s],fichero)\n",
    "\n",
    "escribir_fin(fichero)"
   ]
  }
 ],
 "metadata": {
  "kernelspec": {
   "display_name": "Python 3",
   "language": "python",
   "name": "python3"
  },
  "language_info": {
   "codemirror_mode": {
    "name": "ipython",
    "version": 3
   },
   "file_extension": ".py",
   "mimetype": "text/x-python",
   "name": "python",
   "nbconvert_exporter": "python",
   "pygments_lexer": "ipython3",
   "version": "3.6.8"
  }
 },
 "nbformat": 4,
 "nbformat_minor": 2
}
