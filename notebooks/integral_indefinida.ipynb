{
 "cells": [
  {
   "cell_type": "code",
   "execution_count": 1,
   "metadata": {},
   "outputs": [
    {
     "name": "stdout",
     "output_type": "stream",
     "text": [
      "IPython console for SymPy 1.4 (Python 3.6.8-64-bit) (ground types: gmpy)\n",
      "\n",
      "These commands were executed:\n",
      ">>> from __future__ import division\n",
      ">>> from sympy import *\n",
      ">>> x, y, z, t = symbols('x y z t')\n",
      ">>> k, m, n = symbols('k m n', integer=True)\n",
      ">>> f, g, h = symbols('f g h', cls=Function)\n",
      ">>> init_printing()\n",
      "\n",
      "Documentation can be found at https://docs.sympy.org/1.4/\n",
      "\n"
     ]
    }
   ],
   "source": [
    "from sympy import init_session\n",
    "from sympy import div, QQ\n",
    "from sympy.parsing.latex import parse_latex\n",
    "from sympy.parsing.sympy_parser import parse_expr\n",
    "from IPython.display import Markdown as md\n",
    "from IPython.display import display\n",
    "import pandas as pd\n",
    "\n",
    "import numpy as np\n",
    "\n",
    "\n",
    "\n",
    "\n",
    "init_session()\n",
    "\n",
    "a, b, c, d = symbols('a b c d', real = True)\n",
    "from docparts import añadir_ejercicios, doc_ejer, escribir_preambulo, escribir_ejercicios, escribir_fin\n",
    "\n",
    "df_ejercicios = pd.DataFrame()\n",
    "\n",
    "fichero = 'primitivas'\n",
    "titulo = 'Integral indefinida'\n",
    "curso = '2BC'\n",
    "\n",
    "\n",
    "x,y = symbols('x, y', real=True)\n",
    "\n",
    "import matplotlib.pyplot as plt\n",
    "from matplotlib import style\n",
    "#style.use('ggplot')\n",
    "style.use('seaborn-whitegrid')\n",
    "\n",
    "\n",
    "%matplotlib inline\n"
   ]
  },
  {
   "cell_type": "code",
   "execution_count": null,
   "metadata": {},
   "outputs": [
    {
     "data": {
      "text/markdown": [
       "**Calcula las siguientes integrales inmediatas:\n",
       "**"
      ],
      "text/plain": [
       "<IPython.core.display.Markdown object>"
      ]
     },
     "metadata": {},
     "output_type": "display_data"
    },
    {
     "data": {
      "text/markdown": [
       "$\\int 4 x^{6}\\cdot dx$ $ \\rightarrow $$\\frac{4 x^{7}}{7} + K $"
      ],
      "text/plain": [
       "<IPython.core.display.Markdown object>"
      ]
     },
     "metadata": {},
     "output_type": "display_data"
    },
    {
     "data": {
      "text/markdown": [
       "$\\int 6 x^{3} + 8 x^{2} + 3\\cdot dx$ $ \\rightarrow $$\\frac{3 x^{4}}{2} + \\frac{8 x^{3}}{3} + 3 x + K $"
      ],
      "text/plain": [
       "<IPython.core.display.Markdown object>"
      ]
     },
     "metadata": {},
     "output_type": "display_data"
    },
    {
     "data": {
      "text/markdown": [
       "$\\int \\sqrt{2} \\sqrt{x}\\cdot dx$ $ \\rightarrow $$\\frac{2 \\sqrt{2} x^{\\frac{3}{2}}}{3} + K $"
      ],
      "text/plain": [
       "<IPython.core.display.Markdown object>"
      ]
     },
     "metadata": {},
     "output_type": "display_data"
    },
    {
     "data": {
      "text/markdown": [
       "$\\int \\frac{1}{\\sqrt[5]{x}}\\cdot dx$ $ \\rightarrow $$\\frac{5 x^{\\frac{4}{5}}}{4} + K $"
      ],
      "text/plain": [
       "<IPython.core.display.Markdown object>"
      ]
     },
     "metadata": {},
     "output_type": "display_data"
    }
   ],
   "source": [
    "puntuacion = '1'                          \n",
    "                      \n",
    "datos = ['4*x**6','6*x**3+8*x**2+3','sqrt(2*x)','1/root(x,5)','(sqrt(3*x**3)+cbrt(5*x**2))/sqrt(2*x)',\n",
    "         '1/(x-1)','5/(1+4*x**2)','2/(1+9*x**2)','1/(1-4*x**2)','1/(x**2+4)','(2*x-3)/(x**2-3*x+9)','2*x*E**(x**2)',\n",
    "         '1/(x-4)','1/(x-4)**3','E**(5*x)','(x+sqrt(x))/x**2','1/x*log(x)**3','(sin(sqrt(x)))/sqrt(x)','E**(-2*x+9)'\n",
    "         \n",
    "         ]\n",
    "        \n",
    "n_ejercicio = 'p38e01'\n",
    "enunciado_latex, enunciado, solucion = [],[],[]\n",
    "\n",
    "texto_ejercicio = r\"\"\"Calcula las siguientes integrales inmediatas:\n",
    "\"\"\"\n",
    "\n",
    "display(md(\"**\"+texto_ejercicio+\"**\"))\n",
    "\n",
    "for j, t in enumerate(datos):\n",
    "    enunciado_latex.append(r\"$\\int \"+latex(S(t,evaluate=False))+r\"\\cdot dx$\")\n",
    "    enunciado.append(r'integrate('+str(S(t,evaluate=False))+r')')\n",
    "    sol=r\"$\"+latex(integrate(S(t)))+r\" + K $\"\n",
    "    solucion.append(sol)\n",
    "    display(md(enunciado_latex[j] +\" $ \\\\rightarrow $\" + solucion[j] ))\n",
    "\n",
    "\n",
    "df_ejercicios = df_ejercicios.append(añadir_ejercicios(enunciado_latex, enunciado, solucion, texto_ejercicio, curso, titulo , n_ejercicio, '5', '2', enun_tex=False, sol_tex=False), ignore_index=True)\n",
    "\n",
    "\n"
   ]
  },
  {
   "cell_type": "code",
   "execution_count": null,
   "metadata": {},
   "outputs": [],
   "source": [
    "puntuacion = '1'                          \n",
    "                      \n",
    "datos = ['(3**x-x**3)','(3*x**2+cos(x)+2*E**(2*x))/(x**3+sin(x)+E**(2*x))','6*cos(2*x-1)','(x+1)/(x**2+2*x+3)',\n",
    "         'sin(x)*cos(x)','E**(4*x-3)','4/(3+x**2)','sqrt((x+3)**3)','sin(x)/cos(x)'\n",
    "         \n",
    "         ]\n",
    "        \n",
    "n_ejercicio = 'p38e01cont'\n",
    "enunciado_latex, enunciado, solucion = [],[],[]\n",
    "\n",
    "texto_ejercicio = r\"\"\"Calcula las siguientes integrales inmediatas:\n",
    "\"\"\"\n",
    "\n",
    "display(md(\"**\"+texto_ejercicio+\"**\"))\n",
    "\n",
    "for j, t in enumerate(datos):\n",
    "    enunciado_latex.append(r\"$\\int \"+latex(S(t,evaluate=False))+r\"\\cdot dx$\")\n",
    "    enunciado.append(r'integrate('+str(S(t,evaluate=False))+r')')\n",
    "    sol=r\"$\"+latex(integrate(S(t),x))+r\" + K $\"\n",
    "    solucion.append(sol)\n",
    "    display(md(enunciado_latex[j] +\" $ \\\\rightarrow $\" + solucion[j] ))\n",
    "\n",
    "\n",
    "df_ejercicios = df_ejercicios.append(añadir_ejercicios(enunciado_latex, enunciado, solucion, texto_ejercicio, curso, titulo , n_ejercicio, '5', '2', enun_tex=False, sol_tex=False), ignore_index=True)\n",
    "\n",
    "\n"
   ]
  },
  {
   "cell_type": "code",
   "execution_count": null,
   "metadata": {},
   "outputs": [],
   "source": [
    "puntuacion = '1'                          \n",
    "                      \n",
    "datos = ['x*sin(x**2)','x/sqrt(x**2+5)','sin(x)/cos(x)**5','x/(x**2+3)**5','(1+tan(x)**2)/sqrt(tan(x))','sqrt(x**2-2*x)*(x-1)',\n",
    "         'sin(cos(x))*sin(x)','(1+log(x)**2)/x','sqrt((1+cos(x))**3)*sin(x)'\n",
    "         \n",
    "         \n",
    "         ]\n",
    "        \n",
    "n_ejercicio = 'p38e02'\n",
    "enunciado_latex, enunciado, solucion = [],[],[]\n",
    "\n",
    "texto_ejercicio = r\"\"\"Calcula las siguientes integrales, por cambio de variable:\n",
    "\"\"\"\n",
    "\n",
    "display(md(\"**\"+texto_ejercicio+\"**\"))\n",
    "\n",
    "for j, t in enumerate(datos):\n",
    "    enunciado_latex.append(r\"$\\int \"+latex(S(t,evaluate=False))+r\"\\cdot dx$\")\n",
    "    enunciado.append(r'integrate('+str(S(t,evaluate=False))+r')')\n",
    "    sol=r\"$\"+latex(integrate(S(t),x))+r\" + K $\"\n",
    "    solucion.append(sol)\n",
    "    display(md(enunciado_latex[j] +\" $ \\\\rightarrow $\" + solucion[j] ))\n",
    "\n",
    "\n",
    "df_ejercicios = df_ejercicios.append(añadir_ejercicios(enunciado_latex, enunciado, solucion, texto_ejercicio, curso, titulo , n_ejercicio, '5', '2', enun_tex=False, sol_tex=False), ignore_index=True)\n",
    "\n",
    "\n"
   ]
  },
  {
   "cell_type": "code",
   "execution_count": null,
   "metadata": {},
   "outputs": [],
   "source": [
    "puntuacion = '1'                          \n",
    "                      \n",
    "datos = ['x*E**x','log(x)','x**3*log(x)','x*sin(x)', 'atan(x)',\n",
    "         'asin(x)', 'x*cos(3*x)','x**2*E**(2*x)','x/E**x','log(x)/x**2'\n",
    "         \n",
    "        \n",
    "         ]\n",
    "        \n",
    "n_ejercicio = 'p38e03'\n",
    "enunciado_latex, enunciado, solucion = [],[],[]\n",
    "\n",
    "texto_ejercicio = r\"\"\"Calcula las siguientes integrales, por partes:\n",
    "\"\"\"\n",
    "\n",
    "display(md(\"**\"+texto_ejercicio+\"**\"))\n",
    "\n",
    "for j, t in enumerate(datos):\n",
    "    enunciado_latex.append(r\"$\\int \"+latex(S(t,evaluate=False))+r\"\\cdot dx$\")\n",
    "    enunciado.append(r'integrate('+str(S(t,evaluate=False))+r')')\n",
    "    sol=r\"$\"+latex(integrate(S(t)))+r\" + K $\"\n",
    "    solucion.append(sol)\n",
    "    display(md(enunciado_latex[j] +\" $ \\\\rightarrow $\" + solucion[j] ))\n",
    "\n",
    "\n",
    "df_ejercicios = df_ejercicios.append(añadir_ejercicios(enunciado_latex, enunciado, solucion, texto_ejercicio, curso, titulo , n_ejercicio, '5', '2', enun_tex=False, sol_tex=False), ignore_index=True)\n",
    "\n",
    "\n"
   ]
  },
  {
   "cell_type": "code",
   "execution_count": null,
   "metadata": {},
   "outputs": [],
   "source": [
    "puntuacion = '1'                          \n",
    "                      \n",
    "datos = ['3/(2*x-1)','2/(x+2)**3','(7*x-5)/(x**2+4)'\n",
    "         \n",
    "        \n",
    "         ]\n",
    "        \n",
    "n_ejercicio = 'p38e04'\n",
    "enunciado_latex, enunciado, solucion = [],[],[]\n",
    "\n",
    "texto_ejercicio = r\"\"\"Resuelve las siguientes integrales, que luego aparecerán al integrar funciones racionales:\n",
    "\"\"\"\n",
    "\n",
    "display(md(\"**\"+texto_ejercicio+\"**\"))\n",
    "\n",
    "for j, t in enumerate(datos):\n",
    "    enunciado_latex.append(r\"$\\int \"+latex(S(t,evaluate=False))+r\"\\cdot dx$\")\n",
    "    enunciado.append(r'integrate('+str(S(t,evaluate=False))+r')')\n",
    "    sol=r\"$\"+latex(simplify(integrate(S(t))))+r\" + K $\"\n",
    "    solucion.append(sol)\n",
    "    display(md(enunciado_latex[j] +\" $ \\\\rightarrow $\" + solucion[j] ))\n",
    "\n",
    "\n",
    "df_ejercicios = df_ejercicios.append(añadir_ejercicios(enunciado_latex, enunciado, solucion, texto_ejercicio, curso, titulo , n_ejercicio, '5', '2', enun_tex=False, sol_tex=False), ignore_index=True)\n",
    "\n",
    "\n"
   ]
  },
  {
   "cell_type": "code",
   "execution_count": null,
   "metadata": {},
   "outputs": [],
   "source": [
    "df_ejercicios"
   ]
  },
  {
   "cell_type": "code",
   "execution_count": null,
   "metadata": {},
   "outputs": [],
   "source": [
    "escribir_preambulo(fichero, titulo, 'ejercicios')\n",
    "for s in df_ejercicios.groupby('n_ejercicio').count().index : \n",
    "    display(md(\"**Ejercicio: **\" + s ))\n",
    "    display(df_ejercicios[df_ejercicios.n_ejercicio == s])\n",
    "    escribir_ejercicios(df_ejercicios[df_ejercicios.n_ejercicio == s],fichero)\n",
    "\n",
    "escribir_fin(fichero)"
   ]
  },
  {
   "cell_type": "code",
   "execution_count": null,
   "metadata": {},
   "outputs": [],
   "source": [
    "escribir_preambulo(fichero, titulo, 'ejercicios')\n",
    "for s in df_ejercicios.groupby('n_ejercicio').count().index : \n",
    "    display(md(\"**Ejercicio: **\" + s ))\n",
    "    display(df_ejercicios[df_ejercicios.n_ejercicio == s])\n",
    "    escribir_ejercicios(df_ejercicios[df_ejercicios.n_ejercicio == s],fichero)\n",
    "\n",
    "escribir_fin(fichero)"
   ]
  }
 ],
 "metadata": {
  "kernelspec": {
   "display_name": "Python 3",
   "language": "python",
   "name": "python3"
  },
  "language_info": {
   "codemirror_mode": {
    "name": "ipython",
    "version": 3
   },
   "file_extension": ".py",
   "mimetype": "text/x-python",
   "name": "python",
   "nbconvert_exporter": "python",
   "pygments_lexer": "ipython3",
   "version": "3.6.8"
  }
 },
 "nbformat": 4,
 "nbformat_minor": 2
}
