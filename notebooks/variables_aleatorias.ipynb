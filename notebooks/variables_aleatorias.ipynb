{
 "cells": [
  {
   "cell_type": "code",
   "execution_count": 28,
   "id": "9a9170f9",
   "metadata": {},
   "outputs": [
    {
     "name": "stdout",
     "output_type": "stream",
     "text": [
      "IPython console for SymPy 1.10.1 (Python 3.9.13-64-bit) (ground types: gmpy)\n",
      "\n",
      "These commands were executed:\n",
      ">>> from sympy import *\n",
      ">>> x, y, z, t = symbols('x y z t')\n",
      ">>> k, m, n = symbols('k m n', integer=True)\n",
      ">>> f, g, h = symbols('f g h', cls=Function)\n",
      ">>> init_printing()\n",
      "\n",
      "Documentation can be found at https://docs.sympy.org/1.10.1/\n",
      "\n"
     ]
    }
   ],
   "source": [
    "from sympy import *\n",
    "\n",
    "init_session()\n",
    "\n",
    "from sympy.stats import FiniteRV, P, E, density, variance"
   ]
  },
  {
   "cell_type": "code",
   "execution_count": 29,
   "id": "2c55ba33",
   "metadata": {},
   "outputs": [
    {
     "data": {
      "image/png": "[encoded data removed]",
      "text/latex": [
       "$\\displaystyle \\left( 1.6, \\  0.64\\right)$"
      ],
      "text/plain": [
       "(1.6, 0.64)"
      ]
     },
     "execution_count": 29,
     "metadata": {},
     "output_type": "execute_result"
    }
   ],
   "source": [
    "# Ejercicio 1\n",
    "\n",
    "# Completa la siguiente tabla de probabilidades y calcula sus parámetros...\n",
    "\n",
    "dic = {0:nsimplify(0.1),1:nsimplify(0.3),2:nsimplify(0.5),3:nsimplify(0.1)}\n",
    "distribucion = FiniteRV('distribucion',dic)\n",
    "\n",
    "density(distribucion).dict\n",
    "\n",
    "E(distribucion).evalf(), variance(distribucion).evalf()"
   ]
  },
  {
   "cell_type": "code",
   "execution_count": 34,
   "id": "a96307d9",
   "metadata": {},
   "outputs": [
    {
     "data": {
      "image/png": "[encoded data removed]",
      "text/latex": [
       "$\\displaystyle \\left( \\frac{9}{10}, \\  \\frac{3}{5}, \\  \\frac{1}{2}\\right)$"
      ],
      "text/plain": [
       "(9/10, 3/5, 1/2)"
      ]
     },
     "execution_count": 34,
     "metadata": {},
     "output_type": "execute_result"
    }
   ],
   "source": [
    "# Ejercicio 2\n",
    "\n",
    "# Sea X una variable discreta. Representa la función de probabilida,  calcula sus parámetros...\n",
    "\n",
    "dic = {0:nsimplify(0.1),1:nsimplify(0.2),2:nsimplify(0.1),3:nsimplify(0.4),4:nsimplify(0.1),5:nsimplify(0.1)}\n",
    "distribucion = FiniteRV('distribucion',dic)\n",
    "\n",
    "density(distribucion).dict\n",
    "\n",
    "E(distribucion).evalf(), variance(distribucion).evalf(), sqrt(variance(distribucion).evalf())\n",
    "P(distribucion < 4.5),P(distribucion >= 3), P(And(distribucion >= 3,distribucion < 4.5))\n"
   ]
  },
  {
   "cell_type": "code",
   "execution_count": 35,
   "id": "34443c9c",
   "metadata": {},
   "outputs": [
    {
     "data": {
      "image/png": "[encoded data removed]",
      "text/latex": [
       "$\\displaystyle \\left( \\left\\{ 0 : \\frac{21}{26}, \\  1 : \\frac{12}{65}, \\  2 : \\frac{1}{130}\\right\\}, \\  0.2, \\  0.175384615384615, \\  0.418789464271268\\right)$"
      ],
      "text/plain": [
       "⎛⎧   21     12          ⎫                                           ⎞\n",
       "⎜⎨0: ──, 1: ──, 2: 1/130⎬, 0.2, 0.175384615384615, 0.418789464271268⎟\n",
       "⎝⎩   26     65          ⎭                                           ⎠"
      ]
     },
     "execution_count": 35,
     "metadata": {},
     "output_type": "execute_result"
    }
   ],
   "source": [
    "# Ejercicio 3\n",
    "\n",
    "# Sacamos dos cartas de una baraja y anotamos el número de ases (0, 1 o 2).\n",
    "\n",
    "dic = {0:nsimplify(21/26),1:nsimplify(12/65),2:nsimplify(1/130)}\n",
    "distribucion = FiniteRV('distribucion',dic)\n",
    "\n",
    "density(distribucion).dict, E(distribucion).evalf(), variance(distribucion).evalf(), sqrt(variance(distribucion).evalf())\n",
    "\n"
   ]
  }
 ],
 "metadata": {
  "kernelspec": {
   "display_name": "Python 3 (ipykernel)",
   "language": "python",
   "name": "python3"
  },
  "language_info": {
   "codemirror_mode": {
    "name": "ipython",
    "version": 3
   },
   "file_extension": ".py",
   "mimetype": "text/x-python",
   "name": "python",
   "nbconvert_exporter": "python",
   "pygments_lexer": "ipython3",
   "version": "3.9.13"
  }
 },
 "nbformat": 4,
 "nbformat_minor": 5
}
