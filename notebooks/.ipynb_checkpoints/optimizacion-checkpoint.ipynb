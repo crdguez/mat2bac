{
 "cells": [
  {
   "cell_type": "code",
   "execution_count": 0,
   "metadata": {
    "colab": {},
    "colab_type": "code",
    "id": "-cVvkLt0Yl6m"
   },
   "outputs": [],
   "source": [
    "#!pip install sympy"
   ]
  },
  {
   "cell_type": "code",
   "execution_count": 56,
   "metadata": {
    "colab": {},
    "colab_type": "code",
    "id": "fkQeaZkrY0PY"
   },
   "outputs": [],
   "source": [
    "from sympy import *\n",
    "# init_session()\n",
    "from IPython.display import Markdown as md\n",
    "from IPython.display import display\n",
    "from __future__ import division\n",
    "x, y, z, t = symbols('x y z t')\n",
    "k, m, n = symbols('k m n', integer=True)\n",
    "f, g, h = symbols('f g h', cls=Function)\n",
    "init_printing()\n",
    "\n",
    "import pandas as pd\n",
    "import pandas as pd\n",
    "from docparts import añadir_ejercicios, doc_ejer, escribir_preambulo, escribir_ejercicios, escribir_fin\n",
    "df_ejercicios = pd.DataFrame()\n",
    "fichero = 'Optimizacion'\n",
    "titulo = 'Optimización de funciones'\n",
    "curso = '2BC'\n",
    "\n"
   ]
  },
  {
   "cell_type": "code",
   "execution_count": 52,
   "metadata": {},
   "outputs": [
    {
     "name": "stdout",
     "output_type": "stream",
     "text": [
      "13. Descomponer el número 48 en dos sumandos tales que el quíntuplo del cuadrado del primero más el séxtuplo del\n",
      "cuadrado del segundo sea mínimo.\n",
      "\n",
      "\n",
      "\n",
      "\n",
      "Función a optimizar y derivadas:\n",
      "⎡         2             2⎤\n",
      "⎣f(x), 5⋅x  + 6⋅(48 - x) ⎦\n",
      "   2             2\n",
      "5⋅x  + 6⋅(48 - x) \n",
      "[f'(x), 22⋅x - 576]\n",
      "[f''(x), 22]\n",
      "Extremos relativos:\n",
      "⎡                    288⎤\n",
      "⎢tiene un mínimo, x, ───⎥\n",
      "⎣                     11⎦\n",
      "\n",
      "14. Halla el número positivo cuya suma, con 4 veces su recíproco, sea mínima.\n",
      "\n",
      "\n",
      "\n",
      "\n",
      "Función a optimizar y derivadas:\n",
      "⎡          4⎤\n",
      "⎢f(x), x + ─⎥\n",
      "⎣          x⎦\n",
      "    4\n",
      "x + ─\n",
      "    x\n",
      "⎡           4 ⎤\n",
      "⎢f'(x), 1 - ──⎥\n",
      "⎢            2⎥\n",
      "⎣           x ⎦\n",
      "⎡        8 ⎤\n",
      "⎢f''(x), ──⎥\n",
      "⎢         3⎥\n",
      "⎣        x ⎦\n",
      "Extremos relativos:\n",
      "[tiene un máximo, x, -2]\n",
      "\n",
      "[tiene un mínimo, x, 2]\n",
      "\n",
      "15. Halla las dimensiones del rectángulo de área máxima inscrito en una circunferencia de 20 cm de radio.\n",
      "\n",
      "\n",
      "\n",
      "\n",
      "Función a optimizar y derivadas:\n",
      "⎡           ___________⎤\n",
      "⎢          ╱         2 ⎥\n",
      "⎣f(x), x⋅╲╱  1600 - x  ⎦\n",
      "     ___________\n",
      "    ╱         2 \n",
      "x⋅╲╱  1600 - x  \n",
      "⎡          ⎛       2⎞ ⎤\n",
      "⎢        2⋅⎝800 - x ⎠ ⎥\n",
      "⎢f'(x), ──────────────⎥\n",
      "⎢          ___________⎥\n",
      "⎢         ╱         2 ⎥\n",
      "⎣       ╲╱  1600 - x  ⎦\n",
      "⎡            ⎛ 2       ⎞⎤\n",
      "⎢        2⋅x⋅⎝x  - 2400⎠⎥\n",
      "⎢f''(x), ───────────────⎥\n",
      "⎢                    3/2⎥\n",
      "⎢         ⎛        2⎞   ⎥\n",
      "⎣         ⎝1600 - x ⎠   ⎦\n",
      "Extremos relativos:\n",
      "[tiene un mínimo, x, -20⋅√2]\n",
      "\n",
      "[tiene un máximo, x, 20⋅√2]\n",
      "\n",
      "16. Se considera una ventana rectangular en la que el lado superior ha sido sustituido por un triángulo equilátero. Sabiendo\n",
      "que el perímetro de la ventana es de 6,6 m, halla sus dimensiones para que su superficie sea máxima.\n",
      "\n",
      "\n",
      "\n",
      "\n",
      "Función a optimizar y derivadas:\n",
      "⎡      x⋅(6.6 - 3⋅x)   √3⋅x⋅│x│⎤\n",
      "⎢f(x), ───────────── + ────────⎥\n",
      "⎣            2            4    ⎦\n",
      "x⋅(6.6 - 3⋅x)   √3⋅x⋅│x│\n",
      "───────────── + ────────\n",
      "      2            4    \n",
      "⎡       √3⋅x⋅sign(x)         √3⋅│x│      ⎤\n",
      "⎢f'(x), ──────────── - 3⋅x + ────── + 3.3⎥\n",
      "⎣            4                 4         ⎦\n",
      "⎡        √3⋅x⋅δ(x)   √3⋅sign(x)    ⎤\n",
      "⎢f''(x), ───────── + ────────── - 3⎥\n",
      "⎣            2           2         ⎦\n",
      "Extremos relativos:\n",
      "[tiene un máximo, x, 1.54641016151378]\n",
      "\n",
      "18. Una hoja de papel debe contener 18 cm 2 de texto impreso, márgenes superior e inferior de 2 cm de altura y márgenes\n",
      "laterales de 1 cm de anchura. Obtén, razonadamente, las dimensiones que minimizan la superficie de papel.\n",
      "\n",
      "\n",
      "\n",
      "\n",
      "Función a optimizar y derivadas:\n",
      "⎡      ⎛    18⎞        ⎤\n",
      "⎢f(x), ⎜4 + ──⎟⋅(x + 2)⎥\n",
      "⎣      ⎝    x ⎠        ⎦\n",
      "⎛    18⎞        \n",
      "⎜4 + ──⎟⋅(x + 2)\n",
      "⎝    x ⎠        \n",
      "⎡           36⎤\n",
      "⎢f'(x), 4 - ──⎥\n",
      "⎢            2⎥\n",
      "⎣           x ⎦\n",
      "⎡        72⎤\n",
      "⎢f''(x), ──⎥\n",
      "⎢         3⎥\n",
      "⎣        x ⎦\n",
      "Extremos relativos:\n",
      "[tiene un máximo, x, -3]\n",
      "\n",
      "[tiene un mínimo, x, 3]\n",
      "\n",
      "19. Halla las dimensiones de un depósito abierto superiormente en forma de prisma recto de base cuadrada, de 500 m 3 de\n",
      "capacidad y que tenga un revestimiento de coste mínimo.\n",
      "\n",
      "\n",
      "\n",
      "\n",
      "Función a optimizar y derivadas:\n",
      "⎡       2   2000⎤\n",
      "⎢f(x), x  + ────⎥\n",
      "⎣            x  ⎦\n",
      " 2   2000\n",
      "x  + ────\n",
      "      x  \n",
      "⎡             2000⎤\n",
      "⎢f'(x), 2⋅x - ────⎥\n",
      "⎢               2 ⎥\n",
      "⎣              x  ⎦\n",
      "⎡            4000⎤\n",
      "⎢f''(x), 2 + ────⎥\n",
      "⎢              3 ⎥\n",
      "⎣             x  ⎦\n",
      "Extremos relativos:\n",
      "[tiene un mínimo, x, 10]\n",
      "\n",
      "20. Un triángulo isósceles, de perímetro 10 m, gira alrededor de la altura relativa al lado desigual engendrando un cono.\n",
      "Halla la longitud de sus lados para que el cono tenga volumen máximo.\n",
      "\n",
      "\n",
      "\n",
      "\n",
      "Función a optimizar y derivadas:\n",
      "⎡                _________________⎤\n",
      "⎢               ╱    2          2 ⎥\n",
      "⎢         2    ╱    x    ⎛    x⎞  ⎥\n",
      "⎢      π⋅x ⋅  ╱   - ── + ⎜5 - ─⎟  ⎥\n",
      "⎢           ╲╱      4    ⎝    2⎠  ⎥\n",
      "⎢f(x), ───────────────────────────⎥\n",
      "⎣                   12            ⎦\n",
      "          _________________\n",
      "         ╱    2          2 \n",
      "   2    ╱    x    ⎛    x⎞  \n",
      "π⋅x ⋅  ╱   - ── + ⎜5 - ─⎟  \n",
      "     ╲╱      4    ⎝    2⎠  \n",
      "───────────────────────────\n",
      "             12            \n",
      "⎡       -5⋅√5⋅π⋅x⋅(x - 4) ⎤\n",
      "⎢f'(x), ──────────────────⎥\n",
      "⎢               _______   ⎥\n",
      "⎣          24⋅╲╱ 5 - x    ⎦\n",
      "⎡               ⎛   2            ⎞⎤\n",
      "⎢        5⋅√5⋅π⋅⎝3⋅x  - 24⋅x + 40⎠⎥\n",
      "⎢f''(x), ─────────────────────────⎥\n",
      "⎢                        3/2      ⎥\n",
      "⎣              48⋅(5 - x)         ⎦\n",
      "Extremos relativos:\n",
      "[tiene un mínimo, x, 0]\n",
      "\n",
      "[tiene un máximo, x, 4]\n",
      "\n",
      "21. Queremos vallar un campo rectangular que está junto a un camino. La valla del lado del camino cuesta 5 euros/m y la\n",
      "de los otros tres lados, 0,625 euros/m. Halla el área del campo de mayor superficie que podemos cercar con 1800 euros.\n",
      "\n",
      "\n",
      "\n",
      "\n",
      "Función a optimizar y derivadas:\n",
      "[f(x), x⋅(1440.0 - 4.5⋅x)]\n",
      "x⋅(1440.0 - 4.5⋅x)\n",
      "[f'(x), 1440.0 - 9.0⋅x]\n",
      "[f''(x), -9.0]\n",
      "Extremos relativos:\n",
      "[tiene un máximo, x, 160.0]\n",
      "\n",
      "22. Los barriles que se utilizan para almacenar petróleo tienen forma cilíndrica y una capacidad de 160 litros. Halla las\n",
      "dimensiones del cilindro para que la cantidad de chapa empleada en su construcción sea mínima.\n",
      "\n",
      "\n",
      "\n",
      "\n",
      "Función a optimizar y derivadas:\n",
      "⎡         2   320⎤\n",
      "⎢f(x), π⋅x  + ───⎥\n",
      "⎣              x ⎦\n",
      "   2   320\n",
      "π⋅x  + ───\n",
      "        x \n",
      "⎡               320⎤\n",
      "⎢f'(x), 2⋅π⋅x - ───⎥\n",
      "⎢                 2⎥\n",
      "⎣                x ⎦\n",
      "⎡              640⎤\n",
      "⎢f''(x), 2⋅π + ───⎥\n",
      "⎢                3⎥\n",
      "⎣               x ⎦\n",
      "Extremos relativos:\n",
      "⎡                      3 ____⎤\n",
      "⎢                    2⋅╲╱ 20 ⎥\n",
      "⎢tiene un mínimo, x, ────────⎥\n",
      "⎢                     3 ___  ⎥\n",
      "⎣                     ╲╱ π   ⎦\n",
      "\n",
      "33.- Entre todos los triángulos isósceles de perímetro 30 cm, ¿cuál es el de área máxima?\n",
      "\n",
      "\n",
      "\n",
      "\n",
      "\n",
      "Función a optimizar y derivadas:\n",
      "⎡             __________________⎤\n",
      "⎢            ╱    2           2 ⎥\n",
      "⎢           ╱    x    ⎛     x⎞  ⎥\n",
      "⎢      x⋅  ╱   - ── + ⎜15 - ─⎟  ⎥\n",
      "⎢        ╲╱      4    ⎝     2⎠  ⎥\n",
      "⎢f(x), ─────────────────────────⎥\n",
      "⎣                  2            ⎦\n",
      "       __________________\n",
      "      ╱    2           2 \n",
      "     ╱    x    ⎛     x⎞  \n",
      "x⋅  ╱   - ── + ⎜15 - ─⎟  \n",
      "  ╲╱      4    ⎝     2⎠  \n",
      "─────────────────────────\n",
      "            2            \n",
      "⎡       -3⋅√15⋅(x - 10) ⎤\n",
      "⎢f'(x), ────────────────⎥\n",
      "⎢             ________  ⎥\n",
      "⎣         4⋅╲╱ 15 - x   ⎦\n",
      "⎡        3⋅√15⋅(x - 20)⎤\n",
      "⎢f''(x), ──────────────⎥\n",
      "⎢                  3/2 ⎥\n",
      "⎣        8⋅(15 - x)    ⎦\n",
      "Extremos relativos:\n",
      "[tiene un máximo, x, 10]\n",
      "\n",
      "34.- Se quiere construir un recipiente cónico de generatriz 10 cm y de capacidad máxima. ¿Cuál debe ser el radio de la base?\n",
      "\n",
      "\n",
      "\n",
      "\n",
      "\n",
      "Función a optimizar y derivadas:\n",
      "⎡              __________⎤\n",
      "⎢         2   ╱        2 ⎥\n",
      "⎢      π⋅x ⋅╲╱  100 - x  ⎥\n",
      "⎢f(x), ──────────────────⎥\n",
      "⎣              3         ⎦\n",
      "        __________\n",
      "   2   ╱        2 \n",
      "π⋅x ⋅╲╱  100 - x  \n",
      "──────────────────\n",
      "        3         \n",
      "⎡           ⎛         2⎞⎤\n",
      "⎢       π⋅x⋅⎝200 - 3⋅x ⎠⎥\n",
      "⎢f'(x), ────────────────⎥\n",
      "⎢            __________ ⎥\n",
      "⎢           ╱        2  ⎥\n",
      "⎣       3⋅╲╱  100 - x   ⎦\n",
      "⎡            ⎛   4        2        ⎞⎤\n",
      "⎢        2⋅π⋅⎝3⋅x  - 450⋅x  + 10000⎠⎥\n",
      "⎢f''(x), ───────────────────────────⎥\n",
      "⎢                          3/2      ⎥\n",
      "⎢                ⎛       2⎞         ⎥\n",
      "⎣              3⋅⎝100 - x ⎠         ⎦\n",
      "Extremos relativos:\n",
      "[tiene un mínimo, x, 0]\n",
      "\n",
      "⎡                    -10⋅√6 ⎤\n",
      "⎢tiene un máximo, x, ───────⎥\n",
      "⎣                       3   ⎦\n",
      "\n",
      "⎡                    10⋅√6⎤\n",
      "⎢tiene un máximo, x, ─────⎥\n",
      "⎣                      3  ⎦\n",
      "\n",
      "35.- Con una lámina cuadrada de 10 dm de lado se quiere construir una caja sin tapa. Para ello, se recortan unos cuadrados\n",
      "de los vértices. Calcula el lado del cuadrado recortado para que el volumen de la caja sea máximo. Si la altura de la caja no\n",
      "puede pasar de 2 dm ¿cuál es la medida del lado del cuadrado que debemos recortar?\n",
      "\n",
      "\n",
      "\n",
      "\n",
      "\n",
      "Función a optimizar y derivadas:\n",
      "⎡                  2⎤\n",
      "⎣f(x), x⋅(10 - 2⋅x) ⎦\n",
      "            2\n",
      "x⋅(10 - 2⋅x) \n",
      "[f'(x), 4⋅(x - 5)⋅(3⋅x - 5)]\n",
      "[f''(x), 24⋅x - 80]\n",
      "Extremos relativos:\n",
      "[tiene un máximo, x, 5/3]\n",
      "\n",
      "[tiene un mínimo, x, 5]\n",
      "\n",
      "37.- Calcula la generatriz y el radio que debe tener un bote cilíndrico de leche condensada cuyo área total (incluyendo las\n",
      "dos tapas) es de 150 cm 2 para que su volumen sea máximo.\n",
      "\n",
      "\n",
      "\n",
      "\n",
      "\n",
      "Función a optimizar y derivadas:\n",
      "⎡        ⎛       2      ⎞⎤\n",
      "⎢      x⋅⎝- 2⋅π⋅x  + 150⎠⎥\n",
      "⎢f(x), ──────────────────⎥\n",
      "⎣              2         ⎦\n",
      "  ⎛       2      ⎞\n",
      "x⋅⎝- 2⋅π⋅x  + 150⎠\n",
      "──────────────────\n",
      "        2         \n",
      "⎡              2     ⎤\n",
      "⎣f'(x), - 3⋅π⋅x  + 75⎦\n",
      "[f''(x), -6⋅π⋅x]\n",
      "Extremos relativos:\n",
      "⎡                    -5 ⎤\n",
      "⎢tiene un mínimo, x, ───⎥\n",
      "⎣                     √π⎦\n",
      "\n",
      "⎡                    5 ⎤\n",
      "⎢tiene un máximo, x, ──⎥\n",
      "⎣                    √π⎦\n",
      "\n",
      "38.- Dos postes de 12 y 18 m de altura distan entre sí 30 m, Se desea tender un cable uniendo un punto del suelo entre los\n",
      "dos postes con los extremos de éstos. ¿Dónde hay que situar el punto del suelo para que la longitud total del cable sea\n",
      "mínima?\n",
      "\n",
      "\n",
      "\n",
      "\n",
      "\n",
      "Función a optimizar y derivadas:\n",
      "⎡         __________      _________________⎤\n",
      "⎢        ╱  2            ╱         2       ⎥\n",
      "⎣f(x), ╲╱  x  + 144  + ╲╱  (30 - x)  + 324 ⎦\n",
      "   __________      _________________\n",
      "  ╱  2            ╱         2       \n",
      "╲╱  x  + 144  + ╲╱  (30 - x)  + 324 \n"
     ]
    },
    {
     "name": "stdout",
     "output_type": "stream",
     "text": [
      "⎡                x                   x                  30         ⎤\n",
      "⎢f'(x), ──────────────────── + ───────────── - ────────────────────⎥\n",
      "⎢          _________________      __________      _________________⎥\n",
      "⎢         ╱         2            ╱  2            ╱         2       ⎥\n",
      "⎣       ╲╱  (x - 30)  + 324    ╲╱  x  + 144    ╲╱  (x - 30)  + 324 ⎦\n",
      "⎡                 2                     2                                     \n",
      "⎢                x              (x - 30)                   1                  \n",
      "⎢f''(x), - ───────────── - ──────────────────── + ──────────────────── + ─────\n",
      "⎢                    3/2                    3/2      _________________      __\n",
      "⎢          ⎛ 2      ⎞      ⎛        2      ⎞        ╱         2            ╱  \n",
      "⎣          ⎝x  + 144⎠      ⎝(x - 30)  + 324⎠      ╲╱  (x - 30)  + 324    ╲╱  x\n",
      "\n",
      "        ⎤\n",
      " 1      ⎥\n",
      "────────⎥\n",
      "________⎥\n",
      "2       ⎥\n",
      "  + 144 ⎦\n",
      "Extremos relativos:\n",
      "[tiene un mínimo, x, 12]\n",
      "\n"
     ]
    }
   ],
   "source": [
    "x = Symbol('x', real=True)\n",
    "\n",
    "def signo(func, arg):\n",
    "  val = func.subs(x,arg)\n",
    "  if (val > 0):\n",
    "    return 'tiene un mínimo'\n",
    "  elif (val < 0):\n",
    "    return 'tiene un máximo'\n",
    "  else:\n",
    "    return 'No se puede afirmar nada'\n",
    "\n",
    "datos = [[r\"\"\"13. Descomponer el número 48 en dos sumandos tales que el quíntuplo del cuadrado del primero más el séxtuplo del\n",
    "cuadrado del segundo sea mínimo.\"\"\",5*x**2+6*(48-x)**2],\n",
    "         [r\"\"\"14. Halla el número positivo cuya suma, con 4 veces su recíproco, sea mínima.\"\"\", x+4/x],\n",
    "         [r\"\"\"15. Halla las dimensiones del rectángulo de área máxima inscrito en una circunferencia de 20 cm de radio.\"\"\", x*sqrt(40**2-x**2)],\n",
    "         [r\"\"\"16. Se considera una ventana rectangular en la que el lado superior ha sido sustituido por un triángulo equilátero. Sabiendo\n",
    "que el perímetro de la ventana es de 6,6 m, halla sus dimensiones para que su superficie sea máxima.\"\"\",(x*(6.6-3*x)/2)+x/2*sqrt(x**2-(x/2)**2)],\n",
    "         [r\"\"\"18. Una hoja de papel debe contener 18 cm 2 de texto impreso, márgenes superior e inferior de 2 cm de altura y márgenes\n",
    "laterales de 1 cm de anchura. Obtén, razonadamente, las dimensiones que minimizan la superficie de papel.\"\"\",(x+2)*(18/x+4)],\n",
    "         [r\"\"\"19. Halla las dimensiones de un depósito abierto superiormente en forma de prisma recto de base cuadrada, de 500 m 3 de\n",
    "capacidad y que tenga un revestimiento de coste mínimo.\"\"\",4*(x*500/x**2)+x**2],\n",
    "         [r\"\"\"20. Un triángulo isósceles, de perímetro 10 m, gira alrededor de la altura relativa al lado desigual engendrando un cono.\n",
    "Halla la longitud de sus lados para que el cono tenga volumen máximo.\"\"\",pi/3*(x/2)**2*sqrt(((10-x)/2)**2-(x/2)**2)],\n",
    "         [r\"\"\"21. Queremos vallar un campo rectangular que está junto a un camino. La valla del lado del camino cuesta 5 euros/m y la\n",
    "de los otros tres lados, 0,625 euros/m. Halla el área del campo de mayor superficie que podemos cercar con 1800 euros.\"\"\",x*((1800-5.625*x)/(2*0.625))],\n",
    "         [r\"\"\"22. Los barriles que se utilizan para almacenar petróleo tienen forma cilíndrica y una capacidad de 160 litros. Halla las\n",
    "dimensiones del cilindro para que la cantidad de chapa empleada en su construcción sea mínima.\"\"\",pi*x**2+2*pi*x*(160/(pi*x**2))],\n",
    "        [r\"\"\"33.- Entre todos los triángulos isósceles de perímetro 30 cm, ¿cuál es el de área máxima?\n",
    "\"\"\",x*sqrt(((30-x)/2)**2-(x/2)**2)/2],\n",
    "        [r\"\"\"34.- Se quiere construir un recipiente cónico de generatriz 10 cm y de capacidad máxima. ¿Cuál debe ser el radio de la base?\n",
    "\"\"\",pi*x**2*sqrt(10**2-x**2)/3],\n",
    "        [r\"\"\"35.- Con una lámina cuadrada de 10 dm de lado se quiere construir una caja sin tapa. Para ello, se recortan unos cuadrados\n",
    "de los vértices. Calcula el lado del cuadrado recortado para que el volumen de la caja sea máximo. Si la altura de la caja no\n",
    "puede pasar de 2 dm ¿cuál es la medida del lado del cuadrado que debemos recortar?\n",
    "\"\"\",x*(10-2*x)**2],\n",
    "        [r\"\"\"37.- Calcula la generatriz y el radio que debe tener un bote cilíndrico de leche condensada cuyo área total (incluyendo las\n",
    "dos tapas) es de 150 cm 2 para que su volumen sea máximo.\n",
    "\"\"\",pi*x**2*((150-2*pi*x**2)/(2*pi*x))],\n",
    "        [r\"\"\"38.- Dos postes de 12 y 18 m de altura distan entre sí 30 m, Se desea tender un cable uniendo un punto del suelo entre los\n",
    "dos postes con los extremos de éstos. ¿Dónde hay que situar el punto del suelo para que la longitud total del cable sea\n",
    "mínima?\n",
    "\"\"\",sqrt(12**2+x**2)+sqrt(18**2+(30-x)**2)],\n",
    "        ]\n",
    "\n",
    "for p in datos :\n",
    "    print(p[0])\n",
    "    enunciado_latex, enunciado, solucion = [],[],[]\n",
    "    n_ejercicio = p[0][0:2]\n",
    "    pprint(\"\\n\\n\\n\\n\")\n",
    "    f = p[1]\n",
    "    pprint(\"Función a optimizar y derivadas:\")\n",
    "    pprint([\"f(x)\",f])\n",
    "    pprint(f)\n",
    "    pprint([\"f'(x)\",simplify(f.diff())])\n",
    "    pprint([\"f''(x)\",simplify(f.diff().diff())])\n",
    "    extremo = solve(f.diff(x))\n",
    "    pprint(\"Extremos relativos:\")\n",
    "    for i in extremo :\n",
    "        pprint([signo(f.diff().diff(),i), \"x\", i])\n",
    "        pprint(\"\\n\")\n",
    "\n",
    "    \n",
    "    \n",
    "    \n"
   ]
  },
  {
   "cell_type": "code",
   "execution_count": 65,
   "metadata": {},
   "outputs": [
    {
     "name": "stdout",
     "output_type": "stream",
     "text": [
      "13. Descomponer el número 48 en dos sumandos tales que el quíntuplo del cuadrado del primero más el séxtuplo del\n",
      "cuadrado del segundo sea mínimo.\n",
      "\n",
      "\n",
      "\n",
      "\n",
      "Función a optimizar y derivadas:\n",
      "⎡         2             2⎤\n",
      "⎣f(x), 5⋅x  + 6⋅(48 - x) ⎦\n",
      "   2             2\n",
      "5⋅x  + 6⋅(48 - x) \n",
      "[f'(x), 22⋅x - 576]\n",
      "[f''(x), 22]\n",
      "Extremos relativos:\n",
      "⎡                    288⎤\n",
      "⎢tiene un mínimo, x, ───⎥\n",
      "⎣                     11⎦\n",
      "\n",
      "14. Halla el número positivo cuya suma, con 4 veces su recíproco, sea mínima.\n",
      "\n",
      "\n",
      "\n",
      "\n",
      "Función a optimizar y derivadas:\n",
      "⎡          4⎤\n",
      "⎢f(x), x + ─⎥\n",
      "⎣          x⎦\n",
      "    4\n",
      "x + ─\n",
      "    x\n",
      "⎡           4 ⎤\n",
      "⎢f'(x), 1 - ──⎥\n",
      "⎢            2⎥\n",
      "⎣           x ⎦\n",
      "⎡        8 ⎤\n",
      "⎢f''(x), ──⎥\n",
      "⎢         3⎥\n",
      "⎣        x ⎦\n",
      "Extremos relativos:\n"
     ]
    },
    {
     "ename": "TypeError",
     "evalue": "cannot determine truth value of Relational",
     "output_type": "error",
     "traceback": [
      "\u001b[0;31m---------------------------------------------------------------------------\u001b[0m",
      "\u001b[0;31mTypeError\u001b[0m                                 Traceback (most recent call last)",
      "\u001b[0;32m<ipython-input-65-409ed1c44533>\u001b[0m in \u001b[0;36m<module>\u001b[0;34m()\u001b[0m\n\u001b[1;32m     70\u001b[0m \u001b[0;34m\u001b[0m\u001b[0m\n\u001b[1;32m     71\u001b[0m     \u001b[0;32mfor\u001b[0m \u001b[0mi\u001b[0m \u001b[0;32min\u001b[0m \u001b[0mextremo\u001b[0m \u001b[0;34m:\u001b[0m\u001b[0;34m\u001b[0m\u001b[0;34m\u001b[0m\u001b[0m\n\u001b[0;32m---> 72\u001b[0;31m         \u001b[0mpprint\u001b[0m\u001b[0;34m(\u001b[0m\u001b[0;34m[\u001b[0m\u001b[0msigno\u001b[0m\u001b[0;34m(\u001b[0m\u001b[0mf\u001b[0m\u001b[0;34m.\u001b[0m\u001b[0mdiff\u001b[0m\u001b[0;34m(\u001b[0m\u001b[0;34m)\u001b[0m\u001b[0;34m.\u001b[0m\u001b[0mdiff\u001b[0m\u001b[0;34m(\u001b[0m\u001b[0;34m)\u001b[0m\u001b[0;34m,\u001b[0m\u001b[0mi\u001b[0m\u001b[0;34m)\u001b[0m\u001b[0;34m,\u001b[0m \u001b[0;34m\"x\"\u001b[0m\u001b[0;34m,\u001b[0m \u001b[0mi\u001b[0m\u001b[0;34m]\u001b[0m\u001b[0;34m)\u001b[0m\u001b[0;34m\u001b[0m\u001b[0;34m\u001b[0m\u001b[0m\n\u001b[0m\u001b[1;32m     73\u001b[0m         \u001b[0mpprint\u001b[0m\u001b[0;34m(\u001b[0m\u001b[0;34m\"\\n\"\u001b[0m\u001b[0;34m)\u001b[0m\u001b[0;34m\u001b[0m\u001b[0;34m\u001b[0m\u001b[0m\n\u001b[1;32m     74\u001b[0m         \u001b[0msol\u001b[0m \u001b[0;34m+=\u001b[0m \u001b[0;34mr\" $\"\u001b[0m\u001b[0;34m+\u001b[0m\u001b[0mlatex\u001b[0m\u001b[0;34m(\u001b[0m\u001b[0;34m[\u001b[0m\u001b[0msigno\u001b[0m\u001b[0;34m(\u001b[0m\u001b[0mf\u001b[0m\u001b[0;34m.\u001b[0m\u001b[0mdiff\u001b[0m\u001b[0;34m(\u001b[0m\u001b[0;34m)\u001b[0m\u001b[0;34m.\u001b[0m\u001b[0mdiff\u001b[0m\u001b[0;34m(\u001b[0m\u001b[0;34m)\u001b[0m\u001b[0;34m,\u001b[0m\u001b[0mi\u001b[0m\u001b[0;34m)\u001b[0m\u001b[0;34m,\u001b[0m \u001b[0;34m\"x\"\u001b[0m\u001b[0;34m,\u001b[0m \u001b[0mi\u001b[0m\u001b[0;34m]\u001b[0m\u001b[0;34m)\u001b[0m\u001b[0;34m+\u001b[0m\u001b[0;34mr\"$ \\\\\"\u001b[0m\u001b[0;34m\u001b[0m\u001b[0;34m\u001b[0m\u001b[0m\n",
      "\u001b[0;32m<ipython-input-65-409ed1c44533>\u001b[0m in \u001b[0;36msigno\u001b[0;34m(func, arg)\u001b[0m\n\u001b[1;32m      4\u001b[0m \u001b[0;32mdef\u001b[0m \u001b[0msigno\u001b[0m\u001b[0;34m(\u001b[0m\u001b[0mfunc\u001b[0m\u001b[0;34m,\u001b[0m \u001b[0marg\u001b[0m\u001b[0;34m)\u001b[0m\u001b[0;34m:\u001b[0m\u001b[0;34m\u001b[0m\u001b[0;34m\u001b[0m\u001b[0m\n\u001b[1;32m      5\u001b[0m   \u001b[0mval\u001b[0m \u001b[0;34m=\u001b[0m \u001b[0mfunc\u001b[0m\u001b[0;34m.\u001b[0m\u001b[0msubs\u001b[0m\u001b[0;34m(\u001b[0m\u001b[0mx\u001b[0m\u001b[0;34m,\u001b[0m\u001b[0marg\u001b[0m\u001b[0;34m)\u001b[0m\u001b[0;34m\u001b[0m\u001b[0;34m\u001b[0m\u001b[0m\n\u001b[0;32m----> 6\u001b[0;31m   \u001b[0;32mif\u001b[0m \u001b[0;34m(\u001b[0m\u001b[0mval\u001b[0m \u001b[0;34m>\u001b[0m \u001b[0;36m0\u001b[0m\u001b[0;34m)\u001b[0m\u001b[0;34m:\u001b[0m\u001b[0;34m\u001b[0m\u001b[0;34m\u001b[0m\u001b[0m\n\u001b[0m\u001b[1;32m      7\u001b[0m     \u001b[0;32mreturn\u001b[0m \u001b[0;34m'tiene un mínimo'\u001b[0m\u001b[0;34m\u001b[0m\u001b[0;34m\u001b[0m\u001b[0m\n\u001b[1;32m      8\u001b[0m   \u001b[0;32melif\u001b[0m \u001b[0;34m(\u001b[0m\u001b[0mval\u001b[0m \u001b[0;34m<\u001b[0m \u001b[0;36m0\u001b[0m\u001b[0;34m)\u001b[0m\u001b[0;34m:\u001b[0m\u001b[0;34m\u001b[0m\u001b[0;34m\u001b[0m\u001b[0m\n",
      "\u001b[0;32m~/Mis_aplicaciones/anaconda3/lib/python3.6/site-packages/sympy/core/relational.py\u001b[0m in \u001b[0;36m__nonzero__\u001b[0;34m(self)\u001b[0m\n\u001b[1;32m    302\u001b[0m \u001b[0;34m\u001b[0m\u001b[0m\n\u001b[1;32m    303\u001b[0m     \u001b[0;32mdef\u001b[0m \u001b[0m__nonzero__\u001b[0m\u001b[0;34m(\u001b[0m\u001b[0mself\u001b[0m\u001b[0;34m)\u001b[0m\u001b[0;34m:\u001b[0m\u001b[0;34m\u001b[0m\u001b[0;34m\u001b[0m\u001b[0m\n\u001b[0;32m--> 304\u001b[0;31m         \u001b[0;32mraise\u001b[0m \u001b[0mTypeError\u001b[0m\u001b[0;34m(\u001b[0m\u001b[0;34m\"cannot determine truth value of Relational\"\u001b[0m\u001b[0;34m)\u001b[0m\u001b[0;34m\u001b[0m\u001b[0;34m\u001b[0m\u001b[0m\n\u001b[0m\u001b[1;32m    305\u001b[0m \u001b[0;34m\u001b[0m\u001b[0m\n\u001b[1;32m    306\u001b[0m     \u001b[0m__bool__\u001b[0m \u001b[0;34m=\u001b[0m \u001b[0m__nonzero__\u001b[0m\u001b[0;34m\u001b[0m\u001b[0;34m\u001b[0m\u001b[0m\n",
      "\u001b[0;31mTypeError\u001b[0m: cannot determine truth value of Relational"
     ]
    }
   ],
   "source": [
    "\n",
    "x = Symbol('x', real=True)\n",
    "\n",
    "def signo(func, arg):\n",
    "  val = func.subs(x,arg)\n",
    "  if (val > 0):\n",
    "    return 'tiene un mínimo'\n",
    "  elif (val < 0):\n",
    "    return 'tiene un máximo'\n",
    "  else:\n",
    "    return 'No se puede afirmar nada'\n",
    "\n",
    "datos = [[r\"\"\"13. Descomponer el número 48 en dos sumandos tales que el quíntuplo del cuadrado del primero más el séxtuplo del\n",
    "cuadrado del segundo sea mínimo.\"\"\",'5*x**2+6*(48-x)**2'],\n",
    "         [r\"\"\"14. Halla el número positivo cuya suma, con 4 veces su recíproco, sea mínima.\"\"\", 'x+4/x'],\n",
    "         [r\"\"\"15. Halla las dimensiones del rectángulo de área máxima inscrito en una circunferencia de 20 cm de radio.\"\"\", 'x*sqrt(40**2-x**2)'],\n",
    "         [r\"\"\"16. Se considera una ventana rectangular en la que el lado superior ha sido sustituido por un triángulo equilátero. Sabiendo\n",
    "que el perímetro de la ventana es de 6,6 m, halla sus dimensiones para que su superficie sea máxima.\"\"\",'(x*(6.6-3*x)/2)+x/2*sqrt(x**2-(x/2)**2)'],\n",
    "         [r\"\"\"18. Una hoja de papel debe contener 18 cm 2 de texto impreso, márgenes superior e inferior de 2 cm de altura y márgenes\n",
    "laterales de 1 cm de anchura. Obtén, razonadamente, las dimensiones que minimizan la superficie de papel.\"\"\",'(x+2)*(18/x+4)'],\n",
    "         [r\"\"\"19. Halla las dimensiones de un depósito abierto superiormente en forma de prisma recto de base cuadrada, de 500 m 3 de\n",
    "capacidad y que tenga un revestimiento de coste mínimo.\"\"\",'4*(x*500/x**2)+x**2'],\n",
    "         [r\"\"\"20. Un triángulo isósceles, de perímetro 10 m, gira alrededor de la altura relativa al lado desigual engendrando un cono.\n",
    "Halla la longitud de sus lados para que el cono tenga volumen máximo.\"\"\",'pi/3*(x/2)**2*sqrt(((10-x)/2)**2-(x/2)**2)'],\n",
    "         [r\"\"\"21. Queremos vallar un campo rectangular que está junto a un camino. La valla del lado del camino cuesta 5 euros/m y la\n",
    "de los otros tres lados, 0,625 euros/m. Halla el área del campo de mayor superficie que podemos cercar con 1800 euros.\"\"\",'x*((1800-5.625*x)/(2*0.625))'],\n",
    "         [r\"\"\"22. Los barriles que se utilizan para almacenar petróleo tienen forma cilíndrica y una capacidad de 160 litros. Halla las\n",
    "dimensiones del cilindro para que la cantidad de chapa empleada en su construcción sea mínima.\"\"\",'pi*x**2+2*pi*x*(160/(pi*x**2))'],\n",
    "        [r\"\"\"33.- Entre todos los triángulos isósceles de perímetro 30 cm, ¿cuál es el de área máxima?\n",
    "\"\"\",'x*sqrt(((30-x)/2)**2-(x/2)**2)/2'],\n",
    "        [r\"\"\"34.- Se quiere construir un recipiente cónico de generatriz 10 cm y de capacidad máxima. ¿Cuál debe ser el radio de la base?\n",
    "\"\"\",'pi*x**2*sqrt(10**2-x**2)/3'],\n",
    "        [r\"\"\"35.- Con una lámina cuadrada de 10 dm de lado se quiere construir una caja sin tapa. Para ello, se recortan unos cuadrados\n",
    "de los vértices. Calcula el lado del cuadrado recortado para que el volumen de la caja sea máximo. Si la altura de la caja no\n",
    "puede pasar de 2 dm ¿cuál es la medida del lado del cuadrado que debemos recortar?\n",
    "\"\"\",'x*(10-2*x)**2'],\n",
    "        [r\"\"\"37.- Calcula la generatriz y el radio que debe tener un bote cilíndrico de leche condensada cuyo área total (incluyendo las\n",
    "dos tapas) es de 150 cm 2 para que su volumen sea máximo.\n",
    "\"\"\",'pi*x**2*((150-2*pi*x**2)/(2*pi*x))'],\n",
    "        [r\"\"\"38.- Dos postes de 12 y 18 m de altura distan entre sí 30 m, Se desea tender un cable uniendo un punto del suelo entre los\n",
    "dos postes con los extremos de éstos. ¿Dónde hay que situar el punto del suelo para que la longitud total del cable sea\n",
    "mínima?\n",
    "\"\"\",'sqrt(12**2+x**2)+sqrt(18**2+(30-x)**2)'],\n",
    "        ]\n",
    "\n",
    "n_ejercicio = 'p31e13a38'\n",
    "texto_ejercicio = \"Problemas de optimización\"\n",
    "\n",
    "for p in datos :\n",
    "    print(p[0])    \n",
    "    pprint(\"\\n\\n\\n\\n\")\n",
    "    f = (S(p[1],evaluate=False))\n",
    "    pprint(\"Función a optimizar y derivadas:\")\n",
    "    pprint([\"f(x)\",f])\n",
    "    pprint(f)\n",
    "    pprint([\"f'(x)\",simplify(f.diff())])\n",
    "    pprint([\"f''(x)\",simplify(f.diff().diff())])\n",
    "    extremo = solveset(simplify(f.diff())).args\n",
    "    pprint(\"Extremos relativos:\")\n",
    "    \n",
    "    enunciado_latex, enunciado, solucion = [],[],[]\n",
    "    enunciado_latex.append(latex(p[0]))\n",
    "    enunciado.append(\"\")\n",
    "    sol = r\"\\\\ \\\\ \\\\ \\\\  \\\\  \\\\ Función a optimizar y derivadas: \\\\\"\n",
    "    sol += r\" $\"+latex([\"f(x)\",f])+r\"$ \\\\\"\n",
    "    sol += r\" $\"+latex([\"f'(x)\",simplify(f.diff())])+r\"$ \\\\\"\n",
    "    sol += r\" $\"+latex([\"f''(x)\",simplify(f.diff().diff())])+r\"$ \\\\\"\n",
    "    sol += r\"Extremos relativos: \\\\\"\n",
    "    \n",
    "    \n",
    "    for i in extremo :\n",
    "        pprint([signo(f.diff().diff(),i), \"x\", i])\n",
    "        pprint(\"\\n\")\n",
    "        sol += r\" $\"+latex([signo(f.diff().diff(),i), \"x\", i])+r\"$ \\\\\"\n",
    "\n",
    "    solucion.append(sol)\n",
    "    df_ejercicios = df_ejercicios.append(añadir_ejercicios(enunciado_latex, enunciado, solucion, texto_ejercicio, curso, titulo , n_ejercicio, '1', '1', enun_tex=False, sol_tex=False), ignore_index=True)\n",
    "\n",
    "    \n",
    "    \n"
   ]
  },
  {
   "cell_type": "code",
   "execution_count": null,
   "metadata": {},
   "outputs": [],
   "source": []
  },
  {
   "cell_type": "code",
   "execution_count": 50,
   "metadata": {},
   "outputs": [
    {
     "data": {
      "text/markdown": [
       "**Ejercicio: **p31e13a38"
      ],
      "text/plain": [
       "<IPython.core.display.Markdown object>"
      ]
     },
     "metadata": {},
     "output_type": "display_data"
    },
    {
     "data": {
      "text/html": [
       "<div>\n",
       "<style scoped>\n",
       "    .dataframe tbody tr th:only-of-type {\n",
       "        vertical-align: middle;\n",
       "    }\n",
       "\n",
       "    .dataframe tbody tr th {\n",
       "        vertical-align: top;\n",
       "    }\n",
       "\n",
       "    .dataframe thead th {\n",
       "        text-align: right;\n",
       "    }\n",
       "</style>\n",
       "<table border=\"1\" class=\"dataframe\">\n",
       "  <thead>\n",
       "    <tr style=\"text-align: right;\">\n",
       "      <th></th>\n",
       "      <th>enunciado_latex</th>\n",
       "      <th>enunciado</th>\n",
       "      <th>solucion</th>\n",
       "      <th>texto</th>\n",
       "      <th>curso</th>\n",
       "      <th>titulo</th>\n",
       "      <th>n_ejercicio</th>\n",
       "      <th>dificultad</th>\n",
       "      <th>n_columnas</th>\n",
       "      <th>puntos</th>\n",
       "      <th>enun_tex</th>\n",
       "      <th>sol_tex</th>\n",
       "    </tr>\n",
       "  </thead>\n",
       "  <tbody>\n",
       "    <tr>\n",
       "      <th>0</th>\n",
       "      <td>13. Descomponer el número 48 en dos sumandos t...</td>\n",
       "      <td></td>\n",
       "      <td>\\\\ \\\\ \\\\ \\\\  \\\\  \\\\ Función a optimizar y deri...</td>\n",
       "      <td>Problemas de optimización</td>\n",
       "      <td>2BC</td>\n",
       "      <td>Optimización de funciones</td>\n",
       "      <td>p31e13a38</td>\n",
       "      <td>1</td>\n",
       "      <td>1</td>\n",
       "      <td>1</td>\n",
       "      <td>False</td>\n",
       "      <td>False</td>\n",
       "    </tr>\n",
       "    <tr>\n",
       "      <th>1</th>\n",
       "      <td>14. Halla el número positivo cuya suma, con 4 ...</td>\n",
       "      <td></td>\n",
       "      <td>\\\\ \\\\ \\\\ \\\\  \\\\  \\\\ Función a optimizar y deri...</td>\n",
       "      <td>Problemas de optimización</td>\n",
       "      <td>2BC</td>\n",
       "      <td>Optimización de funciones</td>\n",
       "      <td>p31e13a38</td>\n",
       "      <td>1</td>\n",
       "      <td>1</td>\n",
       "      <td>1</td>\n",
       "      <td>False</td>\n",
       "      <td>False</td>\n",
       "    </tr>\n",
       "    <tr>\n",
       "      <th>2</th>\n",
       "      <td>15. Halla las dimensiones del rectángulo de ár...</td>\n",
       "      <td></td>\n",
       "      <td>\\\\ \\\\ \\\\ \\\\  \\\\  \\\\ Función a optimizar y deri...</td>\n",
       "      <td>Problemas de optimización</td>\n",
       "      <td>2BC</td>\n",
       "      <td>Optimización de funciones</td>\n",
       "      <td>p31e13a38</td>\n",
       "      <td>1</td>\n",
       "      <td>1</td>\n",
       "      <td>1</td>\n",
       "      <td>False</td>\n",
       "      <td>False</td>\n",
       "    </tr>\n",
       "    <tr>\n",
       "      <th>3</th>\n",
       "      <td>16. Se considera una ventana rectangular en la...</td>\n",
       "      <td></td>\n",
       "      <td>\\\\ \\\\ \\\\ \\\\  \\\\  \\\\ Función a optimizar y deri...</td>\n",
       "      <td>Problemas de optimización</td>\n",
       "      <td>2BC</td>\n",
       "      <td>Optimización de funciones</td>\n",
       "      <td>p31e13a38</td>\n",
       "      <td>1</td>\n",
       "      <td>1</td>\n",
       "      <td>1</td>\n",
       "      <td>False</td>\n",
       "      <td>False</td>\n",
       "    </tr>\n",
       "    <tr>\n",
       "      <th>4</th>\n",
       "      <td>18. Una hoja de papel debe contener 18 cm 2 de...</td>\n",
       "      <td></td>\n",
       "      <td>\\\\ \\\\ \\\\ \\\\  \\\\  \\\\ Función a optimizar y deri...</td>\n",
       "      <td>Problemas de optimización</td>\n",
       "      <td>2BC</td>\n",
       "      <td>Optimización de funciones</td>\n",
       "      <td>p31e13a38</td>\n",
       "      <td>1</td>\n",
       "      <td>1</td>\n",
       "      <td>1</td>\n",
       "      <td>False</td>\n",
       "      <td>False</td>\n",
       "    </tr>\n",
       "    <tr>\n",
       "      <th>5</th>\n",
       "      <td>19. Halla las dimensiones de un depósito abier...</td>\n",
       "      <td></td>\n",
       "      <td>\\\\ \\\\ \\\\ \\\\  \\\\  \\\\ Función a optimizar y deri...</td>\n",
       "      <td>Problemas de optimización</td>\n",
       "      <td>2BC</td>\n",
       "      <td>Optimización de funciones</td>\n",
       "      <td>p31e13a38</td>\n",
       "      <td>1</td>\n",
       "      <td>1</td>\n",
       "      <td>1</td>\n",
       "      <td>False</td>\n",
       "      <td>False</td>\n",
       "    </tr>\n",
       "    <tr>\n",
       "      <th>6</th>\n",
       "      <td>20. Un triángulo isósceles, de perímetro 10 m,...</td>\n",
       "      <td></td>\n",
       "      <td>\\\\ \\\\ \\\\ \\\\  \\\\  \\\\ Función a optimizar y deri...</td>\n",
       "      <td>Problemas de optimización</td>\n",
       "      <td>2BC</td>\n",
       "      <td>Optimización de funciones</td>\n",
       "      <td>p31e13a38</td>\n",
       "      <td>1</td>\n",
       "      <td>1</td>\n",
       "      <td>1</td>\n",
       "      <td>False</td>\n",
       "      <td>False</td>\n",
       "    </tr>\n",
       "    <tr>\n",
       "      <th>7</th>\n",
       "      <td>21. Queremos vallar un campo rectangular que e...</td>\n",
       "      <td></td>\n",
       "      <td>\\\\ \\\\ \\\\ \\\\  \\\\  \\\\ Función a optimizar y deri...</td>\n",
       "      <td>Problemas de optimización</td>\n",
       "      <td>2BC</td>\n",
       "      <td>Optimización de funciones</td>\n",
       "      <td>p31e13a38</td>\n",
       "      <td>1</td>\n",
       "      <td>1</td>\n",
       "      <td>1</td>\n",
       "      <td>False</td>\n",
       "      <td>False</td>\n",
       "    </tr>\n",
       "    <tr>\n",
       "      <th>8</th>\n",
       "      <td>22. Los barriles que se utilizan para almacena...</td>\n",
       "      <td></td>\n",
       "      <td>\\\\ \\\\ \\\\ \\\\  \\\\  \\\\ Función a optimizar y deri...</td>\n",
       "      <td>Problemas de optimización</td>\n",
       "      <td>2BC</td>\n",
       "      <td>Optimización de funciones</td>\n",
       "      <td>p31e13a38</td>\n",
       "      <td>1</td>\n",
       "      <td>1</td>\n",
       "      <td>1</td>\n",
       "      <td>False</td>\n",
       "      <td>False</td>\n",
       "    </tr>\n",
       "    <tr>\n",
       "      <th>9</th>\n",
       "      <td>33.- Entre todos los triángulos isósceles de p...</td>\n",
       "      <td></td>\n",
       "      <td>\\\\ \\\\ \\\\ \\\\  \\\\  \\\\ Función a optimizar y deri...</td>\n",
       "      <td>Problemas de optimización</td>\n",
       "      <td>2BC</td>\n",
       "      <td>Optimización de funciones</td>\n",
       "      <td>p31e13a38</td>\n",
       "      <td>1</td>\n",
       "      <td>1</td>\n",
       "      <td>1</td>\n",
       "      <td>False</td>\n",
       "      <td>False</td>\n",
       "    </tr>\n",
       "    <tr>\n",
       "      <th>10</th>\n",
       "      <td>34.- Se quiere construir un recipiente cónico ...</td>\n",
       "      <td></td>\n",
       "      <td>\\\\ \\\\ \\\\ \\\\  \\\\  \\\\ Función a optimizar y deri...</td>\n",
       "      <td>Problemas de optimización</td>\n",
       "      <td>2BC</td>\n",
       "      <td>Optimización de funciones</td>\n",
       "      <td>p31e13a38</td>\n",
       "      <td>1</td>\n",
       "      <td>1</td>\n",
       "      <td>1</td>\n",
       "      <td>False</td>\n",
       "      <td>False</td>\n",
       "    </tr>\n",
       "    <tr>\n",
       "      <th>11</th>\n",
       "      <td>35.- Con una lámina cuadrada de 10 dm de lado ...</td>\n",
       "      <td></td>\n",
       "      <td>\\\\ \\\\ \\\\ \\\\  \\\\  \\\\ Función a optimizar y deri...</td>\n",
       "      <td>Problemas de optimización</td>\n",
       "      <td>2BC</td>\n",
       "      <td>Optimización de funciones</td>\n",
       "      <td>p31e13a38</td>\n",
       "      <td>1</td>\n",
       "      <td>1</td>\n",
       "      <td>1</td>\n",
       "      <td>False</td>\n",
       "      <td>False</td>\n",
       "    </tr>\n",
       "    <tr>\n",
       "      <th>12</th>\n",
       "      <td>37.- Calcula la generatriz y el radio que debe...</td>\n",
       "      <td></td>\n",
       "      <td>\\\\ \\\\ \\\\ \\\\  \\\\  \\\\ Función a optimizar y deri...</td>\n",
       "      <td>Problemas de optimización</td>\n",
       "      <td>2BC</td>\n",
       "      <td>Optimización de funciones</td>\n",
       "      <td>p31e13a38</td>\n",
       "      <td>1</td>\n",
       "      <td>1</td>\n",
       "      <td>1</td>\n",
       "      <td>False</td>\n",
       "      <td>False</td>\n",
       "    </tr>\n",
       "    <tr>\n",
       "      <th>13</th>\n",
       "      <td>38.- Dos postes de 12 y 18 m de altura distan ...</td>\n",
       "      <td></td>\n",
       "      <td>\\\\ \\\\ \\\\ \\\\  \\\\  \\\\ Función a optimizar y deri...</td>\n",
       "      <td>Problemas de optimización</td>\n",
       "      <td>2BC</td>\n",
       "      <td>Optimización de funciones</td>\n",
       "      <td>p31e13a38</td>\n",
       "      <td>1</td>\n",
       "      <td>1</td>\n",
       "      <td>1</td>\n",
       "      <td>False</td>\n",
       "      <td>False</td>\n",
       "    </tr>\n",
       "  </tbody>\n",
       "</table>\n",
       "</div>"
      ],
      "text/plain": [
       "                                      enunciado_latex enunciado  \\\n",
       "0   13. Descomponer el número 48 en dos sumandos t...             \n",
       "1   14. Halla el número positivo cuya suma, con 4 ...             \n",
       "2   15. Halla las dimensiones del rectángulo de ár...             \n",
       "3   16. Se considera una ventana rectangular en la...             \n",
       "4   18. Una hoja de papel debe contener 18 cm 2 de...             \n",
       "5   19. Halla las dimensiones de un depósito abier...             \n",
       "6   20. Un triángulo isósceles, de perímetro 10 m,...             \n",
       "7   21. Queremos vallar un campo rectangular que e...             \n",
       "8   22. Los barriles que se utilizan para almacena...             \n",
       "9   33.- Entre todos los triángulos isósceles de p...             \n",
       "10  34.- Se quiere construir un recipiente cónico ...             \n",
       "11  35.- Con una lámina cuadrada de 10 dm de lado ...             \n",
       "12  37.- Calcula la generatriz y el radio que debe...             \n",
       "13  38.- Dos postes de 12 y 18 m de altura distan ...             \n",
       "\n",
       "                                             solucion  \\\n",
       "0   \\\\ \\\\ \\\\ \\\\  \\\\  \\\\ Función a optimizar y deri...   \n",
       "1   \\\\ \\\\ \\\\ \\\\  \\\\  \\\\ Función a optimizar y deri...   \n",
       "2   \\\\ \\\\ \\\\ \\\\  \\\\  \\\\ Función a optimizar y deri...   \n",
       "3   \\\\ \\\\ \\\\ \\\\  \\\\  \\\\ Función a optimizar y deri...   \n",
       "4   \\\\ \\\\ \\\\ \\\\  \\\\  \\\\ Función a optimizar y deri...   \n",
       "5   \\\\ \\\\ \\\\ \\\\  \\\\  \\\\ Función a optimizar y deri...   \n",
       "6   \\\\ \\\\ \\\\ \\\\  \\\\  \\\\ Función a optimizar y deri...   \n",
       "7   \\\\ \\\\ \\\\ \\\\  \\\\  \\\\ Función a optimizar y deri...   \n",
       "8   \\\\ \\\\ \\\\ \\\\  \\\\  \\\\ Función a optimizar y deri...   \n",
       "9   \\\\ \\\\ \\\\ \\\\  \\\\  \\\\ Función a optimizar y deri...   \n",
       "10  \\\\ \\\\ \\\\ \\\\  \\\\  \\\\ Función a optimizar y deri...   \n",
       "11  \\\\ \\\\ \\\\ \\\\  \\\\  \\\\ Función a optimizar y deri...   \n",
       "12  \\\\ \\\\ \\\\ \\\\  \\\\  \\\\ Función a optimizar y deri...   \n",
       "13  \\\\ \\\\ \\\\ \\\\  \\\\  \\\\ Función a optimizar y deri...   \n",
       "\n",
       "                        texto curso                     titulo n_ejercicio  \\\n",
       "0   Problemas de optimización   2BC  Optimización de funciones   p31e13a38   \n",
       "1   Problemas de optimización   2BC  Optimización de funciones   p31e13a38   \n",
       "2   Problemas de optimización   2BC  Optimización de funciones   p31e13a38   \n",
       "3   Problemas de optimización   2BC  Optimización de funciones   p31e13a38   \n",
       "4   Problemas de optimización   2BC  Optimización de funciones   p31e13a38   \n",
       "5   Problemas de optimización   2BC  Optimización de funciones   p31e13a38   \n",
       "6   Problemas de optimización   2BC  Optimización de funciones   p31e13a38   \n",
       "7   Problemas de optimización   2BC  Optimización de funciones   p31e13a38   \n",
       "8   Problemas de optimización   2BC  Optimización de funciones   p31e13a38   \n",
       "9   Problemas de optimización   2BC  Optimización de funciones   p31e13a38   \n",
       "10  Problemas de optimización   2BC  Optimización de funciones   p31e13a38   \n",
       "11  Problemas de optimización   2BC  Optimización de funciones   p31e13a38   \n",
       "12  Problemas de optimización   2BC  Optimización de funciones   p31e13a38   \n",
       "13  Problemas de optimización   2BC  Optimización de funciones   p31e13a38   \n",
       "\n",
       "   dificultad n_columnas puntos  enun_tex  sol_tex  \n",
       "0           1          1      1     False    False  \n",
       "1           1          1      1     False    False  \n",
       "2           1          1      1     False    False  \n",
       "3           1          1      1     False    False  \n",
       "4           1          1      1     False    False  \n",
       "5           1          1      1     False    False  \n",
       "6           1          1      1     False    False  \n",
       "7           1          1      1     False    False  \n",
       "8           1          1      1     False    False  \n",
       "9           1          1      1     False    False  \n",
       "10          1          1      1     False    False  \n",
       "11          1          1      1     False    False  \n",
       "12          1          1      1     False    False  \n",
       "13          1          1      1     False    False  "
      ]
     },
     "metadata": {},
     "output_type": "display_data"
    }
   ],
   "source": [
    "escribir_preambulo(fichero, titulo, 'ejercicios')\n",
    "for s in df_ejercicios.groupby('n_ejercicio').count().index : \n",
    "    display(md(\"**Ejercicio: **\" + s ))\n",
    "    display(df_ejercicios[df_ejercicios.n_ejercicio == s])\n",
    "    escribir_ejercicios(df_ejercicios[df_ejercicios.n_ejercicio == s],fichero)\n",
    "\n",
    "escribir_fin(fichero)"
   ]
  },
  {
   "cell_type": "code",
   "execution_count": 6,
   "metadata": {},
   "outputs": [
    {
     "data": {
      "text/plain": [
       "'opt-38'"
      ]
     },
     "execution_count": 6,
     "metadata": {},
     "output_type": "execute_result"
    }
   ],
   "source": [
    "n_ejercicio"
   ]
  },
  {
   "cell_type": "markdown",
   "metadata": {},
   "source": [
    "## Ejercicio "
   ]
  },
  {
   "cell_type": "code",
   "execution_count": 2,
   "metadata": {},
   "outputs": [
    {
     "data": {
      "text/markdown": [
       "**Enunciado:**"
      ],
      "text/plain": [
       "<IPython.core.display.Markdown object>"
      ]
     },
     "metadata": {},
     "output_type": "display_data"
    },
    {
     "data": {
      "text/markdown": [
       "Dadas las matrices  $A=\\left[\\begin{matrix}1 & 0 & -1\\\\-3 & 2 & 3\\\\-1 & 3 & 0\\end{matrix}\\right]$, $B=\\left[\\begin{matrix}2 & 1\\\\0 & -1\\\\1 & 2\\end{matrix}\\right]$ y $C=\\left[\\begin{matrix}1 & -1 & 0\\\\1 & 0 & 1\\end{matrix}\\right]$. \n",
       "Encontrar si existe una matriz $X$ tal que $3\\cdot X + 2\\cdot A = B \\cdot C$. \n",
       "Encontrar si existe la matriz inversa de $A$, por determinantes"
      ],
      "text/plain": [
       "<IPython.core.display.Markdown object>"
      ]
     },
     "metadata": {},
     "output_type": "display_data"
    },
    {
     "data": {
      "text/markdown": [
       "**Solución:**"
      ],
      "text/plain": [
       "<IPython.core.display.Markdown object>"
      ]
     },
     "metadata": {},
     "output_type": "display_data"
    },
    {
     "data": {
      "text/markdown": [
       "$X = \\frac{1}{3}\\cdot (B \\cdot C - 2 \\cdot A)=\\frac{1}{3}\\left(\\left[\\begin{matrix}3 & -2 & 1\\\\-1 & 0 & -1\\\\3 & -1 & 2\\end{matrix}\\right]-\\left[\\begin{matrix}2 & 0 & -2\\\\-6 & 4 & 6\\\\-2 & 6 & 0\\end{matrix}\\right]\\right)=\\left[\\begin{matrix}\\frac{1}{3} & - \\frac{2}{3} & 1\\\\\\frac{5}{3} & - \\frac{4}{3} & - \\frac{7}{3}\\\\\\frac{5}{3} & - \\frac{7}{3} & \\frac{2}{3}\\end{matrix}\\right]$ \n",
       "$\\left[\\begin{matrix}1 & 0 & -1\\\\-3 & 2 & 3\\\\-1 & 3 & 0\\end{matrix}\\right]\\xrightarrow{traspuesta}\\left[\\begin{matrix}1 & -3 & -1\\\\0 & 2 & 3\\\\-1 & 3 & 0\\end{matrix}\\right]\\xrightarrow{adjunta}\\left[\\begin{matrix}-9 & -3 & 2\\\\-3 & -1 & 0\\\\-7 & -3 & 2\\end{matrix}\\right]\\xrightarrow{inversa}\\left[\\begin{matrix}\\frac{9}{2} & \\frac{3}{2} & -1\\\\\\frac{3}{2} & \\frac{1}{2} & 0\\\\\\frac{7}{2} & \\frac{3}{2} & -1\\end{matrix}\\right]$."
      ],
      "text/plain": [
       "<IPython.core.display.Markdown object>"
      ]
     },
     "metadata": {},
     "output_type": "display_data"
    },
    {
     "data": {
      "text/markdown": [
       "**Código Latex:**"
      ],
      "text/plain": [
       "<IPython.core.display.Markdown object>"
      ]
     },
     "metadata": {},
     "output_type": "display_data"
    },
    {
     "name": "stdout",
     "output_type": "stream",
     "text": [
      "Dadas las matrices  $A=\\left[\\begin{matrix}1 & 0 & -1\\\\-3 & 2 & 3\\\\-1 & 3 & 0\\end{matrix}\\right]$, $B=\\left[\\begin{matrix}2 & 1\\\\0 & -1\\\\1 & 2\\end{matrix}\\right]$ y $C=\\left[\\begin{matrix}1 & -1 & 0\\\\1 & 0 & 1\\end{matrix}\\right]$. \n",
      "Encontrar si existe una matriz $X$ tal que $3\\cdot X + 2\\cdot A = B \\cdot C$. \n",
      "Encontrar si existe la matriz inversa de $A$, por determinantes\n",
      "$X = \\frac{1}{3}\\cdot (B \\cdot C - 2 \\cdot A)=\\frac{1}{3}\\left(\\left[\\begin{matrix}3 & -2 & 1\\\\-1 & 0 & -1\\\\3 & -1 & 2\\end{matrix}\\right]-\\left[\\begin{matrix}2 & 0 & -2\\\\-6 & 4 & 6\\\\-2 & 6 & 0\\end{matrix}\\right]\\right)=\\left[\\begin{matrix}\\frac{1}{3} & - \\frac{2}{3} & 1\\\\\\frac{5}{3} & - \\frac{4}{3} & - \\frac{7}{3}\\\\\\frac{5}{3} & - \\frac{7}{3} & \\frac{2}{3}\\end{matrix}\\right]$ \n",
      "$\\left[\\begin{matrix}1 & 0 & -1\\\\-3 & 2 & 3\\\\-1 & 3 & 0\\end{matrix}\\right]\\xrightarrow{traspuesta}\\left[\\begin{matrix}1 & -3 & -1\\\\0 & 2 & 3\\\\-1 & 3 & 0\\end{matrix}\\right]\\xrightarrow{adjunta}\\left[\\begin{matrix}-9 & -3 & 2\\\\-3 & -1 & 0\\\\-7 & -3 & 2\\end{matrix}\\right]\\xrightarrow{inversa}\\left[\\begin{matrix}\\frac{9}{2} & \\frac{3}{2} & -1\\\\\\frac{3}{2} & \\frac{1}{2} & 0\\\\\\frac{7}{2} & \\frac{3}{2} & -1\\end{matrix}\\right]$.\n"
     ]
    },
    {
     "data": {
      "text/plain": [
       "(None, None)"
      ]
     },
     "execution_count": 2,
     "metadata": {},
     "output_type": "execute_result"
    }
   ],
   "source": [
    "datos = [Matrix(3,3,[1,0,-1,-3,2,3,-1,3,0]), Matrix(3,2,[2,1,0,-1,1,2]),Matrix(2,3,[1,-1,0,1,0,1])]\n",
    "\n",
    "display(md(\"**Enunciado:**\"))\n",
    "\n",
    "enunciado = \"Dadas las matrices  $A=\"+ latex(datos[0]) +\"$, $B=\"+ latex(datos[1]) +\"$ y $C=\"+latex(datos[2]) +\"$. \\n\"\n",
    "enunciado += \"Encontrar si existe una matriz $X$ tal que $3\\cdot X + 2\\cdot A = B \\cdot C$. \\n\"\n",
    "enunciado += \"Encontrar si existe la matriz inversa de $A$, por determinantes\"\n",
    "\n",
    "\n",
    "display(md(enunciado))\n",
    "\n",
    "display(md(\"**Solución:**\"))\n",
    "\n",
    "A= datos[0]\n",
    "B= datos[1]\n",
    "C= datos[2]\n",
    "\n",
    "\n",
    "sol = r\"$X = \\frac{1}{3}\\cdot (B \\cdot C - 2 \\cdot A)=\"\n",
    "sol += r\"\\frac{1}{3}\\left(\"+latex(B*C)+\"-\"+latex(2*A)+r\"\\right)=\"+latex(((B*C-2*A)/3))+\"$ \\n\"\n",
    "\n",
    "sol += \"$\"+latex(A)+\"\\\\xrightarrow{traspuesta}\"+latex(A.T)\n",
    "sol += \"\\\\xrightarrow{adjunta}\"+latex((A).adjugate())\n",
    "sol += \"\\\\xrightarrow{inversa}\"+latex((A).inv())+\"$.\"\n",
    "\n",
    "\n",
    "display(md(sol))\n",
    "\n",
    "\n",
    "display(md(\"**Código Latex:**\"))\n",
    "\n",
    "print(enunciado), print(sol)\n",
    "\n",
    "\n",
    "\n"
   ]
  },
  {
   "cell_type": "markdown",
   "metadata": {},
   "source": [
    "## Ejercicio "
   ]
  },
  {
   "cell_type": "code",
   "execution_count": 3,
   "metadata": {},
   "outputs": [
    {
     "name": "stdout",
     "output_type": "stream",
     "text": [
      "\\left[\\begin{matrix}k & 0 & k\\\\0 & k + 2 & 0\\\\1 & 1 & k + 2\\end{matrix}\\right]\n"
     ]
    },
    {
     "data": {
      "text/markdown": [
       "**Enunciado:**"
      ],
      "text/plain": [
       "<IPython.core.display.Markdown object>"
      ]
     },
     "metadata": {},
     "output_type": "display_data"
    },
    {
     "data": {
      "text/markdown": [
       "Dada la matriz: $$A=\\left[\\begin{matrix}k & 0 & k\\\\0 & k + 2 & 0\\\\1 & 1 & k + 2\\end{matrix}\\right]$$\n",
       "Determine el rango de A según los diferentes valores de k \n",
       "Determine la inversa de A para k=1"
      ],
      "text/plain": [
       "<IPython.core.display.Markdown object>"
      ]
     },
     "metadata": {},
     "output_type": "display_data"
    },
    {
     "data": {
      "text/markdown": [
       "**Solución:**"
      ],
      "text/plain": [
       "<IPython.core.display.Markdown object>"
      ]
     },
     "metadata": {},
     "output_type": "display_data"
    },
    {
     "data": {
      "text/markdown": [
       "El único menor es el propio determinante $\\to\\left|\\begin{matrix}k & 0 & k\\\\0 & k + 2 & 0\\\\1 & 1 & k + 2\\end{matrix}\\right|=k \\left(k + 1\\right) \\left(k + 2\\right)\\to k\\neq\\left[ -2, \\  -1, \\  0\\right]$ rango será 3 \\\\ \n",
       "\\\\ caso k=-2: \\\\ $B=\\left[\\begin{matrix}-2 & 0 & -2\\\\0 & 0 & 0\\\\1 & 1 & 0\\end{matrix}\\right] \\to ran(B)=2$. \n",
       "\\\\ caso k=-1: \\\\ $B=\\left[\\begin{matrix}-1 & 0 & -1\\\\0 & 1 & 0\\\\1 & 1 & 1\\end{matrix}\\right] \\to ran(B)=2$. \n",
       "\\\\ caso k=0: \\\\ $B=\\left[\\begin{matrix}0 & 0 & 0\\\\0 & 2 & 0\\\\1 & 1 & 2\\end{matrix}\\right] \\to ran(B)=2$. \n",
       "$\\left[\\begin{matrix}1 & 0 & 1\\\\0 & 3 & 0\\\\1 & 1 & 3\\end{matrix}\\right]\\xrightarrow{traspuesta}\\left[\\begin{matrix}1 & 0 & 1\\\\0 & 3 & 1\\\\1 & 0 & 3\\end{matrix}\\right]\\xrightarrow{adjunta}\\left[\\begin{matrix}9 & 1 & -3\\\\0 & 2 & 0\\\\-3 & -1 & 3\\end{matrix}\\right]\\xrightarrow{inversa}\\left[\\begin{matrix}\\frac{3}{2} & \\frac{1}{6} & - \\frac{1}{2}\\\\0 & \\frac{1}{3} & 0\\\\- \\frac{1}{2} & - \\frac{1}{6} & \\frac{1}{2}\\end{matrix}\\right]$."
      ],
      "text/plain": [
       "<IPython.core.display.Markdown object>"
      ]
     },
     "metadata": {},
     "output_type": "display_data"
    },
    {
     "data": {
      "text/markdown": [
       "**Código Latex:**"
      ],
      "text/plain": [
       "<IPython.core.display.Markdown object>"
      ]
     },
     "metadata": {},
     "output_type": "display_data"
    },
    {
     "name": "stdout",
     "output_type": "stream",
     "text": [
      "Dada la matriz: $$A=\\left[\\begin{matrix}k & 0 & k\\\\0 & k + 2 & 0\\\\1 & 1 & k + 2\\end{matrix}\\right]$$\n",
      "Determine el rango de A según los diferentes valores de k \n",
      "Determine la inversa de A para k=1\n",
      "El único menor es el propio determinante $\\to\\left|\\begin{matrix}k & 0 & k\\\\0 & k + 2 & 0\\\\1 & 1 & k + 2\\end{matrix}\\right|=k \\left(k + 1\\right) \\left(k + 2\\right)\\to k\\neq\\left[ -2, \\  -1, \\  0\\right]$ rango será 3 \\\\ \n",
      "\\\\ caso k=-2: \\\\ $B=\\left[\\begin{matrix}-2 & 0 & -2\\\\0 & 0 & 0\\\\1 & 1 & 0\\end{matrix}\\right] \\to ran(B)=2$. \n",
      "\\\\ caso k=-1: \\\\ $B=\\left[\\begin{matrix}-1 & 0 & -1\\\\0 & 1 & 0\\\\1 & 1 & 1\\end{matrix}\\right] \\to ran(B)=2$. \n",
      "\\\\ caso k=0: \\\\ $B=\\left[\\begin{matrix}0 & 0 & 0\\\\0 & 2 & 0\\\\1 & 1 & 2\\end{matrix}\\right] \\to ran(B)=2$. \n",
      "$\\left[\\begin{matrix}1 & 0 & 1\\\\0 & 3 & 0\\\\1 & 1 & 3\\end{matrix}\\right]\\xrightarrow{traspuesta}\\left[\\begin{matrix}1 & 0 & 1\\\\0 & 3 & 1\\\\1 & 0 & 3\\end{matrix}\\right]\\xrightarrow{adjunta}\\left[\\begin{matrix}9 & 1 & -3\\\\0 & 2 & 0\\\\-3 & -1 & 3\\end{matrix}\\right]\\xrightarrow{inversa}\\left[\\begin{matrix}\\frac{3}{2} & \\frac{1}{6} & - \\frac{1}{2}\\\\0 & \\frac{1}{3} & 0\\\\- \\frac{1}{2} & - \\frac{1}{6} & \\frac{1}{2}\\end{matrix}\\right]$.\n"
     ]
    },
    {
     "data": {
      "text/plain": [
       "(None, None)"
      ]
     },
     "execution_count": 3,
     "metadata": {},
     "output_type": "execute_result"
    }
   ],
   "source": [
    "print(latex(Matrix(3,3,[k,0,k,0,k+2,0,1,1,k+2])))\n",
    "\n",
    "datos = [Matrix(3,3,[k,0,k,0,k+2,0,1,1,k+2]), 1]\n",
    "\n",
    "display(md(\"**Enunciado:**\"))\n",
    "\n",
    "enunciado = \"Dada la matriz: $$A=\"+latex(datos[0])+\"$$\\n\"\n",
    "enunciado += \"Determine el rango de A según los diferentes valores de k \\n\"\n",
    "enunciado += \"Determine la inversa de A para k=\"+latex(datos[1])\n",
    "\n",
    "display(md(enunciado))\n",
    "\n",
    "display(md(\"**Solución:**\"))\n",
    "\n",
    "A= datos[0].subs(k,datos[1])\n",
    "\n",
    "sol = r\"El único menor es el propio determinante $\\to\"\n",
    "sol += latex(datos[0]).replace('[','|').replace(']','|')+\"=\"+latex(factor(datos[0].det()))\n",
    "sol += r\"\\to k\\neq\"+latex(solve(factor(datos[0].det())))+\"$ rango será 3 \\\\\\\\ \\n\"\n",
    "for i in  solve(factor(datos[0].det())):\n",
    "    sol += \"\\\\\\\\ caso k=\"+latex(i)+\": \\\\\\\\ \"\n",
    "    sol += \"$B=\"+latex(datos[0].subs(k,i))+\" \\\\to ran(B)=\"+latex(datos[0].subs(k,i).rank())+\"$. \\n\"\n",
    "\n",
    "sol += \"$\"+latex(A)+\"\\\\xrightarrow{traspuesta}\"+latex(A.T)\n",
    "sol += \"\\\\xrightarrow{adjunta}\"+latex((A).adjugate())\n",
    "sol += \"\\\\xrightarrow{inversa}\"+latex((A).inv())+\"$.\"\n",
    "\n",
    "display(md(sol))\n",
    "\n",
    "\n",
    "display(md(\"**Código Latex:**\"))\n",
    "\n",
    "print(enunciado), print(sol)\n"
   ]
  },
  {
   "cell_type": "markdown",
   "metadata": {},
   "source": [
    "## Ejercicio "
   ]
  },
  {
   "cell_type": "code",
   "execution_count": 117,
   "metadata": {},
   "outputs": [
    {
     "data": {
      "text/markdown": [
       "**Enunciado:**"
      ],
      "text/plain": [
       "<IPython.core.display.Markdown object>"
      ]
     },
     "metadata": {},
     "output_type": "display_data"
    },
    {
     "data": {
      "text/markdown": [
       "Dadas las matrices  $A=\\left[\\begin{matrix}-2 & -1 & 1\\\\-1 & 0 & 1\\end{matrix}\\right]$ y $B=\\left[\\begin{matrix}1 & -1\\\\2 & 0\\\\-2 & 1\\end{matrix}\\right]$. Calcula $C=B\\cdot A - A^t \\cdot B^t$ Halle la matriz $X$ siendo $A\\cdot B \\cdot X =\\left[\\begin{matrix}4\\\\2\\end{matrix}\\right]$"
      ],
      "text/plain": [
       "<IPython.core.display.Markdown object>"
      ]
     },
     "metadata": {},
     "output_type": "display_data"
    },
    {
     "data": {
      "text/markdown": [
       "**Solución:**"
      ],
      "text/plain": [
       "<IPython.core.display.Markdown object>"
      ]
     },
     "metadata": {},
     "output_type": "display_data"
    },
    {
     "data": {
      "text/markdown": [
       "$B\\cdot A=\\left[\\begin{matrix}-1 & -1 & 0\\\\-4 & -2 & 2\\\\3 & 2 & -1\\end{matrix}\\right]$ y $A^t\\cdot B^t=\\left[\\begin{matrix}-1 & -4 & 3\\\\-1 & -2 & 2\\\\0 & 2 & -1\\end{matrix}\\right]$.Luego $C=B\\cdot A - A^t \\cdot B^t=\\left[\\begin{matrix}0 & 3 & -3\\\\-3 & 0 & 0\\\\3 & 0 & 0\\end{matrix}\\right]$.$A \\cdot B = \\left[\\begin{matrix}-6 & 3\\\\-3 & 2\\end{matrix}\\right]$ y $(A \\cdot B)^{-1}=\\left[\\begin{matrix}- \\frac{2}{3} & 1\\\\-1 & 2\\end{matrix}\\right]\\xrightarrow{X} X=\\left[\\begin{matrix}- \\frac{2}{3} & 1\\\\-1 & 2\\end{matrix}\\right]\\cdot \\left[\\begin{matrix}4\\\\2\\end{matrix}\\right]=\\left[\\begin{matrix}- \\frac{2}{3}\\\\0\\end{matrix}\\right]$"
      ],
      "text/plain": [
       "<IPython.core.display.Markdown object>"
      ]
     },
     "metadata": {},
     "output_type": "display_data"
    },
    {
     "data": {
      "text/markdown": [
       "**Código Latex:**"
      ],
      "text/plain": [
       "<IPython.core.display.Markdown object>"
      ]
     },
     "metadata": {},
     "output_type": "display_data"
    },
    {
     "name": "stdout",
     "output_type": "stream",
     "text": [
      "Dadas las matrices  $A=\\left[\\begin{matrix}-2 & -1 & 1\\\\-1 & 0 & 1\\end{matrix}\\right]$ y $B=\\left[\\begin{matrix}1 & -1\\\\2 & 0\\\\-2 & 1\\end{matrix}\\right]$. Calcula $C=B\\cdot A - A^t \\cdot B^t$ Halle la matriz $X$ siendo $A\\cdot B \\cdot X =\\left[\\begin{matrix}4\\\\2\\end{matrix}\\right]$\n",
      "$B\\cdot A=\\left[\\begin{matrix}-1 & -1 & 0\\\\-4 & -2 & 2\\\\3 & 2 & -1\\end{matrix}\\right]$ y $A^t\\cdot B^t=\\left[\\begin{matrix}-1 & -4 & 3\\\\-1 & -2 & 2\\\\0 & 2 & -1\\end{matrix}\\right]$.Luego $C=B\\cdot A - A^t \\cdot B^t=\\left[\\begin{matrix}0 & 3 & -3\\\\-3 & 0 & 0\\\\3 & 0 & 0\\end{matrix}\\right]$.$A \\cdot B = \\left[\\begin{matrix}-6 & 3\\\\-3 & 2\\end{matrix}\\right]$ y $(A \\cdot B)^{-1}=\\left[\\begin{matrix}- \\frac{2}{3} & 1\\\\-1 & 2\\end{matrix}\\right]\\xrightarrow{X} X=\\left[\\begin{matrix}- \\frac{2}{3} & 1\\\\-1 & 2\\end{matrix}\\right]\\cdot \\left[\\begin{matrix}4\\\\2\\end{matrix}\\right]=\\left[\\begin{matrix}- \\frac{2}{3}\\\\0\\end{matrix}\\right]$\n"
     ]
    },
    {
     "data": {
      "text/plain": [
       "(None, None)"
      ]
     },
     "execution_count": 117,
     "metadata": {},
     "output_type": "execute_result"
    }
   ],
   "source": [
    "datos = [Matrix(2,3,[-2,-1,1,-1,0,1]), Matrix(3,2,[1,-1,2,0,-2,1]),Matrix(2,1,[4,2])]\n",
    "\n",
    "display(md(\"**Enunciado:**\"))\n",
    "\n",
    "enunciado = \"Dadas las matrices  $A=\"+ latex(datos[0]) +\"$ y $B=\"+ latex(datos[1]) +\"$.\"\n",
    "enunciado = enunciado + \" Calcula $C=B\\cdot A - A^t \\cdot B^t$\"\n",
    "enunciado = enunciado + \" Halle la matriz $X$ siendo $A\\cdot B \\cdot X =\"+latex(datos[2])+\"$\"\n",
    "\n",
    "\n",
    "display(md(enunciado))\n",
    "\n",
    "display(md(\"**Solución:**\"))\n",
    "\n",
    "A= datos[0]\n",
    "B= datos[1]\n",
    "C= B*A-A.T*B.T\n",
    "C\n",
    "\n",
    "sol = \"$B\\cdot A=\"+ latex(B*A) + \"$ y $A^t\\cdot B^t=\"+ latex(A.T*B.T)+\"$.Luego $C=B\\cdot A - A^t \\cdot B^t=\"+latex(C)+\"$.\"\n",
    "sol += \"$A \\cdot B = \"+latex(A*B)+\"$ y $(A \\cdot B)^{-1}=\"+latex((A*B).inv())\n",
    "sol += \"\\\\xrightarrow{X} X=\"+latex((A*B).inv())+\"\\cdot \"+latex(datos[2])+\"=\"+latex((A*B).inv()*datos[2])+\"$\"\n",
    "\n",
    "display(md(sol))\n",
    "\n",
    "\n",
    "display(md(\"**Código Latex:**\"))\n",
    "\n",
    "print(enunciado), print(sol)\n",
    "\n",
    "\n",
    "\n"
   ]
  },
  {
   "cell_type": "markdown",
   "metadata": {},
   "source": [
    "## Ejercicio 3"
   ]
  },
  {
   "cell_type": "code",
   "execution_count": 36,
   "metadata": {},
   "outputs": [
    {
     "data": {
      "text/markdown": [
       "**Enunciado:**"
      ],
      "text/plain": [
       "<IPython.core.display.Markdown object>"
      ]
     },
     "metadata": {},
     "output_type": "display_data"
    },
    {
     "data": {
      "text/markdown": [
       "Averigua para qué valores de $t$ la matriz $A=\\left[\\begin{matrix}1 & 0 & -1\\\\0 & t & 3\\\\4 & 1 & - t\\end{matrix}\\right]$ no tiene inversa. Si se puede, calcula la inversa para $t=2$"
      ],
      "text/plain": [
       "<IPython.core.display.Markdown object>"
      ]
     },
     "metadata": {},
     "output_type": "display_data"
    },
    {
     "data": {
      "text/markdown": [
       "**Solución:**"
      ],
      "text/plain": [
       "<IPython.core.display.Markdown object>"
      ]
     },
     "metadata": {},
     "output_type": "display_data"
    },
    {
     "data": {
      "text/markdown": [
       "$\\left|\\begin{matrix}1 & 0 & -1\\\\0 & t & 3\\\\4 & 1 & - t\\end{matrix}\\right|=- t^{2} + 4 t - 3$. El determinante se anula para $t=\\left[ 1, \\  3\\right]$ y por tanto no tiene inversa.Para t = 2$\\rightarrow  \\left|\\begin{matrix}1 & 0 & -1\\\\0 & 2 & 3\\\\4 & 1 & -2\\end{matrix}\\right|=1$."
      ],
      "text/plain": [
       "<IPython.core.display.Markdown object>"
      ]
     },
     "metadata": {},
     "output_type": "display_data"
    },
    {
     "data": {
      "text/markdown": [
       "**Código Latex:**"
      ],
      "text/plain": [
       "<IPython.core.display.Markdown object>"
      ]
     },
     "metadata": {},
     "output_type": "display_data"
    },
    {
     "name": "stdout",
     "output_type": "stream",
     "text": [
      "Averigua para qué valores de $t$ la matriz $A=\\left[\\begin{matrix}1 & 0 & -1\\\\0 & t & 3\\\\4 & 1 & - t\\end{matrix}\\right]$ no tiene inversa. Si se puede, calcula la inversa para $t=2$\n",
      "$\\left|\\begin{matrix}1 & 0 & -1\\\\0 & t & 3\\\\4 & 1 & - t\\end{matrix}\\right|=- t^{2} + 4 t - 3$. El determinante se anula para $t=\\left[ 1, \\  3\\right]$ y por tanto no tiene inversa.Para t = 2$\\rightarrow  \\left|\\begin{matrix}1 & 0 & -1\\\\0 & 2 & 3\\\\4 & 1 & -2\\end{matrix}\\right|=1$.\n"
     ]
    },
    {
     "data": {
      "image/png": "[encoded data removed]",
      "text/latex": [
       "$\\displaystyle - t^{2} + 4 t - 3$"
      ],
      "text/plain": [
       "   2          \n",
       "- t  + 4⋅t - 3"
      ]
     },
     "execution_count": 36,
     "metadata": {},
     "output_type": "execute_result"
    }
   ],
   "source": [
    "datos = [Matrix(3,3,[1,0,-1,0,t,3,4,1,-t]), 2]\n",
    "\n",
    "display(md(\"**Enunciado:**\"))\n",
    "\n",
    "enunciado = \"Averigua para qué valores de $t$ la matriz $A=\"+ latex(datos[0]) +\"$ no tiene inversa. Si se puede, calcula la inversa para $t=\"+latex(datos[1])+\"$\"\n",
    "\n",
    "display(md(enunciado))\n",
    "\n",
    "display(md(\"**Solución:**\"))\n",
    "\n",
    "A= datos[0]\n",
    "\n",
    "sol = \"$\"+latex(A).replace(\"[\",\"|\").replace(\"]\",\"|\")+\"=\"+latex(A.det())+\"$.\"\n",
    "sol += \" El determinante se anula para $t=\"+latex(solve(A.det()))+\"$ y por tanto no tiene inversa.\"\n",
    "sol += \"Para t = \"+latex(datos[1])+\"$\\\\rightarrow  \"+latex(A.subs(t,datos[1])).replace(\"[\",\"|\").replace(\"]\",\"|\")+\"=\"+latex(A.subs(t,datos[1]).det())+\"$.\"\n",
    "\n",
    "display(md(sol))\n",
    "\n",
    "\n",
    "display(md(\"**Código Latex:**\"))\n",
    "\n",
    "print(enunciado), print(sol)\n",
    "\n",
    "A.det()\n",
    "\n"
   ]
  },
  {
   "cell_type": "markdown",
   "metadata": {},
   "source": [
    "### Ejercicio\n"
   ]
  },
  {
   "cell_type": "code",
   "execution_count": 4,
   "metadata": {},
   "outputs": [
    {
     "data": {
      "text/markdown": [
       "**Enunciado:**"
      ],
      "text/plain": [
       "<IPython.core.display.Markdown object>"
      ]
     },
     "metadata": {},
     "output_type": "display_data"
    },
    {
     "data": {
      "text/markdown": [
       "Dada: $$A=\\left[\\begin{matrix}3 & 0 & 1\\\\0 & 0 & 0\\\\1 & 0 & 3\\end{matrix}\\right]$$ Calcula $$A-3\\cdot I$$ siendo $I$ la matriz identidad de orden 3. \n",
       "Determina los valores del parámetro $k$ para que la matriz: $$A-k\\cdot I$$ tenga inversa. \n",
       "Encuentra la matriz $X$ que verifica que:$$(A-3\\cdot I )\\cdot X = 2\\cdot I$$. \n"
      ],
      "text/plain": [
       "<IPython.core.display.Markdown object>"
      ]
     },
     "metadata": {},
     "output_type": "display_data"
    },
    {
     "data": {
      "text/markdown": [
       "**Solución:**"
      ],
      "text/plain": [
       "<IPython.core.display.Markdown object>"
      ]
     },
     "metadata": {},
     "output_type": "display_data"
    },
    {
     "data": {
      "text/markdown": [
       "$A-3\\cdot I=\\left[\\begin{matrix}0 & 0 & 1\\\\0 & -3 & 0\\\\1 & 0 & 0\\end{matrix}\\right]$. \n",
       "$A-k\\cdot I =\\left[\\begin{matrix}3 & 0 & 1\\\\0 & 0 & 0\\\\1 & 0 & 3\\end{matrix}\\right]-k \\cdot \\left[\\begin{matrix}1 & 0 & 0\\\\0 & 1 & 0\\\\0 & 0 & 1\\end{matrix}\\right]=\\left[\\begin{matrix}3 - k & 0 & 1\\\\0 & - k & 0\\\\1 & 0 & 3 - k\\end{matrix}\\right]$$\\to \\left|\\begin{matrix}3 - k & 0 & 1\\\\0 & - k & 0\\\\1 & 0 & 3 - k\\end{matrix}\\right|=- k \\left(k - 4\\right) \\left(k - 2\\right)$$\\to k \\neq\\left[ 0, \\  2, \\  4\\right]$. \n",
       "$(A-3\\cdot I )\\cdot X = 2\\cdot I \\to X=(A-3\\cdot I)^{-1}\\cdot 2I$\\\\Obtengamos las matrices que necesitamos: $(A-3\\cdot I )=\\left[\\begin{matrix}0 & 0 & 1\\\\0 & -3 & 0\\\\1 & 0 & 0\\end{matrix}\\right]$ y $\\left|\\begin{matrix}0 & 0 & 1\\\\0 & -3 & 0\\\\1 & 0 & 0\\end{matrix}\\right|=3$.$\\rightarrow$$\\left[\\begin{matrix}0 & 0 & 1\\\\0 & -3 & 0\\\\1 & 0 & 0\\end{matrix}\\right]\\xrightarrow{traspuesta}\\left[\\begin{matrix}0 & 0 & 1\\\\0 & -3 & 0\\\\1 & 0 & 0\\end{matrix}\\right]\\xrightarrow{adjunta}\\left[\\begin{matrix}0 & 0 & 3\\\\0 & -1 & 0\\\\3 & 0 & 0\\end{matrix}\\right]\\xrightarrow{inversa}\\left[\\begin{matrix}0 & 0 & 1\\\\0 & - \\frac{1}{3} & 0\\\\1 & 0 & 0\\end{matrix}\\right]$.\\\\Por tanto $X=\\left[\\begin{matrix}0 & 0 & 1\\\\0 & - \\frac{1}{3} & 0\\\\1 & 0 & 0\\end{matrix}\\right]\\cdot\\left[\\begin{matrix}2 & 0 & 0\\\\0 & 2 & 0\\\\0 & 0 & 2\\end{matrix}\\right]=\\left[\\begin{matrix}0 & 0 & 2\\\\0 & - \\frac{2}{3} & 0\\\\2 & 0 & 0\\end{matrix}\\right]$"
      ],
      "text/plain": [
       "<IPython.core.display.Markdown object>"
      ]
     },
     "metadata": {},
     "output_type": "display_data"
    },
    {
     "data": {
      "text/markdown": [
       "**Código Latex:**"
      ],
      "text/plain": [
       "<IPython.core.display.Markdown object>"
      ]
     },
     "metadata": {},
     "output_type": "display_data"
    },
    {
     "name": "stdout",
     "output_type": "stream",
     "text": [
      "Dada: $$A=\\left[\\begin{matrix}3 & 0 & 1\\\\0 & 0 & 0\\\\1 & 0 & 3\\end{matrix}\\right]$$ Calcula $$A-3\\cdot I$$ siendo $I$ la matriz identidad de orden 3. \n",
      "Determina los valores del parámetro $k$ para que la matriz: $$A-k\\cdot I$$ tenga inversa. \n",
      "Encuentra la matriz $X$ que verifica que:$$(A-3\\cdot I )\\cdot X = 2\\cdot I$$. \n",
      "\n",
      "$A-3\\cdot I=\\left[\\begin{matrix}0 & 0 & 1\\\\0 & -3 & 0\\\\1 & 0 & 0\\end{matrix}\\right]$. \n",
      "$A-k\\cdot I =\\left[\\begin{matrix}3 & 0 & 1\\\\0 & 0 & 0\\\\1 & 0 & 3\\end{matrix}\\right]-k \\cdot \\left[\\begin{matrix}1 & 0 & 0\\\\0 & 1 & 0\\\\0 & 0 & 1\\end{matrix}\\right]=\\left[\\begin{matrix}3 - k & 0 & 1\\\\0 & - k & 0\\\\1 & 0 & 3 - k\\end{matrix}\\right]$$\\to \\left|\\begin{matrix}3 - k & 0 & 1\\\\0 & - k & 0\\\\1 & 0 & 3 - k\\end{matrix}\\right|=- k \\left(k - 4\\right) \\left(k - 2\\right)$$\\to k \\neq\\left[ 0, \\  2, \\  4\\right]$. \n",
      "$(A-3\\cdot I )\\cdot X = 2\\cdot I \\to X=(A-3\\cdot I)^{-1}\\cdot 2I$\\\\Obtengamos las matrices que necesitamos: $(A-3\\cdot I )=\\left[\\begin{matrix}0 & 0 & 1\\\\0 & -3 & 0\\\\1 & 0 & 0\\end{matrix}\\right]$ y $\\left|\\begin{matrix}0 & 0 & 1\\\\0 & -3 & 0\\\\1 & 0 & 0\\end{matrix}\\right|=3$.$\\rightarrow$$\\left[\\begin{matrix}0 & 0 & 1\\\\0 & -3 & 0\\\\1 & 0 & 0\\end{matrix}\\right]\\xrightarrow{traspuesta}\\left[\\begin{matrix}0 & 0 & 1\\\\0 & -3 & 0\\\\1 & 0 & 0\\end{matrix}\\right]\\xrightarrow{adjunta}\\left[\\begin{matrix}0 & 0 & 3\\\\0 & -1 & 0\\\\3 & 0 & 0\\end{matrix}\\right]\\xrightarrow{inversa}\\left[\\begin{matrix}0 & 0 & 1\\\\0 & - \\frac{1}{3} & 0\\\\1 & 0 & 0\\end{matrix}\\right]$.\\\\Por tanto $X=\\left[\\begin{matrix}0 & 0 & 1\\\\0 & - \\frac{1}{3} & 0\\\\1 & 0 & 0\\end{matrix}\\right]\\cdot\\left[\\begin{matrix}2 & 0 & 0\\\\0 & 2 & 0\\\\0 & 0 & 2\\end{matrix}\\right]=\\left[\\begin{matrix}0 & 0 & 2\\\\0 & - \\frac{2}{3} & 0\\\\2 & 0 & 0\\end{matrix}\\right]$\n"
     ]
    },
    {
     "data": {
      "text/plain": [
       "(None, None)"
      ]
     },
     "execution_count": 4,
     "metadata": {},
     "output_type": "execute_result"
    }
   ],
   "source": [
    "datos = [Matrix(3,3,[3,0,1,0,0,0,1,0,3]),3]\n",
    "\n",
    "display(md(\"**Enunciado:**\"))\n",
    "\n",
    "enunciado = \"Dada: $$A=\"+ latex(datos[0]) +\"$$ Calcula $$A-\"+latex(datos[1])+\"\\cdot I$$ siendo $I$ la matriz identidad de orden 3. \\n\"\n",
    "enunciado += \"Determina los valores del parámetro $k$ para que la matriz: $$A-k\\cdot I$$ tenga inversa. \\n\"\n",
    "enunciado += \"Encuentra la matriz $X$ que verifica que:\"\n",
    "enunciado += \"$$(A-\"+latex(datos[1])+\"\\cdot I )\\cdot X = 2\\cdot I$$. \\n\"\n",
    "\n",
    "display(md(enunciado))\n",
    "\n",
    "display(md(\"**Solución:**\"))\n",
    "\n",
    "A= datos[0]\n",
    "\n",
    "sol = \"$A-\"+latex(datos[1])+\"\\cdot I=\"+latex(A-datos[1]*eye(3))+\"$. \\n\"\n",
    "\n",
    "sol += \"$A-k\\cdot I =\"+latex(A)+\"-k \\cdot \"+latex(eye(3))+\"=\"+latex(A-k*eye(3))+\"$\"\n",
    "sol += \"$\\\\to \"+ latex(A-k*eye(3)).replace('[','|').replace(']','|')+\"=\"+latex(factor((A-k*eye(3)).det()))+\"$\"\n",
    "sol += \"$\\\\to k \\\\neq\"+latex(solve(factor((A-k*eye(3)).det())),k)+\"$. \\n\"\n",
    "\n",
    "sol += \"$(A-\"+latex(datos[1])+\"\\cdot I )\\cdot X = 2\\cdot I \\\\to X=(A-\"+latex(datos[1])+\"\\cdot I)^{-1}\\cdot 2I$\"\n",
    "sol += \"\\\\\\\\Obtengamos las matrices que necesitamos: $(A-\"+latex(datos[1])+\"\\cdot I )=\"+latex(A-datos[1]*eye(3))+\"$ y $\"\n",
    "sol += latex(A-datos[1]*eye(3)).replace('[','|').replace(']','|')+\"=\"+latex((A-datos[1]*eye(3)).det())+\"$.\"\n",
    "sol += \"$\\\\rightarrow$\"\n",
    "sol += \"$\"+latex(A-datos[1]*eye(3))+\"\\\\xrightarrow{traspuesta}\"+latex((A-datos[1]*eye(3)).T)\n",
    "sol += \"\\\\xrightarrow{adjunta}\"+latex((A-datos[1]*eye(3)).adjugate())\n",
    "sol += \"\\\\xrightarrow{inversa}\"+latex((A-datos[1]*eye(3)).inv())+\"$.\"\n",
    "sol += \"\\\\\\\\Por tanto $X=\"+latex((A-datos[1]*eye(3)).inv())+\"\\cdot\"+latex(2*eye(3))\n",
    "sol += \"=\"+latex((A-datos[1]*eye(3)).inv()*2*eye(3))+\"$\"\n",
    "\n",
    "\n",
    "#latex(A-datos[1]*eye(3))\n",
    "\n",
    "#\"+\"\\\\xrightarrow{hello}$. \\n\"\n",
    "\n",
    "\n",
    "display(md(sol))\n",
    "\n",
    "\n",
    "display(md(\"**Código Latex:**\"))\n",
    "\n",
    "print(enunciado), print(sol)\n",
    "\n",
    "\n",
    "\n"
   ]
  },
  {
   "cell_type": "code",
   "execution_count": 5,
   "metadata": {},
   "outputs": [
    {
     "data": {
      "text/markdown": [
       "**Enunciado:**"
      ],
      "text/plain": [
       "<IPython.core.display.Markdown object>"
      ]
     },
     "metadata": {},
     "output_type": "display_data"
    },
    {
     "data": {
      "text/markdown": [
       "Dada: $$A=\\left[\\begin{matrix}2 & 0 & 1\\\\0 & 0 & 0\\\\1 & 0 & 2\\end{matrix}\\right]$$ Calcula $$A-2\\cdot I$$ siendo $I$ la matriz identidad de orden 3. \n",
       "Determina los valores del parámetro $k$ para que la matriz: $$A-k\\cdot I$$ tenga inversa. \n",
       "Encuentra la matriz $X$ que verifica que:$$(A-2\\cdot I )\\cdot X = 2\\cdot I$$. \n"
      ],
      "text/plain": [
       "<IPython.core.display.Markdown object>"
      ]
     },
     "metadata": {},
     "output_type": "display_data"
    },
    {
     "data": {
      "text/markdown": [
       "**Solución:**"
      ],
      "text/plain": [
       "<IPython.core.display.Markdown object>"
      ]
     },
     "metadata": {},
     "output_type": "display_data"
    },
    {
     "data": {
      "text/markdown": [
       "$A-2\\cdot I=\\left[\\begin{matrix}0 & 0 & 1\\\\0 & -2 & 0\\\\1 & 0 & 0\\end{matrix}\\right]$. \n",
       "$A-k\\cdot I =\\left[\\begin{matrix}2 & 0 & 1\\\\0 & 0 & 0\\\\1 & 0 & 2\\end{matrix}\\right]-k \\cdot \\left[\\begin{matrix}1 & 0 & 0\\\\0 & 1 & 0\\\\0 & 0 & 1\\end{matrix}\\right]=\\left[\\begin{matrix}2 - k & 0 & 1\\\\0 & - k & 0\\\\1 & 0 & 2 - k\\end{matrix}\\right]$$\\to \\left|\\begin{matrix}2 - k & 0 & 1\\\\0 & - k & 0\\\\1 & 0 & 2 - k\\end{matrix}\\right|=- k \\left(k - 3\\right) \\left(k - 1\\right)$$\\to k \\neq\\left[ 0, \\  1, \\  3\\right]$. \n",
       "$(A-2\\cdot I )\\cdot X = 2\\cdot I \\to X=(A-2\\cdot I)^{-1}\\cdot 2I$\\\\Obtengamos las matrices que necesitamos: $(A-2\\cdot I )=\\left[\\begin{matrix}0 & 0 & 1\\\\0 & -2 & 0\\\\1 & 0 & 0\\end{matrix}\\right]$ y $\\left|\\begin{matrix}0 & 0 & 1\\\\0 & -2 & 0\\\\1 & 0 & 0\\end{matrix}\\right|=2$.$\\rightarrow$$\\left[\\begin{matrix}0 & 0 & 1\\\\0 & -2 & 0\\\\1 & 0 & 0\\end{matrix}\\right]\\xrightarrow{traspuesta}\\left[\\begin{matrix}0 & 0 & 1\\\\0 & -2 & 0\\\\1 & 0 & 0\\end{matrix}\\right]\\xrightarrow{adjunta}\\left[\\begin{matrix}0 & 0 & 2\\\\0 & -1 & 0\\\\2 & 0 & 0\\end{matrix}\\right]\\xrightarrow{inversa}\\left[\\begin{matrix}0 & 0 & 1\\\\0 & - \\frac{1}{2} & 0\\\\1 & 0 & 0\\end{matrix}\\right]$.\\\\Por tanto $X=\\left[\\begin{matrix}0 & 0 & 1\\\\0 & - \\frac{1}{2} & 0\\\\1 & 0 & 0\\end{matrix}\\right]\\cdot\\left[\\begin{matrix}2 & 0 & 0\\\\0 & 2 & 0\\\\0 & 0 & 2\\end{matrix}\\right]=\\left[\\begin{matrix}0 & 0 & 2\\\\0 & -1 & 0\\\\2 & 0 & 0\\end{matrix}\\right]$"
      ],
      "text/plain": [
       "<IPython.core.display.Markdown object>"
      ]
     },
     "metadata": {},
     "output_type": "display_data"
    },
    {
     "data": {
      "text/markdown": [
       "**Código Latex:**"
      ],
      "text/plain": [
       "<IPython.core.display.Markdown object>"
      ]
     },
     "metadata": {},
     "output_type": "display_data"
    },
    {
     "name": "stdout",
     "output_type": "stream",
     "text": [
      "Dada: $$A=\\left[\\begin{matrix}2 & 0 & 1\\\\0 & 0 & 0\\\\1 & 0 & 2\\end{matrix}\\right]$$ Calcula $$A-2\\cdot I$$ siendo $I$ la matriz identidad de orden 3. \n",
      "Determina los valores del parámetro $k$ para que la matriz: $$A-k\\cdot I$$ tenga inversa. \n",
      "Encuentra la matriz $X$ que verifica que:$$(A-2\\cdot I )\\cdot X = 2\\cdot I$$. \n",
      "\n",
      "$A-2\\cdot I=\\left[\\begin{matrix}0 & 0 & 1\\\\0 & -2 & 0\\\\1 & 0 & 0\\end{matrix}\\right]$. \n",
      "$A-k\\cdot I =\\left[\\begin{matrix}2 & 0 & 1\\\\0 & 0 & 0\\\\1 & 0 & 2\\end{matrix}\\right]-k \\cdot \\left[\\begin{matrix}1 & 0 & 0\\\\0 & 1 & 0\\\\0 & 0 & 1\\end{matrix}\\right]=\\left[\\begin{matrix}2 - k & 0 & 1\\\\0 & - k & 0\\\\1 & 0 & 2 - k\\end{matrix}\\right]$$\\to \\left|\\begin{matrix}2 - k & 0 & 1\\\\0 & - k & 0\\\\1 & 0 & 2 - k\\end{matrix}\\right|=- k \\left(k - 3\\right) \\left(k - 1\\right)$$\\to k \\neq\\left[ 0, \\  1, \\  3\\right]$. \n",
      "$(A-2\\cdot I )\\cdot X = 2\\cdot I \\to X=(A-2\\cdot I)^{-1}\\cdot 2I$\\\\Obtengamos las matrices que necesitamos: $(A-2\\cdot I )=\\left[\\begin{matrix}0 & 0 & 1\\\\0 & -2 & 0\\\\1 & 0 & 0\\end{matrix}\\right]$ y $\\left|\\begin{matrix}0 & 0 & 1\\\\0 & -2 & 0\\\\1 & 0 & 0\\end{matrix}\\right|=2$.$\\rightarrow$$\\left[\\begin{matrix}0 & 0 & 1\\\\0 & -2 & 0\\\\1 & 0 & 0\\end{matrix}\\right]\\xrightarrow{traspuesta}\\left[\\begin{matrix}0 & 0 & 1\\\\0 & -2 & 0\\\\1 & 0 & 0\\end{matrix}\\right]\\xrightarrow{adjunta}\\left[\\begin{matrix}0 & 0 & 2\\\\0 & -1 & 0\\\\2 & 0 & 0\\end{matrix}\\right]\\xrightarrow{inversa}\\left[\\begin{matrix}0 & 0 & 1\\\\0 & - \\frac{1}{2} & 0\\\\1 & 0 & 0\\end{matrix}\\right]$.\\\\Por tanto $X=\\left[\\begin{matrix}0 & 0 & 1\\\\0 & - \\frac{1}{2} & 0\\\\1 & 0 & 0\\end{matrix}\\right]\\cdot\\left[\\begin{matrix}2 & 0 & 0\\\\0 & 2 & 0\\\\0 & 0 & 2\\end{matrix}\\right]=\\left[\\begin{matrix}0 & 0 & 2\\\\0 & -1 & 0\\\\2 & 0 & 0\\end{matrix}\\right]$\n"
     ]
    },
    {
     "data": {
      "text/plain": [
       "(None, None)"
      ]
     },
     "execution_count": 5,
     "metadata": {},
     "output_type": "execute_result"
    }
   ],
   "source": [
    "datos = [Matrix(3,3,[2,0,1,0,0,0,1,0,2]),2]\n",
    "\n",
    "display(md(\"**Enunciado:**\"))\n",
    "\n",
    "enunciado = \"Dada: $$A=\"+ latex(datos[0]) +\"$$ Calcula $$A-\"+latex(datos[1])+\"\\cdot I$$ siendo $I$ la matriz identidad de orden 3. \\n\"\n",
    "enunciado += \"Determina los valores del parámetro $k$ para que la matriz: $$A-k\\cdot I$$ tenga inversa. \\n\"\n",
    "enunciado += \"Encuentra la matriz $X$ que verifica que:\"\n",
    "enunciado += \"$$(A-\"+latex(datos[1])+\"\\cdot I )\\cdot X = 2\\cdot I$$. \\n\"\n",
    "\n",
    "display(md(enunciado))\n",
    "\n",
    "display(md(\"**Solución:**\"))\n",
    "\n",
    "A= datos[0]\n",
    "\n",
    "sol = \"$A-\"+latex(datos[1])+\"\\cdot I=\"+latex(A-datos[1]*eye(3))+\"$. \\n\"\n",
    "\n",
    "sol += \"$A-k\\cdot I =\"+latex(A)+\"-k \\cdot \"+latex(eye(3))+\"=\"+latex(A-k*eye(3))+\"$\"\n",
    "sol += \"$\\\\to \"+ latex(A-k*eye(3)).replace('[','|').replace(']','|')+\"=\"+latex(factor((A-k*eye(3)).det()))+\"$\"\n",
    "sol += \"$\\\\to k \\\\neq\"+latex(solve(factor((A-k*eye(3)).det())),k)+\"$. \\n\"\n",
    "\n",
    "sol += \"$(A-\"+latex(datos[1])+\"\\cdot I )\\cdot X = 2\\cdot I \\\\to X=(A-\"+latex(datos[1])+\"\\cdot I)^{-1}\\cdot 2I$\"\n",
    "sol += \"\\\\\\\\Obtengamos las matrices que necesitamos: $(A-\"+latex(datos[1])+\"\\cdot I )=\"+latex(A-datos[1]*eye(3))+\"$ y $\"\n",
    "sol += latex(A-datos[1]*eye(3)).replace('[','|').replace(']','|')+\"=\"+latex((A-datos[1]*eye(3)).det())+\"$.\"\n",
    "sol += \"$\\\\rightarrow$\"\n",
    "sol += \"$\"+latex(A-datos[1]*eye(3))+\"\\\\xrightarrow{traspuesta}\"+latex((A-datos[1]*eye(3)).T)\n",
    "sol += \"\\\\xrightarrow{adjunta}\"+latex((A-datos[1]*eye(3)).adjugate())\n",
    "sol += \"\\\\xrightarrow{inversa}\"+latex((A-datos[1]*eye(3)).inv())+\"$.\"\n",
    "sol += \"\\\\\\\\Por tanto $X=\"+latex((A-datos[1]*eye(3)).inv())+\"\\cdot\"+latex(2*eye(3))\n",
    "sol += \"=\"+latex((A-datos[1]*eye(3)).inv()*2*eye(3))+\"$\"\n",
    "\n",
    "#latex(A-datos[1]*eye(3))\n",
    "\n",
    "#\"+\"\\\\xrightarrow{hello}$. \\n\"\n",
    "\n",
    "\n",
    "display(md(sol))\n",
    "\n",
    "\n",
    "display(md(\"**Código Latex:**\"))\n",
    "\n",
    "print(enunciado), print(sol)\n",
    "\n",
    "\n",
    "\n"
   ]
  }
 ],
 "metadata": {
  "colab": {
   "collapsed_sections": [],
   "include_colab_link": true,
   "name": "examen1.ipynb",
   "provenance": []
  },
  "kernelspec": {
   "display_name": "Python 3",
   "language": "python",
   "name": "python3"
  },
  "language_info": {
   "codemirror_mode": {
    "name": "ipython",
    "version": 3
   },
   "file_extension": ".py",
   "mimetype": "text/x-python",
   "name": "python",
   "nbconvert_exporter": "python",
   "pygments_lexer": "ipython3",
   "version": "3.6.8"
  }
 },
 "nbformat": 4,
 "nbformat_minor": 1
}
