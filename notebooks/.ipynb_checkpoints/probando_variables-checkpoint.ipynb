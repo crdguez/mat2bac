{
 "cells": [
  {
   "cell_type": "code",
   "execution_count": 0,
   "metadata": {
    "colab": {
     "base_uri": "https://localhost:8080/",
     "height": 182
    },
    "colab_type": "code",
    "executionInfo": {
     "elapsed": 15471,
     "status": "ok",
     "timestamp": 1578579044562,
     "user": {
      "displayName": "CARLOS RODRÍGUEZ JASO",
      "photoUrl": "https://lh3.googleusercontent.com/a-/AAuE7mAd37YufNT1TN2vHQmY22TABwnNaoG-ebvDtAG4=s64",
      "userId": "17709739924633349187"
     },
     "user_tz": -60
    },
    "id": "FjnHLoSQna8G",
    "outputId": "13b88ab1-cf32-47a6-9f96-20aa84cc7769"
   },
   "outputs": [
    {
     "name": "stdout",
     "output_type": "stream",
     "text": [
      "Collecting sympy==1.4\n",
      "\u001b[?25l  Downloading https://files.pythonhosted.org/packages/21/21/f4105795ca7f35c541d82c5b06be684dd2f5cb4f508fb487cd7aea4de776/sympy-1.4-py2.py3-none-any.whl (5.3MB)\n",
      "\u001b[K     |████████████████████████████████| 5.3MB 4.2MB/s \n",
      "\u001b[?25hRequirement already satisfied: mpmath>=0.19 in /usr/local/lib/python3.6/dist-packages (from sympy==1.4) (1.1.0)\n",
      "Installing collected packages: sympy\n",
      "  Found existing installation: sympy 1.1.1\n",
      "    Uninstalling sympy-1.1.1:\n",
      "      Successfully uninstalled sympy-1.1.1\n",
      "Successfully installed sympy-1.4\n"
     ]
    }
   ],
   "source": [
    "! pip install sympy==1.4"
   ]
  },
  {
   "cell_type": "code",
   "execution_count": 1,
   "metadata": {
    "colab": {},
    "colab_type": "code",
    "id": "KveWap4UpMBj"
   },
   "outputs": [],
   "source": [
    "from sympy import *\n",
    "#init_session()\n",
    "init_printing(use_latex=False)"
   ]
  },
  {
   "cell_type": "code",
   "execution_count": 2,
   "metadata": {
    "colab": {},
    "colab_type": "code",
    "id": "7-kGsMaEpXi1"
   },
   "outputs": [],
   "source": [
    "from sympy.stats import P,Normal, Binomial, Die\n",
    "\n",
    "X = Binomial('X',5,0.5)\n",
    "\n",
    "Z = Normal('Z',0,1)"
   ]
  },
  {
   "cell_type": "code",
   "execution_count": 6,
   "metadata": {
    "colab": {
     "base_uri": "https://localhost:8080/",
     "height": 35
    },
    "colab_type": "code",
    "executionInfo": {
     "elapsed": 810,
     "status": "ok",
     "timestamp": 1578647801596,
     "user": {
      "displayName": "CARLOS RODRÍGUEZ JASO",
      "photoUrl": "https://lh3.googleusercontent.com/a-/AAuE7mAd37YufNT1TN2vHQmY22TABwnNaoG-ebvDtAG4=s64",
      "userId": "17709739924633349187"
     },
     "user_tz": -60
    },
    "id": "_cfxekAyptMO",
    "outputId": "150f8354-1526-4afd-8d9f-264dd6905edb"
   },
   "outputs": [
    {
     "data": {
      "text/plain": [
       "0.10935"
      ]
     },
     "execution_count": 6,
     "metadata": {
      "tags": []
     },
     "output_type": "execute_result"
    }
   ],
   "source": [
    "1-P(Z<=1.23).evalf().round(5)"
   ]
  },
  {
   "cell_type": "code",
   "execution_count": 9,
   "metadata": {
    "colab": {
     "base_uri": "https://localhost:8080/",
     "height": 35
    },
    "colab_type": "code",
    "executionInfo": {
     "elapsed": 1201,
     "status": "ok",
     "timestamp": 1578647944202,
     "user": {
      "displayName": "CARLOS RODRÍGUEZ JASO",
      "photoUrl": "https://lh3.googleusercontent.com/a-/AAuE7mAd37YufNT1TN2vHQmY22TABwnNaoG-ebvDtAG4=s64",
      "userId": "17709739924633349187"
     },
     "user_tz": -60
    },
    "id": "mznELePDvdgD",
    "outputId": "33e8a000-320c-4573-e727-88feb5abfa6c"
   },
   "outputs": [
    {
     "data": {
      "text/plain": [
       "(0.01578, 0.01578, 0.98422)"
      ]
     },
     "execution_count": 9,
     "metadata": {
      "tags": []
     },
     "output_type": "execute_result"
    }
   ],
   "source": [
    "P(Z < -2.15).evalf().round(5), 1 - P(Z < 2.15).evalf().round(5), P(Z < 2.15).evalf().round(5)"
   ]
  },
  {
   "cell_type": "code",
   "execution_count": 11,
   "metadata": {
    "colab": {
     "base_uri": "https://localhost:8080/",
     "height": 35
    },
    "colab_type": "code",
    "executionInfo": {
     "elapsed": 1724,
     "status": "ok",
     "timestamp": 1578648588214,
     "user": {
      "displayName": "CARLOS RODRÍGUEZ JASO",
      "photoUrl": "https://lh3.googleusercontent.com/a-/AAuE7mAd37YufNT1TN2vHQmY22TABwnNaoG-ebvDtAG4=s64",
      "userId": "17709739924633349187"
     },
     "user_tz": -60
    },
    "id": "9Vv4vQCEx_8Z",
    "outputId": "38a85af4-9f4a-4b13-8682-1c4038b1aee6"
   },
   "outputs": [
    {
     "data": {
      "text/plain": [
       "(0.90223, 0.90223, 0.99903, 0.9032)"
      ]
     },
     "execution_count": 11,
     "metadata": {
      "tags": []
     },
     "output_type": "execute_result"
    }
   ],
   "source": [
    "P(Z < 3.1).evalf().round(5) -1 + P(Z < 1.3).evalf().round(5), P(And(Z < 3.1, Z>-1.3)).evalf().round(5), P(Z < 3.1).evalf().round(5), P(Z < 1.3).evalf().round(5)"
   ]
  },
  {
   "cell_type": "code",
   "execution_count": 19,
   "metadata": {
    "colab": {
     "base_uri": "https://localhost:8080/",
     "height": 35
    },
    "colab_type": "code",
    "executionInfo": {
     "elapsed": 554,
     "status": "ok",
     "timestamp": 1578651704839,
     "user": {
      "displayName": "CARLOS RODRÍGUEZ JASO",
      "photoUrl": "https://lh3.googleusercontent.com/a-/AAuE7mAd37YufNT1TN2vHQmY22TABwnNaoG-ebvDtAG4=s64",
      "userId": "17709739924633349187"
     },
     "user_tz": -60
    },
    "id": "waxFrd_xyy0b",
    "outputId": "19f8e56f-2cec-4967-a74f-ada69ddd1888"
   },
   "outputs": [
    {
     "data": {
      "text/plain": [
       "1.0364333894937898"
      ]
     },
     "execution_count": 19,
     "metadata": {
      "tags": []
     },
     "output_type": "execute_result"
    }
   ],
   "source": [
    "from scipy.stats import norm\n",
    "\n",
    "z=norm(0,1)\n",
    "\n",
    "z.ppf(0.85)\n"
   ]
  },
  {
   "cell_type": "code",
   "execution_count": 6,
   "metadata": {
    "colab": {},
    "colab_type": "code",
    "id": "5SpTz6mF5uvp"
   },
   "outputs": [
    {
     "data": {
      "text/plain": [
       "1/2"
      ]
     },
     "execution_count": 6,
     "metadata": {},
     "output_type": "execute_result"
    }
   ],
   "source": [
    "D1 = Die('D1')\n",
    "P(D1<4)"
   ]
  },
  {
   "cell_type": "code",
   "execution_count": null,
   "metadata": {},
   "outputs": [],
   "source": [
    "D1 = Die"
   ]
  }
 ],
 "metadata": {
  "colab": {
   "name": "probando_variables.ipynb",
   "provenance": []
  },
  "kernelspec": {
   "display_name": "Python 3",
   "language": "python",
   "name": "python3"
  },
  "language_info": {
   "codemirror_mode": {
    "name": "ipython",
    "version": 3
   },
   "file_extension": ".py",
   "mimetype": "text/x-python",
   "name": "python",
   "nbconvert_exporter": "python",
   "pygments_lexer": "ipython3",
   "version": "3.6.8"
  }
 },
 "nbformat": 4,
 "nbformat_minor": 1
}
