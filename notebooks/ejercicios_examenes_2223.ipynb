{
 "cells": [
  {
   "cell_type": "code",
   "execution_count": 1,
   "id": "089f94fa",
   "metadata": {},
   "outputs": [
    {
     "name": "stdout",
     "output_type": "stream",
     "text": [
      "IPython console for SymPy 1.8 (Python 3.6.13-64-bit) (ground types: gmpy)\n",
      "\n",
      "These commands were executed:\n",
      ">>> from __future__ import division\n",
      ">>> from sympy import *\n",
      ">>> x, y, z, t = symbols('x y z t')\n",
      ">>> k, m, n = symbols('k m n', integer=True)\n",
      ">>> f, g, h = symbols('f g h', cls=Function)\n",
      ">>> init_printing()\n",
      "\n",
      "Documentation can be found at https://docs.sympy.org/1.8/\n",
      "\n"
     ]
    }
   ],
   "source": [
    "from sympy import *\n",
    "init_session()"
   ]
  },
  {
   "cell_type": "code",
   "execution_count": 2,
   "id": "7c7aaf55",
   "metadata": {},
   "outputs": [],
   "source": [
    "from sympy.parsing.latex import parse_latex"
   ]
  },
  {
   "cell_type": "code",
   "execution_count": 28,
   "id": "bf6da141",
   "metadata": {},
   "outputs": [
    {
     "data": {
      "image/png": "[encoded data removed]",
      "text/latex": [
       "$\\displaystyle \\lim_{x \\to 1}\\left(\\frac{1 - \\sqrt{2 - x}}{x^{2} - 3 x + 2}\\right)$"
      ],
      "text/plain": [
       "    ⎛      _______⎞\n",
       "    ⎜1 - ╲╱ 2 - x ⎟\n",
       "lim ⎜─────────────⎟\n",
       "x─→1⎜  2          ⎟\n",
       "    ⎝ x  - 3⋅x + 2⎠"
      ]
     },
     "metadata": {},
     "output_type": "display_data"
    },
    {
     "data": {
      "image/png": "[encoded data removed]",
      "text/latex": [
       "$\\displaystyle - \\frac{1}{2}$"
      ],
      "text/plain": [
       "-1/2"
      ]
     },
     "metadata": {},
     "output_type": "display_data"
    },
    {
     "name": "stdout",
     "output_type": "stream",
     "text": [
      "\\lim_{x \\to 1}\\left(\\frac{1 - \\sqrt{2 - x}}{x^{2} - 3 x + 2}\\right)  sol:  - \\frac{1}{2}\n"
     ]
    },
    {
     "data": {
      "image/png": "[encoded data removed]",
      "text/latex": [
       "$\\displaystyle \\lim_{x \\to \\infty} \\left(\\frac{x + 5}{x - 1}\\right)^{2 x + 1}$"
      ],
      "text/plain": [
       "           2⋅x + 1\n",
       "    ⎛x + 5⎞       \n",
       "lim ⎜─────⎟       \n",
       "x─→∞⎝x - 1⎠       "
      ]
     },
     "metadata": {},
     "output_type": "display_data"
    },
    {
     "data": {
      "image/png": "[encoded data removed]",
      "text/latex": [
       "$\\displaystyle e^{12}$"
      ],
      "text/plain": [
       " 12\n",
       "ℯ  "
      ]
     },
     "metadata": {},
     "output_type": "display_data"
    },
    {
     "name": "stdout",
     "output_type": "stream",
     "text": [
      "\\lim_{x \\to \\infty} \\left(\\frac{x + 5}{x - 1}\\right)^{2 x + 1}  sol:  e^{12}\n"
     ]
    }
   ],
   "source": [
    "datos =[\n",
    "    [(1-sqrt(2-x))/(x**2-3*x+2),1,'+-'],\n",
    "    [((x+5)/(x-1))**(2*x+1),oo,'+-']\n",
    "]\n",
    "\n",
    "for expr in datos :\n",
    "    display(Limit(expr[0],x,expr[1],dir=expr[2]),limit(expr[0],x,expr[1],dir=expr[2]))\n",
    "    print(latex(Limit(expr[0],x,expr[1],dir=expr[2])),' sol: ',latex(limit(expr[0],x,expr[1],dir=expr[2])))"
   ]
  },
  {
   "cell_type": "code",
   "execution_count": 15,
   "id": "19d05129",
   "metadata": {},
   "outputs": [
    {
     "data": {
      "image/png": "[encoded data removed]",
      "text/latex": [
       "$\\displaystyle \\frac{1 - \\sqrt{2 - x}}{\\left(x^{2} - 3 x\\right) + 2}$"
      ],
      "text/plain": [
       "      _______\n",
       "1 - ╲╱ 2 - x \n",
       "─────────────\n",
       "  2          \n",
       " x  - 3⋅x + 2"
      ]
     },
     "execution_count": 15,
     "metadata": {},
     "output_type": "execute_result"
    }
   ],
   "source": [
    "parse_latex(r\"\\left(\\frac{1 - \\sqrt{2 - x}}{x^{2} - 3 x + 2}\\right)\")"
   ]
  }
 ],
 "metadata": {
  "kernelspec": {
   "display_name": "Python 3",
   "language": "python",
   "name": "python3"
  },
  "language_info": {
   "codemirror_mode": {
    "name": "ipython",
    "version": 3
   },
   "file_extension": ".py",
   "mimetype": "text/x-python",
   "name": "python",
   "nbconvert_exporter": "python",
   "pygments_lexer": "ipython3",
   "version": "3.6.13"
  }
 },
 "nbformat": 4,
 "nbformat_minor": 5
}
