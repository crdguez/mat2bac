{
 "cells": [
  {
   "cell_type": "code",
   "execution_count": 1,
   "id": "089f94fa",
   "metadata": {},
   "outputs": [
    {
     "name": "stdout",
     "output_type": "stream",
     "text": [
      "IPython console for SymPy 1.10.1 (Python 3.9.13-64-bit) (ground types: gmpy)\n",
      "\n",
      "These commands were executed:\n",
      ">>> from sympy import *\n",
      ">>> x, y, z, t = symbols('x y z t')\n",
      ">>> k, m, n = symbols('k m n', integer=True)\n",
      ">>> f, g, h = symbols('f g h', cls=Function)\n",
      ">>> init_printing()\n",
      "\n",
      "Documentation can be found at https://docs.sympy.org/1.10.1/\n",
      "\n"
     ]
    }
   ],
   "source": [
    "from sympy import *\n",
    "init_session()"
   ]
  },
  {
   "cell_type": "code",
   "execution_count": 2,
   "id": "7c7aaf55",
   "metadata": {},
   "outputs": [],
   "source": [
    "from sympy.parsing.latex import parse_latex"
   ]
  },
  {
   "cell_type": "code",
   "execution_count": 28,
   "id": "bf6da141",
   "metadata": {},
   "outputs": [
    {
     "data": {
      "image/png": "[encoded data removed]",
      "text/latex": [
       "$\\displaystyle \\lim_{x \\to 1}\\left(\\frac{1 - \\sqrt{2 - x}}{x^{2} - 3 x + 2}\\right)$"
      ],
      "text/plain": [
       "    ⎛      _______⎞\n",
       "    ⎜1 - ╲╱ 2 - x ⎟\n",
       "lim ⎜─────────────⎟\n",
       "x─→1⎜  2          ⎟\n",
       "    ⎝ x  - 3⋅x + 2⎠"
      ]
     },
     "metadata": {},
     "output_type": "display_data"
    },
    {
     "data": {
      "image/png": "[encoded data removed]",
      "text/latex": [
       "$\\displaystyle - \\frac{1}{2}$"
      ],
      "text/plain": [
       "-1/2"
      ]
     },
     "metadata": {},
     "output_type": "display_data"
    },
    {
     "name": "stdout",
     "output_type": "stream",
     "text": [
      "\\lim_{x \\to 1}\\left(\\frac{1 - \\sqrt{2 - x}}{x^{2} - 3 x + 2}\\right)  sol:  - \\frac{1}{2}\n"
     ]
    },
    {
     "data": {
      "image/png": "[encoded data removed]",
      "text/latex": [
       "$\\displaystyle \\lim_{x \\to \\infty} \\left(\\frac{x + 5}{x - 1}\\right)^{2 x + 1}$"
      ],
      "text/plain": [
       "           2⋅x + 1\n",
       "    ⎛x + 5⎞       \n",
       "lim ⎜─────⎟       \n",
       "x─→∞⎝x - 1⎠       "
      ]
     },
     "metadata": {},
     "output_type": "display_data"
    },
    {
     "data": {
      "image/png": "[encoded data removed]",
      "text/latex": [
       "$\\displaystyle e^{12}$"
      ],
      "text/plain": [
       " 12\n",
       "ℯ  "
      ]
     },
     "metadata": {},
     "output_type": "display_data"
    },
    {
     "name": "stdout",
     "output_type": "stream",
     "text": [
      "\\lim_{x \\to \\infty} \\left(\\frac{x + 5}{x - 1}\\right)^{2 x + 1}  sol:  e^{12}\n"
     ]
    }
   ],
   "source": [
    "datos =[\n",
    "    [(1-sqrt(2-x))/(x**2-3*x+2),1,'+-'],\n",
    "    [((x+5)/(x-1))**(2*x+1),oo,'+-']\n",
    "]\n",
    "\n",
    "for expr in datos :\n",
    "    display(Limit(expr[0],x,expr[1],dir=expr[2]),limit(expr[0],x,expr[1],dir=expr[2]))\n",
    "    print(latex(Limit(expr[0],x,expr[1],dir=expr[2])),' sol: ',latex(limit(expr[0],x,expr[1],dir=expr[2])))"
   ]
  },
  {
   "cell_type": "code",
   "execution_count": 15,
   "id": "19d05129",
   "metadata": {},
   "outputs": [
    {
     "data": {
      "image/png": "[encoded data removed]",
      "text/latex": [
       "$\\displaystyle \\frac{1 - \\sqrt{2 - x}}{\\left(x^{2} - 3 x\\right) + 2}$"
      ],
      "text/plain": [
       "      _______\n",
       "1 - ╲╱ 2 - x \n",
       "─────────────\n",
       "  2          \n",
       " x  - 3⋅x + 2"
      ]
     },
     "execution_count": 15,
     "metadata": {},
     "output_type": "execute_result"
    }
   ],
   "source": [
    "parse_latex(r\"\\left(\\frac{1 - \\sqrt{2 - x}}{x^{2} - 3 x + 2}\\right)\")"
   ]
  },
  {
   "cell_type": "code",
   "execution_count": 15,
   "id": "3b35317d",
   "metadata": {},
   "outputs": [
    {
     "data": {
      "image/png": "[encoded data removed]",
      "text/latex": [
       "$\\displaystyle \\left[ -3, \\  1\\right]$"
      ],
      "text/plain": [
       "[-3, 1]"
      ]
     },
     "execution_count": 15,
     "metadata": {},
     "output_type": "execute_result"
    }
   ],
   "source": [
    "f =  10/(x**2+2*x-3)\n",
    "f.diff(), solve(f.diff()), f.diff().diff().subs(x,-1), f.subs(x,-1)\n",
    "solve(f.args[1]**(-1))\n"
   ]
  },
  {
   "cell_type": "code",
   "execution_count": 37,
   "id": "1d478edb",
   "metadata": {},
   "outputs": [
    {
     "data": {
      "image/png": "[encoded data removed]",
      "text/latex": [
       "$\\displaystyle \\infty$"
      ],
      "text/plain": [
       "∞"
      ]
     },
     "execution_count": 37,
     "metadata": {},
     "output_type": "execute_result"
    }
   ],
   "source": [
    "limit(((x+3)/(2*x))**(x**2/(x-3)), x, -oo)"
   ]
  },
  {
   "cell_type": "code",
   "execution_count": 36,
   "id": "4df4fb84",
   "metadata": {},
   "outputs": [
    {
     "data": {
      "image/png": "[encoded data removed]",
      "text/latex": [
       "$\\displaystyle 0$"
      ],
      "text/plain": [
       "0"
      ]
     },
     "execution_count": 36,
     "metadata": {},
     "output_type": "execute_result"
    }
   ],
   "source": [
    "limit(((x+3)/(2*x))**(x**2/(x-3)), x, oo)"
   ]
  },
  {
   "cell_type": "code",
   "execution_count": 29,
   "id": "2742df76",
   "metadata": {},
   "outputs": [
    {
     "data": {
      "image/png": "[encoded data removed]",
      "text/latex": [
       "$\\displaystyle \\lim_{x \\to -1^+}\\left(\\frac{x^{3} - 3 x - 2}{2 x^{3} + 5 x^{2} + 4 x + 1}\\right)$"
      ],
      "text/plain": [
       "      ⎛      3              ⎞\n",
       "      ⎜     x  - 3⋅x - 2    ⎟\n",
       " lim  ⎜─────────────────────⎟\n",
       "x─→-1⁺⎜   3      2          ⎟\n",
       "      ⎝2⋅x  + 5⋅x  + 4⋅x + 1⎠"
      ]
     },
     "execution_count": 29,
     "metadata": {},
     "output_type": "execute_result"
    }
   ],
   "source": [
    "Limit((x**3-3*x-2)/(2*x**3+5*x**2+4*x+1), x, -1)"
   ]
  },
  {
   "cell_type": "code",
   "execution_count": 32,
   "id": "a2010349",
   "metadata": {},
   "outputs": [
    {
     "data": {
      "image/png": "[encoded data removed]",
      "text/latex": [
       "$\\displaystyle \\left( \\left(x - 2\\right) \\left(x + 1\\right)^{2}, \\  \\left(x + 1\\right)^{2} \\cdot \\left(2 x + 1\\right)\\right)$"
      ],
      "text/plain": [
       "⎛               2         2          ⎞\n",
       "⎝(x - 2)⋅(x + 1) , (x + 1) ⋅(2⋅x + 1)⎠"
      ]
     },
     "execution_count": 32,
     "metadata": {},
     "output_type": "execute_result"
    }
   ],
   "source": [
    "factor(x**3-3*x-2), factor(2*x**3+5*x**2+4*x+1)"
   ]
  },
  {
   "cell_type": "code",
   "execution_count": 33,
   "id": "ffa5fd5e",
   "metadata": {},
   "outputs": [
    {
     "data": {
      "image/png": "[encoded data removed]",
      "text/latex": [
       "$\\displaystyle x^{3} + x^{2} - x - 1$"
      ],
      "text/plain": [
       " 3    2        \n",
       "x  + x  - x - 1"
      ]
     },
     "execution_count": 33,
     "metadata": {},
     "output_type": "execute_result"
    }
   ],
   "source": [
    "expand((x-1)*(x+1)**2)"
   ]
  },
  {
   "cell_type": "code",
   "execution_count": 40,
   "id": "6658174a",
   "metadata": {},
   "outputs": [
    {
     "data": {
      "image/png": "[encoded data removed]",
      "text/latex": [
       "$\\displaystyle \\frac{1}{12}$"
      ],
      "text/plain": [
       "1/12"
      ]
     },
     "execution_count": 40,
     "metadata": {},
     "output_type": "execute_result"
    }
   ],
   "source": [
    "limit((sqrt(x+1)-2)/(x**2-3*x), x, 3)"
   ]
  },
  {
   "cell_type": "code",
   "execution_count": 43,
   "id": "566a057a",
   "metadata": {},
   "outputs": [
    {
     "data": {
      "image/png": "[encoded data removed]",
      "text/latex": [
       "$\\displaystyle \\lim_{x \\to 8^+}\\left(\\frac{\\sqrt{x + 1} - 3}{x^{2} - 8 x}\\right)$"
      ],
      "text/plain": [
       "     ⎛  _______    ⎞\n",
       "     ⎜╲╱ x + 1  - 3⎟\n",
       " lim ⎜─────────────⎟\n",
       "x─→8⁺⎜    2        ⎟\n",
       "     ⎝   x  - 8⋅x  ⎠"
      ]
     },
     "execution_count": 43,
     "metadata": {},
     "output_type": "execute_result"
    }
   ],
   "source": [
    "Limit((sqrt(x+1)-3)/(x**2-8*x), x, 8)"
   ]
  },
  {
   "cell_type": "code",
   "execution_count": 41,
   "id": "ccc75436",
   "metadata": {},
   "outputs": [
    {
     "data": {
      "image/png": "[encoded data removed]",
      "text/latex": [
       "$\\displaystyle - \\frac{3 \\sqrt{2}}{4}$"
      ],
      "text/plain": [
       "-3⋅√2 \n",
       "──────\n",
       "  4   "
      ]
     },
     "execution_count": 41,
     "metadata": {},
     "output_type": "execute_result"
    }
   ],
   "source": [
    "limit(sqrt(2*x**2+1)-sqrt(2*x**2+3*x-2), x , oo)"
   ]
  },
  {
   "cell_type": "code",
   "execution_count": 7,
   "id": "b118d343",
   "metadata": {},
   "outputs": [
    {
     "data": {
      "image/png": "[encoded data removed]",
      "text/latex": [
       "$\\displaystyle \\frac{x^{3} \\log{\\left(x \\right)}}{3} - \\frac{x^{3}}{9}$"
      ],
      "text/plain": [
       " 3           3\n",
       "x ⋅log(x)   x \n",
       "───────── - ──\n",
       "    3       9 "
      ]
     },
     "execution_count": 7,
     "metadata": {},
     "output_type": "execute_result"
    }
   ],
   "source": [
    "integrate(x**2*(log(x)),x)"
   ]
  },
  {
   "cell_type": "code",
   "execution_count": 11,
   "id": "5b671ad4",
   "metadata": {},
   "outputs": [
    {
     "data": {
      "image/png": "[encoded data removed]",
      "text/latex": [
       "$\\displaystyle - \\frac{1}{2 x - 2}$"
      ],
      "text/plain": [
       "  -1   \n",
       "───────\n",
       "2⋅x - 2"
      ]
     },
     "execution_count": 11,
     "metadata": {},
     "output_type": "execute_result"
    }
   ],
   "source": [
    "integrate(1/(2*x**2-4*x+2),x)"
   ]
  },
  {
   "cell_type": "code",
   "execution_count": 6,
   "id": "34cdc6fc",
   "metadata": {},
   "outputs": [
    {
     "data": {
      "image/png": "[encoded data removed]",
      "text/latex": [
       "$\\displaystyle \\left( \\frac{\\log{\\left(x^{2} + 1 \\right)}}{\\log{\\left(e^{x} + 1 \\right)}}, \\  0\\right)$"
      ],
      "text/plain": [
       "⎛   ⎛ 2    ⎞   ⎞\n",
       "⎜log⎝x  + 1⎠   ⎟\n",
       "⎜───────────, 0⎟\n",
       "⎜   ⎛ x    ⎞   ⎟\n",
       "⎝log⎝ℯ  + 1⎠   ⎠"
      ]
     },
     "execution_count": 6,
     "metadata": {},
     "output_type": "execute_result"
    }
   ],
   "source": [
    "f=log(1+x**2)/log(1+E**x)\n",
    "f,limit(f, x,oo)"
   ]
  },
  {
   "cell_type": "code",
   "execution_count": 7,
   "id": "b4cdd74e",
   "metadata": {},
   "outputs": [
    {
     "data": {
      "image/png": "[encoded data removed]",
      "text/latex": [
       "$\\displaystyle \\infty$"
      ],
      "text/plain": [
       "∞"
      ]
     },
     "execution_count": 7,
     "metadata": {},
     "output_type": "execute_result"
    }
   ],
   "source": [
    "limit(E**x/x,x,oo)"
   ]
  },
  {
   "cell_type": "code",
   "execution_count": 15,
   "id": "ef1ca48a",
   "metadata": {},
   "outputs": [
    {
     "data": {
      "image/png": "[encoded data removed]",
      "text/latex": [
       "$\\displaystyle 0$"
      ],
      "text/plain": [
       "0"
      ]
     },
     "execution_count": 15,
     "metadata": {},
     "output_type": "execute_result"
    }
   ],
   "source": [
    "limit((2*x*(1+E**x)/((1+x**2)*E**x)),x, oo)"
   ]
  },
  {
   "cell_type": "code",
   "execution_count": 13,
   "id": "11d1d15e",
   "metadata": {},
   "outputs": [
    {
     "data": {
      "image/png": "[encoded data removed]",
      "text/latex": [
       "$\\displaystyle 2 x + \\frac{\\left(e^{x} + 1\\right) e^{- x}}{x + 1}$"
      ],
      "text/plain": [
       "      ⎛ x    ⎞  -x\n",
       "      ⎝ℯ  + 1⎠⋅ℯ  \n",
       "2⋅x + ────────────\n",
       "         x + 1    "
      ]
     },
     "execution_count": 13,
     "metadata": {},
     "output_type": "execute_result"
    }
   ],
   "source": [
    "f=(2*x+(1+E**x)/((1+x)*E**x))\n",
    "f"
   ]
  },
  {
   "cell_type": "code",
   "execution_count": 24,
   "id": "f96d359f",
   "metadata": {},
   "outputs": [
    {
     "data": {
      "image/png": "[encoded data removed]",
      "text/latex": [
       "$\\displaystyle \\frac{5}{6}$"
      ],
      "text/plain": [
       "5/6"
      ]
     },
     "execution_count": 24,
     "metadata": {},
     "output_type": "execute_result"
    }
   ],
   "source": [
    "a = symbols('a')\n",
    "limit(((E**(a*x**2)-cos(x))/(log(x**2+1))).subs(a,1/3),x,0)"
   ]
  },
  {
   "cell_type": "code",
   "execution_count": 25,
   "id": "28216a9b",
   "metadata": {},
   "outputs": [
    {
     "data": {
      "image/png": "[encoded data removed]",
      "text/latex": [
       "$\\displaystyle \\frac{e^{0.333333333333333 x^{2}} - \\cos{\\left(x \\right)}}{\\log{\\left(x^{2} + 1 \\right)}}$"
      ],
      "text/plain": [
       "                    2         \n",
       " 0.333333333333333⋅x          \n",
       "ℯ                     - cos(x)\n",
       "──────────────────────────────\n",
       "            ⎛ 2    ⎞          \n",
       "         log⎝x  + 1⎠          "
      ]
     },
     "execution_count": 25,
     "metadata": {},
     "output_type": "execute_result"
    }
   ],
   "source": [
    "((E**(a*x**2)-cos(x))/(log(x**2+1))).subs(a,1/3)"
   ]
  },
  {
   "cell_type": "code",
   "execution_count": 26,
   "id": "b80a1af3",
   "metadata": {},
   "outputs": [
    {
     "data": {
      "image/png": "[encoded data removed]",
      "text/latex": [
       "$\\displaystyle - \\sqrt{1 - x^{2}} - 2 \\operatorname{asin}{\\left(x \\right)}$"
      ],
      "text/plain": [
       "     ________            \n",
       "    ╱      2             \n",
       "- ╲╱  1 - x   - 2⋅asin(x)"
      ]
     },
     "execution_count": 26,
     "metadata": {},
     "output_type": "execute_result"
    }
   ],
   "source": [
    "integrate((x-2)/(sqrt(1-x**2)))"
   ]
  },
  {
   "cell_type": "code",
   "execution_count": 30,
   "id": "8b37216e",
   "metadata": {},
   "outputs": [
    {
     "data": {
      "image/png": "[encoded data removed]",
      "text/latex": [
       "$\\displaystyle \\left[ 4, \\  12\\right]$"
      ],
      "text/plain": [
       "[4, 12]"
      ]
     },
     "execution_count": 30,
     "metadata": {},
     "output_type": "execute_result"
    }
   ],
   "source": [
    "solve(expand(x*(12-x)**2).diff())"
   ]
  },
  {
   "cell_type": "code",
   "execution_count": 33,
   "id": "e61430e5",
   "metadata": {},
   "outputs": [
    {
     "data": {
      "image/png": "[encoded data removed]",
      "text/latex": [
       "$\\displaystyle -24$"
      ],
      "text/plain": [
       "-24"
      ]
     },
     "execution_count": 33,
     "metadata": {},
     "output_type": "execute_result"
    }
   ],
   "source": [
    "expand(x*(12-x)**2).diff().diff().subsb(x,4)"
   ]
  },
  {
   "cell_type": "markdown",
   "id": "887bfa94",
   "metadata": {},
   "source": [
    "# Probabilidad"
   ]
  },
  {
   "cell_type": "code",
   "execution_count": 3,
   "id": "1984f5ee",
   "metadata": {},
   "outputs": [],
   "source": [
    "from sympy.stats import Binomial, P, Normal, density, E, variance\n",
    "from scipy.stats import norm"
   ]
  },
  {
   "cell_type": "code",
   "execution_count": 4,
   "id": "a8ead9f5",
   "metadata": {},
   "outputs": [
    {
     "data": {
      "image/png": "[encoded data removed]",
      "text/latex": [
       "$\\displaystyle \\left( 0.0668072012688581, \\  123.769840405652\\right)$"
      ],
      "text/plain": [
       "(0.0668072012688581, 123.76984040565222)"
      ]
     },
     "execution_count": 4,
     "metadata": {},
     "output_type": "execute_result"
    }
   ],
   "source": [
    "X=Normal('X',120,30)\n",
    "P(X<75).evalf(), norm.ppf(0.55,loc=120, scale=30)"
   ]
  }
 ],
 "metadata": {
  "kernelspec": {
   "display_name": "Python 3 (ipykernel)",
   "language": "python",
   "name": "python3"
  },
  "language_info": {
   "codemirror_mode": {
    "name": "ipython",
    "version": 3
   },
   "file_extension": ".py",
   "mimetype": "text/x-python",
   "name": "python",
   "nbconvert_exporter": "python",
   "pygments_lexer": "ipython3",
   "version": "3.9.13"
  }
 },
 "nbformat": 4,
 "nbformat_minor": 5
}
