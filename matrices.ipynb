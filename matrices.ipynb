{
  "nbformat": 4,
  "nbformat_minor": 0,
  "metadata": {
    "colab": {
      "name": "matrices.ipynb",
      "version": "0.3.2",
      "provenance": [],
      "include_colab_link": true
    },
    "kernelspec": {
      "name": "python3",
      "display_name": "Python 3"
    }
  },
  "cells": [
    {
      "cell_type": "markdown",
      "metadata": {
        "id": "view-in-github",
        "colab_type": "text"
      },
      "source": [
        "<a href=\"https://colab.research.google.com/github/crdguez/mat2bac_cit/blob/master/matrices.ipynb\" target=\"_parent\"><img src=\"https://colab.research.google.com/assets/colab-badge.svg\" alt=\"Open In Colab\"/></a>"
      ]
    },
    {
      "cell_type": "code",
      "metadata": {
        "id": "-cVvkLt0Yl6m",
        "colab_type": "code",
        "colab": {
          "base_uri": "https://localhost:8080/",
          "height": 51
        },
        "outputId": "46901473-7557-464d-8c8f-08a2a862ec56"
      },
      "source": [
        "!pip install sympy"
      ],
      "execution_count": 1,
      "outputs": [
        {
          "output_type": "stream",
          "text": [
            "Requirement already satisfied: sympy in /usr/local/lib/python3.6/dist-packages (1.1.1)\n",
            "Requirement already satisfied: mpmath>=0.19 in /usr/local/lib/python3.6/dist-packages (from sympy) (1.1.0)\n"
          ],
          "name": "stdout"
        }
      ]
    },
    {
      "cell_type": "code",
      "metadata": {
        "id": "fkQeaZkrY0PY",
        "colab_type": "code",
        "colab": {}
      },
      "source": [
        "from sympy import *\n",
        "# init_session()\n",
        "from __future__ import division\n",
        "x, y, z, t = symbols('x y z t')\n",
        "k, m, n = symbols('k m n', integer=True)\n",
        "f, g, h = symbols('f g h', cls=Function)\n",
        "init_printing()\n"
      ],
      "execution_count": 0,
      "outputs": []
    },
    {
      "cell_type": "code",
      "metadata": {
        "id": "eSlSnZI5Zh4W",
        "colab_type": "code",
        "colab": {
          "base_uri": "https://localhost:8080/",
          "height": 442
        },
        "outputId": "cef73299-cd6c-4f20-b58a-5004e70a81ab"
      },
      "source": [
        "# p3. e1\n",
        "\n",
        "A = Matrix([[1,2],[-2,3]])\n",
        "B = Matrix([[0,3],[1,2]])\n",
        "C = Matrix([[-1,3],[0,-2]])\n",
        "\n",
        "pprint(A), pprint(B),pprint(C)\n",
        "pprint(\"A+B-C:\")\n",
        "pprint(A+B-C)\n",
        "pprint(\"A-B+C:\")\n",
        "pprint(A-B+C)\n",
        "pprint(\"2*A-3*B:\")\n",
        "pprint(2*A-3*B)\n",
        "pprint(\"A-2*B+3*C:\")\n",
        "pprint(A-2*B+3*C)\n"
      ],
      "execution_count": 32,
      "outputs": [
        {
          "output_type": "stream",
          "text": [
            "⎡1   2⎤\n",
            "⎢     ⎥\n",
            "⎣-2  3⎦\n",
            "⎡0  3⎤\n",
            "⎢    ⎥\n",
            "⎣1  2⎦\n",
            "⎡-1  3 ⎤\n",
            "⎢      ⎥\n",
            "⎣0   -2⎦\n",
            "A+B-C:\n",
            "⎡2   2⎤\n",
            "⎢     ⎥\n",
            "⎣-1  7⎦\n",
            "A-B+C:\n",
            "⎡0   2 ⎤\n",
            "⎢      ⎥\n",
            "⎣-3  -1⎦\n",
            "2*A-3*B:\n",
            "⎡2   -5⎤\n",
            "⎢      ⎥\n",
            "⎣-7  0 ⎦\n",
            "A-2*B+3*C:\n",
            "⎡-2  5 ⎤\n",
            "⎢      ⎥\n",
            "⎣-4  -7⎦\n"
          ],
          "name": "stdout"
        }
      ]
    },
    {
      "cell_type": "code",
      "metadata": {
        "colab_type": "code",
        "outputId": "46e8a3a3-b716-4ac2-95a8-fe213ce32467",
        "id": "-OdL4aFRcSUy",
        "colab": {
          "base_uri": "https://localhost:8080/",
          "height": 68
        }
      },
      "source": [
        "# p3. e2\n",
        "\n",
        "A = Matrix([[1,5,6],[2,8,4]])\n",
        "B = Matrix([[1,0,4],[-2,7,3]])\n",
        "\n",
        "\n",
        "pprint(3*A-B)"
      ],
      "execution_count": 38,
      "outputs": [
        {
          "output_type": "stream",
          "text": [
            "⎡2  15  14⎤\n",
            "⎢         ⎥\n",
            "⎣8  17  9 ⎦\n"
          ],
          "name": "stdout"
        }
      ]
    },
    {
      "cell_type": "code",
      "metadata": {
        "id": "PUanAVrqeomI",
        "colab_type": "code",
        "colab": {
          "base_uri": "https://localhost:8080/",
          "height": 136
        },
        "outputId": "9850f87d-d123-4a06-8302-35f2cda930cc"
      },
      "source": [
        "A = Matrix([[1,2],[-2,3]])\n",
        "B = Matrix([[0,3],[1,2]])\n",
        "C = Matrix([[-1,3],[0,-2]])\n",
        "\n",
        "pprint(A*B)\n",
        "pprint(B.transpose())\n",
        "B.rank()"
      ],
      "execution_count": 46,
      "outputs": [
        {
          "output_type": "stream",
          "text": [
            "⎡2  7⎤\n",
            "⎢    ⎥\n",
            "⎣3  0⎦\n",
            "⎡0  1⎤\n",
            "⎢    ⎥\n",
            "⎣3  2⎦\n"
          ],
          "name": "stdout"
        },
        {
          "output_type": "execute_result",
          "data": {
            "image/png": "[encoded data removed]",
            "text/latex": "$$2$$",
            "text/plain": [
              "2"
            ]
          },
          "metadata": {
            "tags": []
          },
          "execution_count": 46
        }
      ]
    }
  ]
}