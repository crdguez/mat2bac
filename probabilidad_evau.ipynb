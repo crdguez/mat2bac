{
  "nbformat": 4,
  "nbformat_minor": 0,
  "metadata": {
    "colab": {
      "provenance": [],
      "authorship_tag": "ABX9TyM4khBwnYaLUxSIo4enzcKd",
      "include_colab_link": true
    },
    "kernelspec": {
      "name": "python3",
      "display_name": "Python 3"
    },
    "language_info": {
      "name": "python"
    }
  },
  "cells": [
    {
      "cell_type": "markdown",
      "metadata": {
        "id": "view-in-github",
        "colab_type": "text"
      },
      "source": [
        "<a href=\"https://colab.research.google.com/github/crdguez/mat2bac_cit/blob/master/probabilidad_evau.ipynb\" target=\"_parent\"><img src=\"https://colab.research.google.com/assets/colab-badge.svg\" alt=\"Open In Colab\"/></a>"
      ]
    },
    {
      "cell_type": "code",
      "execution_count": null,
      "metadata": {
        "colab": {
          "base_uri": "https://localhost:8080/"
        },
        "id": "PNLoynTrbH07",
        "outputId": "37aedbfc-8bcc-40cc-8a50-cdb7b4931993"
      },
      "outputs": [
        {
          "output_type": "stream",
          "name": "stdout",
          "text": [
            "IPython console for SymPy 1.7.1 (Python 3.8.10-64-bit) (ground types: python)\n",
            "\n",
            "These commands were executed:\n",
            ">>> from __future__ import division\n",
            ">>> from sympy import *\n",
            ">>> x, y, z, t = symbols('x y z t')\n",
            ">>> k, m, n = symbols('k m n', integer=True)\n",
            ">>> f, g, h = symbols('f g h', cls=Function)\n",
            ">>> init_printing()\n",
            "\n",
            "Documentation can be found at https://docs.sympy.org/1.7.1/\n",
            "\n"
          ]
        }
      ],
      "source": [
        "from sympy import *\n",
        "\n",
        "init_session()"
      ]
    },
    {
      "cell_type": "code",
      "source": [
        "from sympy.stats import Binomial, P, Normal, density, E, variance\n",
        "from scipy.stats import norm"
      ],
      "metadata": {
        "id": "yUj2-h2WcC5C"
      },
      "execution_count": 20,
      "outputs": []
    },
    {
      "cell_type": "markdown",
      "source": [
        "**Julio 22** De los huevos que se producen diariamente en una granja, deben desecharse el 20% por no ser aptos\n",
        "para su consumo. Se seleccionan de manera aleatoria e independiente 5 huevos:\n",
        "* Calcula la probabilidad de que tengamos que desechar alguno de los huevos seleccionados (al menos uno)\n",
        "* Razona\n",
        "  - ¿Qué es más probable, que haya exactamente 2 huevos no aptos, o que haya\n",
        "exactamente 3 huevos no aptos? Obtén estas probabilidades\n",
        "  - ¿Cómo razonarías la respuesta a la pregunta anterior sin hacer uso de la calculadora?"
      ],
      "metadata": {
        "id": "Ci8Ur04gbiPm"
      }
    },
    {
      "cell_type": "code",
      "source": [
        "X=Binomial('X',5, 0.2)\n",
        "P(X>=1), P(Eq(X,2)), P(Eq(X,3))"
      ],
      "metadata": {
        "colab": {
          "base_uri": "https://localhost:8080/",
          "height": 37
        },
        "id": "rv8UwbYzbgAU",
        "outputId": "94a13620-a930-426a-f5aa-984570eb5c94"
      },
      "execution_count": null,
      "outputs": [
        {
          "output_type": "execute_result",
          "data": {
            "text/plain": [
              "(0.67232, 0.2048, 0.0512)"
            ],
            "image/png": "[encoded data removed]",
            "text/latex": "$\\displaystyle \\left( 0.67232, \\  0.2048, \\  0.0512\\right)$"
          },
          "metadata": {},
          "execution_count": 8
        }
      ]
    },
    {
      "cell_type": "markdown",
      "source": [
        "**Julio 2022.** En una academia de artes escénicas se imparten clases de danza y teatro. De danza, hay modalidad de\n",
        "danza clásica y cabaret. En la academia, un 17% de individuos practica danza clásica, un 45% cabaret y un\n",
        "5% ambas modalidades de danza. Si elegimos un individuo que asiste a dicha academia:\n",
        "\n",
        "* Calcula la probabilidad de que practique algún tipo de danza (o los dos).\n",
        "* Calcula la probabilidad de que practique solamente teatro."
      ],
      "metadata": {
        "id": "0G6xzZMWfPs_"
      }
    },
    {
      "cell_type": "markdown",
      "source": [
        "**Junio 2022.** El peso de los recién nacidos de una localidad, sigue una distribución normal de media 3300 gramos y\n",
        "desviación típica 465 gramos. Un recién nacido tiene bajo peso si su peso es inferior a 2500 gramos.\n",
        "\n",
        "*  ¿Cuál es la probabilidad de que un recién nacido en esta localidad tenga bajo peso?\n",
        "*  ¿Cuál es la probabilidad de que un recién nacido en esta localidad tenga un peso entre 3500\n",
        "y 4000 gramos?\n"
      ],
      "metadata": {
        "id": "VWcLMzMugEuP"
      }
    },
    {
      "cell_type": "code",
      "source": [
        "X=Normal('X', 3300,465)\n",
        "P(X<2500).evalf(),P(And(3500<X,X<4000)).evalf()"
      ],
      "metadata": {
        "colab": {
          "base_uri": "https://localhost:8080/",
          "height": 37
        },
        "id": "SrC0zsxOfJSG",
        "outputId": "0fe19e58-d81b-4b8c-d91a-a9e5cfb0e0c0"
      },
      "execution_count": 11,
      "outputs": [
        {
          "output_type": "execute_result",
          "data": {
            "text/plain": [
              "(0.042677144074729, 0.267445038812343)"
            ],
            "image/png": "[encoded data removed]",
            "text/latex": "$\\displaystyle \\left( 0.042677144074729, \\  0.267445038812343\\right)$"
          },
          "metadata": {},
          "execution_count": 11
        }
      ]
    },
    {
      "cell_type": "markdown",
      "source": [
        "**Junio 2021.** La cantidad de hierro en suero de una mujer adulta sigue una distribución normal de media\n",
        "120 g / dl y\n",
        "desviación típica\n",
        "30 g / dl . Se considera que una mujer tiene un tipo de anemia por falta de hierro si su\n",
        "cantidad de hierro no llega a\n",
        "75 g / dl .\n",
        "* ¿Cuál es la probabilidad de que una mujer adulta tenga anemia por falta de hierro?\n",
        "*  El 45% de mujeres adultas tienen una cantidad de hierro en suero superior a k. Averigüe el\n",
        "valor de k.\n"
      ],
      "metadata": {
        "id": "kKa5PVG8hGlA"
      }
    },
    {
      "cell_type": "code",
      "source": [
        "X=Normal('X',120,30)\n",
        "P(X<75).evalf(), norm.ppf(0.55,loc=120, scale=30)"
      ],
      "metadata": {
        "colab": {
          "base_uri": "https://localhost:8080/",
          "height": 37
        },
        "id": "3V-5XK2GhFOU",
        "outputId": "342e6cff-1c5f-4cc5-b4e5-c0dc821ae27d"
      },
      "execution_count": 22,
      "outputs": [
        {
          "output_type": "execute_result",
          "data": {
            "text/plain": [
              "(0.0668072012688581, 123.76984040565222)"
            ],
            "image/png": "[encoded data removed]",
            "text/latex": "$\\displaystyle \\left( 0.0668072012688581, \\  123.769840405652\\right)$"
          },
          "metadata": {},
          "execution_count": 22
        }
      ]
    }
  ]
}